{
 "cells": [
  {
   "cell_type": "markdown",
   "source": [
    "# Exercise 02\n",
    "\n",
    "## Aim of the exercise:\n",
    "\n",
    "We will learn to:\n",
    "\n",
    "- use Alphafold to predict the structure of proteins\n",
    "- get simple motifs by using different protein sequences\n",
    "- learn about the Alphafold parameters\n",
    "- perform a disruption of your protein of interest\n",
    "\n",
    "This exercise is based on the work of [Sergey Ovchinnikov](https://github.com/sokrypton)."
   ],
   "metadata": {
    "collapsed": false
   },
   "id": "c9d75a6b847760cb"
  },
  {
   "cell_type": "markdown",
   "id": "122f9d60b7261102",
   "metadata": {},
   "source": [
    "# Alphafold\n",
    "\n",
    "[AlphaFold](https://deepmind.google/technologies/alphafold/), an AI system developed by DeepMind, has solved the complex protein-folding problem, allowing for almost instant and highly accurate predictions of protein structures, which are crucial for understanding cellular functions and advancing medical research. Recognized by the [Critical Assessment of protein Structure Prediction community](https://www.predictioncenter.org/), AlphaFold has [significantly](https://www.predictioncenter.org/casp14/zscores_final.cgi) expanded the availability of protein structure data through the freely accessible AlphaFold Protein Structure Database.\n"
   ]
  },
  {
   "cell_type": "markdown",
   "source": [
    "\n",
    "## Alphafold Single\n",
    "\n",
    "to start, we will play with a simple sequence of aminoacids (polymer of Glycines) and then we will explore different conformations that a simple protein can have.\n",
    "\n",
    "Tasks:\n",
    "\n",
    " 1. Open [Alphafold_single](https://colab.research.google.com/github/sokrypton/af_backprop/blob/beta/examples/AlphaFold_single.ipynb). Follow the instructions in the notebook.\n",
    "\n",
    " 2. Change the sequence of aminoacids to a different one (e.g. all Alanines, all Leucines, etc.). What is the difference in the predicted structure?\n",
    "\n",
    " 3. Design sequences that fold into simple secondary structures (see figure below)\n",
    "\n",
    " 4. Design sequences that fold into 4 helix bundle (take a look at e.g. 3VJF)\n",
    "\n",
    " 5. Design sequences that fold into beta-barrel\n",
    "\n",
    " 6. Design sequences that fold into calcium-binding protein\n",
    "\n",
    "\n",
    "<img src=\"challenge1.png\" alt=\"Drawing\"/>"
   ],
   "metadata": {
    "collapsed": false
   },
   "id": "eab1282b-199e-4ab1-8656-8b8ada747988"
  },
  {
   "cell_type": "markdown",
   "id": "3e719a15-d1cd-4801-94d0-f7136dfe16a4",
   "metadata": {},
   "source": [
    "**Hint**: Use the following information to design your sequences\n",
    "\n",
    "<img src=\"statistics.png\" alt=\"Drawing\"/>"
   ]
  },
  {
   "cell_type": "markdown",
   "source": [
    "## For the project\n",
    "\n",
    "Let's put into practice what we have learned so far.\n",
    "We will use Alphafold to predict the structure of a protein and then we will try to disrupt it by introducing mutations.\n",
    "\n",
    "Tasks:\n",
    "1. Go to the official [Alphafold2](https://colab.research.google.com/github/deepmind/alphafold/blob/main/notebooks/AlphaFold.ipynb) notebook or [ColabFold](https://colab.research.google.com/github/sokrypton/ColabFold/blob/main/AlphaFold2.ipynb), read the instructions and predict the structure of your protein its sequence as an input. **Important Note**: There is a high probability that your protein is already in the database. Look in the [AlphaFold Protein Structure Database](https://alphafold.ebi.ac.uk/).  If so, download the model and respond to the following questions.\n",
    "\n",
    "    Questions:\n",
    "    - what is the confidence score of your prediction?\n",
    "    - what are the most confident regions?\n",
    "    - align your crystal structure with the predicted one. What is the RMSD? (To calculate the RMSD between two proteins, you can use PyMol, load the two structures and use the command `rms_cur protein1 protein2` to get the value)\n",
    "\n",
    "2. Use Alphafold or ColabFold to find a (minimum) set of mutations to disrupt your protein. \n",
    "\n",
    "    Questions:\n",
    "    - what are the most common disruptive mutations?\n",
    "    - are there subsets in your list of mutations? Disrupting different regions or functions?\n",
    "\n",
    "**Hint**: Use your knowledge to analyze a multiple sequence alignment (MSA). You can use [Clustal Omega](https://toolkit.tuebingen.mpg.de/tools/clustalo) or [MAFFT](https://toolkit.tuebingen.mpg.de/tools/mafft).\n",
    "\n",
    "**Hint 2**: consider the following table of stabilizing forces in proteins\n",
    "\n",
    " <img src=\"structure_stabilizing_forces.png\" alt=\"Drawing\"/>\n",
    "\n"
   ],
   "metadata": {
    "collapsed": false
   },
   "id": "0e0c5586-affa-4c98-b2d3-2375215a89ce"
  },
  {
   "cell_type": "markdown",
   "source": [
    "Happy modeling!"
   ],
   "metadata": {
    "collapsed": false
   },
   "id": "d3cfbad639a217f6"
  }
 ],
 "metadata": {
  "kernelspec": {
   "display_name": "Python 3 (ipykernel)",
   "language": "python",
   "name": "python3"
  },
  "language_info": {
   "codemirror_mode": {
    "name": "ipython",
    "version": 3
   },
   "file_extension": ".py",
   "mimetype": "text/x-python",
   "name": "python",
   "nbconvert_exporter": "python",
   "pygments_lexer": "ipython3",
   "version": "3.11.5"
  }
 },
 "nbformat": 4,
 "nbformat_minor": 5
}
