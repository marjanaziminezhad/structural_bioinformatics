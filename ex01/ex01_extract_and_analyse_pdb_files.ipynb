{
  "cells": [
    {
      "cell_type": "markdown",
      "metadata": {
        "id": "view-in-github",
        "colab_type": "text"
      },
      "source": [
        "<a href=\"https://colab.research.google.com/github/marjanaziminezhad/structural_bioinformatics/blob/main/ex01/ex01_extract_and_analyse_pdb_files.ipynb\" target=\"_parent\"><img src=\"https://colab.research.google.com/assets/colab-badge.svg\" alt=\"Open In Colab\"/></a>"
      ]
    },
    {
      "cell_type": "markdown",
      "metadata": {
        "id": "5Az64GAUF_qS"
      },
      "source": [
        "# Exercise 01\n",
        "\n",
        "## Aim of the exercise\n",
        "\n",
        "The goal of this exercise is to extract and analyse pdb files from the PDB database.\n",
        "\n",
        "We will learn how to:\n",
        "\n",
        "- perform queries to the pdb database\n",
        "- extract pdb IDs – each structure is defined by its ID code\n",
        "- extract information about structures\n",
        "- perform different analyses (e.g. find  structure with lowest resolution)\n",
        "\n",
        "partially based on [Drazen Petrov](https://orcid.org/0000-0001-6221-7369)'s Exercises and on [TeachOpenCADD](https://jcheminf.biomedcentral.com/articles/10.1186/s13321-019-0351-x) and"
      ]
    },
    {
      "cell_type": "code",
      "execution_count": null,
      "metadata": {
        "tags": [],
        "id": "e4vMN0UhF_qa",
        "outputId": "53d22e75-123c-4e73-d437-e93914104d87",
        "colab": {
          "base_uri": "https://localhost:8080/"
        }
      },
      "outputs": [
        {
          "output_type": "stream",
          "name": "stderr",
          "text": [
            "/usr/local/lib/python3.10/dist-packages/ipykernel/ipkernel.py:283: DeprecationWarning: `should_run_async` will not call `transform_cell` automatically in the future. Please pass the result to `transformed_cell` argument and any exception that happen during thetransform in `preprocessing_exc_tuple` in IPython 7.17 and above.\n",
            "  and should_run_async(code)\n"
          ]
        },
        {
          "output_type": "stream",
          "name": "stdout",
          "text": [
            "Requirement already satisfied: numpy==1.23.5 in /usr/local/lib/python3.10/dist-packages (1.23.5)\n",
            "Requirement already satisfied: scipy==1.11.3 in /usr/local/lib/python3.10/dist-packages (1.11.3)\n",
            "Requirement already satisfied: pandas==1.5.3 in /usr/local/lib/python3.10/dist-packages (1.5.3)\n",
            "Requirement already satisfied: matplotlib==3.7.1 in /usr/local/lib/python3.10/dist-packages (3.7.1)\n",
            "Requirement already satisfied: biopandas==0.4.1 in /usr/local/lib/python3.10/dist-packages (0.4.1)\n",
            "Requirement already satisfied: pypdb==2.3 in /usr/local/lib/python3.10/dist-packages (2.3)\n",
            "Requirement already satisfied: tqdm==4.66.1 in /usr/local/lib/python3.10/dist-packages (4.66.1)\n",
            "Requirement already satisfied: py3dmol==2.0.4 in /usr/local/lib/python3.10/dist-packages (2.0.4)\n",
            "Requirement already satisfied: python-dateutil>=2.8.1 in /usr/local/lib/python3.10/dist-packages (from pandas==1.5.3) (2.8.2)\n",
            "Requirement already satisfied: pytz>=2020.1 in /usr/local/lib/python3.10/dist-packages (from pandas==1.5.3) (2023.3.post1)\n",
            "Requirement already satisfied: contourpy>=1.0.1 in /usr/local/lib/python3.10/dist-packages (from matplotlib==3.7.1) (1.2.0)\n",
            "Requirement already satisfied: cycler>=0.10 in /usr/local/lib/python3.10/dist-packages (from matplotlib==3.7.1) (0.12.1)\n",
            "Requirement already satisfied: fonttools>=4.22.0 in /usr/local/lib/python3.10/dist-packages (from matplotlib==3.7.1) (4.44.3)\n",
            "Requirement already satisfied: kiwisolver>=1.0.1 in /usr/local/lib/python3.10/dist-packages (from matplotlib==3.7.1) (1.4.5)\n",
            "Requirement already satisfied: packaging>=20.0 in /usr/local/lib/python3.10/dist-packages (from matplotlib==3.7.1) (23.2)\n",
            "Requirement already satisfied: pillow>=6.2.0 in /usr/local/lib/python3.10/dist-packages (from matplotlib==3.7.1) (9.4.0)\n",
            "Requirement already satisfied: pyparsing>=2.3.1 in /usr/local/lib/python3.10/dist-packages (from matplotlib==3.7.1) (3.1.1)\n",
            "Requirement already satisfied: setuptools in /usr/local/lib/python3.10/dist-packages (from biopandas==0.4.1) (67.7.2)\n",
            "Requirement already satisfied: requests in /usr/local/lib/python3.10/dist-packages (from pypdb==2.3) (2.31.0)\n",
            "Requirement already satisfied: six>=1.5 in /usr/local/lib/python3.10/dist-packages (from python-dateutil>=2.8.1->pandas==1.5.3) (1.16.0)\n",
            "Requirement already satisfied: charset-normalizer<4,>=2 in /usr/local/lib/python3.10/dist-packages (from requests->pypdb==2.3) (3.3.2)\n",
            "Requirement already satisfied: idna<4,>=2.5 in /usr/local/lib/python3.10/dist-packages (from requests->pypdb==2.3) (3.4)\n",
            "Requirement already satisfied: urllib3<3,>=1.21.1 in /usr/local/lib/python3.10/dist-packages (from requests->pypdb==2.3) (2.0.7)\n",
            "Requirement already satisfied: certifi>=2017.4.17 in /usr/local/lib/python3.10/dist-packages (from requests->pypdb==2.3) (2023.7.22)\n"
          ]
        }
      ],
      "source": [
        "# Check if running on Google Colab\n",
        "try:\n",
        "    from google.colab import drive\n",
        "    is_google_colab = True\n",
        "except ImportError:\n",
        "    is_google_colab = False\n",
        "\n",
        "# If on Google Colab, install the package\n",
        "if is_google_colab:\n",
        "    import warnings\n",
        "    warnings.filterwarnings(\"ignore\", category=DeprecationWarning)\n",
        "    !pip install numpy==1.23.5 scipy==1.11.3 pandas==1.5.3 matplotlib==3.7.1 biopandas==0.4.1 pypdb==2.3 tqdm==4.66.1 py3dmol==2.0.4\n"
      ]
    },
    {
      "cell_type": "code",
      "execution_count": null,
      "metadata": {
        "tags": [],
        "id": "yGAMa3XHF_qc"
      },
      "outputs": [],
      "source": [
        "# import needed libraries\n",
        "import math\n",
        "\n",
        "import requests\n",
        "import json\n",
        "from tqdm import tqdm\n",
        "\n",
        "import pandas as pd\n",
        "import numpy as np\n",
        "\n",
        "import matplotlib.pyplot as plt\n",
        "import matplotlib as mpl\n",
        "\n",
        "import pypdb\n",
        "\n",
        "mpl.rcParams['figure.dpi'] = 120\n",
        "mpl.rcParams['figure.figsize'] = [5, 3]"
      ]
    },
    {
      "cell_type": "markdown",
      "metadata": {
        "id": "5I9ZxJgqF_qe"
      },
      "source": [
        "## PDB Protein Data Bank\n",
        "\n",
        "The [RCSB PDB](https://www.rcsb.org/) (Research Collaboratory for Structural Bioinformatics Protein Data Bank) is a comprehensive database for the 3D structural information of biological macromolecules. The aim of RCSB PDB is to provide open access to 3D structural data of biological macromolecules to advance research and understanding of molecular biology and biochemistry. The RCSB PDB also provides a variety of tools and resources. Users can perform simple and advanced searches based on annotations relating to sequence, structure and function. These molecules are visualized, downloaded, and analyzed by users who range from students to specialized scientists."
      ]
    },
    {
      "cell_type": "markdown",
      "metadata": {
        "id": "s6bkcgKuF_qf"
      },
      "source": [
        "\n",
        "\n",
        "### Protein of interest\n",
        "\n",
        "Today we will take a look at the human tyrosine-protein kinase. This protein is involved in cell differentiation, cell division, cell adhesion, stress response and apoptosis. It is also a target for cancer therapy.\n",
        "\n",
        "The UNIPROT ID of this protein is P00519. You can find more information about this protein at [https://www.uniprot.org/uniprot/P00519](https://www.uniprot.org/uniprot/P00519)\n",
        "\n",
        "To perform a search in the PDB database, copy the uniprot id (P00519) to the search box at [https://www.rcsb.org/](https://www.rcsb.org/)\n",
        "Be free to explore the website and the information available for this protein."
      ]
    },
    {
      "cell_type": "markdown",
      "metadata": {
        "id": "IUL4K-dfF_qf"
      },
      "source": [
        "### Programmatic access to PDB\n",
        "\n",
        "While performing search over the website is straightforward, making repeated searches to systematically analyze structures of interest is only possible using a programmatic access.\n",
        "\n",
        "Therefore, we will use the [PDB Search API](https://www.rcsb.org/docs/programmatic-access/web-services) to perform queries to the PDB database.\n",
        "\n",
        "How does it work? The API lets you search the PDB database with a JSON query in a URL and retrieve results in JSON format for further extraction.\n",
        "\n",
        "The API is well document in [https://search.rcsb.org/index.html#search-api](https://search.rcsb.org/index.html#search-api). You can find there also examples of queries [https://search.rcsb.org/index.html#examples](https://search.rcsb.org/index.html#examples).\n",
        "\n",
        "We will use [pypdb](https://github.com/williamgilpin/pypdb) to easily access and download PDB data based on metadata like protein and ligand names.\n"
      ]
    },
    {
      "cell_type": "code",
      "execution_count": null,
      "metadata": {
        "tags": [],
        "id": "k1RuIUVvF_qf"
      },
      "outputs": [],
      "source": [
        "# prepare search parameters using the uniprot ID of ABL1 (P00519)\n",
        "search_dict = {\n",
        "  \"query\": {\n",
        "    \"type\": \"terminal\",\n",
        "    \"label\": \"full_text\",\n",
        "    \"service\": \"full_text\",\n",
        "    \"parameters\": {\n",
        "      \"value\": \"P01053\"\n",
        "    }\n",
        "  },\n",
        "  \"return_type\": \"entry\",\n",
        "  \"request_options\": {\n",
        "    \"paginate\": {\n",
        "      \"start\": 0,\n",
        "      \"rows\": 10000\n",
        "    },\n",
        "    \"results_content_type\": [\n",
        "      \"experimental\"\n",
        "    ],\n",
        "    \"sort\": [\n",
        "      {\n",
        "        \"sort_by\": \"score\",\n",
        "        \"direction\": \"desc\"\n",
        "      }\n",
        "    ],\n",
        "    \"scoring_strategy\": \"combined\"\n",
        "  }\n",
        "}"
      ]
    },
    {
      "cell_type": "code",
      "execution_count": null,
      "metadata": {
        "tags": [],
        "colab": {
          "base_uri": "https://localhost:8080/"
        },
        "id": "iLGmXuInF_qg",
        "outputId": "38091fda-ae69-48d6-b0cf-bff287383101"
      },
      "outputs": [
        {
          "output_type": "execute_result",
          "data": {
            "text/plain": [
              "dict_keys(['query_id', 'result_type', 'total_count', 'result_set'])"
            ]
          },
          "metadata": {},
          "execution_count": 8
        }
      ],
      "source": [
        "# performing the search\n",
        "response = requests.get('https://search.rcsb.org/rcsbsearch/v2/query?json=' + json.dumps(search_dict))\n",
        "data = response.json()\n",
        "# printing the keys of the retreived dictionary\n",
        "data.keys()"
      ]
    },
    {
      "cell_type": "code",
      "execution_count": null,
      "metadata": {
        "tags": [],
        "colab": {
          "base_uri": "https://localhost:8080/"
        },
        "id": "RrWUUtDfF_qh",
        "outputId": "25212221-0fec-48bc-8d58-af6f69bec5a6"
      },
      "outputs": [
        {
          "output_type": "execute_result",
          "data": {
            "text/plain": [
              "(20, 20)"
            ]
          },
          "metadata": {},
          "execution_count": 9
        }
      ],
      "source": [
        "# showing the total number of hits (how does this compare to the search performed on the website directly?)\n",
        "data['total_count'], len(data['result_set'])"
      ]
    },
    {
      "cell_type": "code",
      "execution_count": null,
      "metadata": {
        "tags": [],
        "colab": {
          "base_uri": "https://localhost:8080/"
        },
        "id": "jbHd_wVRF_qh",
        "outputId": "5ee5fbbd-657f-44ab-8a57-df0a8cd4ad48"
      },
      "outputs": [
        {
          "output_type": "execute_result",
          "data": {
            "text/plain": [
              "{'identifier': '1CIR', 'score': 1.0}"
            ]
          },
          "metadata": {},
          "execution_count": 10
        }
      ],
      "source": [
        "data['result_set'][0]"
      ]
    },
    {
      "cell_type": "code",
      "execution_count": null,
      "metadata": {
        "tags": [],
        "id": "P3UxgB9EF_qi"
      },
      "outputs": [],
      "source": [
        "def exctract_pdb_ids(search_result):\n",
        "    pdb_IDs = []\n",
        "    for entry in search_result['result_set']:\n",
        "        pdb_IDs.append(entry['identifier'])\n",
        "    return pdb_IDs\n",
        "\n",
        "found_pdb_ids = exctract_pdb_ids(data)"
      ]
    },
    {
      "cell_type": "code",
      "execution_count": null,
      "metadata": {
        "tags": [],
        "colab": {
          "base_uri": "https://localhost:8080/"
        },
        "id": "hxSPu5PRF_qi",
        "outputId": "7a1d5d6d-d319-496e-8269-7f2f7ce5ef8a"
      },
      "outputs": [
        {
          "output_type": "execute_result",
          "data": {
            "text/plain": [
              "20"
            ]
          },
          "metadata": {},
          "execution_count": 12
        }
      ],
      "source": [
        "# here we look at how many hits we got\n",
        "len(found_pdb_ids)"
      ]
    },
    {
      "cell_type": "code",
      "execution_count": null,
      "metadata": {
        "tags": [],
        "id": "BOGYfyKfF_qi",
        "outputId": "709a777f-ed98-4938-eb5c-ea48303208a3",
        "colab": {
          "base_uri": "https://localhost:8080/"
        }
      },
      "outputs": [
        {
          "output_type": "execute_result",
          "data": {
            "text/plain": [
              "['1CIR',\n",
              " '1CIQ',\n",
              " '1CQ4',\n",
              " '1YPA',\n",
              " '1YPB',\n",
              " '1YPC',\n",
              " '2CI2',\n",
              " '6QIY',\n",
              " '6QIZ',\n",
              " '7A3M']"
            ]
          },
          "metadata": {},
          "execution_count": 13
        }
      ],
      "source": [
        "# here we look at the first 10 pdb codes\n",
        "found_pdb_ids[:10]"
      ]
    },
    {
      "cell_type": "markdown",
      "metadata": {
        "id": "w_gylijcF_qj"
      },
      "source": [
        "### Extracting information of one protein"
      ]
    },
    {
      "cell_type": "code",
      "execution_count": null,
      "metadata": {
        "tags": [],
        "id": "vFD442xgF_qj",
        "outputId": "c08c1828-b1b5-40e2-9e91-2167613aded3",
        "colab": {
          "base_uri": "https://localhost:8080/"
        }
      },
      "outputs": [
        {
          "output_type": "stream",
          "name": "stdout",
          "text": [
            "audit_author, cell, citation, diffrn, diffrn_detector, diffrn_radiation, diffrn_source, entry, exptl, exptl_crystal, exptl_crystal_grow, pdbx_audit_revision_category, pdbx_audit_revision_details, pdbx_audit_revision_group, pdbx_audit_revision_history, pdbx_audit_revision_item, pdbx_audit_support, pdbx_database_related, pdbx_database_status, rcsb_accession_info, rcsb_entry_container_identifiers, rcsb_entry_info, rcsb_primary_citation, refine, refine_hist, refine_ls_restr, reflns, reflns_shell, software, struct, struct_keywords, symmetry, rcsb_id, "
          ]
        }
      ],
      "source": [
        "# let's take a look at some information about one of the structures from the list (PDB ID 7A3M)\n",
        "pdb_7a3m_info = pypdb.get_info(\"7A3M\")\n",
        "for key, value in pdb_7a3m_info.items():\n",
        "    #print(key, value) # this line would print all the data available (long output)!\n",
        "    print(key, end=\", \") # here we just print the keys"
      ]
    },
    {
      "cell_type": "markdown",
      "metadata": {
        "id": "r-ZYgBAsF_qj"
      },
      "source": [
        "Now, our problems is the fact that we have to much information. We are interested in parameters as resolution, method, date, number of atoms, etc.\n",
        "\n",
        "Let's try to extract this information from the dictionary.\n",
        "\n",
        "now try to do the same search direct on the PDB website https://www.rcsb.org/"
      ]
    },
    {
      "cell_type": "code",
      "execution_count": null,
      "metadata": {
        "tags": [],
        "id": "6If8ojeIF_qj"
      },
      "outputs": [],
      "source": [
        "# let's extract some of the (interesting) information\n",
        "# of course, what is interesting depends on the project you are involved in\n",
        "# this is one example of such a function\n",
        "def extract_interesting_info(pdb_info):\n",
        "    info = {\n",
        "        \"pdb_id\" : pdb_info['rcsb_id'],\n",
        "        \"desc\" : pdb_info['struct'].get('pdbx_descriptor'),\n",
        "        \"title\" : pdb_info['struct']['title'],\n",
        "        \"method\" : pdb_info['exptl'][0]['method'],\n",
        "        \"date\" : pdb_info['rcsb_accession_info']['deposit_date'],\n",
        "        \"num_atoms\" : pdb_info['rcsb_entry_info']['deposited_atom_count'],\n",
        "        \"resolution\" : None,\n",
        "        \"rwork\" : None,\n",
        "        \"rfree\" : None\n",
        "    }\n",
        "\n",
        "    # only for X-ray\n",
        "    try:\n",
        "        xray_info = {\n",
        "        \"resolution\" : pdb_info['refine'][0]['ls_dres_high'],\n",
        "        \"rwork\" : pdb_info['refine'][0]['ls_rfactor_rwork'],\n",
        "        \"rfree\" : pdb_info['refine'][0]['ls_rfactor_rfree'],\n",
        "        }\n",
        "        info.update(xray_info)\n",
        "    except:\n",
        "        pass\n",
        "\n",
        "\n",
        "    return info #pdb_id, desc, title, method, date, num_atoms, resolution, rwork, rfree"
      ]
    },
    {
      "cell_type": "markdown",
      "source": [],
      "metadata": {
        "id": "gMLFN5OsMy79"
      }
    },
    {
      "cell_type": "code",
      "execution_count": null,
      "metadata": {
        "tags": [],
        "id": "DljOZ0OLF_qk",
        "outputId": "4bfc1f2d-9c54-4a74-e309-8c41cc93f579",
        "colab": {
          "base_uri": "https://localhost:8080/"
        }
      },
      "outputs": [
        {
          "output_type": "execute_result",
          "data": {
            "text/plain": [
              "{'pdb_id': '7A3M',\n",
              " 'desc': None,\n",
              " 'title': 'Synergistic stabilization of a double mutant in CI2 from an in-cell library screen',\n",
              " 'method': 'X-RAY DIFFRACTION',\n",
              " 'date': '2020-08-18T00:00:00+0000',\n",
              " 'num_atoms': 625,\n",
              " 'resolution': 1.01,\n",
              " 'rwork': 0.1489,\n",
              " 'rfree': 0.181}"
            ]
          },
          "metadata": {},
          "execution_count": 16
        }
      ],
      "source": [
        "extract_interesting_info(pdb_7a3m_info)"
      ]
    },
    {
      "cell_type": "markdown",
      "metadata": {
        "id": "aWIsYSwMF_ql"
      },
      "source": [
        "### Extracting information of the found proteins\n",
        "\n",
        "We will use the function defined `extract_interesting_info` to extract the information of each protein."
      ]
    },
    {
      "cell_type": "code",
      "execution_count": null,
      "metadata": {
        "tags": [],
        "id": "8I1Uj-jcF_ql",
        "outputId": "c69e9b5c-6bb3-467b-caae-d099a66bb9e6",
        "colab": {
          "base_uri": "https://localhost:8080/"
        }
      },
      "outputs": [
        {
          "output_type": "stream",
          "name": "stderr",
          "text": [
            "100%|██████████| 20/20 [00:07<00:00,  2.72it/s]\n"
          ]
        }
      ],
      "source": [
        "# let’s collect data for all retrieved pdb codes\n",
        "pdb_data = []\n",
        "for pdb_id in tqdm(found_pdb_ids):\n",
        "    pdb_data.append(extract_interesting_info(pypdb.get_info(pdb_id)))"
      ]
    },
    {
      "cell_type": "code",
      "execution_count": null,
      "metadata": {
        "tags": [],
        "id": "_nTDJSKlF_qm",
        "outputId": "8df6a2f6-7110-4747-db78-8025c8b7da86",
        "colab": {
          "base_uri": "https://localhost:8080/"
        }
      },
      "outputs": [
        {
          "output_type": "execute_result",
          "data": {
            "text/plain": [
              "  pdb_id                                               desc  \\\n",
              "0   1CIR                                               None   \n",
              "1   1CIQ                           CHYMOTRYPSIN INHIBITOR 2   \n",
              "2   1CQ4                                               None   \n",
              "3   1YPA  CHYMOTRYPSIN INHIBITOR 2 (CI2) MUTANT WITH SER...   \n",
              "4   1YPB  CHYMOTRYPSIN INHIBITOR 2 (CI2) MUTANT WITH SER...   \n",
              "5   1YPC  CHYMOTRYPSIN INHIBITOR 2 (CI2) MUTANT WITH GLU...   \n",
              "6   2CI2                    CHYMOTRYPSIN INHIBITOR 2 (CI-2)   \n",
              "7   6QIY               Subtilisin-chymotrypsin inhibitor-2A   \n",
              "8   6QIZ               Subtilisin-chymotrypsin inhibitor-2A   \n",
              "9   7A3M                                               None   \n",
              "\n",
              "                                               title             method  \\\n",
              "0  COMPLEX OF TWO FRAGMENTS OF CI2 [(1-40)(DOT)(4...       SOLUTION NMR   \n",
              "1  COMPLEX OF TWO FRAGMENTS OF CI2, RESIDUES 1-40...  X-RAY DIFFRACTION   \n",
              "2  CI2 MUTANT WITH TETRAGLUTAMINE (MGQQQQGM) REPL...  X-RAY DIFFRACTION   \n",
              "3  DIRECT OBSERVATION OF BETTER HYDRATION AT THE ...  X-RAY DIFFRACTION   \n",
              "4  DIRECT OBSERVATION OF BETTER HYDRATION AT THE ...  X-RAY DIFFRACTION   \n",
              "5  DIRECT OBSERVATION OF BETTER HYDRATION AT THE ...  X-RAY DIFFRACTION   \n",
              "6  CRYSTAL AND MOLECULAR STRUCTURE OF THE SERINE ...  X-RAY DIFFRACTION   \n",
              "7                               CI-2, conformation 1  X-RAY DIFFRACTION   \n",
              "8                               CI-2, conformation 2  X-RAY DIFFRACTION   \n",
              "9  Synergistic stabilization of a double mutant i...  X-RAY DIFFRACTION   \n",
              "\n",
              "                       date  num_atoms  resolution   rwork  rfree  \n",
              "0  1995-10-02T00:00:00+0000        505         NaN     NaN    NaN  \n",
              "1  1995-10-02T00:00:00+0000        535         NaN     NaN    NaN  \n",
              "2  1998-11-17T00:00:00+0000        541        1.80  0.2400  0.300  \n",
              "3  1993-01-10T00:00:00+0000        555         NaN     NaN    NaN  \n",
              "4  1993-01-10T00:00:00+0000        556         NaN     NaN    NaN  \n",
              "5  1993-01-10T00:00:00+0000        575         NaN     NaN    NaN  \n",
              "6  1988-09-05T00:00:00+0000        585         NaN     NaN    NaN  \n",
              "7  2019-01-21T00:00:00+0000        592        1.50  0.2110  0.257  \n",
              "8  2019-01-21T00:00:00+0000        626        1.65  0.1840  0.220  \n",
              "9  2020-08-18T00:00:00+0000        625        1.01  0.1489  0.181  "
            ],
            "text/html": [
              "\n",
              "  <div id=\"df-884ee066-e805-4dd4-a2c2-4f4e400c8ab3\" class=\"colab-df-container\">\n",
              "    <div>\n",
              "<style scoped>\n",
              "    .dataframe tbody tr th:only-of-type {\n",
              "        vertical-align: middle;\n",
              "    }\n",
              "\n",
              "    .dataframe tbody tr th {\n",
              "        vertical-align: top;\n",
              "    }\n",
              "\n",
              "    .dataframe thead th {\n",
              "        text-align: right;\n",
              "    }\n",
              "</style>\n",
              "<table border=\"1\" class=\"dataframe\">\n",
              "  <thead>\n",
              "    <tr style=\"text-align: right;\">\n",
              "      <th></th>\n",
              "      <th>pdb_id</th>\n",
              "      <th>desc</th>\n",
              "      <th>title</th>\n",
              "      <th>method</th>\n",
              "      <th>date</th>\n",
              "      <th>num_atoms</th>\n",
              "      <th>resolution</th>\n",
              "      <th>rwork</th>\n",
              "      <th>rfree</th>\n",
              "    </tr>\n",
              "  </thead>\n",
              "  <tbody>\n",
              "    <tr>\n",
              "      <th>0</th>\n",
              "      <td>1CIR</td>\n",
              "      <td>None</td>\n",
              "      <td>COMPLEX OF TWO FRAGMENTS OF CI2 [(1-40)(DOT)(4...</td>\n",
              "      <td>SOLUTION NMR</td>\n",
              "      <td>1995-10-02T00:00:00+0000</td>\n",
              "      <td>505</td>\n",
              "      <td>NaN</td>\n",
              "      <td>NaN</td>\n",
              "      <td>NaN</td>\n",
              "    </tr>\n",
              "    <tr>\n",
              "      <th>1</th>\n",
              "      <td>1CIQ</td>\n",
              "      <td>CHYMOTRYPSIN INHIBITOR 2</td>\n",
              "      <td>COMPLEX OF TWO FRAGMENTS OF CI2, RESIDUES 1-40...</td>\n",
              "      <td>X-RAY DIFFRACTION</td>\n",
              "      <td>1995-10-02T00:00:00+0000</td>\n",
              "      <td>535</td>\n",
              "      <td>NaN</td>\n",
              "      <td>NaN</td>\n",
              "      <td>NaN</td>\n",
              "    </tr>\n",
              "    <tr>\n",
              "      <th>2</th>\n",
              "      <td>1CQ4</td>\n",
              "      <td>None</td>\n",
              "      <td>CI2 MUTANT WITH TETRAGLUTAMINE (MGQQQQGM) REPL...</td>\n",
              "      <td>X-RAY DIFFRACTION</td>\n",
              "      <td>1998-11-17T00:00:00+0000</td>\n",
              "      <td>541</td>\n",
              "      <td>1.80</td>\n",
              "      <td>0.2400</td>\n",
              "      <td>0.300</td>\n",
              "    </tr>\n",
              "    <tr>\n",
              "      <th>3</th>\n",
              "      <td>1YPA</td>\n",
              "      <td>CHYMOTRYPSIN INHIBITOR 2 (CI2) MUTANT WITH SER...</td>\n",
              "      <td>DIRECT OBSERVATION OF BETTER HYDRATION AT THE ...</td>\n",
              "      <td>X-RAY DIFFRACTION</td>\n",
              "      <td>1993-01-10T00:00:00+0000</td>\n",
              "      <td>555</td>\n",
              "      <td>NaN</td>\n",
              "      <td>NaN</td>\n",
              "      <td>NaN</td>\n",
              "    </tr>\n",
              "    <tr>\n",
              "      <th>4</th>\n",
              "      <td>1YPB</td>\n",
              "      <td>CHYMOTRYPSIN INHIBITOR 2 (CI2) MUTANT WITH SER...</td>\n",
              "      <td>DIRECT OBSERVATION OF BETTER HYDRATION AT THE ...</td>\n",
              "      <td>X-RAY DIFFRACTION</td>\n",
              "      <td>1993-01-10T00:00:00+0000</td>\n",
              "      <td>556</td>\n",
              "      <td>NaN</td>\n",
              "      <td>NaN</td>\n",
              "      <td>NaN</td>\n",
              "    </tr>\n",
              "    <tr>\n",
              "      <th>5</th>\n",
              "      <td>1YPC</td>\n",
              "      <td>CHYMOTRYPSIN INHIBITOR 2 (CI2) MUTANT WITH GLU...</td>\n",
              "      <td>DIRECT OBSERVATION OF BETTER HYDRATION AT THE ...</td>\n",
              "      <td>X-RAY DIFFRACTION</td>\n",
              "      <td>1993-01-10T00:00:00+0000</td>\n",
              "      <td>575</td>\n",
              "      <td>NaN</td>\n",
              "      <td>NaN</td>\n",
              "      <td>NaN</td>\n",
              "    </tr>\n",
              "    <tr>\n",
              "      <th>6</th>\n",
              "      <td>2CI2</td>\n",
              "      <td>CHYMOTRYPSIN INHIBITOR 2 (CI-2)</td>\n",
              "      <td>CRYSTAL AND MOLECULAR STRUCTURE OF THE SERINE ...</td>\n",
              "      <td>X-RAY DIFFRACTION</td>\n",
              "      <td>1988-09-05T00:00:00+0000</td>\n",
              "      <td>585</td>\n",
              "      <td>NaN</td>\n",
              "      <td>NaN</td>\n",
              "      <td>NaN</td>\n",
              "    </tr>\n",
              "    <tr>\n",
              "      <th>7</th>\n",
              "      <td>6QIY</td>\n",
              "      <td>Subtilisin-chymotrypsin inhibitor-2A</td>\n",
              "      <td>CI-2, conformation 1</td>\n",
              "      <td>X-RAY DIFFRACTION</td>\n",
              "      <td>2019-01-21T00:00:00+0000</td>\n",
              "      <td>592</td>\n",
              "      <td>1.50</td>\n",
              "      <td>0.2110</td>\n",
              "      <td>0.257</td>\n",
              "    </tr>\n",
              "    <tr>\n",
              "      <th>8</th>\n",
              "      <td>6QIZ</td>\n",
              "      <td>Subtilisin-chymotrypsin inhibitor-2A</td>\n",
              "      <td>CI-2, conformation 2</td>\n",
              "      <td>X-RAY DIFFRACTION</td>\n",
              "      <td>2019-01-21T00:00:00+0000</td>\n",
              "      <td>626</td>\n",
              "      <td>1.65</td>\n",
              "      <td>0.1840</td>\n",
              "      <td>0.220</td>\n",
              "    </tr>\n",
              "    <tr>\n",
              "      <th>9</th>\n",
              "      <td>7A3M</td>\n",
              "      <td>None</td>\n",
              "      <td>Synergistic stabilization of a double mutant i...</td>\n",
              "      <td>X-RAY DIFFRACTION</td>\n",
              "      <td>2020-08-18T00:00:00+0000</td>\n",
              "      <td>625</td>\n",
              "      <td>1.01</td>\n",
              "      <td>0.1489</td>\n",
              "      <td>0.181</td>\n",
              "    </tr>\n",
              "  </tbody>\n",
              "</table>\n",
              "</div>\n",
              "    <div class=\"colab-df-buttons\">\n",
              "\n",
              "  <div class=\"colab-df-container\">\n",
              "    <button class=\"colab-df-convert\" onclick=\"convertToInteractive('df-884ee066-e805-4dd4-a2c2-4f4e400c8ab3')\"\n",
              "            title=\"Convert this dataframe to an interactive table.\"\n",
              "            style=\"display:none;\">\n",
              "\n",
              "  <svg xmlns=\"http://www.w3.org/2000/svg\" height=\"24px\" viewBox=\"0 -960 960 960\">\n",
              "    <path d=\"M120-120v-720h720v720H120Zm60-500h600v-160H180v160Zm220 220h160v-160H400v160Zm0 220h160v-160H400v160ZM180-400h160v-160H180v160Zm440 0h160v-160H620v160ZM180-180h160v-160H180v160Zm440 0h160v-160H620v160Z\"/>\n",
              "  </svg>\n",
              "    </button>\n",
              "\n",
              "  <style>\n",
              "    .colab-df-container {\n",
              "      display:flex;\n",
              "      gap: 12px;\n",
              "    }\n",
              "\n",
              "    .colab-df-convert {\n",
              "      background-color: #E8F0FE;\n",
              "      border: none;\n",
              "      border-radius: 50%;\n",
              "      cursor: pointer;\n",
              "      display: none;\n",
              "      fill: #1967D2;\n",
              "      height: 32px;\n",
              "      padding: 0 0 0 0;\n",
              "      width: 32px;\n",
              "    }\n",
              "\n",
              "    .colab-df-convert:hover {\n",
              "      background-color: #E2EBFA;\n",
              "      box-shadow: 0px 1px 2px rgba(60, 64, 67, 0.3), 0px 1px 3px 1px rgba(60, 64, 67, 0.15);\n",
              "      fill: #174EA6;\n",
              "    }\n",
              "\n",
              "    .colab-df-buttons div {\n",
              "      margin-bottom: 4px;\n",
              "    }\n",
              "\n",
              "    [theme=dark] .colab-df-convert {\n",
              "      background-color: #3B4455;\n",
              "      fill: #D2E3FC;\n",
              "    }\n",
              "\n",
              "    [theme=dark] .colab-df-convert:hover {\n",
              "      background-color: #434B5C;\n",
              "      box-shadow: 0px 1px 3px 1px rgba(0, 0, 0, 0.15);\n",
              "      filter: drop-shadow(0px 1px 2px rgba(0, 0, 0, 0.3));\n",
              "      fill: #FFFFFF;\n",
              "    }\n",
              "  </style>\n",
              "\n",
              "    <script>\n",
              "      const buttonEl =\n",
              "        document.querySelector('#df-884ee066-e805-4dd4-a2c2-4f4e400c8ab3 button.colab-df-convert');\n",
              "      buttonEl.style.display =\n",
              "        google.colab.kernel.accessAllowed ? 'block' : 'none';\n",
              "\n",
              "      async function convertToInteractive(key) {\n",
              "        const element = document.querySelector('#df-884ee066-e805-4dd4-a2c2-4f4e400c8ab3');\n",
              "        const dataTable =\n",
              "          await google.colab.kernel.invokeFunction('convertToInteractive',\n",
              "                                                    [key], {});\n",
              "        if (!dataTable) return;\n",
              "\n",
              "        const docLinkHtml = 'Like what you see? Visit the ' +\n",
              "          '<a target=\"_blank\" href=https://colab.research.google.com/notebooks/data_table.ipynb>data table notebook</a>'\n",
              "          + ' to learn more about interactive tables.';\n",
              "        element.innerHTML = '';\n",
              "        dataTable['output_type'] = 'display_data';\n",
              "        await google.colab.output.renderOutput(dataTable, element);\n",
              "        const docLink = document.createElement('div');\n",
              "        docLink.innerHTML = docLinkHtml;\n",
              "        element.appendChild(docLink);\n",
              "      }\n",
              "    </script>\n",
              "  </div>\n",
              "\n",
              "\n",
              "<div id=\"df-ccf84ffa-afb6-4821-af65-9e479f601977\">\n",
              "  <button class=\"colab-df-quickchart\" onclick=\"quickchart('df-ccf84ffa-afb6-4821-af65-9e479f601977')\"\n",
              "            title=\"Suggest charts\"\n",
              "            style=\"display:none;\">\n",
              "\n",
              "<svg xmlns=\"http://www.w3.org/2000/svg\" height=\"24px\"viewBox=\"0 0 24 24\"\n",
              "     width=\"24px\">\n",
              "    <g>\n",
              "        <path d=\"M19 3H5c-1.1 0-2 .9-2 2v14c0 1.1.9 2 2 2h14c1.1 0 2-.9 2-2V5c0-1.1-.9-2-2-2zM9 17H7v-7h2v7zm4 0h-2V7h2v10zm4 0h-2v-4h2v4z\"/>\n",
              "    </g>\n",
              "</svg>\n",
              "  </button>\n",
              "\n",
              "<style>\n",
              "  .colab-df-quickchart {\n",
              "      --bg-color: #E8F0FE;\n",
              "      --fill-color: #1967D2;\n",
              "      --hover-bg-color: #E2EBFA;\n",
              "      --hover-fill-color: #174EA6;\n",
              "      --disabled-fill-color: #AAA;\n",
              "      --disabled-bg-color: #DDD;\n",
              "  }\n",
              "\n",
              "  [theme=dark] .colab-df-quickchart {\n",
              "      --bg-color: #3B4455;\n",
              "      --fill-color: #D2E3FC;\n",
              "      --hover-bg-color: #434B5C;\n",
              "      --hover-fill-color: #FFFFFF;\n",
              "      --disabled-bg-color: #3B4455;\n",
              "      --disabled-fill-color: #666;\n",
              "  }\n",
              "\n",
              "  .colab-df-quickchart {\n",
              "    background-color: var(--bg-color);\n",
              "    border: none;\n",
              "    border-radius: 50%;\n",
              "    cursor: pointer;\n",
              "    display: none;\n",
              "    fill: var(--fill-color);\n",
              "    height: 32px;\n",
              "    padding: 0;\n",
              "    width: 32px;\n",
              "  }\n",
              "\n",
              "  .colab-df-quickchart:hover {\n",
              "    background-color: var(--hover-bg-color);\n",
              "    box-shadow: 0 1px 2px rgba(60, 64, 67, 0.3), 0 1px 3px 1px rgba(60, 64, 67, 0.15);\n",
              "    fill: var(--button-hover-fill-color);\n",
              "  }\n",
              "\n",
              "  .colab-df-quickchart-complete:disabled,\n",
              "  .colab-df-quickchart-complete:disabled:hover {\n",
              "    background-color: var(--disabled-bg-color);\n",
              "    fill: var(--disabled-fill-color);\n",
              "    box-shadow: none;\n",
              "  }\n",
              "\n",
              "  .colab-df-spinner {\n",
              "    border: 2px solid var(--fill-color);\n",
              "    border-color: transparent;\n",
              "    border-bottom-color: var(--fill-color);\n",
              "    animation:\n",
              "      spin 1s steps(1) infinite;\n",
              "  }\n",
              "\n",
              "  @keyframes spin {\n",
              "    0% {\n",
              "      border-color: transparent;\n",
              "      border-bottom-color: var(--fill-color);\n",
              "      border-left-color: var(--fill-color);\n",
              "    }\n",
              "    20% {\n",
              "      border-color: transparent;\n",
              "      border-left-color: var(--fill-color);\n",
              "      border-top-color: var(--fill-color);\n",
              "    }\n",
              "    30% {\n",
              "      border-color: transparent;\n",
              "      border-left-color: var(--fill-color);\n",
              "      border-top-color: var(--fill-color);\n",
              "      border-right-color: var(--fill-color);\n",
              "    }\n",
              "    40% {\n",
              "      border-color: transparent;\n",
              "      border-right-color: var(--fill-color);\n",
              "      border-top-color: var(--fill-color);\n",
              "    }\n",
              "    60% {\n",
              "      border-color: transparent;\n",
              "      border-right-color: var(--fill-color);\n",
              "    }\n",
              "    80% {\n",
              "      border-color: transparent;\n",
              "      border-right-color: var(--fill-color);\n",
              "      border-bottom-color: var(--fill-color);\n",
              "    }\n",
              "    90% {\n",
              "      border-color: transparent;\n",
              "      border-bottom-color: var(--fill-color);\n",
              "    }\n",
              "  }\n",
              "</style>\n",
              "\n",
              "  <script>\n",
              "    async function quickchart(key) {\n",
              "      const quickchartButtonEl =\n",
              "        document.querySelector('#' + key + ' button');\n",
              "      quickchartButtonEl.disabled = true;  // To prevent multiple clicks.\n",
              "      quickchartButtonEl.classList.add('colab-df-spinner');\n",
              "      try {\n",
              "        const charts = await google.colab.kernel.invokeFunction(\n",
              "            'suggestCharts', [key], {});\n",
              "      } catch (error) {\n",
              "        console.error('Error during call to suggestCharts:', error);\n",
              "      }\n",
              "      quickchartButtonEl.classList.remove('colab-df-spinner');\n",
              "      quickchartButtonEl.classList.add('colab-df-quickchart-complete');\n",
              "    }\n",
              "    (() => {\n",
              "      let quickchartButtonEl =\n",
              "        document.querySelector('#df-ccf84ffa-afb6-4821-af65-9e479f601977 button');\n",
              "      quickchartButtonEl.style.display =\n",
              "        google.colab.kernel.accessAllowed ? 'block' : 'none';\n",
              "    })();\n",
              "  </script>\n",
              "</div>\n",
              "    </div>\n",
              "  </div>\n"
            ]
          },
          "metadata": {},
          "execution_count": 18
        }
      ],
      "source": [
        "# now we store this data in a pandas dataframe\n",
        "pdbs = pd.DataFrame(pdb_data)\n",
        "pdbs[:10]"
      ]
    },
    {
      "cell_type": "markdown",
      "metadata": {
        "id": "pbzEvyFFF_qm"
      },
      "source": [
        "#### Let's make some plots\n",
        "\n",
        "looking at the release years and resolution of the structures"
      ]
    },
    {
      "cell_type": "code",
      "execution_count": null,
      "metadata": {
        "tags": [],
        "id": "2mW2FbmnF_qn"
      },
      "outputs": [],
      "source": [
        "# a little bit of preprocessing\n",
        "# let's convert the date column to datetime format\n",
        "pdbs['date'] = pd.to_datetime(pdbs['date'])\n",
        "pdbs['year'] = pdbs['date'].dt.year"
      ]
    },
    {
      "cell_type": "code",
      "execution_count": null,
      "metadata": {
        "tags": [],
        "id": "hrcDT3r-F_qn",
        "outputId": "33a1e48e-f835-4cdd-a850-1639931356c9",
        "colab": {
          "base_uri": "https://localhost:8080/"
        }
      },
      "outputs": [
        {
          "output_type": "execute_result",
          "data": {
            "text/plain": [
              "<Axes: xlabel='date'>"
            ]
          },
          "metadata": {},
          "execution_count": 20
        },
        {
          "output_type": "display_data",
          "data": {
            "text/plain": [
              "<Figure size 600x360 with 1 Axes>"
            ],
            "image/png": "[encoded data removed]"
          },
          "metadata": {}
        }
      ],
      "source": [
        "df = pdbs\n",
        "df[['date']].groupby(df[\"date\"].dt.year).count().plot(kind=\"bar\")"
      ]
    },
    {
      "cell_type": "code",
      "execution_count": null,
      "metadata": {
        "tags": [],
        "id": "liDBsRgoF_qn",
        "outputId": "74b8e7e4-be25-4901-e9ec-2dda0bc2545c",
        "colab": {
          "base_uri": "https://localhost:8080/"
        }
      },
      "outputs": [
        {
          "output_type": "execute_result",
          "data": {
            "text/plain": [
              "   index  year\n",
              "6   1998     1\n",
              "7   1991     1\n",
              "8   2002     1\n",
              "2   1995     2\n",
              "3   1988     2\n",
              "4   2019     2\n",
              "5   2015     2\n",
              "1   2020     4\n",
              "0   1993     5"
            ],
            "text/html": [
              "\n",
              "  <div id=\"df-f39ce73e-513e-425b-ad8b-1e4974b3b49a\" class=\"colab-df-container\">\n",
              "    <div>\n",
              "<style scoped>\n",
              "    .dataframe tbody tr th:only-of-type {\n",
              "        vertical-align: middle;\n",
              "    }\n",
              "\n",
              "    .dataframe tbody tr th {\n",
              "        vertical-align: top;\n",
              "    }\n",
              "\n",
              "    .dataframe thead th {\n",
              "        text-align: right;\n",
              "    }\n",
              "</style>\n",
              "<table border=\"1\" class=\"dataframe\">\n",
              "  <thead>\n",
              "    <tr style=\"text-align: right;\">\n",
              "      <th></th>\n",
              "      <th>index</th>\n",
              "      <th>year</th>\n",
              "    </tr>\n",
              "  </thead>\n",
              "  <tbody>\n",
              "    <tr>\n",
              "      <th>6</th>\n",
              "      <td>1998</td>\n",
              "      <td>1</td>\n",
              "    </tr>\n",
              "    <tr>\n",
              "      <th>7</th>\n",
              "      <td>1991</td>\n",
              "      <td>1</td>\n",
              "    </tr>\n",
              "    <tr>\n",
              "      <th>8</th>\n",
              "      <td>2002</td>\n",
              "      <td>1</td>\n",
              "    </tr>\n",
              "    <tr>\n",
              "      <th>2</th>\n",
              "      <td>1995</td>\n",
              "      <td>2</td>\n",
              "    </tr>\n",
              "    <tr>\n",
              "      <th>3</th>\n",
              "      <td>1988</td>\n",
              "      <td>2</td>\n",
              "    </tr>\n",
              "    <tr>\n",
              "      <th>4</th>\n",
              "      <td>2019</td>\n",
              "      <td>2</td>\n",
              "    </tr>\n",
              "    <tr>\n",
              "      <th>5</th>\n",
              "      <td>2015</td>\n",
              "      <td>2</td>\n",
              "    </tr>\n",
              "    <tr>\n",
              "      <th>1</th>\n",
              "      <td>2020</td>\n",
              "      <td>4</td>\n",
              "    </tr>\n",
              "    <tr>\n",
              "      <th>0</th>\n",
              "      <td>1993</td>\n",
              "      <td>5</td>\n",
              "    </tr>\n",
              "  </tbody>\n",
              "</table>\n",
              "</div>\n",
              "    <div class=\"colab-df-buttons\">\n",
              "\n",
              "  <div class=\"colab-df-container\">\n",
              "    <button class=\"colab-df-convert\" onclick=\"convertToInteractive('df-f39ce73e-513e-425b-ad8b-1e4974b3b49a')\"\n",
              "            title=\"Convert this dataframe to an interactive table.\"\n",
              "            style=\"display:none;\">\n",
              "\n",
              "  <svg xmlns=\"http://www.w3.org/2000/svg\" height=\"24px\" viewBox=\"0 -960 960 960\">\n",
              "    <path d=\"M120-120v-720h720v720H120Zm60-500h600v-160H180v160Zm220 220h160v-160H400v160Zm0 220h160v-160H400v160ZM180-400h160v-160H180v160Zm440 0h160v-160H620v160ZM180-180h160v-160H180v160Zm440 0h160v-160H620v160Z\"/>\n",
              "  </svg>\n",
              "    </button>\n",
              "\n",
              "  <style>\n",
              "    .colab-df-container {\n",
              "      display:flex;\n",
              "      gap: 12px;\n",
              "    }\n",
              "\n",
              "    .colab-df-convert {\n",
              "      background-color: #E8F0FE;\n",
              "      border: none;\n",
              "      border-radius: 50%;\n",
              "      cursor: pointer;\n",
              "      display: none;\n",
              "      fill: #1967D2;\n",
              "      height: 32px;\n",
              "      padding: 0 0 0 0;\n",
              "      width: 32px;\n",
              "    }\n",
              "\n",
              "    .colab-df-convert:hover {\n",
              "      background-color: #E2EBFA;\n",
              "      box-shadow: 0px 1px 2px rgba(60, 64, 67, 0.3), 0px 1px 3px 1px rgba(60, 64, 67, 0.15);\n",
              "      fill: #174EA6;\n",
              "    }\n",
              "\n",
              "    .colab-df-buttons div {\n",
              "      margin-bottom: 4px;\n",
              "    }\n",
              "\n",
              "    [theme=dark] .colab-df-convert {\n",
              "      background-color: #3B4455;\n",
              "      fill: #D2E3FC;\n",
              "    }\n",
              "\n",
              "    [theme=dark] .colab-df-convert:hover {\n",
              "      background-color: #434B5C;\n",
              "      box-shadow: 0px 1px 3px 1px rgba(0, 0, 0, 0.15);\n",
              "      filter: drop-shadow(0px 1px 2px rgba(0, 0, 0, 0.3));\n",
              "      fill: #FFFFFF;\n",
              "    }\n",
              "  </style>\n",
              "\n",
              "    <script>\n",
              "      const buttonEl =\n",
              "        document.querySelector('#df-f39ce73e-513e-425b-ad8b-1e4974b3b49a button.colab-df-convert');\n",
              "      buttonEl.style.display =\n",
              "        google.colab.kernel.accessAllowed ? 'block' : 'none';\n",
              "\n",
              "      async function convertToInteractive(key) {\n",
              "        const element = document.querySelector('#df-f39ce73e-513e-425b-ad8b-1e4974b3b49a');\n",
              "        const dataTable =\n",
              "          await google.colab.kernel.invokeFunction('convertToInteractive',\n",
              "                                                    [key], {});\n",
              "        if (!dataTable) return;\n",
              "\n",
              "        const docLinkHtml = 'Like what you see? Visit the ' +\n",
              "          '<a target=\"_blank\" href=https://colab.research.google.com/notebooks/data_table.ipynb>data table notebook</a>'\n",
              "          + ' to learn more about interactive tables.';\n",
              "        element.innerHTML = '';\n",
              "        dataTable['output_type'] = 'display_data';\n",
              "        await google.colab.output.renderOutput(dataTable, element);\n",
              "        const docLink = document.createElement('div');\n",
              "        docLink.innerHTML = docLinkHtml;\n",
              "        element.appendChild(docLink);\n",
              "      }\n",
              "    </script>\n",
              "  </div>\n",
              "\n",
              "\n",
              "<div id=\"df-ff1d5878-f3d3-4209-bd67-5028417852fa\">\n",
              "  <button class=\"colab-df-quickchart\" onclick=\"quickchart('df-ff1d5878-f3d3-4209-bd67-5028417852fa')\"\n",
              "            title=\"Suggest charts\"\n",
              "            style=\"display:none;\">\n",
              "\n",
              "<svg xmlns=\"http://www.w3.org/2000/svg\" height=\"24px\"viewBox=\"0 0 24 24\"\n",
              "     width=\"24px\">\n",
              "    <g>\n",
              "        <path d=\"M19 3H5c-1.1 0-2 .9-2 2v14c0 1.1.9 2 2 2h14c1.1 0 2-.9 2-2V5c0-1.1-.9-2-2-2zM9 17H7v-7h2v7zm4 0h-2V7h2v10zm4 0h-2v-4h2v4z\"/>\n",
              "    </g>\n",
              "</svg>\n",
              "  </button>\n",
              "\n",
              "<style>\n",
              "  .colab-df-quickchart {\n",
              "      --bg-color: #E8F0FE;\n",
              "      --fill-color: #1967D2;\n",
              "      --hover-bg-color: #E2EBFA;\n",
              "      --hover-fill-color: #174EA6;\n",
              "      --disabled-fill-color: #AAA;\n",
              "      --disabled-bg-color: #DDD;\n",
              "  }\n",
              "\n",
              "  [theme=dark] .colab-df-quickchart {\n",
              "      --bg-color: #3B4455;\n",
              "      --fill-color: #D2E3FC;\n",
              "      --hover-bg-color: #434B5C;\n",
              "      --hover-fill-color: #FFFFFF;\n",
              "      --disabled-bg-color: #3B4455;\n",
              "      --disabled-fill-color: #666;\n",
              "  }\n",
              "\n",
              "  .colab-df-quickchart {\n",
              "    background-color: var(--bg-color);\n",
              "    border: none;\n",
              "    border-radius: 50%;\n",
              "    cursor: pointer;\n",
              "    display: none;\n",
              "    fill: var(--fill-color);\n",
              "    height: 32px;\n",
              "    padding: 0;\n",
              "    width: 32px;\n",
              "  }\n",
              "\n",
              "  .colab-df-quickchart:hover {\n",
              "    background-color: var(--hover-bg-color);\n",
              "    box-shadow: 0 1px 2px rgba(60, 64, 67, 0.3), 0 1px 3px 1px rgba(60, 64, 67, 0.15);\n",
              "    fill: var(--button-hover-fill-color);\n",
              "  }\n",
              "\n",
              "  .colab-df-quickchart-complete:disabled,\n",
              "  .colab-df-quickchart-complete:disabled:hover {\n",
              "    background-color: var(--disabled-bg-color);\n",
              "    fill: var(--disabled-fill-color);\n",
              "    box-shadow: none;\n",
              "  }\n",
              "\n",
              "  .colab-df-spinner {\n",
              "    border: 2px solid var(--fill-color);\n",
              "    border-color: transparent;\n",
              "    border-bottom-color: var(--fill-color);\n",
              "    animation:\n",
              "      spin 1s steps(1) infinite;\n",
              "  }\n",
              "\n",
              "  @keyframes spin {\n",
              "    0% {\n",
              "      border-color: transparent;\n",
              "      border-bottom-color: var(--fill-color);\n",
              "      border-left-color: var(--fill-color);\n",
              "    }\n",
              "    20% {\n",
              "      border-color: transparent;\n",
              "      border-left-color: var(--fill-color);\n",
              "      border-top-color: var(--fill-color);\n",
              "    }\n",
              "    30% {\n",
              "      border-color: transparent;\n",
              "      border-left-color: var(--fill-color);\n",
              "      border-top-color: var(--fill-color);\n",
              "      border-right-color: var(--fill-color);\n",
              "    }\n",
              "    40% {\n",
              "      border-color: transparent;\n",
              "      border-right-color: var(--fill-color);\n",
              "      border-top-color: var(--fill-color);\n",
              "    }\n",
              "    60% {\n",
              "      border-color: transparent;\n",
              "      border-right-color: var(--fill-color);\n",
              "    }\n",
              "    80% {\n",
              "      border-color: transparent;\n",
              "      border-right-color: var(--fill-color);\n",
              "      border-bottom-color: var(--fill-color);\n",
              "    }\n",
              "    90% {\n",
              "      border-color: transparent;\n",
              "      border-bottom-color: var(--fill-color);\n",
              "    }\n",
              "  }\n",
              "</style>\n",
              "\n",
              "  <script>\n",
              "    async function quickchart(key) {\n",
              "      const quickchartButtonEl =\n",
              "        document.querySelector('#' + key + ' button');\n",
              "      quickchartButtonEl.disabled = true;  // To prevent multiple clicks.\n",
              "      quickchartButtonEl.classList.add('colab-df-spinner');\n",
              "      try {\n",
              "        const charts = await google.colab.kernel.invokeFunction(\n",
              "            'suggestCharts', [key], {});\n",
              "      } catch (error) {\n",
              "        console.error('Error during call to suggestCharts:', error);\n",
              "      }\n",
              "      quickchartButtonEl.classList.remove('colab-df-spinner');\n",
              "      quickchartButtonEl.classList.add('colab-df-quickchart-complete');\n",
              "    }\n",
              "    (() => {\n",
              "      let quickchartButtonEl =\n",
              "        document.querySelector('#df-ff1d5878-f3d3-4209-bd67-5028417852fa button');\n",
              "      quickchartButtonEl.style.display =\n",
              "        google.colab.kernel.accessAllowed ? 'block' : 'none';\n",
              "    })();\n",
              "  </script>\n",
              "</div>\n",
              "    </div>\n",
              "  </div>\n"
            ]
          },
          "metadata": {},
          "execution_count": 21
        }
      ],
      "source": [
        "structures_per_year = pdbs['year'].value_counts().reset_index().sort_values('year')\n",
        "structures_per_year"
      ]
    },
    {
      "cell_type": "code",
      "execution_count": null,
      "metadata": {
        "tags": [],
        "id": "9X5c7ZLPF_qo",
        "outputId": "a002fc65-4743-4b76-dd21-2879098de2b9",
        "colab": {
          "base_uri": "https://localhost:8080/"
        }
      },
      "outputs": [
        {
          "output_type": "execute_result",
          "data": {
            "text/plain": [
              "   year  count\n",
              "3  1988      2\n",
              "7  1991      1\n",
              "0  1993      5\n",
              "2  1995      2\n",
              "6  1998      1\n",
              "8  2002      1\n",
              "5  2015      2\n",
              "4  2019      2\n",
              "1  2020      4"
            ],
            "text/html": [
              "\n",
              "  <div id=\"df-1511d6d3-08b8-4c19-9d07-e2dffcdc59df\" class=\"colab-df-container\">\n",
              "    <div>\n",
              "<style scoped>\n",
              "    .dataframe tbody tr th:only-of-type {\n",
              "        vertical-align: middle;\n",
              "    }\n",
              "\n",
              "    .dataframe tbody tr th {\n",
              "        vertical-align: top;\n",
              "    }\n",
              "\n",
              "    .dataframe thead th {\n",
              "        text-align: right;\n",
              "    }\n",
              "</style>\n",
              "<table border=\"1\" class=\"dataframe\">\n",
              "  <thead>\n",
              "    <tr style=\"text-align: right;\">\n",
              "      <th></th>\n",
              "      <th>year</th>\n",
              "      <th>count</th>\n",
              "    </tr>\n",
              "  </thead>\n",
              "  <tbody>\n",
              "    <tr>\n",
              "      <th>3</th>\n",
              "      <td>1988</td>\n",
              "      <td>2</td>\n",
              "    </tr>\n",
              "    <tr>\n",
              "      <th>7</th>\n",
              "      <td>1991</td>\n",
              "      <td>1</td>\n",
              "    </tr>\n",
              "    <tr>\n",
              "      <th>0</th>\n",
              "      <td>1993</td>\n",
              "      <td>5</td>\n",
              "    </tr>\n",
              "    <tr>\n",
              "      <th>2</th>\n",
              "      <td>1995</td>\n",
              "      <td>2</td>\n",
              "    </tr>\n",
              "    <tr>\n",
              "      <th>6</th>\n",
              "      <td>1998</td>\n",
              "      <td>1</td>\n",
              "    </tr>\n",
              "    <tr>\n",
              "      <th>8</th>\n",
              "      <td>2002</td>\n",
              "      <td>1</td>\n",
              "    </tr>\n",
              "    <tr>\n",
              "      <th>5</th>\n",
              "      <td>2015</td>\n",
              "      <td>2</td>\n",
              "    </tr>\n",
              "    <tr>\n",
              "      <th>4</th>\n",
              "      <td>2019</td>\n",
              "      <td>2</td>\n",
              "    </tr>\n",
              "    <tr>\n",
              "      <th>1</th>\n",
              "      <td>2020</td>\n",
              "      <td>4</td>\n",
              "    </tr>\n",
              "  </tbody>\n",
              "</table>\n",
              "</div>\n",
              "    <div class=\"colab-df-buttons\">\n",
              "\n",
              "  <div class=\"colab-df-container\">\n",
              "    <button class=\"colab-df-convert\" onclick=\"convertToInteractive('df-1511d6d3-08b8-4c19-9d07-e2dffcdc59df')\"\n",
              "            title=\"Convert this dataframe to an interactive table.\"\n",
              "            style=\"display:none;\">\n",
              "\n",
              "  <svg xmlns=\"http://www.w3.org/2000/svg\" height=\"24px\" viewBox=\"0 -960 960 960\">\n",
              "    <path d=\"M120-120v-720h720v720H120Zm60-500h600v-160H180v160Zm220 220h160v-160H400v160Zm0 220h160v-160H400v160ZM180-400h160v-160H180v160Zm440 0h160v-160H620v160ZM180-180h160v-160H180v160Zm440 0h160v-160H620v160Z\"/>\n",
              "  </svg>\n",
              "    </button>\n",
              "\n",
              "  <style>\n",
              "    .colab-df-container {\n",
              "      display:flex;\n",
              "      gap: 12px;\n",
              "    }\n",
              "\n",
              "    .colab-df-convert {\n",
              "      background-color: #E8F0FE;\n",
              "      border: none;\n",
              "      border-radius: 50%;\n",
              "      cursor: pointer;\n",
              "      display: none;\n",
              "      fill: #1967D2;\n",
              "      height: 32px;\n",
              "      padding: 0 0 0 0;\n",
              "      width: 32px;\n",
              "    }\n",
              "\n",
              "    .colab-df-convert:hover {\n",
              "      background-color: #E2EBFA;\n",
              "      box-shadow: 0px 1px 2px rgba(60, 64, 67, 0.3), 0px 1px 3px 1px rgba(60, 64, 67, 0.15);\n",
              "      fill: #174EA6;\n",
              "    }\n",
              "\n",
              "    .colab-df-buttons div {\n",
              "      margin-bottom: 4px;\n",
              "    }\n",
              "\n",
              "    [theme=dark] .colab-df-convert {\n",
              "      background-color: #3B4455;\n",
              "      fill: #D2E3FC;\n",
              "    }\n",
              "\n",
              "    [theme=dark] .colab-df-convert:hover {\n",
              "      background-color: #434B5C;\n",
              "      box-shadow: 0px 1px 3px 1px rgba(0, 0, 0, 0.15);\n",
              "      filter: drop-shadow(0px 1px 2px rgba(0, 0, 0, 0.3));\n",
              "      fill: #FFFFFF;\n",
              "    }\n",
              "  </style>\n",
              "\n",
              "    <script>\n",
              "      const buttonEl =\n",
              "        document.querySelector('#df-1511d6d3-08b8-4c19-9d07-e2dffcdc59df button.colab-df-convert');\n",
              "      buttonEl.style.display =\n",
              "        google.colab.kernel.accessAllowed ? 'block' : 'none';\n",
              "\n",
              "      async function convertToInteractive(key) {\n",
              "        const element = document.querySelector('#df-1511d6d3-08b8-4c19-9d07-e2dffcdc59df');\n",
              "        const dataTable =\n",
              "          await google.colab.kernel.invokeFunction('convertToInteractive',\n",
              "                                                    [key], {});\n",
              "        if (!dataTable) return;\n",
              "\n",
              "        const docLinkHtml = 'Like what you see? Visit the ' +\n",
              "          '<a target=\"_blank\" href=https://colab.research.google.com/notebooks/data_table.ipynb>data table notebook</a>'\n",
              "          + ' to learn more about interactive tables.';\n",
              "        element.innerHTML = '';\n",
              "        dataTable['output_type'] = 'display_data';\n",
              "        await google.colab.output.renderOutput(dataTable, element);\n",
              "        const docLink = document.createElement('div');\n",
              "        docLink.innerHTML = docLinkHtml;\n",
              "        element.appendChild(docLink);\n",
              "      }\n",
              "    </script>\n",
              "  </div>\n",
              "\n",
              "\n",
              "<div id=\"df-b2789464-eaee-4a6a-abda-8af6f25cb725\">\n",
              "  <button class=\"colab-df-quickchart\" onclick=\"quickchart('df-b2789464-eaee-4a6a-abda-8af6f25cb725')\"\n",
              "            title=\"Suggest charts\"\n",
              "            style=\"display:none;\">\n",
              "\n",
              "<svg xmlns=\"http://www.w3.org/2000/svg\" height=\"24px\"viewBox=\"0 0 24 24\"\n",
              "     width=\"24px\">\n",
              "    <g>\n",
              "        <path d=\"M19 3H5c-1.1 0-2 .9-2 2v14c0 1.1.9 2 2 2h14c1.1 0 2-.9 2-2V5c0-1.1-.9-2-2-2zM9 17H7v-7h2v7zm4 0h-2V7h2v10zm4 0h-2v-4h2v4z\"/>\n",
              "    </g>\n",
              "</svg>\n",
              "  </button>\n",
              "\n",
              "<style>\n",
              "  .colab-df-quickchart {\n",
              "      --bg-color: #E8F0FE;\n",
              "      --fill-color: #1967D2;\n",
              "      --hover-bg-color: #E2EBFA;\n",
              "      --hover-fill-color: #174EA6;\n",
              "      --disabled-fill-color: #AAA;\n",
              "      --disabled-bg-color: #DDD;\n",
              "  }\n",
              "\n",
              "  [theme=dark] .colab-df-quickchart {\n",
              "      --bg-color: #3B4455;\n",
              "      --fill-color: #D2E3FC;\n",
              "      --hover-bg-color: #434B5C;\n",
              "      --hover-fill-color: #FFFFFF;\n",
              "      --disabled-bg-color: #3B4455;\n",
              "      --disabled-fill-color: #666;\n",
              "  }\n",
              "\n",
              "  .colab-df-quickchart {\n",
              "    background-color: var(--bg-color);\n",
              "    border: none;\n",
              "    border-radius: 50%;\n",
              "    cursor: pointer;\n",
              "    display: none;\n",
              "    fill: var(--fill-color);\n",
              "    height: 32px;\n",
              "    padding: 0;\n",
              "    width: 32px;\n",
              "  }\n",
              "\n",
              "  .colab-df-quickchart:hover {\n",
              "    background-color: var(--hover-bg-color);\n",
              "    box-shadow: 0 1px 2px rgba(60, 64, 67, 0.3), 0 1px 3px 1px rgba(60, 64, 67, 0.15);\n",
              "    fill: var(--button-hover-fill-color);\n",
              "  }\n",
              "\n",
              "  .colab-df-quickchart-complete:disabled,\n",
              "  .colab-df-quickchart-complete:disabled:hover {\n",
              "    background-color: var(--disabled-bg-color);\n",
              "    fill: var(--disabled-fill-color);\n",
              "    box-shadow: none;\n",
              "  }\n",
              "\n",
              "  .colab-df-spinner {\n",
              "    border: 2px solid var(--fill-color);\n",
              "    border-color: transparent;\n",
              "    border-bottom-color: var(--fill-color);\n",
              "    animation:\n",
              "      spin 1s steps(1) infinite;\n",
              "  }\n",
              "\n",
              "  @keyframes spin {\n",
              "    0% {\n",
              "      border-color: transparent;\n",
              "      border-bottom-color: var(--fill-color);\n",
              "      border-left-color: var(--fill-color);\n",
              "    }\n",
              "    20% {\n",
              "      border-color: transparent;\n",
              "      border-left-color: var(--fill-color);\n",
              "      border-top-color: var(--fill-color);\n",
              "    }\n",
              "    30% {\n",
              "      border-color: transparent;\n",
              "      border-left-color: var(--fill-color);\n",
              "      border-top-color: var(--fill-color);\n",
              "      border-right-color: var(--fill-color);\n",
              "    }\n",
              "    40% {\n",
              "      border-color: transparent;\n",
              "      border-right-color: var(--fill-color);\n",
              "      border-top-color: var(--fill-color);\n",
              "    }\n",
              "    60% {\n",
              "      border-color: transparent;\n",
              "      border-right-color: var(--fill-color);\n",
              "    }\n",
              "    80% {\n",
              "      border-color: transparent;\n",
              "      border-right-color: var(--fill-color);\n",
              "      border-bottom-color: var(--fill-color);\n",
              "    }\n",
              "    90% {\n",
              "      border-color: transparent;\n",
              "      border-bottom-color: var(--fill-color);\n",
              "    }\n",
              "  }\n",
              "</style>\n",
              "\n",
              "  <script>\n",
              "    async function quickchart(key) {\n",
              "      const quickchartButtonEl =\n",
              "        document.querySelector('#' + key + ' button');\n",
              "      quickchartButtonEl.disabled = true;  // To prevent multiple clicks.\n",
              "      quickchartButtonEl.classList.add('colab-df-spinner');\n",
              "      try {\n",
              "        const charts = await google.colab.kernel.invokeFunction(\n",
              "            'suggestCharts', [key], {});\n",
              "      } catch (error) {\n",
              "        console.error('Error during call to suggestCharts:', error);\n",
              "      }\n",
              "      quickchartButtonEl.classList.remove('colab-df-spinner');\n",
              "      quickchartButtonEl.classList.add('colab-df-quickchart-complete');\n",
              "    }\n",
              "    (() => {\n",
              "      let quickchartButtonEl =\n",
              "        document.querySelector('#df-b2789464-eaee-4a6a-abda-8af6f25cb725 button');\n",
              "      quickchartButtonEl.style.display =\n",
              "        google.colab.kernel.accessAllowed ? 'block' : 'none';\n",
              "    })();\n",
              "  </script>\n",
              "</div>\n",
              "    </div>\n",
              "  </div>\n"
            ]
          },
          "metadata": {},
          "execution_count": 22
        }
      ],
      "source": [
        "# let's plot the number of structures per year\n",
        "#structures_per_year = pdbs['year'].value_counts().reset_index().sort_values('year') # <- this works for pandas>=2.0\n",
        "structures_per_year = pdbs['year'].value_counts().reset_index()\n",
        "structures_per_year.columns = ['year', 'count']\n",
        "structures_per_year.sort_values('year', inplace=True)\n",
        "structures_per_year"
      ]
    },
    {
      "cell_type": "code",
      "execution_count": null,
      "metadata": {
        "tags": [],
        "id": "9TGWVke5F_qp",
        "outputId": "91eecccd-e418-4ef5-ee2b-8942fa60fe0f",
        "colab": {
          "base_uri": "https://localhost:8080/"
        }
      },
      "outputs": [
        {
          "output_type": "execute_result",
          "data": {
            "text/plain": [
              "<Axes: xlabel='year'>"
            ]
          },
          "metadata": {},
          "execution_count": 23
        },
        {
          "output_type": "display_data",
          "data": {
            "text/plain": [
              "<Figure size 600x360 with 1 Axes>"
            ],
            "image/png": "[encoded data removed]"
          },
          "metadata": {}
        }
      ],
      "source": [
        "# let's plot the number of structures per year\n",
        "structures_per_year.plot(x='year', y='count', style='o-')"
      ]
    },
    {
      "cell_type": "code",
      "execution_count": null,
      "metadata": {
        "tags": [],
        "id": "g6E3bd7gF_qp",
        "outputId": "c744172d-7699-4c86-dd6a-4fed76a936db",
        "colab": {
          "base_uri": "https://localhost:8080/"
        }
      },
      "outputs": [
        {
          "output_type": "execute_result",
          "data": {
            "text/plain": [
              "                        date  year  resolution\n",
              "19 1988-09-05 00:00:00+00:00  1988         NaN\n",
              "6  1988-09-05 00:00:00+00:00  1988         NaN\n",
              "14 1991-09-10 00:00:00+00:00  1991         NaN\n",
              "13 1993-05-14 00:00:00+00:00  1993         NaN\n",
              "3  1993-01-10 00:00:00+00:00  1993         NaN\n",
              "4  1993-01-10 00:00:00+00:00  1993         NaN\n",
              "5  1993-01-10 00:00:00+00:00  1993         NaN\n",
              "12 1993-04-23 00:00:00+00:00  1993         NaN\n",
              "0  1995-10-02 00:00:00+00:00  1995         NaN\n",
              "1  1995-10-02 00:00:00+00:00  1995         NaN"
            ],
            "text/html": [
              "\n",
              "  <div id=\"df-a54d8ad7-ffd2-46c2-8991-057681e57e27\" class=\"colab-df-container\">\n",
              "    <div>\n",
              "<style scoped>\n",
              "    .dataframe tbody tr th:only-of-type {\n",
              "        vertical-align: middle;\n",
              "    }\n",
              "\n",
              "    .dataframe tbody tr th {\n",
              "        vertical-align: top;\n",
              "    }\n",
              "\n",
              "    .dataframe thead th {\n",
              "        text-align: right;\n",
              "    }\n",
              "</style>\n",
              "<table border=\"1\" class=\"dataframe\">\n",
              "  <thead>\n",
              "    <tr style=\"text-align: right;\">\n",
              "      <th></th>\n",
              "      <th>date</th>\n",
              "      <th>year</th>\n",
              "      <th>resolution</th>\n",
              "    </tr>\n",
              "  </thead>\n",
              "  <tbody>\n",
              "    <tr>\n",
              "      <th>19</th>\n",
              "      <td>1988-09-05 00:00:00+00:00</td>\n",
              "      <td>1988</td>\n",
              "      <td>NaN</td>\n",
              "    </tr>\n",
              "    <tr>\n",
              "      <th>6</th>\n",
              "      <td>1988-09-05 00:00:00+00:00</td>\n",
              "      <td>1988</td>\n",
              "      <td>NaN</td>\n",
              "    </tr>\n",
              "    <tr>\n",
              "      <th>14</th>\n",
              "      <td>1991-09-10 00:00:00+00:00</td>\n",
              "      <td>1991</td>\n",
              "      <td>NaN</td>\n",
              "    </tr>\n",
              "    <tr>\n",
              "      <th>13</th>\n",
              "      <td>1993-05-14 00:00:00+00:00</td>\n",
              "      <td>1993</td>\n",
              "      <td>NaN</td>\n",
              "    </tr>\n",
              "    <tr>\n",
              "      <th>3</th>\n",
              "      <td>1993-01-10 00:00:00+00:00</td>\n",
              "      <td>1993</td>\n",
              "      <td>NaN</td>\n",
              "    </tr>\n",
              "    <tr>\n",
              "      <th>4</th>\n",
              "      <td>1993-01-10 00:00:00+00:00</td>\n",
              "      <td>1993</td>\n",
              "      <td>NaN</td>\n",
              "    </tr>\n",
              "    <tr>\n",
              "      <th>5</th>\n",
              "      <td>1993-01-10 00:00:00+00:00</td>\n",
              "      <td>1993</td>\n",
              "      <td>NaN</td>\n",
              "    </tr>\n",
              "    <tr>\n",
              "      <th>12</th>\n",
              "      <td>1993-04-23 00:00:00+00:00</td>\n",
              "      <td>1993</td>\n",
              "      <td>NaN</td>\n",
              "    </tr>\n",
              "    <tr>\n",
              "      <th>0</th>\n",
              "      <td>1995-10-02 00:00:00+00:00</td>\n",
              "      <td>1995</td>\n",
              "      <td>NaN</td>\n",
              "    </tr>\n",
              "    <tr>\n",
              "      <th>1</th>\n",
              "      <td>1995-10-02 00:00:00+00:00</td>\n",
              "      <td>1995</td>\n",
              "      <td>NaN</td>\n",
              "    </tr>\n",
              "  </tbody>\n",
              "</table>\n",
              "</div>\n",
              "    <div class=\"colab-df-buttons\">\n",
              "\n",
              "  <div class=\"colab-df-container\">\n",
              "    <button class=\"colab-df-convert\" onclick=\"convertToInteractive('df-a54d8ad7-ffd2-46c2-8991-057681e57e27')\"\n",
              "            title=\"Convert this dataframe to an interactive table.\"\n",
              "            style=\"display:none;\">\n",
              "\n",
              "  <svg xmlns=\"http://www.w3.org/2000/svg\" height=\"24px\" viewBox=\"0 -960 960 960\">\n",
              "    <path d=\"M120-120v-720h720v720H120Zm60-500h600v-160H180v160Zm220 220h160v-160H400v160Zm0 220h160v-160H400v160ZM180-400h160v-160H180v160Zm440 0h160v-160H620v160ZM180-180h160v-160H180v160Zm440 0h160v-160H620v160Z\"/>\n",
              "  </svg>\n",
              "    </button>\n",
              "\n",
              "  <style>\n",
              "    .colab-df-container {\n",
              "      display:flex;\n",
              "      gap: 12px;\n",
              "    }\n",
              "\n",
              "    .colab-df-convert {\n",
              "      background-color: #E8F0FE;\n",
              "      border: none;\n",
              "      border-radius: 50%;\n",
              "      cursor: pointer;\n",
              "      display: none;\n",
              "      fill: #1967D2;\n",
              "      height: 32px;\n",
              "      padding: 0 0 0 0;\n",
              "      width: 32px;\n",
              "    }\n",
              "\n",
              "    .colab-df-convert:hover {\n",
              "      background-color: #E2EBFA;\n",
              "      box-shadow: 0px 1px 2px rgba(60, 64, 67, 0.3), 0px 1px 3px 1px rgba(60, 64, 67, 0.15);\n",
              "      fill: #174EA6;\n",
              "    }\n",
              "\n",
              "    .colab-df-buttons div {\n",
              "      margin-bottom: 4px;\n",
              "    }\n",
              "\n",
              "    [theme=dark] .colab-df-convert {\n",
              "      background-color: #3B4455;\n",
              "      fill: #D2E3FC;\n",
              "    }\n",
              "\n",
              "    [theme=dark] .colab-df-convert:hover {\n",
              "      background-color: #434B5C;\n",
              "      box-shadow: 0px 1px 3px 1px rgba(0, 0, 0, 0.15);\n",
              "      filter: drop-shadow(0px 1px 2px rgba(0, 0, 0, 0.3));\n",
              "      fill: #FFFFFF;\n",
              "    }\n",
              "  </style>\n",
              "\n",
              "    <script>\n",
              "      const buttonEl =\n",
              "        document.querySelector('#df-a54d8ad7-ffd2-46c2-8991-057681e57e27 button.colab-df-convert');\n",
              "      buttonEl.style.display =\n",
              "        google.colab.kernel.accessAllowed ? 'block' : 'none';\n",
              "\n",
              "      async function convertToInteractive(key) {\n",
              "        const element = document.querySelector('#df-a54d8ad7-ffd2-46c2-8991-057681e57e27');\n",
              "        const dataTable =\n",
              "          await google.colab.kernel.invokeFunction('convertToInteractive',\n",
              "                                                    [key], {});\n",
              "        if (!dataTable) return;\n",
              "\n",
              "        const docLinkHtml = 'Like what you see? Visit the ' +\n",
              "          '<a target=\"_blank\" href=https://colab.research.google.com/notebooks/data_table.ipynb>data table notebook</a>'\n",
              "          + ' to learn more about interactive tables.';\n",
              "        element.innerHTML = '';\n",
              "        dataTable['output_type'] = 'display_data';\n",
              "        await google.colab.output.renderOutput(dataTable, element);\n",
              "        const docLink = document.createElement('div');\n",
              "        docLink.innerHTML = docLinkHtml;\n",
              "        element.appendChild(docLink);\n",
              "      }\n",
              "    </script>\n",
              "  </div>\n",
              "\n",
              "\n",
              "<div id=\"df-80d54ee1-49a8-4ed0-897b-2ab27b910223\">\n",
              "  <button class=\"colab-df-quickchart\" onclick=\"quickchart('df-80d54ee1-49a8-4ed0-897b-2ab27b910223')\"\n",
              "            title=\"Suggest charts\"\n",
              "            style=\"display:none;\">\n",
              "\n",
              "<svg xmlns=\"http://www.w3.org/2000/svg\" height=\"24px\"viewBox=\"0 0 24 24\"\n",
              "     width=\"24px\">\n",
              "    <g>\n",
              "        <path d=\"M19 3H5c-1.1 0-2 .9-2 2v14c0 1.1.9 2 2 2h14c1.1 0 2-.9 2-2V5c0-1.1-.9-2-2-2zM9 17H7v-7h2v7zm4 0h-2V7h2v10zm4 0h-2v-4h2v4z\"/>\n",
              "    </g>\n",
              "</svg>\n",
              "  </button>\n",
              "\n",
              "<style>\n",
              "  .colab-df-quickchart {\n",
              "      --bg-color: #E8F0FE;\n",
              "      --fill-color: #1967D2;\n",
              "      --hover-bg-color: #E2EBFA;\n",
              "      --hover-fill-color: #174EA6;\n",
              "      --disabled-fill-color: #AAA;\n",
              "      --disabled-bg-color: #DDD;\n",
              "  }\n",
              "\n",
              "  [theme=dark] .colab-df-quickchart {\n",
              "      --bg-color: #3B4455;\n",
              "      --fill-color: #D2E3FC;\n",
              "      --hover-bg-color: #434B5C;\n",
              "      --hover-fill-color: #FFFFFF;\n",
              "      --disabled-bg-color: #3B4455;\n",
              "      --disabled-fill-color: #666;\n",
              "  }\n",
              "\n",
              "  .colab-df-quickchart {\n",
              "    background-color: var(--bg-color);\n",
              "    border: none;\n",
              "    border-radius: 50%;\n",
              "    cursor: pointer;\n",
              "    display: none;\n",
              "    fill: var(--fill-color);\n",
              "    height: 32px;\n",
              "    padding: 0;\n",
              "    width: 32px;\n",
              "  }\n",
              "\n",
              "  .colab-df-quickchart:hover {\n",
              "    background-color: var(--hover-bg-color);\n",
              "    box-shadow: 0 1px 2px rgba(60, 64, 67, 0.3), 0 1px 3px 1px rgba(60, 64, 67, 0.15);\n",
              "    fill: var(--button-hover-fill-color);\n",
              "  }\n",
              "\n",
              "  .colab-df-quickchart-complete:disabled,\n",
              "  .colab-df-quickchart-complete:disabled:hover {\n",
              "    background-color: var(--disabled-bg-color);\n",
              "    fill: var(--disabled-fill-color);\n",
              "    box-shadow: none;\n",
              "  }\n",
              "\n",
              "  .colab-df-spinner {\n",
              "    border: 2px solid var(--fill-color);\n",
              "    border-color: transparent;\n",
              "    border-bottom-color: var(--fill-color);\n",
              "    animation:\n",
              "      spin 1s steps(1) infinite;\n",
              "  }\n",
              "\n",
              "  @keyframes spin {\n",
              "    0% {\n",
              "      border-color: transparent;\n",
              "      border-bottom-color: var(--fill-color);\n",
              "      border-left-color: var(--fill-color);\n",
              "    }\n",
              "    20% {\n",
              "      border-color: transparent;\n",
              "      border-left-color: var(--fill-color);\n",
              "      border-top-color: var(--fill-color);\n",
              "    }\n",
              "    30% {\n",
              "      border-color: transparent;\n",
              "      border-left-color: var(--fill-color);\n",
              "      border-top-color: var(--fill-color);\n",
              "      border-right-color: var(--fill-color);\n",
              "    }\n",
              "    40% {\n",
              "      border-color: transparent;\n",
              "      border-right-color: var(--fill-color);\n",
              "      border-top-color: var(--fill-color);\n",
              "    }\n",
              "    60% {\n",
              "      border-color: transparent;\n",
              "      border-right-color: var(--fill-color);\n",
              "    }\n",
              "    80% {\n",
              "      border-color: transparent;\n",
              "      border-right-color: var(--fill-color);\n",
              "      border-bottom-color: var(--fill-color);\n",
              "    }\n",
              "    90% {\n",
              "      border-color: transparent;\n",
              "      border-bottom-color: var(--fill-color);\n",
              "    }\n",
              "  }\n",
              "</style>\n",
              "\n",
              "  <script>\n",
              "    async function quickchart(key) {\n",
              "      const quickchartButtonEl =\n",
              "        document.querySelector('#' + key + ' button');\n",
              "      quickchartButtonEl.disabled = true;  // To prevent multiple clicks.\n",
              "      quickchartButtonEl.classList.add('colab-df-spinner');\n",
              "      try {\n",
              "        const charts = await google.colab.kernel.invokeFunction(\n",
              "            'suggestCharts', [key], {});\n",
              "      } catch (error) {\n",
              "        console.error('Error during call to suggestCharts:', error);\n",
              "      }\n",
              "      quickchartButtonEl.classList.remove('colab-df-spinner');\n",
              "      quickchartButtonEl.classList.add('colab-df-quickchart-complete');\n",
              "    }\n",
              "    (() => {\n",
              "      let quickchartButtonEl =\n",
              "        document.querySelector('#df-80d54ee1-49a8-4ed0-897b-2ab27b910223 button');\n",
              "      quickchartButtonEl.style.display =\n",
              "        google.colab.kernel.accessAllowed ? 'block' : 'none';\n",
              "    })();\n",
              "  </script>\n",
              "</div>\n",
              "    </div>\n",
              "  </div>\n"
            ]
          },
          "metadata": {},
          "execution_count": 24
        }
      ],
      "source": [
        "# let's plot how the resolution changed over the years\n",
        "pdbs = pdbs.sort_values([\"year\"],\n",
        "                        ascending=True,\n",
        "                        na_position='last')\n",
        "pdbs[['date', 'year', 'resolution']].head(10)"
      ]
    },
    {
      "cell_type": "code",
      "execution_count": null,
      "metadata": {
        "tags": [],
        "id": "fP6Y4z_GF_qq",
        "outputId": "ca0e5ec4-9a28-4629-b9a5-835b4ca5b3af",
        "colab": {
          "base_uri": "https://localhost:8080/"
        }
      },
      "outputs": [
        {
          "output_type": "execute_result",
          "data": {
            "text/plain": [
              "<Axes: xlabel='year'>"
            ]
          },
          "metadata": {},
          "execution_count": 25
        },
        {
          "output_type": "display_data",
          "data": {
            "text/plain": [
              "<Figure size 600x360 with 1 Axes>"
            ],
            "image/png": "[encoded data removed]"
          },
          "metadata": {}
        }
      ],
      "source": [
        "pdbs.plot(x='year', y='resolution', style='o')"
      ]
    },
    {
      "cell_type": "code",
      "execution_count": null,
      "metadata": {
        "tags": [],
        "id": "FAkjY7KMF_qq",
        "outputId": "4d05d045-179a-4a07-a1a0-1f66067e7a33",
        "colab": {
          "base_uri": "https://localhost:8080/"
        }
      },
      "outputs": [
        {
          "output_type": "execute_result",
          "data": {
            "text/plain": [
              "array(['X-RAY DIFFRACTION', 'SOLUTION NMR'], dtype=object)"
            ]
          },
          "metadata": {},
          "execution_count": 26
        }
      ],
      "source": [
        "# let's observe the type of methods used to obtain the structures\n",
        "pdbs['method'].unique()"
      ]
    },
    {
      "cell_type": "code",
      "execution_count": null,
      "metadata": {
        "tags": [],
        "id": "pFYA-ZgxF_qq",
        "outputId": "03863698-8ef3-4e25-c584-f541e75d9dfb",
        "colab": {
          "base_uri": "https://localhost:8080/"
        }
      },
      "outputs": [
        {
          "output_type": "execute_result",
          "data": {
            "text/plain": [
              "   pdb_id                                               desc  \\\n",
              "19   2SNI  SUBTILISIN NOVO (E.C.3.4.21.14) COMPLEX WITH C...   \n",
              "6    2CI2                    CHYMOTRYPSIN INHIBITOR 2 (CI-2)   \n",
              "13   1COA  CHYMOTRYPSIN INHIBITOR 2 (CI2) MUTANT WITH ILE...   \n",
              "3    1YPA  CHYMOTRYPSIN INHIBITOR 2 (CI2) MUTANT WITH SER...   \n",
              "4    1YPB  CHYMOTRYPSIN INHIBITOR 2 (CI2) MUTANT WITH SER...   \n",
              "5    1YPC  CHYMOTRYPSIN INHIBITOR 2 (CI2) MUTANT WITH GLU...   \n",
              "1    1CIQ                           CHYMOTRYPSIN INHIBITOR 2   \n",
              "2    1CQ4                                               None   \n",
              "18   1LW6                                               None   \n",
              "16   5FFN                                               None   \n",
              "\n",
              "                                                title             method  \\\n",
              "19  STRUCTURAL COMPARISON OF TWO SERINE PROTEINASE...  X-RAY DIFFRACTION   \n",
              "6   CRYSTAL AND MOLECULAR STRUCTURE OF THE SERINE ...  X-RAY DIFFRACTION   \n",
              "13  THE EFFECT OF CAVITY CREATING MUTATIONS IN THE...  X-RAY DIFFRACTION   \n",
              "3   DIRECT OBSERVATION OF BETTER HYDRATION AT THE ...  X-RAY DIFFRACTION   \n",
              "4   DIRECT OBSERVATION OF BETTER HYDRATION AT THE ...  X-RAY DIFFRACTION   \n",
              "5   DIRECT OBSERVATION OF BETTER HYDRATION AT THE ...  X-RAY DIFFRACTION   \n",
              "1   COMPLEX OF TWO FRAGMENTS OF CI2, RESIDUES 1-40...  X-RAY DIFFRACTION   \n",
              "2   CI2 MUTANT WITH TETRAGLUTAMINE (MGQQQQGM) REPL...  X-RAY DIFFRACTION   \n",
              "18  Crystal Structure of the Complex of Subtilisin...  X-RAY DIFFRACTION   \n",
              "16  Complex of subtilase SubTY from Bacillus sp. T...  X-RAY DIFFRACTION   \n",
              "\n",
              "                        date  num_atoms  resolution    rwork    rfree  year  \n",
              "19 1988-09-05 00:00:00+00:00       2621         NaN      NaN      NaN  1988  \n",
              "6  1988-09-05 00:00:00+00:00        585         NaN      NaN      NaN  1988  \n",
              "13 1993-05-14 00:00:00+00:00        544         NaN      NaN      NaN  1993  \n",
              "3  1993-01-10 00:00:00+00:00        555         NaN      NaN      NaN  1993  \n",
              "4  1993-01-10 00:00:00+00:00        556         NaN      NaN      NaN  1993  \n",
              "5  1993-01-10 00:00:00+00:00        575         NaN      NaN      NaN  1993  \n",
              "1  1995-10-02 00:00:00+00:00        535         NaN      NaN      NaN  1995  \n",
              "2  1998-11-17 00:00:00+00:00        541         1.8  0.24000  0.30000  1998  \n",
              "18 2002-05-30 00:00:00+00:00       3049         1.5  0.16900  0.18800  2002  \n",
              "16 2015-12-18 00:00:00+00:00       3219         1.8  0.15098  0.18839  2015  "
            ],
            "text/html": [
              "\n",
              "  <div id=\"df-cb32adb4-3b54-4b9e-bfcc-f7b9cd51b6ac\" class=\"colab-df-container\">\n",
              "    <div>\n",
              "<style scoped>\n",
              "    .dataframe tbody tr th:only-of-type {\n",
              "        vertical-align: middle;\n",
              "    }\n",
              "\n",
              "    .dataframe tbody tr th {\n",
              "        vertical-align: top;\n",
              "    }\n",
              "\n",
              "    .dataframe thead th {\n",
              "        text-align: right;\n",
              "    }\n",
              "</style>\n",
              "<table border=\"1\" class=\"dataframe\">\n",
              "  <thead>\n",
              "    <tr style=\"text-align: right;\">\n",
              "      <th></th>\n",
              "      <th>pdb_id</th>\n",
              "      <th>desc</th>\n",
              "      <th>title</th>\n",
              "      <th>method</th>\n",
              "      <th>date</th>\n",
              "      <th>num_atoms</th>\n",
              "      <th>resolution</th>\n",
              "      <th>rwork</th>\n",
              "      <th>rfree</th>\n",
              "      <th>year</th>\n",
              "    </tr>\n",
              "  </thead>\n",
              "  <tbody>\n",
              "    <tr>\n",
              "      <th>19</th>\n",
              "      <td>2SNI</td>\n",
              "      <td>SUBTILISIN NOVO (E.C.3.4.21.14) COMPLEX WITH C...</td>\n",
              "      <td>STRUCTURAL COMPARISON OF TWO SERINE PROTEINASE...</td>\n",
              "      <td>X-RAY DIFFRACTION</td>\n",
              "      <td>1988-09-05 00:00:00+00:00</td>\n",
              "      <td>2621</td>\n",
              "      <td>NaN</td>\n",
              "      <td>NaN</td>\n",
              "      <td>NaN</td>\n",
              "      <td>1988</td>\n",
              "    </tr>\n",
              "    <tr>\n",
              "      <th>6</th>\n",
              "      <td>2CI2</td>\n",
              "      <td>CHYMOTRYPSIN INHIBITOR 2 (CI-2)</td>\n",
              "      <td>CRYSTAL AND MOLECULAR STRUCTURE OF THE SERINE ...</td>\n",
              "      <td>X-RAY DIFFRACTION</td>\n",
              "      <td>1988-09-05 00:00:00+00:00</td>\n",
              "      <td>585</td>\n",
              "      <td>NaN</td>\n",
              "      <td>NaN</td>\n",
              "      <td>NaN</td>\n",
              "      <td>1988</td>\n",
              "    </tr>\n",
              "    <tr>\n",
              "      <th>13</th>\n",
              "      <td>1COA</td>\n",
              "      <td>CHYMOTRYPSIN INHIBITOR 2 (CI2) MUTANT WITH ILE...</td>\n",
              "      <td>THE EFFECT OF CAVITY CREATING MUTATIONS IN THE...</td>\n",
              "      <td>X-RAY DIFFRACTION</td>\n",
              "      <td>1993-05-14 00:00:00+00:00</td>\n",
              "      <td>544</td>\n",
              "      <td>NaN</td>\n",
              "      <td>NaN</td>\n",
              "      <td>NaN</td>\n",
              "      <td>1993</td>\n",
              "    </tr>\n",
              "    <tr>\n",
              "      <th>3</th>\n",
              "      <td>1YPA</td>\n",
              "      <td>CHYMOTRYPSIN INHIBITOR 2 (CI2) MUTANT WITH SER...</td>\n",
              "      <td>DIRECT OBSERVATION OF BETTER HYDRATION AT THE ...</td>\n",
              "      <td>X-RAY DIFFRACTION</td>\n",
              "      <td>1993-01-10 00:00:00+00:00</td>\n",
              "      <td>555</td>\n",
              "      <td>NaN</td>\n",
              "      <td>NaN</td>\n",
              "      <td>NaN</td>\n",
              "      <td>1993</td>\n",
              "    </tr>\n",
              "    <tr>\n",
              "      <th>4</th>\n",
              "      <td>1YPB</td>\n",
              "      <td>CHYMOTRYPSIN INHIBITOR 2 (CI2) MUTANT WITH SER...</td>\n",
              "      <td>DIRECT OBSERVATION OF BETTER HYDRATION AT THE ...</td>\n",
              "      <td>X-RAY DIFFRACTION</td>\n",
              "      <td>1993-01-10 00:00:00+00:00</td>\n",
              "      <td>556</td>\n",
              "      <td>NaN</td>\n",
              "      <td>NaN</td>\n",
              "      <td>NaN</td>\n",
              "      <td>1993</td>\n",
              "    </tr>\n",
              "    <tr>\n",
              "      <th>5</th>\n",
              "      <td>1YPC</td>\n",
              "      <td>CHYMOTRYPSIN INHIBITOR 2 (CI2) MUTANT WITH GLU...</td>\n",
              "      <td>DIRECT OBSERVATION OF BETTER HYDRATION AT THE ...</td>\n",
              "      <td>X-RAY DIFFRACTION</td>\n",
              "      <td>1993-01-10 00:00:00+00:00</td>\n",
              "      <td>575</td>\n",
              "      <td>NaN</td>\n",
              "      <td>NaN</td>\n",
              "      <td>NaN</td>\n",
              "      <td>1993</td>\n",
              "    </tr>\n",
              "    <tr>\n",
              "      <th>1</th>\n",
              "      <td>1CIQ</td>\n",
              "      <td>CHYMOTRYPSIN INHIBITOR 2</td>\n",
              "      <td>COMPLEX OF TWO FRAGMENTS OF CI2, RESIDUES 1-40...</td>\n",
              "      <td>X-RAY DIFFRACTION</td>\n",
              "      <td>1995-10-02 00:00:00+00:00</td>\n",
              "      <td>535</td>\n",
              "      <td>NaN</td>\n",
              "      <td>NaN</td>\n",
              "      <td>NaN</td>\n",
              "      <td>1995</td>\n",
              "    </tr>\n",
              "    <tr>\n",
              "      <th>2</th>\n",
              "      <td>1CQ4</td>\n",
              "      <td>None</td>\n",
              "      <td>CI2 MUTANT WITH TETRAGLUTAMINE (MGQQQQGM) REPL...</td>\n",
              "      <td>X-RAY DIFFRACTION</td>\n",
              "      <td>1998-11-17 00:00:00+00:00</td>\n",
              "      <td>541</td>\n",
              "      <td>1.8</td>\n",
              "      <td>0.24000</td>\n",
              "      <td>0.30000</td>\n",
              "      <td>1998</td>\n",
              "    </tr>\n",
              "    <tr>\n",
              "      <th>18</th>\n",
              "      <td>1LW6</td>\n",
              "      <td>None</td>\n",
              "      <td>Crystal Structure of the Complex of Subtilisin...</td>\n",
              "      <td>X-RAY DIFFRACTION</td>\n",
              "      <td>2002-05-30 00:00:00+00:00</td>\n",
              "      <td>3049</td>\n",
              "      <td>1.5</td>\n",
              "      <td>0.16900</td>\n",
              "      <td>0.18800</td>\n",
              "      <td>2002</td>\n",
              "    </tr>\n",
              "    <tr>\n",
              "      <th>16</th>\n",
              "      <td>5FFN</td>\n",
              "      <td>None</td>\n",
              "      <td>Complex of subtilase SubTY from Bacillus sp. T...</td>\n",
              "      <td>X-RAY DIFFRACTION</td>\n",
              "      <td>2015-12-18 00:00:00+00:00</td>\n",
              "      <td>3219</td>\n",
              "      <td>1.8</td>\n",
              "      <td>0.15098</td>\n",
              "      <td>0.18839</td>\n",
              "      <td>2015</td>\n",
              "    </tr>\n",
              "  </tbody>\n",
              "</table>\n",
              "</div>\n",
              "    <div class=\"colab-df-buttons\">\n",
              "\n",
              "  <div class=\"colab-df-container\">\n",
              "    <button class=\"colab-df-convert\" onclick=\"convertToInteractive('df-cb32adb4-3b54-4b9e-bfcc-f7b9cd51b6ac')\"\n",
              "            title=\"Convert this dataframe to an interactive table.\"\n",
              "            style=\"display:none;\">\n",
              "\n",
              "  <svg xmlns=\"http://www.w3.org/2000/svg\" height=\"24px\" viewBox=\"0 -960 960 960\">\n",
              "    <path d=\"M120-120v-720h720v720H120Zm60-500h600v-160H180v160Zm220 220h160v-160H400v160Zm0 220h160v-160H400v160ZM180-400h160v-160H180v160Zm440 0h160v-160H620v160ZM180-180h160v-160H180v160Zm440 0h160v-160H620v160Z\"/>\n",
              "  </svg>\n",
              "    </button>\n",
              "\n",
              "  <style>\n",
              "    .colab-df-container {\n",
              "      display:flex;\n",
              "      gap: 12px;\n",
              "    }\n",
              "\n",
              "    .colab-df-convert {\n",
              "      background-color: #E8F0FE;\n",
              "      border: none;\n",
              "      border-radius: 50%;\n",
              "      cursor: pointer;\n",
              "      display: none;\n",
              "      fill: #1967D2;\n",
              "      height: 32px;\n",
              "      padding: 0 0 0 0;\n",
              "      width: 32px;\n",
              "    }\n",
              "\n",
              "    .colab-df-convert:hover {\n",
              "      background-color: #E2EBFA;\n",
              "      box-shadow: 0px 1px 2px rgba(60, 64, 67, 0.3), 0px 1px 3px 1px rgba(60, 64, 67, 0.15);\n",
              "      fill: #174EA6;\n",
              "    }\n",
              "\n",
              "    .colab-df-buttons div {\n",
              "      margin-bottom: 4px;\n",
              "    }\n",
              "\n",
              "    [theme=dark] .colab-df-convert {\n",
              "      background-color: #3B4455;\n",
              "      fill: #D2E3FC;\n",
              "    }\n",
              "\n",
              "    [theme=dark] .colab-df-convert:hover {\n",
              "      background-color: #434B5C;\n",
              "      box-shadow: 0px 1px 3px 1px rgba(0, 0, 0, 0.15);\n",
              "      filter: drop-shadow(0px 1px 2px rgba(0, 0, 0, 0.3));\n",
              "      fill: #FFFFFF;\n",
              "    }\n",
              "  </style>\n",
              "\n",
              "    <script>\n",
              "      const buttonEl =\n",
              "        document.querySelector('#df-cb32adb4-3b54-4b9e-bfcc-f7b9cd51b6ac button.colab-df-convert');\n",
              "      buttonEl.style.display =\n",
              "        google.colab.kernel.accessAllowed ? 'block' : 'none';\n",
              "\n",
              "      async function convertToInteractive(key) {\n",
              "        const element = document.querySelector('#df-cb32adb4-3b54-4b9e-bfcc-f7b9cd51b6ac');\n",
              "        const dataTable =\n",
              "          await google.colab.kernel.invokeFunction('convertToInteractive',\n",
              "                                                    [key], {});\n",
              "        if (!dataTable) return;\n",
              "\n",
              "        const docLinkHtml = 'Like what you see? Visit the ' +\n",
              "          '<a target=\"_blank\" href=https://colab.research.google.com/notebooks/data_table.ipynb>data table notebook</a>'\n",
              "          + ' to learn more about interactive tables.';\n",
              "        element.innerHTML = '';\n",
              "        dataTable['output_type'] = 'display_data';\n",
              "        await google.colab.output.renderOutput(dataTable, element);\n",
              "        const docLink = document.createElement('div');\n",
              "        docLink.innerHTML = docLinkHtml;\n",
              "        element.appendChild(docLink);\n",
              "      }\n",
              "    </script>\n",
              "  </div>\n",
              "\n",
              "\n",
              "<div id=\"df-7eea7b35-0e52-470d-8067-73cfe3380a60\">\n",
              "  <button class=\"colab-df-quickchart\" onclick=\"quickchart('df-7eea7b35-0e52-470d-8067-73cfe3380a60')\"\n",
              "            title=\"Suggest charts\"\n",
              "            style=\"display:none;\">\n",
              "\n",
              "<svg xmlns=\"http://www.w3.org/2000/svg\" height=\"24px\"viewBox=\"0 0 24 24\"\n",
              "     width=\"24px\">\n",
              "    <g>\n",
              "        <path d=\"M19 3H5c-1.1 0-2 .9-2 2v14c0 1.1.9 2 2 2h14c1.1 0 2-.9 2-2V5c0-1.1-.9-2-2-2zM9 17H7v-7h2v7zm4 0h-2V7h2v10zm4 0h-2v-4h2v4z\"/>\n",
              "    </g>\n",
              "</svg>\n",
              "  </button>\n",
              "\n",
              "<style>\n",
              "  .colab-df-quickchart {\n",
              "      --bg-color: #E8F0FE;\n",
              "      --fill-color: #1967D2;\n",
              "      --hover-bg-color: #E2EBFA;\n",
              "      --hover-fill-color: #174EA6;\n",
              "      --disabled-fill-color: #AAA;\n",
              "      --disabled-bg-color: #DDD;\n",
              "  }\n",
              "\n",
              "  [theme=dark] .colab-df-quickchart {\n",
              "      --bg-color: #3B4455;\n",
              "      --fill-color: #D2E3FC;\n",
              "      --hover-bg-color: #434B5C;\n",
              "      --hover-fill-color: #FFFFFF;\n",
              "      --disabled-bg-color: #3B4455;\n",
              "      --disabled-fill-color: #666;\n",
              "  }\n",
              "\n",
              "  .colab-df-quickchart {\n",
              "    background-color: var(--bg-color);\n",
              "    border: none;\n",
              "    border-radius: 50%;\n",
              "    cursor: pointer;\n",
              "    display: none;\n",
              "    fill: var(--fill-color);\n",
              "    height: 32px;\n",
              "    padding: 0;\n",
              "    width: 32px;\n",
              "  }\n",
              "\n",
              "  .colab-df-quickchart:hover {\n",
              "    background-color: var(--hover-bg-color);\n",
              "    box-shadow: 0 1px 2px rgba(60, 64, 67, 0.3), 0 1px 3px 1px rgba(60, 64, 67, 0.15);\n",
              "    fill: var(--button-hover-fill-color);\n",
              "  }\n",
              "\n",
              "  .colab-df-quickchart-complete:disabled,\n",
              "  .colab-df-quickchart-complete:disabled:hover {\n",
              "    background-color: var(--disabled-bg-color);\n",
              "    fill: var(--disabled-fill-color);\n",
              "    box-shadow: none;\n",
              "  }\n",
              "\n",
              "  .colab-df-spinner {\n",
              "    border: 2px solid var(--fill-color);\n",
              "    border-color: transparent;\n",
              "    border-bottom-color: var(--fill-color);\n",
              "    animation:\n",
              "      spin 1s steps(1) infinite;\n",
              "  }\n",
              "\n",
              "  @keyframes spin {\n",
              "    0% {\n",
              "      border-color: transparent;\n",
              "      border-bottom-color: var(--fill-color);\n",
              "      border-left-color: var(--fill-color);\n",
              "    }\n",
              "    20% {\n",
              "      border-color: transparent;\n",
              "      border-left-color: var(--fill-color);\n",
              "      border-top-color: var(--fill-color);\n",
              "    }\n",
              "    30% {\n",
              "      border-color: transparent;\n",
              "      border-left-color: var(--fill-color);\n",
              "      border-top-color: var(--fill-color);\n",
              "      border-right-color: var(--fill-color);\n",
              "    }\n",
              "    40% {\n",
              "      border-color: transparent;\n",
              "      border-right-color: var(--fill-color);\n",
              "      border-top-color: var(--fill-color);\n",
              "    }\n",
              "    60% {\n",
              "      border-color: transparent;\n",
              "      border-right-color: var(--fill-color);\n",
              "    }\n",
              "    80% {\n",
              "      border-color: transparent;\n",
              "      border-right-color: var(--fill-color);\n",
              "      border-bottom-color: var(--fill-color);\n",
              "    }\n",
              "    90% {\n",
              "      border-color: transparent;\n",
              "      border-bottom-color: var(--fill-color);\n",
              "    }\n",
              "  }\n",
              "</style>\n",
              "\n",
              "  <script>\n",
              "    async function quickchart(key) {\n",
              "      const quickchartButtonEl =\n",
              "        document.querySelector('#' + key + ' button');\n",
              "      quickchartButtonEl.disabled = true;  // To prevent multiple clicks.\n",
              "      quickchartButtonEl.classList.add('colab-df-spinner');\n",
              "      try {\n",
              "        const charts = await google.colab.kernel.invokeFunction(\n",
              "            'suggestCharts', [key], {});\n",
              "      } catch (error) {\n",
              "        console.error('Error during call to suggestCharts:', error);\n",
              "      }\n",
              "      quickchartButtonEl.classList.remove('colab-df-spinner');\n",
              "      quickchartButtonEl.classList.add('colab-df-quickchart-complete');\n",
              "    }\n",
              "    (() => {\n",
              "      let quickchartButtonEl =\n",
              "        document.querySelector('#df-7eea7b35-0e52-470d-8067-73cfe3380a60 button');\n",
              "      quickchartButtonEl.style.display =\n",
              "        google.colab.kernel.accessAllowed ? 'block' : 'none';\n",
              "    })();\n",
              "  </script>\n",
              "</div>\n",
              "    </div>\n",
              "  </div>\n"
            ]
          },
          "metadata": {},
          "execution_count": 27
        }
      ],
      "source": [
        "pdbs[pdbs.method=='X-RAY DIFFRACTION'][:10]"
      ]
    },
    {
      "cell_type": "code",
      "execution_count": null,
      "metadata": {
        "tags": [],
        "id": "AYHleSLCF_qq",
        "colab": {
          "base_uri": "https://localhost:8080/"
        },
        "outputId": "9d21cc2b-8e25-4cab-a413-ef097dbd5cab"
      },
      "outputs": [
        {
          "output_type": "execute_result",
          "data": {
            "text/plain": [
              "19   NaN\n",
              "6    NaN\n",
              "13   NaN\n",
              "3    NaN\n",
              "4    NaN\n",
              "Name: resolution, dtype: float64"
            ]
          },
          "metadata": {},
          "execution_count": 28
        }
      ],
      "source": [
        "pdbs[pdbs.method=='X-RAY DIFFRACTION'].head().resolution"
      ]
    },
    {
      "cell_type": "code",
      "execution_count": null,
      "metadata": {
        "tags": [],
        "id": "ooYY1GUOF_qr",
        "outputId": "fb5259da-3f1d-447f-e325-409d550aac8f",
        "colab": {
          "base_uri": "https://localhost:8080/"
        }
      },
      "outputs": [
        {
          "output_type": "execute_result",
          "data": {
            "text/plain": [
              "array([[<Axes: title={'center': 'resolution'}>]], dtype=object)"
            ]
          },
          "metadata": {},
          "execution_count": 29
        },
        {
          "output_type": "display_data",
          "data": {
            "text/plain": [
              "<Figure size 600x360 with 1 Axes>"
            ],
            "image/png": "[encoded data removed]"
          },
          "metadata": {}
        }
      ],
      "source": [
        "pdbs.hist(column = 'resolution')"
      ]
    },
    {
      "cell_type": "markdown",
      "metadata": {
        "id": "TPnYwhlOF_qr"
      },
      "source": [
        "<img src=\"https://biopandas.github.io/biopandas/img/logos/logo_size_1.png\" width=\"200\" align=\"left\"/>\n",
        "\n",
        "## biopandas\n",
        "\n",
        "[BioPandas](https://biopandas.github.io/biopandas/) simplifies the handling of protein structure files, such as PDB files, for computational biologists. It utilizes pandas DataFrames, widely used in data science, to work with biological macromolecule structures from PDB and MOL2 files in structural biology.\n",
        "\n",
        "We will use it to extract the structure with the lowest resolution"
      ]
    },
    {
      "cell_type": "code",
      "execution_count": null,
      "metadata": {
        "tags": [],
        "id": "kp8CkAibF_qs"
      },
      "outputs": [],
      "source": [
        "from biopandas.pdb import PandasPdb"
      ]
    },
    {
      "cell_type": "code",
      "execution_count": null,
      "metadata": {
        "tags": [],
        "id": "adx-ut2PF_qs",
        "outputId": "ec3c78ca-2cf4-4e39-973a-7ee1312f4197",
        "colab": {
          "base_uri": "https://localhost:8080/"
        }
      },
      "outputs": [
        {
          "output_type": "execute_result",
          "data": {
            "text/plain": [
              "1.01"
            ]
          },
          "metadata": {},
          "execution_count": 31
        }
      ],
      "source": [
        "pdbs['resolution'].min()\n"
      ]
    },
    {
      "cell_type": "code",
      "source": [
        "pdbs['resolution'].max()"
      ],
      "metadata": {
        "colab": {
          "base_uri": "https://localhost:8080/"
        },
        "id": "McUWolRfSu_x",
        "outputId": "e98f6235-2f65-45c4-e22d-164a0ecccc72"
      },
      "execution_count": null,
      "outputs": [
        {
          "output_type": "execute_result",
          "data": {
            "text/plain": [
              "1.9"
            ]
          },
          "metadata": {},
          "execution_count": 32
        }
      ]
    },
    {
      "cell_type": "code",
      "execution_count": null,
      "metadata": {
        "tags": [],
        "id": "wtDKFk1HF_qs",
        "outputId": "d2bce754-2a09-4d12-8107-eaf1abb7e6c1",
        "colab": {
          "base_uri": "https://localhost:8080/"
        }
      },
      "outputs": [
        {
          "output_type": "execute_result",
          "data": {
            "text/plain": [
              "9"
            ]
          },
          "metadata": {},
          "execution_count": 33
        }
      ],
      "source": [
        "pdbs['resolution'].idxmin()"
      ]
    },
    {
      "cell_type": "code",
      "execution_count": null,
      "metadata": {
        "tags": [],
        "id": "s04rBIoyF_qs",
        "outputId": "dcdfa18f-c125-45b2-91a7-808be54e9df1",
        "colab": {
          "base_uri": "https://localhost:8080/"
        }
      },
      "outputs": [
        {
          "output_type": "execute_result",
          "data": {
            "text/plain": [
              "pdb_id                                                     1CIQ\n",
              "desc                                   CHYMOTRYPSIN INHIBITOR 2\n",
              "title         COMPLEX OF TWO FRAGMENTS OF CI2, RESIDUES 1-40...\n",
              "method                                        X-RAY DIFFRACTION\n",
              "date                                  1995-10-02 00:00:00+00:00\n",
              "num_atoms                                                   535\n",
              "resolution                                                  NaN\n",
              "rwork                                                       NaN\n",
              "rfree                                                       NaN\n",
              "year                                                       1995\n",
              "Name: 1, dtype: object"
            ]
          },
          "metadata": {},
          "execution_count": 34
        }
      ],
      "source": [
        "ID_min = pdbs['resolution'].idxmin()\n",
        "pdbs.iloc[ID_min]\n"
      ]
    },
    {
      "cell_type": "code",
      "execution_count": null,
      "metadata": {
        "tags": [],
        "id": "-w7D_Fi2F_qs",
        "outputId": "2f21d0c0-4929-4d3f-c8b8-9c445e0aadf3",
        "colab": {
          "base_uri": "https://localhost:8080/",
          "height": 35
        }
      },
      "outputs": [
        {
          "output_type": "execute_result",
          "data": {
            "text/plain": [
              "'1CIQ'"
            ],
            "application/vnd.google.colaboratory.intrinsic+json": {
              "type": "string"
            }
          },
          "metadata": {},
          "execution_count": 35
        }
      ],
      "source": [
        "pdbs['pdb_id'].iloc[ID_min]"
      ]
    },
    {
      "cell_type": "code",
      "execution_count": null,
      "metadata": {
        "tags": [],
        "id": "mOTTy-vRF_qt",
        "outputId": "5c05dd4f-ca7e-4e21-9993-d274ae37fc09",
        "colab": {
          "base_uri": "https://localhost:8080/"
        }
      },
      "outputs": [
        {
          "output_type": "execute_result",
          "data": {
            "text/plain": [
              "<biopandas.pdb.pandas_pdb.PandasPdb at 0x78f666eb3790>"
            ]
          },
          "metadata": {},
          "execution_count": 36
        }
      ],
      "source": [
        "pdb_ID = pdbs['pdb_id'].iloc[ID_min]\n",
        "ppdb = PandasPdb().fetch_pdb(pdb_ID)\n",
        "ppdb"
      ]
    },
    {
      "cell_type": "code",
      "execution_count": null,
      "metadata": {
        "tags": [],
        "id": "eAIueKSpF_qt",
        "outputId": "4b7c39f8-a818-43fa-f242-4af79248651a",
        "colab": {
          "base_uri": "https://localhost:8080/",
          "height": 236
        }
      },
      "outputs": [
        {
          "output_type": "execute_result",
          "data": {
            "text/plain": [
              "  record_name  atom_number blank_1 atom_name alt_loc residue_name blank_2  \\\n",
              "0        ATOM            1                 N                  LYS           \n",
              "1        ATOM            2                CA                  LYS           \n",
              "2        ATOM            3                 C                  LYS           \n",
              "3        ATOM            4                 O                  LYS           \n",
              "4        ATOM            5                CB                  LYS           \n",
              "\n",
              "  chain_id  residue_number insertion  ... x_coord  y_coord  z_coord  \\\n",
              "0        A               2            ...   8.807  -32.611    7.110   \n",
              "1        A               2            ...   7.715  -32.024    7.949   \n",
              "2        A               2            ...   7.868  -30.519    7.716   \n",
              "3        A               2            ...   8.712  -29.968    8.423   \n",
              "4        A               2            ...   7.728  -32.332    9.429   \n",
              "\n",
              "   occupancy  b_factor  blank_4 segment_id element_symbol charge  line_idx  \n",
              "0        1.0     34.28                                  N    NaN       424  \n",
              "1        1.0     34.29                                  C    NaN       425  \n",
              "2        1.0     32.72                                  C    NaN       426  \n",
              "3        1.0     33.33                                  O    NaN       427  \n",
              "4        1.0     36.36                                  C    NaN       428  \n",
              "\n",
              "[5 rows x 21 columns]"
            ],
            "text/html": [
              "\n",
              "  <div id=\"df-c7b9a1df-25fb-4de8-b9d4-ae43740c1879\" class=\"colab-df-container\">\n",
              "    <div>\n",
              "<style scoped>\n",
              "    .dataframe tbody tr th:only-of-type {\n",
              "        vertical-align: middle;\n",
              "    }\n",
              "\n",
              "    .dataframe tbody tr th {\n",
              "        vertical-align: top;\n",
              "    }\n",
              "\n",
              "    .dataframe thead th {\n",
              "        text-align: right;\n",
              "    }\n",
              "</style>\n",
              "<table border=\"1\" class=\"dataframe\">\n",
              "  <thead>\n",
              "    <tr style=\"text-align: right;\">\n",
              "      <th></th>\n",
              "      <th>record_name</th>\n",
              "      <th>atom_number</th>\n",
              "      <th>blank_1</th>\n",
              "      <th>atom_name</th>\n",
              "      <th>alt_loc</th>\n",
              "      <th>residue_name</th>\n",
              "      <th>blank_2</th>\n",
              "      <th>chain_id</th>\n",
              "      <th>residue_number</th>\n",
              "      <th>insertion</th>\n",
              "      <th>...</th>\n",
              "      <th>x_coord</th>\n",
              "      <th>y_coord</th>\n",
              "      <th>z_coord</th>\n",
              "      <th>occupancy</th>\n",
              "      <th>b_factor</th>\n",
              "      <th>blank_4</th>\n",
              "      <th>segment_id</th>\n",
              "      <th>element_symbol</th>\n",
              "      <th>charge</th>\n",
              "      <th>line_idx</th>\n",
              "    </tr>\n",
              "  </thead>\n",
              "  <tbody>\n",
              "    <tr>\n",
              "      <th>0</th>\n",
              "      <td>ATOM</td>\n",
              "      <td>1</td>\n",
              "      <td></td>\n",
              "      <td>N</td>\n",
              "      <td></td>\n",
              "      <td>LYS</td>\n",
              "      <td></td>\n",
              "      <td>A</td>\n",
              "      <td>2</td>\n",
              "      <td></td>\n",
              "      <td>...</td>\n",
              "      <td>8.807</td>\n",
              "      <td>-32.611</td>\n",
              "      <td>7.110</td>\n",
              "      <td>1.0</td>\n",
              "      <td>34.28</td>\n",
              "      <td></td>\n",
              "      <td></td>\n",
              "      <td>N</td>\n",
              "      <td>NaN</td>\n",
              "      <td>424</td>\n",
              "    </tr>\n",
              "    <tr>\n",
              "      <th>1</th>\n",
              "      <td>ATOM</td>\n",
              "      <td>2</td>\n",
              "      <td></td>\n",
              "      <td>CA</td>\n",
              "      <td></td>\n",
              "      <td>LYS</td>\n",
              "      <td></td>\n",
              "      <td>A</td>\n",
              "      <td>2</td>\n",
              "      <td></td>\n",
              "      <td>...</td>\n",
              "      <td>7.715</td>\n",
              "      <td>-32.024</td>\n",
              "      <td>7.949</td>\n",
              "      <td>1.0</td>\n",
              "      <td>34.29</td>\n",
              "      <td></td>\n",
              "      <td></td>\n",
              "      <td>C</td>\n",
              "      <td>NaN</td>\n",
              "      <td>425</td>\n",
              "    </tr>\n",
              "    <tr>\n",
              "      <th>2</th>\n",
              "      <td>ATOM</td>\n",
              "      <td>3</td>\n",
              "      <td></td>\n",
              "      <td>C</td>\n",
              "      <td></td>\n",
              "      <td>LYS</td>\n",
              "      <td></td>\n",
              "      <td>A</td>\n",
              "      <td>2</td>\n",
              "      <td></td>\n",
              "      <td>...</td>\n",
              "      <td>7.868</td>\n",
              "      <td>-30.519</td>\n",
              "      <td>7.716</td>\n",
              "      <td>1.0</td>\n",
              "      <td>32.72</td>\n",
              "      <td></td>\n",
              "      <td></td>\n",
              "      <td>C</td>\n",
              "      <td>NaN</td>\n",
              "      <td>426</td>\n",
              "    </tr>\n",
              "    <tr>\n",
              "      <th>3</th>\n",
              "      <td>ATOM</td>\n",
              "      <td>4</td>\n",
              "      <td></td>\n",
              "      <td>O</td>\n",
              "      <td></td>\n",
              "      <td>LYS</td>\n",
              "      <td></td>\n",
              "      <td>A</td>\n",
              "      <td>2</td>\n",
              "      <td></td>\n",
              "      <td>...</td>\n",
              "      <td>8.712</td>\n",
              "      <td>-29.968</td>\n",
              "      <td>8.423</td>\n",
              "      <td>1.0</td>\n",
              "      <td>33.33</td>\n",
              "      <td></td>\n",
              "      <td></td>\n",
              "      <td>O</td>\n",
              "      <td>NaN</td>\n",
              "      <td>427</td>\n",
              "    </tr>\n",
              "    <tr>\n",
              "      <th>4</th>\n",
              "      <td>ATOM</td>\n",
              "      <td>5</td>\n",
              "      <td></td>\n",
              "      <td>CB</td>\n",
              "      <td></td>\n",
              "      <td>LYS</td>\n",
              "      <td></td>\n",
              "      <td>A</td>\n",
              "      <td>2</td>\n",
              "      <td></td>\n",
              "      <td>...</td>\n",
              "      <td>7.728</td>\n",
              "      <td>-32.332</td>\n",
              "      <td>9.429</td>\n",
              "      <td>1.0</td>\n",
              "      <td>36.36</td>\n",
              "      <td></td>\n",
              "      <td></td>\n",
              "      <td>C</td>\n",
              "      <td>NaN</td>\n",
              "      <td>428</td>\n",
              "    </tr>\n",
              "  </tbody>\n",
              "</table>\n",
              "<p>5 rows × 21 columns</p>\n",
              "</div>\n",
              "    <div class=\"colab-df-buttons\">\n",
              "\n",
              "  <div class=\"colab-df-container\">\n",
              "    <button class=\"colab-df-convert\" onclick=\"convertToInteractive('df-c7b9a1df-25fb-4de8-b9d4-ae43740c1879')\"\n",
              "            title=\"Convert this dataframe to an interactive table.\"\n",
              "            style=\"display:none;\">\n",
              "\n",
              "  <svg xmlns=\"http://www.w3.org/2000/svg\" height=\"24px\" viewBox=\"0 -960 960 960\">\n",
              "    <path d=\"M120-120v-720h720v720H120Zm60-500h600v-160H180v160Zm220 220h160v-160H400v160Zm0 220h160v-160H400v160ZM180-400h160v-160H180v160Zm440 0h160v-160H620v160ZM180-180h160v-160H180v160Zm440 0h160v-160H620v160Z\"/>\n",
              "  </svg>\n",
              "    </button>\n",
              "\n",
              "  <style>\n",
              "    .colab-df-container {\n",
              "      display:flex;\n",
              "      gap: 12px;\n",
              "    }\n",
              "\n",
              "    .colab-df-convert {\n",
              "      background-color: #E8F0FE;\n",
              "      border: none;\n",
              "      border-radius: 50%;\n",
              "      cursor: pointer;\n",
              "      display: none;\n",
              "      fill: #1967D2;\n",
              "      height: 32px;\n",
              "      padding: 0 0 0 0;\n",
              "      width: 32px;\n",
              "    }\n",
              "\n",
              "    .colab-df-convert:hover {\n",
              "      background-color: #E2EBFA;\n",
              "      box-shadow: 0px 1px 2px rgba(60, 64, 67, 0.3), 0px 1px 3px 1px rgba(60, 64, 67, 0.15);\n",
              "      fill: #174EA6;\n",
              "    }\n",
              "\n",
              "    .colab-df-buttons div {\n",
              "      margin-bottom: 4px;\n",
              "    }\n",
              "\n",
              "    [theme=dark] .colab-df-convert {\n",
              "      background-color: #3B4455;\n",
              "      fill: #D2E3FC;\n",
              "    }\n",
              "\n",
              "    [theme=dark] .colab-df-convert:hover {\n",
              "      background-color: #434B5C;\n",
              "      box-shadow: 0px 1px 3px 1px rgba(0, 0, 0, 0.15);\n",
              "      filter: drop-shadow(0px 1px 2px rgba(0, 0, 0, 0.3));\n",
              "      fill: #FFFFFF;\n",
              "    }\n",
              "  </style>\n",
              "\n",
              "    <script>\n",
              "      const buttonEl =\n",
              "        document.querySelector('#df-c7b9a1df-25fb-4de8-b9d4-ae43740c1879 button.colab-df-convert');\n",
              "      buttonEl.style.display =\n",
              "        google.colab.kernel.accessAllowed ? 'block' : 'none';\n",
              "\n",
              "      async function convertToInteractive(key) {\n",
              "        const element = document.querySelector('#df-c7b9a1df-25fb-4de8-b9d4-ae43740c1879');\n",
              "        const dataTable =\n",
              "          await google.colab.kernel.invokeFunction('convertToInteractive',\n",
              "                                                    [key], {});\n",
              "        if (!dataTable) return;\n",
              "\n",
              "        const docLinkHtml = 'Like what you see? Visit the ' +\n",
              "          '<a target=\"_blank\" href=https://colab.research.google.com/notebooks/data_table.ipynb>data table notebook</a>'\n",
              "          + ' to learn more about interactive tables.';\n",
              "        element.innerHTML = '';\n",
              "        dataTable['output_type'] = 'display_data';\n",
              "        await google.colab.output.renderOutput(dataTable, element);\n",
              "        const docLink = document.createElement('div');\n",
              "        docLink.innerHTML = docLinkHtml;\n",
              "        element.appendChild(docLink);\n",
              "      }\n",
              "    </script>\n",
              "  </div>\n",
              "\n",
              "\n",
              "<div id=\"df-efcc79fc-a9a6-4f6c-9abd-357ad53a9b32\">\n",
              "  <button class=\"colab-df-quickchart\" onclick=\"quickchart('df-efcc79fc-a9a6-4f6c-9abd-357ad53a9b32')\"\n",
              "            title=\"Suggest charts\"\n",
              "            style=\"display:none;\">\n",
              "\n",
              "<svg xmlns=\"http://www.w3.org/2000/svg\" height=\"24px\"viewBox=\"0 0 24 24\"\n",
              "     width=\"24px\">\n",
              "    <g>\n",
              "        <path d=\"M19 3H5c-1.1 0-2 .9-2 2v14c0 1.1.9 2 2 2h14c1.1 0 2-.9 2-2V5c0-1.1-.9-2-2-2zM9 17H7v-7h2v7zm4 0h-2V7h2v10zm4 0h-2v-4h2v4z\"/>\n",
              "    </g>\n",
              "</svg>\n",
              "  </button>\n",
              "\n",
              "<style>\n",
              "  .colab-df-quickchart {\n",
              "      --bg-color: #E8F0FE;\n",
              "      --fill-color: #1967D2;\n",
              "      --hover-bg-color: #E2EBFA;\n",
              "      --hover-fill-color: #174EA6;\n",
              "      --disabled-fill-color: #AAA;\n",
              "      --disabled-bg-color: #DDD;\n",
              "  }\n",
              "\n",
              "  [theme=dark] .colab-df-quickchart {\n",
              "      --bg-color: #3B4455;\n",
              "      --fill-color: #D2E3FC;\n",
              "      --hover-bg-color: #434B5C;\n",
              "      --hover-fill-color: #FFFFFF;\n",
              "      --disabled-bg-color: #3B4455;\n",
              "      --disabled-fill-color: #666;\n",
              "  }\n",
              "\n",
              "  .colab-df-quickchart {\n",
              "    background-color: var(--bg-color);\n",
              "    border: none;\n",
              "    border-radius: 50%;\n",
              "    cursor: pointer;\n",
              "    display: none;\n",
              "    fill: var(--fill-color);\n",
              "    height: 32px;\n",
              "    padding: 0;\n",
              "    width: 32px;\n",
              "  }\n",
              "\n",
              "  .colab-df-quickchart:hover {\n",
              "    background-color: var(--hover-bg-color);\n",
              "    box-shadow: 0 1px 2px rgba(60, 64, 67, 0.3), 0 1px 3px 1px rgba(60, 64, 67, 0.15);\n",
              "    fill: var(--button-hover-fill-color);\n",
              "  }\n",
              "\n",
              "  .colab-df-quickchart-complete:disabled,\n",
              "  .colab-df-quickchart-complete:disabled:hover {\n",
              "    background-color: var(--disabled-bg-color);\n",
              "    fill: var(--disabled-fill-color);\n",
              "    box-shadow: none;\n",
              "  }\n",
              "\n",
              "  .colab-df-spinner {\n",
              "    border: 2px solid var(--fill-color);\n",
              "    border-color: transparent;\n",
              "    border-bottom-color: var(--fill-color);\n",
              "    animation:\n",
              "      spin 1s steps(1) infinite;\n",
              "  }\n",
              "\n",
              "  @keyframes spin {\n",
              "    0% {\n",
              "      border-color: transparent;\n",
              "      border-bottom-color: var(--fill-color);\n",
              "      border-left-color: var(--fill-color);\n",
              "    }\n",
              "    20% {\n",
              "      border-color: transparent;\n",
              "      border-left-color: var(--fill-color);\n",
              "      border-top-color: var(--fill-color);\n",
              "    }\n",
              "    30% {\n",
              "      border-color: transparent;\n",
              "      border-left-color: var(--fill-color);\n",
              "      border-top-color: var(--fill-color);\n",
              "      border-right-color: var(--fill-color);\n",
              "    }\n",
              "    40% {\n",
              "      border-color: transparent;\n",
              "      border-right-color: var(--fill-color);\n",
              "      border-top-color: var(--fill-color);\n",
              "    }\n",
              "    60% {\n",
              "      border-color: transparent;\n",
              "      border-right-color: var(--fill-color);\n",
              "    }\n",
              "    80% {\n",
              "      border-color: transparent;\n",
              "      border-right-color: var(--fill-color);\n",
              "      border-bottom-color: var(--fill-color);\n",
              "    }\n",
              "    90% {\n",
              "      border-color: transparent;\n",
              "      border-bottom-color: var(--fill-color);\n",
              "    }\n",
              "  }\n",
              "</style>\n",
              "\n",
              "  <script>\n",
              "    async function quickchart(key) {\n",
              "      const quickchartButtonEl =\n",
              "        document.querySelector('#' + key + ' button');\n",
              "      quickchartButtonEl.disabled = true;  // To prevent multiple clicks.\n",
              "      quickchartButtonEl.classList.add('colab-df-spinner');\n",
              "      try {\n",
              "        const charts = await google.colab.kernel.invokeFunction(\n",
              "            'suggestCharts', [key], {});\n",
              "      } catch (error) {\n",
              "        console.error('Error during call to suggestCharts:', error);\n",
              "      }\n",
              "      quickchartButtonEl.classList.remove('colab-df-spinner');\n",
              "      quickchartButtonEl.classList.add('colab-df-quickchart-complete');\n",
              "    }\n",
              "    (() => {\n",
              "      let quickchartButtonEl =\n",
              "        document.querySelector('#df-efcc79fc-a9a6-4f6c-9abd-357ad53a9b32 button');\n",
              "      quickchartButtonEl.style.display =\n",
              "        google.colab.kernel.accessAllowed ? 'block' : 'none';\n",
              "    })();\n",
              "  </script>\n",
              "</div>\n",
              "    </div>\n",
              "  </div>\n"
            ]
          },
          "metadata": {},
          "execution_count": 37
        }
      ],
      "source": [
        "ppdb.df['ATOM'].head()"
      ]
    },
    {
      "cell_type": "code",
      "execution_count": null,
      "metadata": {
        "tags": [],
        "id": "DvdTqhZhF_qt",
        "outputId": "70e73141-08d0-4278-8429-a270f4f21f0f",
        "colab": {
          "base_uri": "https://localhost:8080/",
          "height": 364
        }
      },
      "outputs": [
        {
          "output_type": "execute_result",
          "data": {
            "text/plain": [
              "<Axes: ylabel='Frequency'>"
            ]
          },
          "metadata": {},
          "execution_count": 38
        },
        {
          "output_type": "display_data",
          "data": {
            "text/plain": [
              "<Figure size 600x360 with 1 Axes>"
            ],
            "image/png": "[encoded data removed]"
          },
          "metadata": {}
        }
      ],
      "source": [
        "ppdb.df['ATOM']['b_factor'].plot(kind='hist')"
      ]
    },
    {
      "cell_type": "code",
      "execution_count": null,
      "metadata": {
        "tags": [],
        "id": "XZk_98sXF_qt",
        "outputId": "aa22c345-8f80-4a40-9f3e-ab6ac8cf8502",
        "colab": {
          "base_uri": "https://localhost:8080/",
          "height": 364
        }
      },
      "outputs": [
        {
          "output_type": "execute_result",
          "data": {
            "text/plain": [
              "<Axes: >"
            ]
          },
          "metadata": {},
          "execution_count": 39
        },
        {
          "output_type": "display_data",
          "data": {
            "text/plain": [
              "<Figure size 600x360 with 1 Axes>"
            ],
            "image/png": "[encoded data removed]"
          },
          "metadata": {}
        }
      ],
      "source": [
        "ppdb.df['ATOM']['b_factor'].plot(kind='line')"
      ]
    },
    {
      "cell_type": "code",
      "execution_count": null,
      "metadata": {
        "tags": [],
        "id": "9YvMMv44F_qu",
        "outputId": "ec9c7df8-f917-4e9e-830b-de483cdde260",
        "colab": {
          "base_uri": "https://localhost:8080/"
        }
      },
      "outputs": [
        {
          "output_type": "execute_result",
          "data": {
            "text/plain": [
              "8.807"
            ]
          },
          "metadata": {},
          "execution_count": 40
        }
      ],
      "source": [
        "ppdb.df['ATOM'].x_coord[0]"
      ]
    },
    {
      "cell_type": "code",
      "execution_count": null,
      "metadata": {
        "tags": [],
        "id": "X1GjAydfF_qu",
        "outputId": "132dcfae-93d2-48ca-ca29-e36f1745b94b",
        "colab": {
          "base_uri": "https://localhost:8080/"
        }
      },
      "outputs": [
        {
          "output_type": "execute_result",
          "data": {
            "text/plain": [
              "(1.496981629813805, 1.496981629813805)"
            ]
          },
          "metadata": {},
          "execution_count": 41
        }
      ],
      "source": [
        "def get_coord(pdb, at):\n",
        "    r = []\n",
        "    for coord in ('x_coord', 'y_coord', 'z_coord'):\n",
        "        r.append(ppdb.df['ATOM'][coord][at])\n",
        "    return np.array(r)\n",
        "\n",
        "def calc_dist(pdb,at1,at2):\n",
        "    r1, r2 = get_coord(pdb, at1), get_coord(pdb, at2)\n",
        "    r = r1-r2\n",
        "    d = math.sqrt(sum(r**2))\n",
        "    d_alternative = np.linalg.norm(r)\n",
        "    return d, d_alternative\n",
        "\n",
        "calc_dist(ppdb, 0, 1)\n"
      ]
    },
    {
      "cell_type": "code",
      "execution_count": null,
      "metadata": {
        "tags": [],
        "id": "kqBD5zU0F_qv"
      },
      "outputs": [],
      "source": [
        "# help(ppdb)\n",
        "# execute to see what other function are available"
      ]
    },
    {
      "cell_type": "code",
      "execution_count": null,
      "metadata": {
        "tags": [],
        "id": "hdycccp0F_qv",
        "outputId": "8c3ba207-00c5-42ff-cb5f-9b3b0ad21f62",
        "colab": {
          "base_uri": "https://localhost:8080/"
        }
      },
      "outputs": [
        {
          "output_type": "execute_result",
          "data": {
            "text/plain": [
              "array([  8.807, -32.611,   7.11 ])"
            ]
          },
          "metadata": {},
          "execution_count": 43
        }
      ],
      "source": [
        "get_coord(ppdb, 0)\n",
        "#ppdb.distance()"
      ]
    },
    {
      "cell_type": "code",
      "execution_count": null,
      "metadata": {
        "tags": [],
        "id": "72zZvw_uF_qv",
        "outputId": "0a395126-b9c7-4772-c5d1-9475b4222955",
        "colab": {
          "base_uri": "https://localhost:8080/"
        }
      },
      "outputs": [
        {
          "output_type": "execute_result",
          "data": {
            "text/plain": [
              "0    0.000000\n",
              "1    1.496982\n",
              "2    2.371797\n",
              "3    2.952701\n",
              "4    2.572906\n",
              "dtype: float64"
            ]
          },
          "metadata": {},
          "execution_count": 44
        }
      ],
      "source": [
        "ppdb.distance(get_coord(ppdb, 0)).head()"
      ]
    },
    {
      "cell_type": "code",
      "source": [
        "\n",
        "\n",
        "# Count the number of X-ray structures\n",
        "xray_structures = len(pdbs[pdbs['method'] == 'X-RAY DIFFRACTION'])\n",
        "\n",
        "# Count the number of NMR structures\n",
        "nmr_structures = len(pdbs[pdbs['method'] == 'SOLUTION NMR'])\n",
        "\n",
        "\n",
        "print(\"X-ray structures:\", xray_structures)\n",
        "print(\"NMR structures:\", nmr_structures)\n"
      ],
      "metadata": {
        "colab": {
          "base_uri": "https://localhost:8080/"
        },
        "id": "gk60WT1-PASJ",
        "outputId": "b73e197e-115c-4190-ad7d-76858b3d2976"
      },
      "execution_count": null,
      "outputs": [
        {
          "output_type": "stream",
          "name": "stdout",
          "text": [
            "X-ray structures: 17\n",
            "NMR structures: 3\n"
          ]
        }
      ]
    },
    {
      "cell_type": "code",
      "source": [
        "# Sort the data\n",
        "sorted_pdbs = pdbs.sort_values(by='resolution')\n",
        "\n",
        "print(\"Sorted structures by resolution:\")\n",
        "print(sorted_pdbs)\n"
      ],
      "metadata": {
        "colab": {
          "base_uri": "https://localhost:8080/"
        },
        "id": "QZiEpRsOTTIA",
        "outputId": "8600bb5d-3562-4d4e-d76d-600d480a553c"
      },
      "execution_count": null,
      "outputs": [
        {
          "output_type": "stream",
          "name": "stdout",
          "text": [
            "Sorted structures by resolution:\n",
            "   pdb_id                                               desc  \\\n",
            "9    7A3M                                               None   \n",
            "15   7AON                                               None   \n",
            "18   1LW6                                               None   \n",
            "7    6QIY               Subtilisin-chymotrypsin inhibitor-2A   \n",
            "8    6QIZ               Subtilisin-chymotrypsin inhibitor-2A   \n",
            "2    1CQ4                                               None   \n",
            "16   5FFN                                               None   \n",
            "11   7AOK                                               None   \n",
            "17   5FBZ                                               None   \n",
            "10   7A1H                                               None   \n",
            "19   2SNI  SUBTILISIN NOVO (E.C.3.4.21.14) COMPLEX WITH C...   \n",
            "6    2CI2                    CHYMOTRYPSIN INHIBITOR 2 (CI-2)   \n",
            "14   3CI2  CHYMOTRYPSIN INHIBITOR 2 (SERINE PROTEINASE IN...   \n",
            "13   1COA  CHYMOTRYPSIN INHIBITOR 2 (CI2) MUTANT WITH ILE...   \n",
            "3    1YPA  CHYMOTRYPSIN INHIBITOR 2 (CI2) MUTANT WITH SER...   \n",
            "4    1YPB  CHYMOTRYPSIN INHIBITOR 2 (CI2) MUTANT WITH SER...   \n",
            "5    1YPC  CHYMOTRYPSIN INHIBITOR 2 (CI2) MUTANT WITH GLU...   \n",
            "12   1CIS  HYBRID PROTEIN FORMED FROM CHYMOTRYPSIN INHIBI...   \n",
            "0    1CIR                                               None   \n",
            "1    1CIQ                           CHYMOTRYPSIN INHIBITOR 2   \n",
            "\n",
            "                                                title             method  \\\n",
            "9   Synergistic stabilization of a double mutant i...  X-RAY DIFFRACTION   \n",
            "15   Crystal structure of CI2 double mutant L49I,I57V  X-RAY DIFFRACTION   \n",
            "18  Crystal Structure of the Complex of Subtilisin...  X-RAY DIFFRACTION   \n",
            "7                                CI-2, conformation 1  X-RAY DIFFRACTION   \n",
            "8                                CI-2, conformation 2  X-RAY DIFFRACTION   \n",
            "2   CI2 MUTANT WITH TETRAGLUTAMINE (MGQQQQGM) REPL...  X-RAY DIFFRACTION   \n",
            "16  Complex of subtilase SubTY from Bacillus sp. T...  X-RAY DIFFRACTION   \n",
            "11               Crystal structure of CI2 mutant L49I  X-RAY DIFFRACTION   \n",
            "17  Structure of subtilase SubHal from Bacillus ha...  X-RAY DIFFRACTION   \n",
            "10                 Crystal structure of wild-type CI2  X-RAY DIFFRACTION   \n",
            "19  STRUCTURAL COMPARISON OF TWO SERINE PROTEINASE...  X-RAY DIFFRACTION   \n",
            "6   CRYSTAL AND MOLECULAR STRUCTURE OF THE SERINE ...  X-RAY DIFFRACTION   \n",
            "14  REFINEMENT OF THE THREE-DIMENSIONAL SOLUTION S...       SOLUTION NMR   \n",
            "13  THE EFFECT OF CAVITY CREATING MUTATIONS IN THE...  X-RAY DIFFRACTION   \n",
            "3   DIRECT OBSERVATION OF BETTER HYDRATION AT THE ...  X-RAY DIFFRACTION   \n",
            "4   DIRECT OBSERVATION OF BETTER HYDRATION AT THE ...  X-RAY DIFFRACTION   \n",
            "5   DIRECT OBSERVATION OF BETTER HYDRATION AT THE ...  X-RAY DIFFRACTION   \n",
            "12  CONTEXT DEPENDENCE OF PROTEIN SECONDARY STRUCT...       SOLUTION NMR   \n",
            "0   COMPLEX OF TWO FRAGMENTS OF CI2 [(1-40)(DOT)(4...       SOLUTION NMR   \n",
            "1   COMPLEX OF TWO FRAGMENTS OF CI2, RESIDUES 1-40...  X-RAY DIFFRACTION   \n",
            "\n",
            "                        date  num_atoms  resolution    rwork    rfree  year  \n",
            "9  2020-08-18 00:00:00+00:00        625        1.01  0.14890  0.18100  2020  \n",
            "15 2020-10-14 00:00:00+00:00        598        1.30  0.16240  0.21910  2020  \n",
            "18 2002-05-30 00:00:00+00:00       3049        1.50  0.16900  0.18800  2002  \n",
            "7  2019-01-21 00:00:00+00:00        592        1.50  0.21100  0.25700  2019  \n",
            "8  2019-01-21 00:00:00+00:00        626        1.65  0.18400  0.22000  2019  \n",
            "2  1998-11-17 00:00:00+00:00        541        1.80  0.24000  0.30000  1998  \n",
            "16 2015-12-18 00:00:00+00:00       3219        1.80  0.15098  0.18839  2015  \n",
            "11 2020-10-14 00:00:00+00:00        538        1.87  0.21960  0.24590  2020  \n",
            "17 2015-12-14 00:00:00+00:00       8682        1.90  0.12881  0.18100  2015  \n",
            "10 2020-08-13 00:00:00+00:00        553        1.90  0.20290  0.25380  2020  \n",
            "19 1988-09-05 00:00:00+00:00       2621         NaN      NaN      NaN  1988  \n",
            "6  1988-09-05 00:00:00+00:00        585         NaN      NaN      NaN  1988  \n",
            "14 1991-09-10 00:00:00+00:00        512         NaN      NaN      NaN  1991  \n",
            "13 1993-05-14 00:00:00+00:00        544         NaN      NaN      NaN  1993  \n",
            "3  1993-01-10 00:00:00+00:00        555         NaN      NaN      NaN  1993  \n",
            "4  1993-01-10 00:00:00+00:00        556         NaN      NaN      NaN  1993  \n",
            "5  1993-01-10 00:00:00+00:00        575         NaN      NaN      NaN  1993  \n",
            "12 1993-04-23 00:00:00+00:00        529         NaN      NaN      NaN  1993  \n",
            "0  1995-10-02 00:00:00+00:00        505         NaN      NaN      NaN  1995  \n",
            "1  1995-10-02 00:00:00+00:00        535         NaN      NaN      NaN  1995  \n"
          ]
        }
      ]
    },
    {
      "cell_type": "code",
      "source": [
        "# min and max Resolution again\n",
        "min_resolution = pdbs['resolution'].min()\n",
        "max_resolution = pdbs['resolution'].max()\n",
        "\n",
        "print(\"Minimum resolution:\", min_resolution)\n",
        "print(\"Maximum resolution:\", max_resolution)\n"
      ],
      "metadata": {
        "colab": {
          "base_uri": "https://localhost:8080/"
        },
        "id": "AlzEbJBnTf_w",
        "outputId": "8264c7de-5f57-4af6-a4d4-c19e2bfe880a"
      },
      "execution_count": null,
      "outputs": [
        {
          "output_type": "stream",
          "name": "stdout",
          "text": [
            "Minimum resolution: 1.01\n",
            "Maximum resolution: 1.9\n"
          ]
        }
      ]
    },
    {
      "cell_type": "markdown",
      "source": [
        "## py3Dmol\n",
        "\n",
        "py3Dmol is a wrapper around the 3Dmol.js JavaScript library."
      ],
      "metadata": {
        "collapsed": false,
        "id": "qXpwXJmwF_qv"
      }
    },
    {
      "cell_type": "code",
      "execution_count": null,
      "outputs": [
        {
          "output_type": "display_data",
          "data": {
            "application/3dmoljs_load.v0": "<div id=\"3dmolviewer_1700925011496518\"  style=\"position: relative; width: 640px; height: 480px;\">\n        <p id=\"3dmolwarning_1700925011496518\" style=\"background-color:#ffcccc;color:black\">You appear to be running in JupyterLab (or JavaScript failed to load for some other reason).  You need to install the 3dmol extension: <br>\n        <tt>jupyter labextension install jupyterlab_3dmol</tt></p>\n        </div>\n<script>\n\nvar loadScriptAsync = function(uri){\n  return new Promise((resolve, reject) => {\n    //this is to ignore the existence of requirejs amd\n    var savedexports, savedmodule;\n    if (typeof exports !== 'undefined') savedexports = exports;\n    else exports = {}\n    if (typeof module !== 'undefined') savedmodule = module;\n    else module = {}\n\n    var tag = document.createElement('script');\n    tag.src = uri;\n    tag.async = true;\n    tag.onload = () => {\n        exports = savedexports;\n        module = savedmodule;\n        resolve();\n    };\n  var firstScriptTag = document.getElementsByTagName('script')[0];\n  firstScriptTag.parentNode.insertBefore(tag, firstScriptTag);\n});\n};\n\nif(typeof $3Dmolpromise === 'undefined') {\n$3Dmolpromise = null;\n  $3Dmolpromise = loadScriptAsync('https://cdnjs.cloudflare.com/ajax/libs/3Dmol/2.0.4/3Dmol-min.js');\n}\n\nvar viewer_1700925011496518 = null;\nvar warn = document.getElementById(\"3dmolwarning_1700925011496518\");\nif(warn) {\n    warn.parentNode.removeChild(warn);\n}\n$3Dmolpromise.then(function() {\nviewer_1700925011496518 = $3Dmol.createViewer(document.getElementById(\"3dmolviewer_1700925011496518\"),{backgroundColor:\"white\"});\n$3Dmol.download(\"pdb:7A3M\", viewer_1700925011496518, {}, function() {\nviewer_1700925011496518.zoomTo();\n\tviewer_1700925011496518.setStyle({\"cartoon\": {\"color\": \"spectrum\"}});\n\tviewer_1700925011496518.zoomTo();\nviewer_1700925011496518.render();\n})\n});\n</script>",
            "text/html": [
              "<div id=\"3dmolviewer_1700925011496518\"  style=\"position: relative; width: 640px; height: 480px;\">\n",
              "        <p id=\"3dmolwarning_1700925011496518\" style=\"background-color:#ffcccc;color:black\">You appear to be running in JupyterLab (or JavaScript failed to load for some other reason).  You need to install the 3dmol extension: <br>\n",
              "        <tt>jupyter labextension install jupyterlab_3dmol</tt></p>\n",
              "        </div>\n",
              "<script>\n",
              "\n",
              "var loadScriptAsync = function(uri){\n",
              "  return new Promise((resolve, reject) => {\n",
              "    //this is to ignore the existence of requirejs amd\n",
              "    var savedexports, savedmodule;\n",
              "    if (typeof exports !== 'undefined') savedexports = exports;\n",
              "    else exports = {}\n",
              "    if (typeof module !== 'undefined') savedmodule = module;\n",
              "    else module = {}\n",
              "\n",
              "    var tag = document.createElement('script');\n",
              "    tag.src = uri;\n",
              "    tag.async = true;\n",
              "    tag.onload = () => {\n",
              "        exports = savedexports;\n",
              "        module = savedmodule;\n",
              "        resolve();\n",
              "    };\n",
              "  var firstScriptTag = document.getElementsByTagName('script')[0];\n",
              "  firstScriptTag.parentNode.insertBefore(tag, firstScriptTag);\n",
              "});\n",
              "};\n",
              "\n",
              "if(typeof $3Dmolpromise === 'undefined') {\n",
              "$3Dmolpromise = null;\n",
              "  $3Dmolpromise = loadScriptAsync('https://cdnjs.cloudflare.com/ajax/libs/3Dmol/2.0.4/3Dmol-min.js');\n",
              "}\n",
              "\n",
              "var viewer_1700925011496518 = null;\n",
              "var warn = document.getElementById(\"3dmolwarning_1700925011496518\");\n",
              "if(warn) {\n",
              "    warn.parentNode.removeChild(warn);\n",
              "}\n",
              "$3Dmolpromise.then(function() {\n",
              "viewer_1700925011496518 = $3Dmol.createViewer(document.getElementById(\"3dmolviewer_1700925011496518\"),{backgroundColor:\"white\"});\n",
              "$3Dmol.download(\"pdb:7A3M\", viewer_1700925011496518, {}, function() {\n",
              "viewer_1700925011496518.zoomTo();\n",
              "\tviewer_1700925011496518.setStyle({\"cartoon\": {\"color\": \"spectrum\"}});\n",
              "\tviewer_1700925011496518.zoomTo();\n",
              "viewer_1700925011496518.render();\n",
              "})\n",
              "});\n",
              "</script>"
            ]
          },
          "metadata": {}
        }
      ],
      "source": [
        "import py3Dmol\n",
        "view = py3Dmol.view(query='pdb:7A3M')\n",
        "view.setStyle({'cartoon':{'color':'spectrum'}})\n",
        "view.zoomTo()\n",
        "view.show()"
      ],
      "metadata": {
        "id": "NrMNdASrF_qw",
        "outputId": "6946012c-de7c-4e20-f3f8-d21ee3ac6843",
        "colab": {
          "base_uri": "https://localhost:8080/",
          "height": 497
        }
      }
    },
    {
      "cell_type": "code",
      "source": [
        "import py3Dmol\n",
        "from biopandas.pdb import PandasPdb\n",
        "\n",
        "# Assuming pdbs is your DataFrame\n",
        "pdb_ID = pdbs['pdb_id'].iloc[ID_min]\n",
        "\n",
        "# Fetch the PDB information using PandasPdb\n",
        "ppdb = PandasPdb().fetch_pdb(pdb_ID)\n",
        "\n",
        "# Visualize the structure with B-factors using py3Dmol\n",
        "viewer = py3Dmol.view(query=f'pdb:{pdb_ID}')\n",
        "\n",
        "# Extract B-factors from the 'ATOM' DataFrame\n",
        "b_factors = ppdb.df['ATOM']['b_factor'].tolist()\n",
        "\n",
        "# Set style with B-factors for each atom\n",
        "viewer.setStyle({'cartoon': {'color': 'spectrum', 'width': 0.6}, 'atoms': {'b': b_factors}})\n",
        "\n",
        "# Show the visualization\n",
        "viewer.show()\n"
      ],
      "metadata": {
        "colab": {
          "base_uri": "https://localhost:8080/",
          "height": 497
        },
        "id": "_nGDAqTQT3Id",
        "outputId": "5bd4f0b7-3abd-4de1-c4b3-06f9c322e580"
      },
      "execution_count": null,
      "outputs": [
        {
          "output_type": "display_data",
          "data": {
            "application/3dmoljs_load.v0": "<div id=\"3dmolviewer_17009250117023828\"  style=\"position: relative; width: 640px; height: 480px;\">\n        <p id=\"3dmolwarning_17009250117023828\" style=\"background-color:#ffcccc;color:black\">You appear to be running in JupyterLab (or JavaScript failed to load for some other reason).  You need to install the 3dmol extension: <br>\n        <tt>jupyter labextension install jupyterlab_3dmol</tt></p>\n        </div>\n<script>\n\nvar loadScriptAsync = function(uri){\n  return new Promise((resolve, reject) => {\n    //this is to ignore the existence of requirejs amd\n    var savedexports, savedmodule;\n    if (typeof exports !== 'undefined') savedexports = exports;\n    else exports = {}\n    if (typeof module !== 'undefined') savedmodule = module;\n    else module = {}\n\n    var tag = document.createElement('script');\n    tag.src = uri;\n    tag.async = true;\n    tag.onload = () => {\n        exports = savedexports;\n        module = savedmodule;\n        resolve();\n    };\n  var firstScriptTag = document.getElementsByTagName('script')[0];\n  firstScriptTag.parentNode.insertBefore(tag, firstScriptTag);\n});\n};\n\nif(typeof $3Dmolpromise === 'undefined') {\n$3Dmolpromise = null;\n  $3Dmolpromise = loadScriptAsync('https://cdnjs.cloudflare.com/ajax/libs/3Dmol/2.0.4/3Dmol-min.js');\n}\n\nvar viewer_17009250117023828 = null;\nvar warn = document.getElementById(\"3dmolwarning_17009250117023828\");\nif(warn) {\n    warn.parentNode.removeChild(warn);\n}\n$3Dmolpromise.then(function() {\nviewer_17009250117023828 = $3Dmol.createViewer(document.getElementById(\"3dmolviewer_17009250117023828\"),{backgroundColor:\"white\"});\n$3Dmol.download(\"pdb:1CIQ\", viewer_17009250117023828, {}, function() {\nviewer_17009250117023828.zoomTo();\n\tviewer_17009250117023828.setStyle({\"cartoon\": {\"color\": \"spectrum\", \"width\": 0.6}, \"atoms\": {\"b\": [34.28, 34.29, 32.72, 33.33, 36.36, 37.28, 36.56, 37.01, 37.06, 31.15, 29.84, 27.97, 27.09, 29.56, 29.37, 31.39, 25.9, 24.23, 21.72, 20.56, 28.23, 36.51, 43.2, 46.76, 46.34, 18.91, 19.82, 20.19, 20.78, 17.26, 17.06, 16.93, 16.25, 16.81, 17.76, 14.34, 16.29, 15.63, 16.03, 19.82, 19.47, 18.82, 18.06, 21.0, 21.81, 20.05, 19.35, 19.88, 19.69, 20.05, 23.59, 26.43, 27.86, 27.1, 30.17, 17.47, 17.14, 16.48, 15.01, 16.23, 15.68, 15.93, 15.47, 16.54, 16.22, 16.81, 17.7, 14.45, 14.19, 13.46, 15.36, 14.32, 15.49, 14.66, 15.24, 15.27, 14.67, 13.65, 19.56, 22.33, 24.74, 38.31, 42.19, 15.27, 16.62, 17.11, 17.27, 16.6, 15.45, 16.78, 19.14, 19.31, 20.53, 20.6, 18.98, 19.26, 19.06, 20.93, 21.79, 21.73, 17.97, 22.79, 23.4, 22.06, 21.75, 29.95, 39.47, 44.48, 47.6, 45.12, 19.85, 19.99, 20.3, 20.23, 16.77, 21.08, 23.17, 24.63, 24.47, 24.74, 30.07, 35.52, 39.92, 43.56, 24.64, 24.6, 23.52, 23.24, 27.14, 29.5, 32.42, 42.24, 45.07, 22.51, 21.6, 21.43, 20.51, 22.91, 22.24, 22.65, 19.36, 18.52, 18.43, 16.55, 17.34, 18.15, 17.6, 17.91, 18.54, 21.57, 23.2, 24.24, 23.47, 25.81, 25.57, 25.76, 24.82, 27.03, 25.82, 26.64, 34.66, 43.95, 49.1, 50.88, 48.49, 25.52, 23.86, 23.13, 23.41, 23.71, 25.28, 26.63, 23.82, 21.62, 19.6, 18.93, 18.93, 17.17, 17.73, 18.9, 17.97, 18.76, 18.0, 16.74, 14.55, 12.87, 17.39, 18.17, 18.45, 13.84, 15.02, 16.11, 15.7, 12.2, 11.97, 13.03, 11.77, 15.09, 16.32, 16.73, 15.73, 14.67, 15.53, 15.81, 15.98, 14.63, 13.54, 18.24, 24.04, 27.89, 30.64, 30.85, 16.48, 18.29, 17.29, 16.41, 21.24, 22.93, 22.52, 22.41, 16.81, 17.84, 17.55, 17.87, 19.88, 20.69, 18.4, 18.66, 16.92, 16.55, 16.89, 16.68, 17.03, 16.62, 17.33, 17.41, 18.45, 19.04, 18.5, 16.77, 20.54, 22.24, 21.22, 19.43, 19.62, 19.49, 17.44, 20.19, 20.6, 20.7, 19.8, 22.49, 23.62, 24.1, 23.86, 22.98, 25.8, 24.91, 26.42, 28.75, 29.17, 30.27, 31.5, 33.89, 33.69, 29.35, 27.34, 29.14, 36.66, 39.68, 41.36, 42.49, 39.3, 37.26, 38.25, 35.14, 42.6, 44.36, 44.55, 45.71, 47.53, 31.82, 25.22, 30.27, 28.48, 28.4, 27.66, 32.27, 27.68, 20.61, 21.37, 25.61, 26.35, 25.09, 24.01, 24.54, 24.72, 25.71, 26.11, 25.61, 25.81, 26.8, 27.34, 30.12, 22.9, 22.68, 22.34, 21.32, 25.5, 30.96, 34.95, 39.35, 40.69, 40.32, 40.62, 21.08, 21.93, 20.62, 19.47, 27.29, 30.82, 23.92, 34.48, 19.16, 19.54, 17.28, 16.68, 24.79, 29.99, 30.34, 35.84, 16.48, 15.69, 14.67, 14.87, 13.48, 13.11, 12.52, 12.24, 13.43, 11.68, 12.47, 13.83, 13.11, 12.88, 10.47, 13.05, 13.32, 13.87, 13.1, 13.53, 14.71, 14.15, 11.1, 12.52, 17.21, 21.42, 22.16, 23.62, 25.29, 14.38, 14.34, 14.62, 14.53, 11.9, 13.17, 10.58, 14.97, 14.71, 14.06, 15.75, 17.39, 13.69, 16.27, 16.41, 15.85, 16.4, 16.16, 16.7, 15.26, 15.53, 15.73, 16.29, 16.11, 16.22, 15.08, 16.05, 17.42, 18.74, 17.58, 12.81, 12.64, 15.19, 13.05, 19.26, 19.35, 19.41, 19.33, 20.32, 22.56, 25.47, 26.19, 29.46, 20.61, 21.71, 22.42, 21.6, 25.1, 27.01, 28.51, 28.83, 22.21, 22.01, 21.51, 21.31, 26.62, 31.07, 31.66, 35.34, 19.01, 16.47, 15.63, 13.75, 17.12, 18.5, 18.43, 18.3, 15.42, 14.71, 14.67, 14.8, 14.97, 18.23, 12.01, 20.89, 13.85, 13.03, 13.46, 14.27, 8.89, 13.29, 14.18, 14.14, 14.83, 16.39, 24.55, 26.53, 30.24, 28.51, 15.27, 15.02, 14.96, 14.32, 16.26, 14.48, 14.91, 15.26, 16.07, 16.14, 14.81, 15.44, 15.83, 15.11, 17.13, 19.57, 19.88, 19.9, 24.29, 32.79, 40.01, 46.03, 49.51, 50.86, 49.53, 17.71, 17.37, 15.8, 14.99, 18.24, 20.04, 17.62, 14.58, 13.13, 13.72, 10.84, 13.8]}});\nviewer_17009250117023828.render();\n})\n});\n</script>",
            "text/html": [
              "<div id=\"3dmolviewer_17009250117023828\"  style=\"position: relative; width: 640px; height: 480px;\">\n",
              "        <p id=\"3dmolwarning_17009250117023828\" style=\"background-color:#ffcccc;color:black\">You appear to be running in JupyterLab (or JavaScript failed to load for some other reason).  You need to install the 3dmol extension: <br>\n",
              "        <tt>jupyter labextension install jupyterlab_3dmol</tt></p>\n",
              "        </div>\n",
              "<script>\n",
              "\n",
              "var loadScriptAsync = function(uri){\n",
              "  return new Promise((resolve, reject) => {\n",
              "    //this is to ignore the existence of requirejs amd\n",
              "    var savedexports, savedmodule;\n",
              "    if (typeof exports !== 'undefined') savedexports = exports;\n",
              "    else exports = {}\n",
              "    if (typeof module !== 'undefined') savedmodule = module;\n",
              "    else module = {}\n",
              "\n",
              "    var tag = document.createElement('script');\n",
              "    tag.src = uri;\n",
              "    tag.async = true;\n",
              "    tag.onload = () => {\n",
              "        exports = savedexports;\n",
              "        module = savedmodule;\n",
              "        resolve();\n",
              "    };\n",
              "  var firstScriptTag = document.getElementsByTagName('script')[0];\n",
              "  firstScriptTag.parentNode.insertBefore(tag, firstScriptTag);\n",
              "});\n",
              "};\n",
              "\n",
              "if(typeof $3Dmolpromise === 'undefined') {\n",
              "$3Dmolpromise = null;\n",
              "  $3Dmolpromise = loadScriptAsync('https://cdnjs.cloudflare.com/ajax/libs/3Dmol/2.0.4/3Dmol-min.js');\n",
              "}\n",
              "\n",
              "var viewer_17009250117023828 = null;\n",
              "var warn = document.getElementById(\"3dmolwarning_17009250117023828\");\n",
              "if(warn) {\n",
              "    warn.parentNode.removeChild(warn);\n",
              "}\n",
              "$3Dmolpromise.then(function() {\n",
              "viewer_17009250117023828 = $3Dmol.createViewer(document.getElementById(\"3dmolviewer_17009250117023828\"),{backgroundColor:\"white\"});\n",
              "$3Dmol.download(\"pdb:1CIQ\", viewer_17009250117023828, {}, function() {\n",
              "viewer_17009250117023828.zoomTo();\n",
              "\tviewer_17009250117023828.setStyle({\"cartoon\": {\"color\": \"spectrum\", \"width\": 0.6}, \"atoms\": {\"b\": [34.28, 34.29, 32.72, 33.33, 36.36, 37.28, 36.56, 37.01, 37.06, 31.15, 29.84, 27.97, 27.09, 29.56, 29.37, 31.39, 25.9, 24.23, 21.72, 20.56, 28.23, 36.51, 43.2, 46.76, 46.34, 18.91, 19.82, 20.19, 20.78, 17.26, 17.06, 16.93, 16.25, 16.81, 17.76, 14.34, 16.29, 15.63, 16.03, 19.82, 19.47, 18.82, 18.06, 21.0, 21.81, 20.05, 19.35, 19.88, 19.69, 20.05, 23.59, 26.43, 27.86, 27.1, 30.17, 17.47, 17.14, 16.48, 15.01, 16.23, 15.68, 15.93, 15.47, 16.54, 16.22, 16.81, 17.7, 14.45, 14.19, 13.46, 15.36, 14.32, 15.49, 14.66, 15.24, 15.27, 14.67, 13.65, 19.56, 22.33, 24.74, 38.31, 42.19, 15.27, 16.62, 17.11, 17.27, 16.6, 15.45, 16.78, 19.14, 19.31, 20.53, 20.6, 18.98, 19.26, 19.06, 20.93, 21.79, 21.73, 17.97, 22.79, 23.4, 22.06, 21.75, 29.95, 39.47, 44.48, 47.6, 45.12, 19.85, 19.99, 20.3, 20.23, 16.77, 21.08, 23.17, 24.63, 24.47, 24.74, 30.07, 35.52, 39.92, 43.56, 24.64, 24.6, 23.52, 23.24, 27.14, 29.5, 32.42, 42.24, 45.07, 22.51, 21.6, 21.43, 20.51, 22.91, 22.24, 22.65, 19.36, 18.52, 18.43, 16.55, 17.34, 18.15, 17.6, 17.91, 18.54, 21.57, 23.2, 24.24, 23.47, 25.81, 25.57, 25.76, 24.82, 27.03, 25.82, 26.64, 34.66, 43.95, 49.1, 50.88, 48.49, 25.52, 23.86, 23.13, 23.41, 23.71, 25.28, 26.63, 23.82, 21.62, 19.6, 18.93, 18.93, 17.17, 17.73, 18.9, 17.97, 18.76, 18.0, 16.74, 14.55, 12.87, 17.39, 18.17, 18.45, 13.84, 15.02, 16.11, 15.7, 12.2, 11.97, 13.03, 11.77, 15.09, 16.32, 16.73, 15.73, 14.67, 15.53, 15.81, 15.98, 14.63, 13.54, 18.24, 24.04, 27.89, 30.64, 30.85, 16.48, 18.29, 17.29, 16.41, 21.24, 22.93, 22.52, 22.41, 16.81, 17.84, 17.55, 17.87, 19.88, 20.69, 18.4, 18.66, 16.92, 16.55, 16.89, 16.68, 17.03, 16.62, 17.33, 17.41, 18.45, 19.04, 18.5, 16.77, 20.54, 22.24, 21.22, 19.43, 19.62, 19.49, 17.44, 20.19, 20.6, 20.7, 19.8, 22.49, 23.62, 24.1, 23.86, 22.98, 25.8, 24.91, 26.42, 28.75, 29.17, 30.27, 31.5, 33.89, 33.69, 29.35, 27.34, 29.14, 36.66, 39.68, 41.36, 42.49, 39.3, 37.26, 38.25, 35.14, 42.6, 44.36, 44.55, 45.71, 47.53, 31.82, 25.22, 30.27, 28.48, 28.4, 27.66, 32.27, 27.68, 20.61, 21.37, 25.61, 26.35, 25.09, 24.01, 24.54, 24.72, 25.71, 26.11, 25.61, 25.81, 26.8, 27.34, 30.12, 22.9, 22.68, 22.34, 21.32, 25.5, 30.96, 34.95, 39.35, 40.69, 40.32, 40.62, 21.08, 21.93, 20.62, 19.47, 27.29, 30.82, 23.92, 34.48, 19.16, 19.54, 17.28, 16.68, 24.79, 29.99, 30.34, 35.84, 16.48, 15.69, 14.67, 14.87, 13.48, 13.11, 12.52, 12.24, 13.43, 11.68, 12.47, 13.83, 13.11, 12.88, 10.47, 13.05, 13.32, 13.87, 13.1, 13.53, 14.71, 14.15, 11.1, 12.52, 17.21, 21.42, 22.16, 23.62, 25.29, 14.38, 14.34, 14.62, 14.53, 11.9, 13.17, 10.58, 14.97, 14.71, 14.06, 15.75, 17.39, 13.69, 16.27, 16.41, 15.85, 16.4, 16.16, 16.7, 15.26, 15.53, 15.73, 16.29, 16.11, 16.22, 15.08, 16.05, 17.42, 18.74, 17.58, 12.81, 12.64, 15.19, 13.05, 19.26, 19.35, 19.41, 19.33, 20.32, 22.56, 25.47, 26.19, 29.46, 20.61, 21.71, 22.42, 21.6, 25.1, 27.01, 28.51, 28.83, 22.21, 22.01, 21.51, 21.31, 26.62, 31.07, 31.66, 35.34, 19.01, 16.47, 15.63, 13.75, 17.12, 18.5, 18.43, 18.3, 15.42, 14.71, 14.67, 14.8, 14.97, 18.23, 12.01, 20.89, 13.85, 13.03, 13.46, 14.27, 8.89, 13.29, 14.18, 14.14, 14.83, 16.39, 24.55, 26.53, 30.24, 28.51, 15.27, 15.02, 14.96, 14.32, 16.26, 14.48, 14.91, 15.26, 16.07, 16.14, 14.81, 15.44, 15.83, 15.11, 17.13, 19.57, 19.88, 19.9, 24.29, 32.79, 40.01, 46.03, 49.51, 50.86, 49.53, 17.71, 17.37, 15.8, 14.99, 18.24, 20.04, 17.62, 14.58, 13.13, 13.72, 10.84, 13.8]}});\n",
              "viewer_17009250117023828.render();\n",
              "})\n",
              "});\n",
              "</script>"
            ]
          },
          "metadata": {}
        }
      ]
    },
    {
      "cell_type": "code",
      "source": [
        "\n",
        "pdb_ID = pdbs['pdb_id'].iloc[ID_min]\n",
        "\n",
        "# Fetch the PDB information using PandasPdb\n",
        "ppdb = PandasPdb().fetch_pdb(pdb_ID)\n",
        "\n",
        "# Visualize all structures (models) in the NMR ensemble using py3Dmol\n",
        "viewer = py3Dmol.view(query=f'pdb:{pdb_ID}')\n",
        "\n",
        "# Check if 'model' is a column in the 'ATOM' DataFrame\n",
        "if 'model' in ppdb.df['ATOM']:\n",
        "    # Iterate over each model and set style for each\n",
        "    for model in ppdb.df['ATOM']['model'].unique():\n",
        "        # Extract B-factors from the 'ATOM' DataFrame for the current model\n",
        "        b_factors = ppdb.df['ATOM'][ppdb.df['ATOM']['model'] == model]['b_factor'].tolist()\n",
        "\n",
        "        # Set style with B-factors for each atom in the current model\n",
        "        viewer.setStyle({'model': model, 'cartoon': {'color': 'spectrum', 'width': 0.6}, 'atoms': {'b': b_factors}})\n",
        "else:\n",
        "    # If 'model' is not present, visualize all structures without distinguishing models\n",
        "    b_factors = ppdb.df['ATOM']['b_factor'].tolist()\n",
        "    viewer.setStyle({'cartoon': {'color': 'spectrum', 'width': 0.6}, 'atoms': {'b': b_factors}})\n",
        "\n",
        "# Show the visualization\n",
        "viewer.show()\n"
      ],
      "metadata": {
        "colab": {
          "base_uri": "https://localhost:8080/",
          "height": 497
        },
        "id": "3ZB44py1VfgX",
        "outputId": "9e13cc7a-9349-405b-e19f-80e01a977359"
      },
      "execution_count": null,
      "outputs": [
        {
          "output_type": "display_data",
          "data": {
            "application/3dmoljs_load.v0": "<div id=\"3dmolviewer_17009250119056041\"  style=\"position: relative; width: 640px; height: 480px;\">\n        <p id=\"3dmolwarning_17009250119056041\" style=\"background-color:#ffcccc;color:black\">You appear to be running in JupyterLab (or JavaScript failed to load for some other reason).  You need to install the 3dmol extension: <br>\n        <tt>jupyter labextension install jupyterlab_3dmol</tt></p>\n        </div>\n<script>\n\nvar loadScriptAsync = function(uri){\n  return new Promise((resolve, reject) => {\n    //this is to ignore the existence of requirejs amd\n    var savedexports, savedmodule;\n    if (typeof exports !== 'undefined') savedexports = exports;\n    else exports = {}\n    if (typeof module !== 'undefined') savedmodule = module;\n    else module = {}\n\n    var tag = document.createElement('script');\n    tag.src = uri;\n    tag.async = true;\n    tag.onload = () => {\n        exports = savedexports;\n        module = savedmodule;\n        resolve();\n    };\n  var firstScriptTag = document.getElementsByTagName('script')[0];\n  firstScriptTag.parentNode.insertBefore(tag, firstScriptTag);\n});\n};\n\nif(typeof $3Dmolpromise === 'undefined') {\n$3Dmolpromise = null;\n  $3Dmolpromise = loadScriptAsync('https://cdnjs.cloudflare.com/ajax/libs/3Dmol/2.0.4/3Dmol-min.js');\n}\n\nvar viewer_17009250119056041 = null;\nvar warn = document.getElementById(\"3dmolwarning_17009250119056041\");\nif(warn) {\n    warn.parentNode.removeChild(warn);\n}\n$3Dmolpromise.then(function() {\nviewer_17009250119056041 = $3Dmol.createViewer(document.getElementById(\"3dmolviewer_17009250119056041\"),{backgroundColor:\"white\"});\n$3Dmol.download(\"pdb:1CIQ\", viewer_17009250119056041, {}, function() {\nviewer_17009250119056041.zoomTo();\n\tviewer_17009250119056041.setStyle({\"cartoon\": {\"color\": \"spectrum\", \"width\": 0.6}, \"atoms\": {\"b\": [34.28, 34.29, 32.72, 33.33, 36.36, 37.28, 36.56, 37.01, 37.06, 31.15, 29.84, 27.97, 27.09, 29.56, 29.37, 31.39, 25.9, 24.23, 21.72, 20.56, 28.23, 36.51, 43.2, 46.76, 46.34, 18.91, 19.82, 20.19, 20.78, 17.26, 17.06, 16.93, 16.25, 16.81, 17.76, 14.34, 16.29, 15.63, 16.03, 19.82, 19.47, 18.82, 18.06, 21.0, 21.81, 20.05, 19.35, 19.88, 19.69, 20.05, 23.59, 26.43, 27.86, 27.1, 30.17, 17.47, 17.14, 16.48, 15.01, 16.23, 15.68, 15.93, 15.47, 16.54, 16.22, 16.81, 17.7, 14.45, 14.19, 13.46, 15.36, 14.32, 15.49, 14.66, 15.24, 15.27, 14.67, 13.65, 19.56, 22.33, 24.74, 38.31, 42.19, 15.27, 16.62, 17.11, 17.27, 16.6, 15.45, 16.78, 19.14, 19.31, 20.53, 20.6, 18.98, 19.26, 19.06, 20.93, 21.79, 21.73, 17.97, 22.79, 23.4, 22.06, 21.75, 29.95, 39.47, 44.48, 47.6, 45.12, 19.85, 19.99, 20.3, 20.23, 16.77, 21.08, 23.17, 24.63, 24.47, 24.74, 30.07, 35.52, 39.92, 43.56, 24.64, 24.6, 23.52, 23.24, 27.14, 29.5, 32.42, 42.24, 45.07, 22.51, 21.6, 21.43, 20.51, 22.91, 22.24, 22.65, 19.36, 18.52, 18.43, 16.55, 17.34, 18.15, 17.6, 17.91, 18.54, 21.57, 23.2, 24.24, 23.47, 25.81, 25.57, 25.76, 24.82, 27.03, 25.82, 26.64, 34.66, 43.95, 49.1, 50.88, 48.49, 25.52, 23.86, 23.13, 23.41, 23.71, 25.28, 26.63, 23.82, 21.62, 19.6, 18.93, 18.93, 17.17, 17.73, 18.9, 17.97, 18.76, 18.0, 16.74, 14.55, 12.87, 17.39, 18.17, 18.45, 13.84, 15.02, 16.11, 15.7, 12.2, 11.97, 13.03, 11.77, 15.09, 16.32, 16.73, 15.73, 14.67, 15.53, 15.81, 15.98, 14.63, 13.54, 18.24, 24.04, 27.89, 30.64, 30.85, 16.48, 18.29, 17.29, 16.41, 21.24, 22.93, 22.52, 22.41, 16.81, 17.84, 17.55, 17.87, 19.88, 20.69, 18.4, 18.66, 16.92, 16.55, 16.89, 16.68, 17.03, 16.62, 17.33, 17.41, 18.45, 19.04, 18.5, 16.77, 20.54, 22.24, 21.22, 19.43, 19.62, 19.49, 17.44, 20.19, 20.6, 20.7, 19.8, 22.49, 23.62, 24.1, 23.86, 22.98, 25.8, 24.91, 26.42, 28.75, 29.17, 30.27, 31.5, 33.89, 33.69, 29.35, 27.34, 29.14, 36.66, 39.68, 41.36, 42.49, 39.3, 37.26, 38.25, 35.14, 42.6, 44.36, 44.55, 45.71, 47.53, 31.82, 25.22, 30.27, 28.48, 28.4, 27.66, 32.27, 27.68, 20.61, 21.37, 25.61, 26.35, 25.09, 24.01, 24.54, 24.72, 25.71, 26.11, 25.61, 25.81, 26.8, 27.34, 30.12, 22.9, 22.68, 22.34, 21.32, 25.5, 30.96, 34.95, 39.35, 40.69, 40.32, 40.62, 21.08, 21.93, 20.62, 19.47, 27.29, 30.82, 23.92, 34.48, 19.16, 19.54, 17.28, 16.68, 24.79, 29.99, 30.34, 35.84, 16.48, 15.69, 14.67, 14.87, 13.48, 13.11, 12.52, 12.24, 13.43, 11.68, 12.47, 13.83, 13.11, 12.88, 10.47, 13.05, 13.32, 13.87, 13.1, 13.53, 14.71, 14.15, 11.1, 12.52, 17.21, 21.42, 22.16, 23.62, 25.29, 14.38, 14.34, 14.62, 14.53, 11.9, 13.17, 10.58, 14.97, 14.71, 14.06, 15.75, 17.39, 13.69, 16.27, 16.41, 15.85, 16.4, 16.16, 16.7, 15.26, 15.53, 15.73, 16.29, 16.11, 16.22, 15.08, 16.05, 17.42, 18.74, 17.58, 12.81, 12.64, 15.19, 13.05, 19.26, 19.35, 19.41, 19.33, 20.32, 22.56, 25.47, 26.19, 29.46, 20.61, 21.71, 22.42, 21.6, 25.1, 27.01, 28.51, 28.83, 22.21, 22.01, 21.51, 21.31, 26.62, 31.07, 31.66, 35.34, 19.01, 16.47, 15.63, 13.75, 17.12, 18.5, 18.43, 18.3, 15.42, 14.71, 14.67, 14.8, 14.97, 18.23, 12.01, 20.89, 13.85, 13.03, 13.46, 14.27, 8.89, 13.29, 14.18, 14.14, 14.83, 16.39, 24.55, 26.53, 30.24, 28.51, 15.27, 15.02, 14.96, 14.32, 16.26, 14.48, 14.91, 15.26, 16.07, 16.14, 14.81, 15.44, 15.83, 15.11, 17.13, 19.57, 19.88, 19.9, 24.29, 32.79, 40.01, 46.03, 49.51, 50.86, 49.53, 17.71, 17.37, 15.8, 14.99, 18.24, 20.04, 17.62, 14.58, 13.13, 13.72, 10.84, 13.8]}});\nviewer_17009250119056041.render();\n})\n});\n</script>",
            "text/html": [
              "<div id=\"3dmolviewer_17009250119056041\"  style=\"position: relative; width: 640px; height: 480px;\">\n",
              "        <p id=\"3dmolwarning_17009250119056041\" style=\"background-color:#ffcccc;color:black\">You appear to be running in JupyterLab (or JavaScript failed to load for some other reason).  You need to install the 3dmol extension: <br>\n",
              "        <tt>jupyter labextension install jupyterlab_3dmol</tt></p>\n",
              "        </div>\n",
              "<script>\n",
              "\n",
              "var loadScriptAsync = function(uri){\n",
              "  return new Promise((resolve, reject) => {\n",
              "    //this is to ignore the existence of requirejs amd\n",
              "    var savedexports, savedmodule;\n",
              "    if (typeof exports !== 'undefined') savedexports = exports;\n",
              "    else exports = {}\n",
              "    if (typeof module !== 'undefined') savedmodule = module;\n",
              "    else module = {}\n",
              "\n",
              "    var tag = document.createElement('script');\n",
              "    tag.src = uri;\n",
              "    tag.async = true;\n",
              "    tag.onload = () => {\n",
              "        exports = savedexports;\n",
              "        module = savedmodule;\n",
              "        resolve();\n",
              "    };\n",
              "  var firstScriptTag = document.getElementsByTagName('script')[0];\n",
              "  firstScriptTag.parentNode.insertBefore(tag, firstScriptTag);\n",
              "});\n",
              "};\n",
              "\n",
              "if(typeof $3Dmolpromise === 'undefined') {\n",
              "$3Dmolpromise = null;\n",
              "  $3Dmolpromise = loadScriptAsync('https://cdnjs.cloudflare.com/ajax/libs/3Dmol/2.0.4/3Dmol-min.js');\n",
              "}\n",
              "\n",
              "var viewer_17009250119056041 = null;\n",
              "var warn = document.getElementById(\"3dmolwarning_17009250119056041\");\n",
              "if(warn) {\n",
              "    warn.parentNode.removeChild(warn);\n",
              "}\n",
              "$3Dmolpromise.then(function() {\n",
              "viewer_17009250119056041 = $3Dmol.createViewer(document.getElementById(\"3dmolviewer_17009250119056041\"),{backgroundColor:\"white\"});\n",
              "$3Dmol.download(\"pdb:1CIQ\", viewer_17009250119056041, {}, function() {\n",
              "viewer_17009250119056041.zoomTo();\n",
              "\tviewer_17009250119056041.setStyle({\"cartoon\": {\"color\": \"spectrum\", \"width\": 0.6}, \"atoms\": {\"b\": [34.28, 34.29, 32.72, 33.33, 36.36, 37.28, 36.56, 37.01, 37.06, 31.15, 29.84, 27.97, 27.09, 29.56, 29.37, 31.39, 25.9, 24.23, 21.72, 20.56, 28.23, 36.51, 43.2, 46.76, 46.34, 18.91, 19.82, 20.19, 20.78, 17.26, 17.06, 16.93, 16.25, 16.81, 17.76, 14.34, 16.29, 15.63, 16.03, 19.82, 19.47, 18.82, 18.06, 21.0, 21.81, 20.05, 19.35, 19.88, 19.69, 20.05, 23.59, 26.43, 27.86, 27.1, 30.17, 17.47, 17.14, 16.48, 15.01, 16.23, 15.68, 15.93, 15.47, 16.54, 16.22, 16.81, 17.7, 14.45, 14.19, 13.46, 15.36, 14.32, 15.49, 14.66, 15.24, 15.27, 14.67, 13.65, 19.56, 22.33, 24.74, 38.31, 42.19, 15.27, 16.62, 17.11, 17.27, 16.6, 15.45, 16.78, 19.14, 19.31, 20.53, 20.6, 18.98, 19.26, 19.06, 20.93, 21.79, 21.73, 17.97, 22.79, 23.4, 22.06, 21.75, 29.95, 39.47, 44.48, 47.6, 45.12, 19.85, 19.99, 20.3, 20.23, 16.77, 21.08, 23.17, 24.63, 24.47, 24.74, 30.07, 35.52, 39.92, 43.56, 24.64, 24.6, 23.52, 23.24, 27.14, 29.5, 32.42, 42.24, 45.07, 22.51, 21.6, 21.43, 20.51, 22.91, 22.24, 22.65, 19.36, 18.52, 18.43, 16.55, 17.34, 18.15, 17.6, 17.91, 18.54, 21.57, 23.2, 24.24, 23.47, 25.81, 25.57, 25.76, 24.82, 27.03, 25.82, 26.64, 34.66, 43.95, 49.1, 50.88, 48.49, 25.52, 23.86, 23.13, 23.41, 23.71, 25.28, 26.63, 23.82, 21.62, 19.6, 18.93, 18.93, 17.17, 17.73, 18.9, 17.97, 18.76, 18.0, 16.74, 14.55, 12.87, 17.39, 18.17, 18.45, 13.84, 15.02, 16.11, 15.7, 12.2, 11.97, 13.03, 11.77, 15.09, 16.32, 16.73, 15.73, 14.67, 15.53, 15.81, 15.98, 14.63, 13.54, 18.24, 24.04, 27.89, 30.64, 30.85, 16.48, 18.29, 17.29, 16.41, 21.24, 22.93, 22.52, 22.41, 16.81, 17.84, 17.55, 17.87, 19.88, 20.69, 18.4, 18.66, 16.92, 16.55, 16.89, 16.68, 17.03, 16.62, 17.33, 17.41, 18.45, 19.04, 18.5, 16.77, 20.54, 22.24, 21.22, 19.43, 19.62, 19.49, 17.44, 20.19, 20.6, 20.7, 19.8, 22.49, 23.62, 24.1, 23.86, 22.98, 25.8, 24.91, 26.42, 28.75, 29.17, 30.27, 31.5, 33.89, 33.69, 29.35, 27.34, 29.14, 36.66, 39.68, 41.36, 42.49, 39.3, 37.26, 38.25, 35.14, 42.6, 44.36, 44.55, 45.71, 47.53, 31.82, 25.22, 30.27, 28.48, 28.4, 27.66, 32.27, 27.68, 20.61, 21.37, 25.61, 26.35, 25.09, 24.01, 24.54, 24.72, 25.71, 26.11, 25.61, 25.81, 26.8, 27.34, 30.12, 22.9, 22.68, 22.34, 21.32, 25.5, 30.96, 34.95, 39.35, 40.69, 40.32, 40.62, 21.08, 21.93, 20.62, 19.47, 27.29, 30.82, 23.92, 34.48, 19.16, 19.54, 17.28, 16.68, 24.79, 29.99, 30.34, 35.84, 16.48, 15.69, 14.67, 14.87, 13.48, 13.11, 12.52, 12.24, 13.43, 11.68, 12.47, 13.83, 13.11, 12.88, 10.47, 13.05, 13.32, 13.87, 13.1, 13.53, 14.71, 14.15, 11.1, 12.52, 17.21, 21.42, 22.16, 23.62, 25.29, 14.38, 14.34, 14.62, 14.53, 11.9, 13.17, 10.58, 14.97, 14.71, 14.06, 15.75, 17.39, 13.69, 16.27, 16.41, 15.85, 16.4, 16.16, 16.7, 15.26, 15.53, 15.73, 16.29, 16.11, 16.22, 15.08, 16.05, 17.42, 18.74, 17.58, 12.81, 12.64, 15.19, 13.05, 19.26, 19.35, 19.41, 19.33, 20.32, 22.56, 25.47, 26.19, 29.46, 20.61, 21.71, 22.42, 21.6, 25.1, 27.01, 28.51, 28.83, 22.21, 22.01, 21.51, 21.31, 26.62, 31.07, 31.66, 35.34, 19.01, 16.47, 15.63, 13.75, 17.12, 18.5, 18.43, 18.3, 15.42, 14.71, 14.67, 14.8, 14.97, 18.23, 12.01, 20.89, 13.85, 13.03, 13.46, 14.27, 8.89, 13.29, 14.18, 14.14, 14.83, 16.39, 24.55, 26.53, 30.24, 28.51, 15.27, 15.02, 14.96, 14.32, 16.26, 14.48, 14.91, 15.26, 16.07, 16.14, 14.81, 15.44, 15.83, 15.11, 17.13, 19.57, 19.88, 19.9, 24.29, 32.79, 40.01, 46.03, 49.51, 50.86, 49.53, 17.71, 17.37, 15.8, 14.99, 18.24, 20.04, 17.62, 14.58, 13.13, 13.72, 10.84, 13.8]}});\n",
              "viewer_17009250119056041.render();\n",
              "})\n",
              "});\n",
              "</script>"
            ]
          },
          "metadata": {}
        }
      ]
    },
    {
      "cell_type": "markdown",
      "metadata": {
        "id": "sCql3ApKF_qw"
      },
      "source": [
        "# Exercises\n",
        "\n",
        "* Perform a PDB query on a protein of choice (e.g. from a uniprot ID or by textual input query) and retrieve the data from the PDB database - note to use a query that will lead to some tens or hundreds of structures\n",
        "* How many structures have you retrieved and how many of them are X-ray and how many NMR?\n",
        "* Sort the structures by the resolution\n",
        "* What is the min and max resolution\n",
        "* Visualize the structure b-factors (X-ray) or visualize all the structures per PDB (NMR). **Use py3Dmol for this task.**\n",
        "\n",
        "## For the project\n",
        "* chose one of the X-ray and one of the NMR structures and use pymol to visualize them (save visualizations as png files) - this task (pymol) only works on a local machine:<br>\n",
        "   - download the PDB file from the PDB database\n",
        "   - visualize secondary structure elements and describe the structure in terms of secondary structure, motifs, domain, ...\n",
        "   - zoom to the ligand or heteroatoms (if present) and analyze the aminoacids involved in the interaction\n",
        "   - for the X-ray structure, visualize b-factors by either changing the size of the atoms (spheres, see https://sourceforge.net/p/pymol/mailman/message/29616429/) or by color and cartoon thickness (see https://www.michaelchimenti.com/2014/09/five-cool-features-in-pymol-that-you-may-have-missed/)\n",
        "   - for the NMR structure, visualize the bundle. An NMR bundle is a set of structures that satisfy experimental data. This set of structures is reported within one PDB file.\n"
      ]
    },
    {
      "cell_type": "code",
      "source": [
        "\n",
        "\n",
        "# Select rows with X-ray structures\n",
        "xray_data = pdbs[pdbs['method'] == 'X-RAY DIFFRACTION']\n",
        "\n",
        "# Select rows with NMR structures\n",
        "nmr_data = pdbs[pdbs['method'] == 'SOLUTION NMR']\n",
        "\n",
        "# Display the content of X-ray structures\n",
        "print(\"X-ray structures:\")\n",
        "print(xray_data)\n",
        "\n",
        "# Display the content of NMR structures\n",
        "print(\"\\nNMR structures:\")\n",
        "print(nmr_data)\n"
      ],
      "metadata": {
        "id": "ehMT7dr1BuCJ"
      },
      "execution_count": null,
      "outputs": []
    },
    {
      "cell_type": "markdown",
      "source": [
        "**describe the structure in terms of secondary structure, motifs, domain**\n",
        "#**3CI2** /  **7A3M**\n",
        "\n",
        "The three-dimensional structure of barley serine proteinase inhibitor, CI-2, revealed through nuclear magnetic resonance spectroscopy, exhibits a well-defined architecture characterized by distinct secondary structures and functional motifs. The protein's framework includes a prominent four-stranded beta-sheet structure, comprising parallel and antiparallel strands that form a central core. Three pairs of antiparallel beta-strands are flanked by a 12-residue alpha-helix on one side and a loop housing the serine proteinase binding site on the other\n",
        " The overall fold encompasses a well-defined inhibitory site with a loop region.\n",
        "\n",
        "![7A3M_NMR_Pymol.png](data:image/png;base64,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)![3CI2_NMR_Pymol.png](data:image/png;base64,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)"
      ],
      "metadata": {
        "id": "lZTTmWyj814H"
      }
    },
    {
      "cell_type": "markdown",
      "metadata": {
        "id": "1oUvcVxtF_qw"
      },
      "source": [
        "# Space for the Exercises\n",
        "please provide your solutions below this cell.\n",
        "\n",
        "Also you can provide me the information for the project. I can help you in the progress."
      ]
    },
    {
      "cell_type": "markdown",
      "source": [
        "# **FOR ANSWERS PLEASE FOLLOW THE CODE FROM THE BEGINNING OF THE SCRIPT**\n",
        "THANKS"
      ],
      "metadata": {
        "id": "z61WbWHOWZxG"
      }
    }
  ],
  "metadata": {
    "kernelspec": {
      "display_name": "Python 3 (ipykernel)",
      "language": "python",
      "name": "python3"
    },
    "language_info": {
      "codemirror_mode": {
        "name": "ipython",
        "version": 3
      },
      "file_extension": ".py",
      "mimetype": "text/x-python",
      "name": "python",
      "nbconvert_exporter": "python",
      "pygments_lexer": "ipython3",
      "version": "3.10.12"
    },
    "colab": {
      "provenance": [],
      "collapsed_sections": [
        "5I9ZxJgqF_qe",
        "aWIsYSwMF_ql"
      ],
      "include_colab_link": true
    }
  },
  "nbformat": 4,
  "nbformat_minor": 0
}