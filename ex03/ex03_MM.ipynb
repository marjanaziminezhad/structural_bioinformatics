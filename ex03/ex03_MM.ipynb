{
  "cells": [
    {
      "cell_type": "markdown",
      "metadata": {
        "id": "view-in-github",
        "colab_type": "text"
      },
      "source": [
        "<a href=\"https://colab.research.google.com/github/marjanaziminezhad/structural_bioinformatics/blob/main/ex03/ex03_MM.ipynb\" target=\"_parent\"><img src=\"https://colab.research.google.com/assets/colab-badge.svg\" alt=\"Open In Colab\"/></a>"
      ]
    },
    {
      "cell_type": "markdown",
      "metadata": {
        "id": "N4gfSB-QASAm"
      },
      "source": [
        "# Exercise 03\n",
        "\n",
        "## Aim of the exercise:\n",
        "\n",
        "We will learn to:\n",
        "\n",
        "- use OpenMM to simulate a protein in water\n",
        "- understand the steps for setting up a simulation\n",
        "\n",
        "This exercise is based on the official tutorials of [OpenMM](https://github.com/openmm/openmm_workshop_july2023) and [MDAnalysis](https://userguide.mdanalysis.org/stable/examples/quickstart.html)."
      ]
    },
    {
      "cell_type": "markdown",
      "metadata": {
        "id": "gMGHJX10ASAo"
      },
      "source": [
        "<img src=\"https://github.com/yerkoescalona/structural_bioinformatics/blob/main/ex03/openmm_logo.png?raw=1\" width=\"50\"/>\n",
        "\n",
        "# OpenMM\n",
        "\n",
        "OpenMM is a versatile and high-performance toolkit designed for molecular simulation. It stands out due to its unique blend of features, which include extreme flexibility, openness, and exceptional performance, particularly on modern GPUs.\n",
        "\n",
        "Summary of Contents:\n",
        "1. **Setup Conda Environment**: Instructions on preparing the necessary computational environment using Conda.\n",
        "2. **Download Protein File**: Steps to obtain the required protein structure file.\n",
        "3. **Load a PDB File into OpenMM**: Tutorial on how to import and use a PDB file within OpenMM.\n",
        "4. **Choose the Force-Field**: Guidance on selecting appropriate force-fields for the simulation.\n",
        "5. **Solvate the Protein with Water and Ions**: Process of adding water and ions to the protein environment.\n",
        "6. **Setup System and Integrator**: Instructions on initializing the simulation system and integrator.\n",
        "7. **Run Local Minimization**: Steps for performing local energy minimization of the system.\n",
        "8. **Setup Reporting**: How to configure reporting tools for monitoring simulation progress.\n",
        "9. **Run NVT Equilibration**: Conducting NVT (constant Number, Volume, Temperature) equilibration simulations.\n",
        "10. **Run NPT Production Molecular Dynamics**: Executing NPT (constant Number, Pressure, Temperature) production simulations.\n",
        "11. **Basic Analysis**: Introduction to fundamental analysis techniques for simulation data.\n",
        "12. **How to Use Checkpoints**: Instructions on setting up and utilizing checkpoints for long-term simulations.\n",
        "13. **Visualization**: Tips and tools for visualizing the simulation results.\n",
        "\n"
      ]
    },
    {
      "cell_type": "markdown",
      "metadata": {
        "id": "TUXynx95heyP"
      },
      "source": [
        "## Setup\n",
        "**First try and change runtime type to GPU!**  \n",
        "Click \"runtime\">\"change runtime type\" and select \"GPU\" from the \"Hardware accelerator\" dropdown menu.\n",
        "CPU works, but it is slower.\n"
      ]
    },
    {
      "cell_type": "code",
      "execution_count": null,
      "metadata": {
        "id": "mD8aoBG3heyP",
        "colab": {
          "base_uri": "https://localhost:8080/"
        },
        "outputId": "032b74ec-a590-46bd-c8f9-dc1b1ff1b301"
      },
      "outputs": [
        {
          "output_type": "stream",
          "name": "stdout",
          "text": [
            "Running on colab\n",
            "\u001b[33mWARNING: Running pip as the 'root' user can result in broken permissions and conflicting behaviour with the system package manager. It is recommended to use a virtual environment instead: https://pip.pypa.io/warnings/venv\u001b[0m\u001b[33m\n",
            "\u001b[0m✨🍰✨ Everything looks OK!\n",
            "\n",
            "                  __    __    __    __\n",
            "                 /  \\  /  \\  /  \\  /  \\\n",
            "                /    \\/    \\/    \\/    \\\n",
            "███████████████/  /██/  /██/  /██/  /████████████████████████\n",
            "              /  / \\   / \\   / \\   / \\  \\____\n",
            "             /  /   \\_/   \\_/   \\_/   \\    o \\__,\n",
            "            / _/                       \\_____/  `\n",
            "            |/\n",
            "        ███╗   ███╗ █████╗ ███╗   ███╗██████╗  █████╗\n",
            "        ████╗ ████║██╔══██╗████╗ ████║██╔══██╗██╔══██╗\n",
            "        ██╔████╔██║███████║██╔████╔██║██████╔╝███████║\n",
            "        ██║╚██╔╝██║██╔══██║██║╚██╔╝██║██╔══██╗██╔══██║\n",
            "        ██║ ╚═╝ ██║██║  ██║██║ ╚═╝ ██║██████╔╝██║  ██║\n",
            "        ╚═╝     ╚═╝╚═╝  ╚═╝╚═╝     ╚═╝╚═════╝ ╚═╝  ╚═╝\n",
            "\n",
            "        mamba (1.4.1) supported by @QuantStack\n",
            "\n",
            "        GitHub:  https://github.com/mamba-org/mamba\n",
            "        Twitter: https://twitter.com/QuantStack\n",
            "\n",
            "█████████████████████████████████████████████████████████████\n",
            "\n",
            "\n",
            "Looking for: ['openmm']\n",
            "\n",
            "conda-forge/linux-64                                        Using cache\n",
            "conda-forge/noarch                                          Using cache\n",
            "\n",
            "Pinned packages:\n",
            "  - python 3.10.*\n",
            "  - python 3.10.*\n",
            "  - python_abi 3.10.* *cp310*\n",
            "  - cudatoolkit 11.8.*\n",
            "\n",
            "\n",
            "Transaction\n",
            "\n",
            "  Prefix: /usr/local\n",
            "\n",
            "  All requested packages already installed\n",
            "\n",
            "\u001b[?25l\u001b[2K\u001b[0G\u001b[?25h"
          ]
        }
      ],
      "source": [
        "if 'google.colab' in str(get_ipython()):\n",
        "  print('Running on colab')\n",
        "  !pip install -q condacolab\n",
        "  import condacolab\n",
        "  condacolab.install_mambaforge()\n",
        "  !mamba install -y -c conda-forge openmm\n",
        "\n",
        "else:\n",
        "  print('Not running on colab.')\n",
        "  print('Make sure you create and activate a new conda environment!')"
      ]
    },
    {
      "cell_type": "markdown",
      "metadata": {
        "id": "GdD8rgteASAq"
      },
      "source": [
        "**Note:** During this step on Colab the kernel will be restarted. This will produce the error message:\n",
        "\"Your session crashed for an unknown reason. \" This is normal and you can safely ignore it.\n",
        "\n",
        "**Note:** Installing the packages will take several minutes!"
      ]
    },
    {
      "cell_type": "code",
      "execution_count": null,
      "metadata": {
        "colab": {
          "base_uri": "https://localhost:8080/"
        },
        "id": "8qbuek1gASAq",
        "outputId": "9638f07d-e602-436c-b547-cf7f2fef6947"
      },
      "outputs": [
        {
          "output_type": "stream",
          "name": "stdout",
          "text": [
            "\n",
            "OpenMM Version: 8.1\n",
            "Git Revision: 43f571d90fc1c882848cbd9b55e097a1775a9075\n",
            "\n",
            "There are 3 Platforms available:\n",
            "\n",
            "1 Reference - Successfully computed forces\n",
            "2 CPU - Successfully computed forces\n",
            "3 CUDA - Successfully computed forces\n",
            "\n",
            "Median difference in forces between platforms:\n",
            "\n",
            "Reference vs. CPU: 6.29968e-06\n",
            "Reference vs. CUDA: 6.73338e-06\n",
            "CPU vs. CUDA: 7.37096e-07\n",
            "\n",
            "All differences are within tolerance.\n"
          ]
        }
      ],
      "source": [
        "# check the installation\n",
        "!python -m openmm.testInstallation"
      ]
    },
    {
      "cell_type": "markdown",
      "metadata": {
        "id": "mOLccFBeheyQ"
      },
      "source": [
        "## Protein to Study: Villin headpiece\n",
        "\n",
        "\n",
        "Villin is a popular protein for molecular dynamics studies, and several papers on its folding have been published. Additionally, it has been found that the proximity of three phenylalanines that comprise the hydrophobic core is important for the correct structure.\n",
        "\n",
        "This is small fast folding protein commonly used as a toy system. Note that this PDB file has been cleaned up and is ready for use in OpenMM. If you try and use a PDB file directly from the protein data bank you may encounter errors. Please look at the [OpenMM FAQs](https://github.com/openmm/openmm/wiki/Frequently-Asked-Questions) and [PDBfixer](https://github.com/openmm/pdbfixer).\n",
        "\n",
        "![villin](https://github.com/yerkoescalona/structural_bioinformatics/blob/main/ex03/villin.png?raw=1)\n",
        "**Figure**. Villin headpiece protein.\n"
      ]
    },
    {
      "cell_type": "code",
      "execution_count": null,
      "metadata": {
        "colab": {
          "base_uri": "https://localhost:8080/"
        },
        "id": "0-NiOqBJASAq",
        "outputId": "9b743720-9556-4874-f955-6daf283fba5a"
      },
      "outputs": [
        {
          "output_type": "stream",
          "name": "stdout",
          "text": [
            "Running on colab\n",
            "--2023-11-30 09:59:57--  https://raw.githubusercontent.com/yerkoescalona/structural_bioinformatics/main/ex03/villin.pdb\n",
            "Resolving raw.githubusercontent.com (raw.githubusercontent.com)... 185.199.108.133, 185.199.109.133, 185.199.110.133, ...\n",
            "Connecting to raw.githubusercontent.com (raw.githubusercontent.com)|185.199.108.133|:443... connected.\n",
            "HTTP request sent, awaiting response... 200 OK\n",
            "Length: 39178 (38K) [text/plain]\n",
            "Saving to: ‘villin.pdb.2’\n",
            "\n",
            "villin.pdb.2        100%[===================>]  38.26K  --.-KB/s    in 0.01s   \n",
            "\n",
            "2023-11-30 09:59:57 (3.34 MB/s) - ‘villin.pdb.2’ saved [39178/39178]\n",
            "\n"
          ]
        }
      ],
      "source": [
        "if 'google.colab' in str(get_ipython()):\n",
        "  print('Running on colab')\n",
        "  !wget https://raw.githubusercontent.com/yerkoescalona/structural_bioinformatics/main/ex03/villin.pdb\n",
        "else:\n",
        "  print('Not running on colab.')\n",
        "  print('You should have villin.pdb in your path!')"
      ]
    },
    {
      "cell_type": "markdown",
      "metadata": {
        "id": "fmRKRiDLheyR"
      },
      "source": [
        "## Load the PDB file into OpenMM\n",
        "<a id=\"load\"></a>\n",
        "\n",
        "First we need to import OpenMM.\n",
        "We then then load in the PDB file using the [PDBFile](http://docs.openmm.org/latest/api-python/generated/openmm.app.pdbfile.PDBFile.html#openmm.app.pdbfile.PDBFile) class."
      ]
    },
    {
      "cell_type": "code",
      "execution_count": null,
      "metadata": {
        "id": "Qz92cI6dheyR"
      },
      "outputs": [],
      "source": [
        "from openmm.app import *\n",
        "from openmm import *\n",
        "from openmm.unit import *\n",
        "from sys import stdout\n",
        "\n",
        "# load in the pdb file\n",
        "pdb = PDBFile('villin.pdb')"
      ]
    },
    {
      "cell_type": "markdown",
      "metadata": {
        "id": "69v9Al9IASAr"
      },
      "source": [
        "`PDBFile('file_name.pdb')` loads the PDB file from disk and puts the information into a `PDBFile` object which we have assign to the variable `pdb`. The object contains the molecular topology (atom names, residue types, bonds etc) and the atomic positions. These can be accessed as `pdb.topology` and `pdb.positions`. Take a look at the [API documentation](http://docs.openmm.org/latest/api-python/generated/openmm.app.pdbfile.PDBFile.html#openmm.app.pdbfile.PDBFile). All OpenMM classes have documentation available on the Python API reference: http://docs.openmm.org/latest/api-python/."
      ]
    },
    {
      "cell_type": "markdown",
      "metadata": {
        "id": "Ww5gjnUiheyR"
      },
      "source": [
        "## Define the force field\n",
        "<a id=\"ff\"></a>\n",
        "\n",
        "We need to define the forcefield we want to use. We will use the Amber14 forcefield and the TIP3P-FB water model. You can find out about all the forcefields available by default in OpenMM in the [documentation](http://docs.openmm.org/latest/userguide/application/02_running_sims.html?highlight=forcefield#force-fields)."
      ]
    },
    {
      "cell_type": "code",
      "execution_count": null,
      "metadata": {
        "id": "Gbv1xLdpheyR"
      },
      "outputs": [],
      "source": [
        "# Specify the forcefield\n",
        "forcefield = ForceField('amber14-all.xml', 'amber14/tip3pfb.xml')"
      ]
    },
    {
      "cell_type": "markdown",
      "metadata": {
        "id": "eNIGPm-PASAr"
      },
      "source": [
        "Force fields are defined by XML files. The line above loads in specified files. You can look at them in the OpenMM source code, e.g. [`amber14/tip3pfb.xml`](https://github.com/openmm/openmm/blob/master/wrappers/python/openmm/app/data/amber14/tip3pfb.xml). It is possible to create your own XML force field file. You can find details in the [user guide](http://docs.openmm.org/latest/userguide/application/05_creating_ffs.html#creating-force-fields)."
      ]
    },
    {
      "cell_type": "markdown",
      "metadata": {
        "id": "9ZNOQY8jheyR"
      },
      "source": [
        "## Solvate\n",
        "<a id=\"solvate\"></a>\n",
        "\n",
        "We can use the [`Modeller`](http://docs.openmm.org/latest/userguide/application/03_model_building_editing.html#model-building-and-editing) class to solvate the protein in a waterbox."
      ]
    },
    {
      "cell_type": "code",
      "execution_count": null,
      "metadata": {
        "id": "CVxXXCzoheyR"
      },
      "outputs": [],
      "source": [
        "# create a Modeller object\n",
        "modeller = Modeller(pdb.topology, pdb.positions)\n",
        "\n",
        "\n",
        "# Solvate the protein in a box of water\n",
        "modeller.addExtraParticles(forcefield)"
      ]
    },
    {
      "cell_type": "markdown",
      "metadata": {
        "id": "3pJIJqvsheyR"
      },
      "source": [
        "This command creates a box that has edges at least 1nm away from the solute and fills it with water molecules. Additionally, it adds in the required number of CL- and Na+ ions to make the system charge neutral. Optionally, you can specify the ion concentration as an argument to [`addSolvent`](http://docs.openmm.org/latest/api-python/generated/openmm.app.modeller.Modeller.html#openmm.app.modeller.Modeller.addSolvent).\n",
        "\n",
        "Note that the `nanometer` variable is a unit definition that was imported from `openmm.unit`. This is an example of the powerful units tracking and automatic conversion facility built into the OpenMM Python API that makes specifying unit-bearing quantities convenient and less error-prone. We could have equivalently specified `10*angstrom` instead of `1*nanometer` and achieved the same result. You can read more about the units library [here](http://docs.openmm.org/latest/userguide/library/05_languages_not_cpp.html#units-and-dimensional-analysis)."
      ]
    },
    {
      "cell_type": "markdown",
      "metadata": {
        "id": "j5TWcrf6ASAr"
      },
      "source": [
        "\n",
        "## Setup system and Integrator\n",
        "<a id='system'></a>\n",
        "\n",
        "We now need to combine our molecular topology and the forcefield to create a complete description of the system. This is done using the [`ForceField`](http://docs.openmm.org/latest/api-python/generated/openmm.app.forcefield.ForceField.html#forcefield) object’s [`createSystem()`](http://docs.openmm.org/latest/api-python/generated/openmm.app.forcefield.ForceField.html#openmm.app.forcefield.ForceField.createSystem) method. We then create the integrator, and combine the integrator and system to create the Simulation object. Finally we set the initial atomic positions."
      ]
    },
    {
      "cell_type": "code",
      "execution_count": null,
      "metadata": {
        "id": "PlyqnotRheyR"
      },
      "outputs": [],
      "source": [
        "# Create a system. Here we define some forcefield settings such as the nonbonded method\n",
        "system = forcefield.createSystem(modeller.topology, nonbondedMethod=PME, nonbondedCutoff=1.0*nanometer, constraints=HBonds)\n",
        "\n",
        "# Define the integrator. The Langevin integrator is also a thermostat\n",
        "integrator = LangevinMiddleIntegrator(300*kelvin, 1/picosecond, 0.004*picoseconds)\n",
        "\n",
        "# Create the Simulation\n",
        "simulation = Simulation(modeller.topology, system, integrator)\n",
        "simulation.context.setPositions(modeller.positions)"
      ]
    },
    {
      "cell_type": "markdown",
      "metadata": {
        "id": "FIfh2-zxASAs"
      },
      "source": [
        "The [System](http://docs.openmm.org/latest/api-python/generated/openmm.openmm.System.html#system) is an object than contains the complete mathematical description of the system we want to simulate. It contains four key bits of information:\n",
        " - The set of particles in the simulation\n",
        " - The forces acting on them\n",
        " - Details of any constraints\n",
        " - The dimensions of the periodic box\n",
        "\n",
        "The `integrator` advances the equations of motion. There are a variety of [integrators available in OpenMM](http://docs.openmm.org/latest/api-python/library.html#integrators). We are using the [LangevinMiddleIntegrator](http://docs.openmm.org/latest/api-python/generated/openmm.openmm.LangevinMiddleIntegrator.html#openmm.openmm.LangevinMiddleIntegrator) which performs Langevin dynamics.\n",
        "\n",
        "The [`Simulation`](http://docs.openmm.org/latest/api-python/generated/openmm.app.simulation.Simulation.html#openmm.app.simulation.Simulation) object manages all the process involved in running a simulation, such as advancing time and writing output.\n"
      ]
    },
    {
      "cell_type": "markdown",
      "metadata": {
        "id": "QFmwHMqhheyR"
      },
      "source": [
        "## Local energy minimization\n",
        "<a id=\"minim\"></a>\n",
        "\n",
        "It is a good idea to run local energy minimization at the start of a simulation because the coordinates in starting configuration file might produce very large forces.\n",
        "\n",
        "Due to how the minimizer is implemented it will not print out information during the run. You will need to be patient and wait for it to complete. This minimization step should take ~1 minute on CPU and a few seconds on GPU."
      ]
    },
    {
      "cell_type": "code",
      "execution_count": null,
      "metadata": {
        "id": "8XngRzXUheyS",
        "colab": {
          "base_uri": "https://localhost:8080/"
        },
        "outputId": "41941057-bc95-44d9-eee9-5ad6444e4f0d"
      },
      "outputs": [
        {
          "output_type": "stream",
          "name": "stdout",
          "text": [
            "Minimizing energy\n"
          ]
        }
      ],
      "source": [
        "print(\"Minimizing energy\")\n",
        "simulation.minimizeEnergy()"
      ]
    },
    {
      "cell_type": "markdown",
      "metadata": {
        "id": "_oEETniPheyS"
      },
      "source": [
        "## Setup reporting\n",
        "<a id=\"reporting\"></a>\n",
        "\n",
        "To get output from a simulation you need to add \"reporters\". We use [`DCDReporter`](http://docs.openmm.org/latest/api-python/generated/openmm.app.dcdreporter.DCDReporter.html) to write the coordinates every 1000 timesteps to 'traj.dcd' and we use [`StateDataReporter`](http://docs.openmm.org/development/api-python/generated/openmm.app.statedatareporter.StateDataReporter.html) to print the timestep, potential energy, temperature, and volume to the screen; and the same to a file called 'md_log.txt'. The Simulation object contains a list of reporters in `simulation.reporters` and we use the append method to add the reporters to it."
      ]
    },
    {
      "cell_type": "code",
      "execution_count": null,
      "metadata": {
        "id": "mbG1iFPEheyS"
      },
      "outputs": [],
      "source": [
        "# Write trajectory to a file called traj.dcd every 1000 steps\n",
        "simulation.reporters.append(DCDReporter('traj.dcd', 1000))\n",
        "\n",
        "# Print state information to the screen every 1000 steps\n",
        "simulation.reporters.append(StateDataReporter(stdout, 1000, step=True,\n",
        "        potentialEnergy=True, temperature=True, volume=True))\n",
        "\n",
        "# Print the same info to a log file every 100 steps\n",
        "simulation.reporters.append(StateDataReporter('md_log.txt', 100, step=True,\n",
        "        potentialEnergy=True, temperature=True, volume=True))\n"
      ]
    },
    {
      "cell_type": "markdown",
      "metadata": {
        "id": "dL4ykymVheyS"
      },
      "source": [
        "## NVT equilibration\n",
        "<a id=nvt></a>\n",
        "\n",
        "We are using a Langevin integrator which means we are simulating in the NVT ensemble. To equilibrate the temperature we just need to run the simulation for a number of timesteps."
      ]
    },
    {
      "cell_type": "code",
      "execution_count": null,
      "metadata": {
        "id": "d0LsqNQUheyS",
        "colab": {
          "base_uri": "https://localhost:8080/"
        },
        "outputId": "4f14f0e4-93fc-495d-d35c-35bfaf319c28"
      },
      "outputs": [
        {
          "output_type": "stream",
          "name": "stdout",
          "text": [
            "Running NVT\n",
            "#\"Step\",\"Potential Energy (kJ/mole)\",\"Temperature (K)\",\"Box Volume (nm^3)\"\n",
            "1000,-2033.4586990804564,288.2202246777153,87.86585834570701\n",
            "2000,-2005.8232528896224,309.93401441879934,87.86585834570701\n",
            "3000,-2027.7626208991896,322.09675354084845,87.86585834570701\n",
            "4000,-1996.5671164722335,311.3546662728655,87.86585834570701\n",
            "5000,-2189.489236566533,293.83493350185574,87.86585834570701\n",
            "6000,-2055.599782201756,292.6530877496886,87.86585834570701\n",
            "7000,-2089.7403847904097,293.01749284643813,87.86585834570701\n",
            "8000,-2017.445629808415,320.5262886061663,87.86585834570701\n",
            "9000,-2102.305453512181,295.1812975505081,87.86585834570701\n",
            "10000,-2078.7425148219954,315.3639669904465,87.86585834570701\n"
          ]
        }
      ],
      "source": [
        "print('Running NVT')\n",
        "simulation.step(10000)"
      ]
    },
    {
      "cell_type": "markdown",
      "metadata": {
        "id": "8QLi5oWCheyS"
      },
      "source": [
        "## NPT production MD\n",
        "<a id=npt></a>\n",
        "\n",
        "To run our simulation in the NPT ensemble we need to add in a barostat to control the pressure. We can use [`MonteCarloBarostat`](http://docs.openmm.org/latest/api-python/generated/openmm.openmm.MonteCarloBarostat.html#openmm.openmm.MonteCarloBarostat). The parameters are the pressure (1 bar) and the temperature (300 K). The barostat assumes the simulation is being run at constant temperature, but it does not itself do anything to regulate the temperature. It is therefore critical that you always use it along with a Langevin integrator or Andersen thermostat, and that you specify the same temperature for both the barostat and the integrator or thermostat. Otherwise, you will get incorrect results."
      ]
    },
    {
      "cell_type": "code",
      "execution_count": null,
      "metadata": {
        "id": "A66nwWBTheyS"
      },
      "outputs": [],
      "source": [
        "system.addForce(MonteCarloBarostat(1*bar, 300*kelvin))\n",
        "\n",
        "# It is important to call the reinitialize method on the simulation\n",
        "# otherwise the modifications will not be applied.\n",
        "simulation.context.reinitialize(preserveState=True)"
      ]
    },
    {
      "cell_type": "markdown",
      "metadata": {
        "id": "5u2SvwZRASAt"
      },
      "source": [
        "We then run the simulation for 10000 steps."
      ]
    },
    {
      "cell_type": "code",
      "execution_count": null,
      "metadata": {
        "colab": {
          "base_uri": "https://localhost:8080/"
        },
        "id": "cjKEXLNuASAt",
        "outputId": "0fdd55f9-645b-42a6-ed70-41005d70a82c"
      },
      "outputs": [
        {
          "output_type": "stream",
          "name": "stdout",
          "text": [
            "Running NPT\n",
            "11000,-2203.331520416894,281.5486718110163,82.0255023224423\n",
            "12000,-2023.5230277344235,277.18911688432325,78.56042690178556\n",
            "13000,-2212.2620103391146,298.7307323084167,70.1182717991475\n",
            "14000,-2215.8382892168465,288.19734241140924,49.15318262047783\n",
            "15000,-2290.540217748452,292.87592270834045,20.720032704647267\n",
            "16000,-2177.849466108946,293.6538339356301,17.809230294526827\n",
            "17000,-2440.6563564134467,297.7416065193198,17.117246528820434\n",
            "18000,-2291.6065910329435,312.7104975308503,16.609308867425533\n",
            "19000,-2473.4273327881037,306.41024010879556,16.08358940723358\n",
            "20000,-2410.9349958238454,285.6281818115158,15.084397460211711\n"
          ]
        }
      ],
      "source": [
        "print('Running NPT')\n",
        "simulation.step(10000)"
      ]
    },
    {
      "cell_type": "markdown",
      "metadata": {
        "id": "nrzBoLSnheyS"
      },
      "source": [
        "## Analysis\n",
        "<a id=analysis></a>\n",
        "\n",
        "We can now do some basic analysis using Python. We will plot the time evolution of the potential energy, temperature, and box volume. Remember that OpenMM itself is primarily an MD engine, for in-depth analysis of your simulations you can use other python packages such as [MDtraj](https://www.mdtraj.org/), or [MDAnalysis](https://www.mdanalysis.org/).\n"
      ]
    },
    {
      "cell_type": "code",
      "execution_count": null,
      "metadata": {
        "id": "Co3JDaJDheyS",
        "colab": {
          "base_uri": "https://localhost:8080/",
          "height": 696
        },
        "outputId": "91bd57ca-b0ac-4a57-a9c4-013761cf47aa"
      },
      "outputs": [
        {
          "output_type": "display_data",
          "data": {
            "text/plain": [
              "<Figure size 1200x800 with 3 Axes>"
            ],
            "image/png": "[encoded data removed]"
          },
          "metadata": {}
        }
      ],
      "source": [
        "import pandas as pd\n",
        "import matplotlib.pyplot as plt\n",
        "md_log_df = pd.read_csv('md_log.txt', delimiter=',', header=0)\n",
        "md_log_df.rename(columns={'#\"Step\"': 'Step'}, inplace=True)\n",
        "\n",
        "fig, ax = plt.subplots(figsize=(12,8), nrows=3, sharex=True)\n",
        "md_log_df.plot(x='Step', y='Potential Energy (kJ/mole)', ax=ax[0])\n",
        "md_log_df.plot(x='Step', y='Temperature (K)', ax=ax[1])\n",
        "md_log_df.plot(x='Step', y='Box Volume (nm^3)', ax=ax[2])\n",
        "plt.show()"
      ]
    },
    {
      "cell_type": "markdown",
      "metadata": {
        "id": "My7Z10-QheyS"
      },
      "source": [
        "## Checkpointing\n",
        "<a id=checkpoints></a>\n",
        "\n",
        "When you run long simulations it is useful to be able to save checkpoints. This means you can restart them in the case of a crash. Or it means you can resume them if you need to fit within the time constraints of a HPC job scheduler.\n",
        "\n",
        "To run a resume a simulation we need to have three files saved to disk that we can load in:\n",
        "1. The topology - this will be a PDB file of our solvated system.\n",
        "2. A serialized `System` -  this is an xml file that contains the forcefield settings.\n",
        "3. A checkpoint file - this is a binary file that contains the positions, velocities, box vectors, and other internal data such as the states of random number generators.\n",
        "\n",
        "The first two only need to be saved once because they are constant throughout the simulation. The checkpoint file needs to be saved frequently. You can then resume a simulation from the timestep when the checkpoint file was last saved.\n",
        "\n",
        "\n",
        "### Setup the checkpoint\n",
        "\n",
        "We will create the topology file using `PDBFile` to write a PDB file of the system. We will use `XmlSerializer` of save the serialized system to an xml file. And we will use `CheckpointReporter` to regularly create checkpoint files."
      ]
    },
    {
      "cell_type": "code",
      "execution_count": null,
      "metadata": {
        "id": "imxKHC32heyS"
      },
      "outputs": [],
      "source": [
        "# Save the toplogy as a PDB file.\n",
        "with open('topology.pdb', 'w') as output:\n",
        "    PDBFile.writeFile(simulation.topology, simulation.context.getState(getPositions=True).getPositions(),output)\n",
        "\n",
        "# save a serialized version of the system. This stores the forcefield parameters.\n",
        "with open('system.xml', 'w') as output:\n",
        "    output.write(XmlSerializer.serialize(system))\n",
        "\n",
        "# Setup a checkpoint reporter. This stores the positions, velocities, and box vectors. It will save\n",
        "# a checkpoint every 1000 timesteps.\n",
        "simulation.reporters.append(CheckpointReporter('checkpoint.chk', 1000))\n"
      ]
    },
    {
      "cell_type": "markdown",
      "metadata": {
        "id": "tgd6UV9MASAu"
      },
      "source": [
        "`CheckpointReporter` saves periodic checkpoints of a simulation. The checkpoints will overwrite one another - only the last checkpoint will be saved in the file. Loading a checkpoint will restore a simulation to a reasonably close, but usually not identical, state to when it was written. The checkpoint contains data that is highly specific to the System, Platform, and the hardware and software of the computer it was created on. If you try and load it on a computer with different hardware it is likely to fail. Checkpoints created with different versions of OpenMM are often incompatible.\n",
        "\n",
        "For a more portable way of saving the state of a simulation you can save the checkpoint as an xml state file. Read the [API docs](http://docs.openmm.org/development/api-python/generated/openmm.app.checkpointreporter.CheckpointReporter.html) for more information."
      ]
    },
    {
      "cell_type": "markdown",
      "metadata": {
        "id": "LbSN1vjdheyS"
      },
      "source": [
        "### Running for a set time limit\n",
        "\n",
        "We can run for a set amount of wall-clock time using the [`runForClockTime`](http://docs.openmm.org/latest/api-python/generated/openmm.app.simulation.Simulation.html#openmm.app.simulation.Simulation.runForClockTime) method. By [wall-clock](https://en.wikipedia.org/wiki/Elapsed_real_time) time we mean the actual time a program runs for as measured by looking at a clock on a wall (or a watch, or a timer etc) as opposed to the simulated time.\n"
      ]
    },
    {
      "cell_type": "code",
      "execution_count": null,
      "metadata": {
        "colab": {
          "base_uri": "https://localhost:8080/",
          "height": 339
        },
        "id": "1I0tyerdASAu",
        "outputId": "e3d0adff-dd30-4e07-e5f4-5ea7be9f57cb"
      },
      "outputs": [
        {
          "output_type": "error",
          "ename": "OpenMMException",
          "evalue": "ignored",
          "traceback": [
            "\u001b[0;31m---------------------------------------------------------------------------\u001b[0m",
            "\u001b[0;31mOpenMMException\u001b[0m                           Traceback (most recent call last)",
            "\u001b[0;32m<ipython-input-198-f12112759348>\u001b[0m in \u001b[0;36m<cell line: 2>\u001b[0;34m()\u001b[0m\n\u001b[1;32m      1\u001b[0m \u001b[0;31m# run for 30 seconds\u001b[0m\u001b[0;34m\u001b[0m\u001b[0;34m\u001b[0m\u001b[0m\n\u001b[0;32m----> 2\u001b[0;31m \u001b[0msimulation\u001b[0m\u001b[0;34m.\u001b[0m\u001b[0mrunForClockTime\u001b[0m\u001b[0;34m(\u001b[0m\u001b[0;36m30.0\u001b[0m\u001b[0;34m*\u001b[0m\u001b[0mseconds\u001b[0m\u001b[0;34m)\u001b[0m\u001b[0;34m\u001b[0m\u001b[0;34m\u001b[0m\u001b[0m\n\u001b[0m",
            "\u001b[0;32m/usr/local/lib/python3.10/site-packages/openmm/app/simulation.py\u001b[0m in \u001b[0;36mrunForClockTime\u001b[0;34m(self, time, checkpointFile, stateFile, checkpointInterval)\u001b[0m\n\u001b[1;32m    187\u001b[0m                 \u001b[0;32mif\u001b[0m \u001b[0mnextTime\u001b[0m \u001b[0;34m>\u001b[0m \u001b[0mendTime\u001b[0m\u001b[0;34m:\u001b[0m\u001b[0;34m\u001b[0m\u001b[0;34m\u001b[0m\u001b[0m\n\u001b[1;32m    188\u001b[0m                     \u001b[0mnextTime\u001b[0m \u001b[0;34m=\u001b[0m \u001b[0mendTime\u001b[0m\u001b[0;34m\u001b[0m\u001b[0;34m\u001b[0m\u001b[0m\n\u001b[0;32m--> 189\u001b[0;31m             \u001b[0mself\u001b[0m\u001b[0;34m.\u001b[0m\u001b[0m_simulate\u001b[0m\u001b[0;34m(\u001b[0m\u001b[0mendTime\u001b[0m\u001b[0;34m=\u001b[0m\u001b[0mnextTime\u001b[0m\u001b[0;34m)\u001b[0m\u001b[0;34m\u001b[0m\u001b[0;34m\u001b[0m\u001b[0m\n\u001b[0m\u001b[1;32m    190\u001b[0m             \u001b[0;32mif\u001b[0m \u001b[0mcheckpointFile\u001b[0m \u001b[0;32mis\u001b[0m \u001b[0;32mnot\u001b[0m \u001b[0;32mNone\u001b[0m\u001b[0;34m:\u001b[0m\u001b[0;34m\u001b[0m\u001b[0;34m\u001b[0m\u001b[0m\n\u001b[1;32m    191\u001b[0m                 \u001b[0mself\u001b[0m\u001b[0;34m.\u001b[0m\u001b[0msaveCheckpoint\u001b[0m\u001b[0;34m(\u001b[0m\u001b[0mcheckpointFile\u001b[0m\u001b[0;34m)\u001b[0m\u001b[0;34m\u001b[0m\u001b[0;34m\u001b[0m\u001b[0m\n",
            "\u001b[0;32m/usr/local/lib/python3.10/site-packages/openmm/app/simulation.py\u001b[0m in \u001b[0;36m_simulate\u001b[0;34m(self, endStep, endTime)\u001b[0m\n\u001b[1;32m    210\u001b[0m             \u001b[0mstepsToGo\u001b[0m \u001b[0;34m=\u001b[0m \u001b[0mnextSteps\u001b[0m\u001b[0;34m\u001b[0m\u001b[0;34m\u001b[0m\u001b[0m\n\u001b[1;32m    211\u001b[0m             \u001b[0;32mwhile\u001b[0m \u001b[0mstepsToGo\u001b[0m \u001b[0;34m>\u001b[0m \u001b[0;36m10\u001b[0m\u001b[0;34m:\u001b[0m\u001b[0;34m\u001b[0m\u001b[0;34m\u001b[0m\u001b[0m\n\u001b[0;32m--> 212\u001b[0;31m                 \u001b[0mself\u001b[0m\u001b[0;34m.\u001b[0m\u001b[0mintegrator\u001b[0m\u001b[0;34m.\u001b[0m\u001b[0mstep\u001b[0m\u001b[0;34m(\u001b[0m\u001b[0;36m10\u001b[0m\u001b[0;34m)\u001b[0m \u001b[0;31m# Only take 10 steps at a time, to give Python more chances to respond to a control-c.\u001b[0m\u001b[0;34m\u001b[0m\u001b[0;34m\u001b[0m\u001b[0m\n\u001b[0m\u001b[1;32m    213\u001b[0m                 \u001b[0mstepsToGo\u001b[0m \u001b[0;34m-=\u001b[0m \u001b[0;36m10\u001b[0m\u001b[0;34m\u001b[0m\u001b[0;34m\u001b[0m\u001b[0m\n\u001b[1;32m    214\u001b[0m                 \u001b[0;32mif\u001b[0m \u001b[0mendTime\u001b[0m \u001b[0;32mis\u001b[0m \u001b[0;32mnot\u001b[0m \u001b[0;32mNone\u001b[0m \u001b[0;32mand\u001b[0m \u001b[0mdatetime\u001b[0m\u001b[0;34m.\u001b[0m\u001b[0mnow\u001b[0m\u001b[0;34m(\u001b[0m\u001b[0;34m)\u001b[0m \u001b[0;34m>=\u001b[0m \u001b[0mendTime\u001b[0m\u001b[0;34m:\u001b[0m\u001b[0;34m\u001b[0m\u001b[0;34m\u001b[0m\u001b[0m\n",
            "\u001b[0;32m/usr/local/lib/python3.10/site-packages/openmm/openmm.py\u001b[0m in \u001b[0;36mstep\u001b[0;34m(self, steps)\u001b[0m\n\u001b[1;32m   9336\u001b[0m             \u001b[0mthe\u001b[0m \u001b[0mnumber\u001b[0m \u001b[0mof\u001b[0m \u001b[0mtime\u001b[0m \u001b[0msteps\u001b[0m \u001b[0mto\u001b[0m \u001b[0mtake\u001b[0m\u001b[0;34m\u001b[0m\u001b[0;34m\u001b[0m\u001b[0m\n\u001b[1;32m   9337\u001b[0m         \"\"\"\n\u001b[0;32m-> 9338\u001b[0;31m         \u001b[0;32mreturn\u001b[0m \u001b[0m_openmm\u001b[0m\u001b[0;34m.\u001b[0m\u001b[0mLangevinMiddleIntegrator_step\u001b[0m\u001b[0;34m(\u001b[0m\u001b[0mself\u001b[0m\u001b[0;34m,\u001b[0m \u001b[0msteps\u001b[0m\u001b[0;34m)\u001b[0m\u001b[0;34m\u001b[0m\u001b[0;34m\u001b[0m\u001b[0m\n\u001b[0m\u001b[1;32m   9339\u001b[0m \u001b[0;34m\u001b[0m\u001b[0m\n\u001b[1;32m   9340\u001b[0m     \u001b[0;32mdef\u001b[0m \u001b[0m__init__\u001b[0m\u001b[0;34m(\u001b[0m\u001b[0mself\u001b[0m\u001b[0;34m,\u001b[0m \u001b[0;34m*\u001b[0m\u001b[0margs\u001b[0m\u001b[0;34m)\u001b[0m\u001b[0;34m:\u001b[0m\u001b[0;34m\u001b[0m\u001b[0;34m\u001b[0m\u001b[0m\n",
            "\u001b[0;31mOpenMMException\u001b[0m: The periodic box size has decreased to less than twice the nonbonded cutoff."
          ]
        }
      ],
      "source": [
        "# run for 30 seconds\n",
        "simulation.runForClockTime(30.0*seconds)"
      ]
    },
    {
      "cell_type": "markdown",
      "metadata": {
        "id": "sVyOa336heyS"
      },
      "source": [
        "### Resume from a checkpoint\n",
        "\n",
        "We now have the required files 'topology.pdb', 'system.xml', and 'checkpoint.chk'. We will need to load them in so we can resume the simulation from the last checkpoint. Note that we have to define the integrator again as well as the simulation reporters. Furthermore, we have set the `append=True` flag to the DCD and StateData reporters.\n",
        "\n",
        "You will need to add a line of code to make the simulation run for 30 seconds of wall time."
      ]
    },
    {
      "cell_type": "code",
      "execution_count": null,
      "metadata": {
        "id": "DgAu-mflheyS"
      },
      "outputs": [],
      "source": [
        "pdb = PDBFile('topology.pdb')\n",
        "\n",
        "with open('system.xml') as input:\n",
        "    system = XmlSerializer.deserialize(input.read())\n",
        "\n",
        "# Define the integrator.\n",
        "integrator = LangevinMiddleIntegrator(300*kelvin, 1/picosecond, 0.004*picoseconds)\n",
        "\n",
        "# Create the Simulation\n",
        "simulation = Simulation(pdb.topology, system, integrator)\n",
        "\n",
        "# set the positions, velocities, and box vectors from the checkpoint file\n",
        "simulation.loadCheckpoint('checkpoint.chk')\n",
        "\n",
        "# We still need to define the reporters again\n",
        "\n",
        "# Write trajectory to a file called traj.dcd every 1000 steps\n",
        "simulation.reporters.append(DCDReporter('traj.dcd', 1000, append=True))\n",
        "\n",
        "# Print state information to the screen every 1000 steps\n",
        "simulation.reporters.append(StateDataReporter(stdout, 1000, step=True,\n",
        "        potentialEnergy=True, temperature=True, volume=True))\n",
        "\n",
        "# Print the same info to a log file every 100 steps\n",
        "simulation.reporters.append(StateDataReporter('md_log.txt', 100, step=True,\n",
        "        potentialEnergy=True, temperature=True, volume=True, append=True))\n",
        "\n",
        "\n",
        "# Setup a checkpoint reporter. This stores the positions, velocities, and box vectors.\n",
        "simulation.reporters.append(CheckpointReporter('checkpoint.chk', 1000))\n",
        "\n",
        "\n",
        "# write the code to run for 30 seconds of wall clock time\n",
        "simulation.runForClockTime(30.0*seconds)\n",
        "\n"
      ]
    },
    {
      "cell_type": "markdown",
      "metadata": {
        "id": "H1WMB3XLheyS"
      },
      "source": [
        "### Resume multiple times\n",
        "\n",
        "We can practice resuming multiple times. This is something you might have to do to fit a long simulation within the limits of a HPC job scheduler.\n",
        "\n",
        "You will need to add the code to create the `Simulation` object."
      ]
    },
    {
      "cell_type": "code",
      "execution_count": null,
      "metadata": {
        "id": "RW2SPj2XheyS"
      },
      "outputs": [],
      "source": [
        "for i in range(3):\n",
        "    print(\"Resuming from checkpoint iteration = \", i)\n",
        "\n",
        "    pdb = PDBFile('topology.pdb')\n",
        "\n",
        "    with open('system.xml') as input:\n",
        "        system = XmlSerializer.deserialize(input.read())\n",
        "\n",
        "    # Define the integrator.\n",
        "    integrator = LangevinMiddleIntegrator(300*kelvin, 1/picosecond, 0.004*picoseconds)\n",
        "\n",
        "    # Create the Simulation\n",
        "    # write the code to create the simulation object\n",
        "    simulation = Simulation(pdb.topology, system, integrator)\n",
        "\n",
        "    # set the positions, velocities, and box vectors from the checkpoint file\n",
        "    simulation.loadCheckpoint('checkpoint.chk')\n",
        "\n",
        "    # We still need to define the reporters again\n",
        "\n",
        "    # Write trajectory to a file called traj.dcd every 1000 steps\n",
        "    simulation.reporters.append(DCDReporter('traj.dcd', 1000, append=True))\n",
        "\n",
        "    # Print state information to the screen every 1000 steps\n",
        "    simulation.reporters.append(StateDataReporter(stdout, 1000, step=True,\n",
        "            potentialEnergy=True, temperature=True, volume=True))\n",
        "\n",
        "    # Print the same info to a log file every 100 steps\n",
        "    simulation.reporters.append(StateDataReporter('md_log.txt', 100, step=True,\n",
        "        potentialEnergy=True, temperature=True, volume=True, append=True))\n",
        "\n",
        "    # Setup a checkpoint reporter. This stores the positions, velocities, and box vectors.\n",
        "    simulation.reporters.append(CheckpointReporter('checkpoint.chk', 1000))\n",
        "\n",
        "\n",
        "    # run for 30 seconds\n",
        "    simulation.runForClockTime(30.0*seconds)\n"
      ]
    },
    {
      "cell_type": "markdown",
      "metadata": {
        "id": "X6UXRboOheyT"
      },
      "source": [
        "### Analysis\n",
        "\n",
        "we can redo the analysis on the longer trajectory."
      ]
    },
    {
      "cell_type": "code",
      "execution_count": null,
      "metadata": {
        "id": "e2ft2bO2heyT"
      },
      "outputs": [],
      "source": [
        "import pandas as pd\n",
        "import matplotlib.pyplot as plt\n",
        "md_log_df = pd.read_csv('md_log.txt', delimiter=',', header=0)\n",
        "md_log_df.rename(columns={'#\"Step\"': 'Step'}, inplace=True)\n",
        "\n",
        "fig, ax = plt.subplots(figsize=(12,8), nrows=3, sharex=True)\n",
        "md_log_df.plot(x='Step', y='Potential Energy (kJ/mole)', ax=ax[0])\n",
        "md_log_df.plot(x='Step', y='Temperature (K)', ax=ax[1])\n",
        "md_log_df.plot(x='Step', y='Box Volume (nm^3)', ax=ax[2])\n",
        "plt.show()"
      ]
    },
    {
      "cell_type": "markdown",
      "metadata": {
        "id": "KH4DdmhAheyT"
      },
      "source": [
        "## Visualization\n",
        "<a id=\"viz\"></a>\n",
        "\n",
        "We can use the `nglview` package to view the simulation structures and trajectories in the juyter notebook.\n",
        "\n",
        "For more serious visualization and rendering there a variety of programs available (https://en.wikipedia.org/wiki/List_of_molecular_graphics_systems). A couple of the most popular ones are:\n",
        "- [VMD](https://www.ks.uiuc.edu/Research/vmd/)\n",
        "- [PyMol](https://pymol.org/)\n",
        "\n",
        "**Note this does not currently work in Colab**"
      ]
    },
    {
      "cell_type": "code",
      "execution_count": null,
      "metadata": {
        "id": "PGqw21OLASA5"
      },
      "outputs": [],
      "source": [
        "if 'google.colab' in str(get_ipython()):\n",
        "    # https://github.com/googlecolab/colabtools/issues/3409\n",
        "    import locale\n",
        "    locale.getpreferredencoding = lambda: \"UTF-8\"\n",
        "    !mamba install -y -c conda-forge nglview mdtraj"
      ]
    },
    {
      "cell_type": "code",
      "execution_count": null,
      "metadata": {
        "id": "itn6u_0WASA5"
      },
      "outputs": [],
      "source": [
        "import mdtraj\n",
        "import nglview\n",
        "\n",
        "traj = mdtraj.load(\"traj.dcd\", top=\"topology.pdb\")\n",
        "view = nglview.show_mdtraj(traj)\n",
        "view.add_representation('licorice',selection=\"water\")\n",
        "view"
      ]
    },
    {
      "cell_type": "markdown",
      "source": [
        "**Optional**\n",
        "1. Download the files \"topology.pdb\" and \"traj.dcd\" from Colab.\n",
        "2. Install [VMD](https://www.ks.uiuc.edu/Research/vmd/).\n",
        "3. Open \"topology.pdb\" with VMD or another program of your choice. In VMD you can then go \"file\">\"load data into molecule\" and select \"traj.dcd\"."
      ],
      "metadata": {
        "collapsed": false,
        "id": "BAWJUr9AASA5"
      }
    },
    {
      "cell_type": "markdown",
      "metadata": {
        "id": "GzMn3fnuASA5"
      },
      "source": [
        "# MDAnalysis\n",
        "\n",
        "[MDAnalysis](https://www.mdanalysis.org/) is a Python library for analyzing molecular dynamics (MD) simulations. It supports various MD formats for reading and writing trajectories and atom selections. Key features include reading particle-based trajectories, accessing atomic coordinates via NumPy arrays, powerful atom selection commands, and the ability to manipulate and write out trajectories. This makes it a flexible and efficient tool for complex MD analysis tasks.\n"
      ]
    },
    {
      "cell_type": "code",
      "execution_count": null,
      "outputs": [],
      "source": [
        "if 'google.colab' in str(get_ipython()):\n",
        "    # https://github.com/googlecolab/colabtools/issues/3409\n",
        "    import locale\n",
        "    locale.getpreferredencoding = lambda: \"UTF-8\"\n",
        "    !mamba install -y -c conda-forge mdanalysis"
      ],
      "metadata": {
        "id": "gksHMO0rASA5"
      }
    },
    {
      "cell_type": "code",
      "execution_count": null,
      "outputs": [],
      "source": [
        "import MDAnalysis as mda"
      ],
      "metadata": {
        "id": "8q01Jvh4ASA6"
      }
    },
    {
      "cell_type": "markdown",
      "source": [
        "MDAnalysis is a Python package for accessing and analyzing molecular dynamics trajectory data. Its core data structures include:\n",
        "\n",
        "- **Atom**: Represents a particle, even if it's a coarse-grained bead.\n",
        "- **AtomGroup**: A crucial class where atoms are grouped. Most data can be accessed through AtomGroups.\n",
        "- **Universe**: Combines all particles in an AtomGroup with a trajectory, providing access to the entire molecular system.\n",
        "\n",
        "Working with MDAnalysis typically starts with loading data into a `Universe`."
      ],
      "metadata": {
        "collapsed": false,
        "id": "Dwd2EHeEASA6"
      }
    },
    {
      "cell_type": "code",
      "execution_count": null,
      "outputs": [],
      "source": [
        "# loading a trajectory\n",
        "u = mda.Universe(\"topology.pdb\", \"traj.dcd\")\n",
        "u"
      ],
      "metadata": {
        "id": "h9TLqKVKASA6"
      }
    },
    {
      "cell_type": "markdown",
      "source": [
        "The trajectory of the simulation is saved in the `u.trajectory` attribute. It is an iterator that yields a `Timestep` object for each frame in the trajectory. The `Timestep` object contains the coordinates of all atoms in the simulation at a given time step. The `Timestep` object also contains the simulation box dimensions, the simulation time, and the simulation step."
      ],
      "metadata": {
        "collapsed": false,
        "id": "j6BXIRUaASA6"
      }
    },
    {
      "cell_type": "code",
      "execution_count": null,
      "outputs": [],
      "source": [
        "# Get the number of frames in the trajectory\n",
        "len(u.trajectory)"
      ],
      "metadata": {
        "id": "3m99U2_1ASA6"
      }
    },
    {
      "cell_type": "markdown",
      "source": [
        "Get the number of residues and atoms in the protein"
      ],
      "metadata": {
        "collapsed": false,
        "id": "6xnCFTRfASA6"
      }
    },
    {
      "cell_type": "code",
      "execution_count": null,
      "outputs": [],
      "source": [
        "u.residues, u.atoms"
      ],
      "metadata": {
        "id": "JlBYvsSBASA6"
      }
    },
    {
      "cell_type": "markdown",
      "source": [
        "MDAnalysis has powerful selection tools that allow you to select atoms based on their properties. For example:"
      ],
      "metadata": {
        "collapsed": false,
        "id": "37xnRxGXASA6"
      }
    },
    {
      "cell_type": "code",
      "execution_count": null,
      "outputs": [],
      "source": [
        "# Select the first 5 residues of the protein\n",
        "print(u.select_atoms(\"resid 1:5\").residues)\n",
        "# Select the residues that are within 5 angstroms of the first residue\n",
        "print(u.select_atoms(\"around 5 resid 1\").residues)\n",
        "# Selec the PHE residues\n",
        "print(u.select_atoms(\"resname PHE\").residues)"
      ],
      "metadata": {
        "id": "7Bbj8AkQASA6"
      }
    },
    {
      "cell_type": "markdown",
      "source": [
        "For the `Universe` object, water molecules are considered as residues. To select only the protein, you can use the `protein` keyword."
      ],
      "metadata": {
        "collapsed": false,
        "id": "jxHgIn4eASA7"
      }
    },
    {
      "cell_type": "code",
      "execution_count": null,
      "outputs": [],
      "source": [
        "# Select the protein\n",
        "protein = u.select_atoms(\"protein\")\n",
        "phe =u.select_atoms(\"resname PHE\")"
      ],
      "metadata": {
        "id": "X0q7684yASA7"
      }
    },
    {
      "cell_type": "code",
      "execution_count": null,
      "outputs": [],
      "source": [
        "type(protein)\n",
        "type (phe)"
      ],
      "metadata": {
        "id": "gp-OfLndASA7"
      }
    },
    {
      "cell_type": "markdown",
      "source": [
        "`AtomGroups` are the core data structure in MDAnalysis. You can get the positions of the atoms in an `AtomGroup` as a numpy array, as well as other properties such as the atom names, residue names, residue numbers, and residue IDs."
      ],
      "metadata": {
        "collapsed": false,
        "id": "vuKt_TjLASA7"
      }
    },
    {
      "cell_type": "code",
      "source": [
        "phe.positions"
      ],
      "metadata": {
        "id": "XSMDgy2uzSIP"
      },
      "execution_count": null,
      "outputs": []
    },
    {
      "cell_type": "code",
      "execution_count": null,
      "outputs": [],
      "source": [
        "protein.positions"
      ],
      "metadata": {
        "id": "r8ECW9gvASA7"
      }
    },
    {
      "cell_type": "code",
      "execution_count": null,
      "outputs": [],
      "source": [
        "print(\"Center of Mass:\", protein.center_of_mass())\n",
        "print(\"Center of Geometry:\", protein.center_of_geometry())\n",
        "print(\"potential Mass:\", protein.potential_mass())\n",
        "print(\"Radius of Gyration:\", protein.radius_of_gyration())"
      ],
      "metadata": {
        "id": "kx6kEBjMASA7"
      }
    },
    {
      "cell_type": "markdown",
      "source": [
        "## Working with trajectories\n",
        "\n",
        "The trajectory of a Universe contains the changing coordinate information.\n",
        "The standard way to assess the information of each frame in a trajectory is to iterate over it. When the timestep changes, the universe only contains information associated with that timestep.\n",
        "\n"
      ],
      "metadata": {
        "collapsed": false,
        "id": "Fq2k_ZN0ASA7"
      }
    },
    {
      "cell_type": "code",
      "execution_count": null,
      "outputs": [],
      "source": [
        "for ts in u.trajectory:\n",
        "    time = u.trajectory.time\n",
        "    rgyr = protein.radius_of_gyration()\n",
        "    print(f\"Frame: {ts.frame:3d}, Time: {time:4.0f} ps, Rgyr: {rgyr:.4f} A\")"
      ],
      "metadata": {
        "id": "8TzZq9KFASA7"
      }
    },
    {
      "cell_type": "markdown",
      "source": [
        "In order to collect the radius of gyration, we can iterate over the trajectory and store the information in a list.\n",
        "This can then be converted into other data structures, such as a numpy array or a pandas DataFrame. It can be plotted (as below), or used for further analysis."
      ],
      "metadata": {
        "collapsed": false,
        "id": "05zL29EWASA7"
      }
    },
    {
      "cell_type": "code",
      "execution_count": null,
      "outputs": [],
      "source": [
        "import pandas as pd\n",
        "\n",
        "rgyr = []\n",
        "time = []\n",
        "\n",
        "protein = u.select_atoms(\"protein\")\n",
        "for ts in u.trajectory:\n",
        "    time.append(u.trajectory.time)\n",
        "    rgyr.append(protein.radius_of_gyration())\n",
        "\n",
        "\n",
        "rgyr_df = pd.DataFrame(rgyr, columns=['Radius of gyration (A)'], index=time)\n",
        "rgyr_df.index.name = 'Time (ps)'\n",
        "rgyr_df\n"
      ],
      "metadata": {
        "id": "s3JX4CZEASA8"
      }
    },
    {
      "cell_type": "code",
      "execution_count": null,
      "outputs": [],
      "source": [
        "rgyr_df.plot(title='Radius of gyration')\n",
        "plt.show()\n",
        "plt.tight_layout()\n",
        "plt.show()"
      ],
      "metadata": {
        "id": "LNcVBbT9ASA8"
      }
    },
    {
      "cell_type": "markdown",
      "source": [
        "RMSD is a common metric for assessing the similarity of two structures."
      ],
      "metadata": {
        "collapsed": false,
        "id": "O97CbJt0ASA8"
      }
    },
    {
      "cell_type": "code",
      "execution_count": null,
      "outputs": [],
      "source": [
        "from MDAnalysis.analysis import rms\n",
        "\n",
        "bb = u.select_atoms('backbone')\n",
        "\n",
        "u.trajectory[0] # first frame\n",
        "first = bb.positions\n",
        "\n",
        "u.trajectory[-1] #last frame\n",
        "last = bb.positions\n",
        "\n",
        "rms.rmsd(first, last)"
      ],
      "metadata": {
        "id": "gyaAYEI9ASA8"
      }
    },
    {
      "cell_type": "markdown",
      "source": [
        "In the trajectory analysis, we can calculate the RMSD of each frame to the first frame."
      ],
      "metadata": {
        "collapsed": false,
        "id": "aAQurRxbASA8"
      }
    },
    {
      "cell_type": "code",
      "execution_count": null,
      "outputs": [],
      "source": [
        "u.trajectory[0] # set to first frame\n",
        "rmsd_analysis = rms.RMSD(u, select='backbone', groupselections=['name CA', 'protein'])\n",
        "rmsd_analysis.run()"
      ],
      "metadata": {
        "id": "2xNoc7j8ASA8"
      }
    },
    {
      "cell_type": "code",
      "execution_count": null,
      "outputs": [],
      "source": [
        "rmsd_analysis.results.rmsd.shape"
      ],
      "metadata": {
        "id": "Kgkdlzn7ASA8"
      }
    },
    {
      "cell_type": "markdown",
      "source": [
        "We can interpret this as an array with 30 rows and 5 columns. Each row is the RMSD associated with a frame in the trajectory. The columns are as follows:\n",
        "\n",
        "1. Frame number\n",
        "2. Time (ps)\n",
        "3. RMSD (backbone)\n",
        "4. RMSD (C-alpha)\n",
        "5. RMSD (protein)"
      ],
      "metadata": {
        "collapsed": false,
        "id": "hj5OeUx6ASA8"
      }
    },
    {
      "cell_type": "code",
      "execution_count": null,
      "outputs": [],
      "source": [
        "import pandas as pd\n",
        "\n",
        "rmsd_df = pd.DataFrame(rmsd_analysis.results.rmsd[:, 2:],\n",
        "                       columns=['Backbone', 'C-alphas', 'Protein'],\n",
        "                       index=rmsd_analysis.results.rmsd[:, 1])\n",
        "rmsd_df.index.name = 'Time (ps)'\n",
        "rmsd_df.head()"
      ],
      "metadata": {
        "id": "kxg-WzF4ASA8"
      }
    },
    {
      "cell_type": "code",
      "execution_count": null,
      "outputs": [],
      "source": [
        "rmsd_df.plot(title='RMSD')\n",
        "plt.show()"
      ],
      "metadata": {
        "id": "XjcVKtMaASA9"
      }
    },
    {
      "cell_type": "markdown",
      "source": [
        "# Exercises\n",
        "\n",
        "1. Extend the simulation, running 3 more iterations (See `Resume multiple times` subsubsection).\n",
        "2. Use MDAnalysis to calculate the radius of gyration and RMSD of the protein for each frame in the trajectory. Plot the radius of gyration as a function of time.\n",
        "3. Plot the RMSD of the backbone and the potential Energy of the simulation as a function of time (use subplots). Are they correlated? Why or why not?\n",
        "4. Use MDAnalysis to calculate the distances between sidechains of the three phenylalanines that comprise the hydrophobic core. Plot the distances as a function of time. Is the hydrophobic core stable? Why or why not?\n"
      ],
      "metadata": {
        "collapsed": false,
        "id": "9qXlSczQASA9"
      }
    },
    {
      "cell_type": "code",
      "source": [
        "from simtk.openmm import LangevinMiddleIntegrator, XmlSerializer\n",
        "from simtk.openmm.app import PDBFile, DCDReporter, StateDataReporter, CheckpointReporter, Simulation\n",
        "from simtk.unit import kelvin, picosecond, picoseconds, seconds\n",
        "import MDAnalysis as mda\n",
        "import numpy as np\n",
        "import pandas as pd\n",
        "import matplotlib.pyplot as plt\n",
        "from MDAnalysis.analysis import rms\n",
        "\n",
        "# Number of iterations\n",
        "num_iterations = 6\n",
        "\n",
        "# Lists to store data for plotting\n",
        "rgyr_data = []\n",
        "rmsd_backbone_data = []\n",
        "time_data = []\n",
        "\n",
        "for i in range(num_iterations):\n",
        "    print(\"Resuming from checkpoint iteration =\", i)\n",
        "\n",
        "    pdb = PDBFile('topology.pdb')\n",
        "\n",
        "    with open('system.xml') as input:\n",
        "        system = XmlSerializer.deserialize(input.read())\n",
        "\n",
        "    # Define the integrator.\n",
        "    integrator = LangevinMiddleIntegrator(300*kelvin, 1/picosecond, 0.004*picoseconds)\n",
        "\n",
        "    # Create the Simulation\n",
        "    simulation = Simulation(pdb.topology, system, integrator)\n",
        "\n",
        "    # set the positions, velocities, and box vectors from the checkpoint file\n",
        "    simulation.loadCheckpoint('checkpoint.chk')\n",
        "\n",
        "    # Define reporters\n",
        "    simulation.reporters.append(DCDReporter('traj.dcd', 1000, append=True))\n",
        "    simulation.reporters.append(StateDataReporter(stdout, 1000, step=True,\n",
        "            potentialEnergy=True, temperature=True, volume=True))\n",
        "    simulation.reporters.append(StateDataReporter('md_log.txt', 100, step=True,\n",
        "        potentialEnergy=True, temperature=True, volume=True, append=True))\n",
        "    simulation.reporters.append(CheckpointReporter('checkpoint.chk', 1000))\n",
        "\n",
        "    # Run for 30 seconds\n",
        "    simulation.runForClockTime(30.0*seconds)\n",
        "\n",
        "    # Analyze using MDAnalysis\n",
        "    u = mda.Universe('topology.pdb', 'traj.dcd')\n",
        "\n",
        "    # Calculate radius of gyration\n",
        "    rgyr_data.append(u.select_atoms('protein').radius_of_gyration())\n",
        "\n",
        "\n",
        "    # Calculate RMSD of backbone\n",
        "    bb = u.select_atoms('backbone')\n",
        "    first_frame = bb.positions\n",
        "    u.trajectory[-1]  # last frame\n",
        "    last_frame = bb.positions\n",
        "    rmsd_backbone_data.append(rms.rmsd(first_frame, last_frame))\n",
        "\n",
        "    # Store time data\n",
        "time_data.append([ts.time for ts in u.trajectory])\n",
        "u.trajectory[0] # set to first frame\n",
        "rmsd_analysis = rms.RMSD(u, select='backbone', groupselections=['name CA', 'protein'])\n",
        "rmsd_analysis.run()\n",
        "rmsd_df = pd.DataFrame(rmsd_analysis.results.rmsd[:, 2:],\n",
        "                       columns=['Backbone', 'C-alphas', 'Protein'],\n",
        "                       index=rmsd_analysis.results.rmsd[:, 1])\n",
        "rmsd_df.index.name = 'Time (ps)'\n",
        "rmsd_df.head()\n",
        "# Plotting radius of gyration\n",
        "rmsd_df.plot(title='RMSD')\n",
        "plt.show()\n",
        "rgyr = []\n",
        "time = []\n",
        "protein = u.select_atoms(\"protein\")\n",
        "for ts in u.trajectory:\n",
        "    time.append(u.trajectory.time)\n",
        "    rgyr.append(protein.radius_of_gyration())\n",
        "rgyr_df = pd.DataFrame(rgyr, columns=['Radius of gyration (A)'], index=time)\n",
        "rgyr_df.index.name = 'Time (ps)'\n",
        "rgyr_df\n",
        "rgyr_df.plot(title='Radius of gyration')\n",
        "plt.show()\n",
        "plt.tight_layout()\n",
        "plt.show()\n"
      ],
      "metadata": {
        "id": "dnIqHCnvHn9b"
      },
      "execution_count": null,
      "outputs": []
    },
    {
      "cell_type": "code",
      "source": [
        "import MDAnalysis as mda\n",
        "import numpy as np\n",
        "import matplotlib.pyplot as plt\n",
        "\n",
        "# Load the trajectory\n",
        "u = mda.Universe('topology.pdb', 'traj.dcd')\n",
        "\n",
        "# Select the PHE residues in the hydrophobic core\n",
        "phe6_sel = u.select_atoms(\"resname PHE and resnum 6 and name CG\")\n",
        "phe10_sel = u.select_atoms(\"resname PHE and resnum 10 and name CG\")\n",
        "phe17_sel = u.select_atoms(\"resname PHE and resnum 17 and name CG\")\n",
        "\n",
        "# Define arrays to store distances and time\n",
        "distances_6_10 = []\n",
        "distances_6_17 = []\n",
        "distances_10_17 = []\n",
        "time = []\n",
        "\n",
        "# Iterate over the trajectory frames\n",
        "for ts in u.trajectory:\n",
        "    # Calculate the distances between pairs of PHE residues\n",
        "    distance_6_10 = np.linalg.norm(phe6_sel.center_of_mass() - phe10_sel.center_of_mass())\n",
        "    distance_6_17 = np.linalg.norm(phe6_sel.center_of_mass() - phe17_sel.center_of_mass())\n",
        "    distance_10_17 = np.linalg.norm(phe10_sel.center_of_mass() - phe17_sel.center_of_mass())\n",
        "\n",
        "    # Append the distances and time to the arrays\n",
        "    distances_6_10.append(distance_6_10)\n",
        "    distances_6_17.append(distance_6_17)\n",
        "    distances_10_17.append(distance_10_17)\n",
        "    time.append(ts.time)\n",
        "\n",
        "# Plot the distances as a function of time\n",
        "plt.figure(figsize=(12, 8))\n",
        "\n",
        "plt.subplot(3, 1, 1)\n",
        "plt.plot(time, distances_6_10, label='Resid 6 to Resid 10')\n",
        "plt.xlabel('Time (ps)')\n",
        "plt.ylabel('Distance (angstroms)')\n",
        "plt.legend()\n",
        "\n",
        "plt.subplot(3, 1, 2)\n",
        "plt.plot(time, distances_6_17, label='Resid 6 to Resid 17')\n",
        "plt.xlabel('Time (ps)')\n",
        "plt.ylabel('Distance (angstroms)')\n",
        "plt.legend()\n",
        "\n",
        "plt.subplot(3, 1, 3)\n",
        "plt.plot(time, distances_10_17, label='Resid 10 to Resid 17')\n",
        "plt.xlabel('Time (ps)')\n",
        "plt.ylabel('Distance (angstroms)')\n",
        "plt.legend()\n",
        "\n",
        "plt.tight_layout()\n",
        "plt.show()\n"
      ],
      "metadata": {
        "id": "jREgaQ286Hrh"
      },
      "execution_count": null,
      "outputs": []
    },
    {
      "cell_type": "code",
      "source": [
        "print(phe6_sel)\n",
        "print(phe10_sel)\n",
        "print(phe17_sel)\n",
        "!grep \"ATOM\" topology.pdb\n"
      ],
      "metadata": {
        "id": "B1NMK-fIGD3w"
      },
      "execution_count": null,
      "outputs": []
    },
    {
      "cell_type": "markdown",
      "source": [
        "# For the project\n",
        "\n",
        "This could take plenty of time, so please, start early!.\n",
        "\n",
        "1. Use OpenMM to run a simulation of your protein of interest.\n",
        "2. **OPTIONAL** Execute the simulation until observe a stable RMSD and potential Energy. In real life experiments, you will need to run the simulation for a long time.  \n",
        "3. Use MDAnalysis to analyze the trajectory. Calculate the RMSD of the backbone and the potential Energy of the simulation as a function of time.\n",
        "4. Compare the last snapshot of the trajectory with the initial structure and the one predicted by Alphafold. Are they similar? Why or why not?\n",
        "\n",
        "The first step could be complicated. Most of the PDBs contain water and ions.\n",
        "You need to remove them before you can use the PDB file in OpenMM.\n",
        "You can use [PDBfixer](https://github.com/openmm/pdbfixer)."
      ],
      "metadata": {
        "collapsed": false,
        "id": "1bhtSDWpASA9"
      }
    },
    {
      "cell_type": "code",
      "execution_count": null,
      "outputs": [],
      "source": [
        "if 'google.colab' in str(get_ipython()):\n",
        "    # https://github.com/googlecolab/colabtools/issues/3409\n",
        "    import locale\n",
        "    locale.getpreferredencoding = lambda: \"UTF-8\"\n",
        "    !mamba install -y -c conda-forge pdbfixer"
      ],
      "metadata": {
        "id": "bGy0EahsASA9"
      }
    },
    {
      "cell_type": "markdown",
      "source": [
        "For example, to create the villin.pdb file used in this tutorial, you need to execute the following code:"
      ],
      "metadata": {
        "collapsed": false,
        "id": "lm3-Dmw6ASA9"
      }
    },
    {
      "cell_type": "markdown",
      "source": [
        "![VDM_topology1.png](data:image/png;base64,iVBORw0KGgoAAAANSUhEUgAAAekAAAL1CAYAAADjMhzqAAAAAXNSR0IArs4c6QAAAARnQU1BAACxjwv8YQUAAAAJcEhZcwAADsMAAA7DAcdvqGQAAABhaVRYdFNuaXBNZXRhZGF0YQAAAAAAeyJjbGlwUG9pbnRzIjpbeyJ4IjowLCJ5IjowfSx7IngiOjQ4OSwieSI6MH0seyJ4Ijo0ODksInkiOjc1N30seyJ4IjowLCJ5Ijo3NTd9XX15u6lpAAD/OElEQVR4XuydCaAkVXX+72iiiZh/djVRk1FBQgwuY1xwSUAUhcmiJKITlziCg7KDoqIOqJMIbiziBoqjuKDDqjJsshkVRJSIRHFkhFEEAePyT2KWv8b3r191ff1O33dvLb281++988E3VXWrul91dXV995x7zrkr/vAP/3AmOBwOh8PhGAtWrFhRrY2Ou1VLh8PhcDgcY8DMzEzJcWBqLOlxfSCHw+FwLH6M0xpdSIz6ObIi7aLpcDgcDsdcdBXeUYR6wN0tE90F2uFwOByONLpq5SiaWlrSvME97nGPcO973zvc8573LHn3u9+9OsThcDgcDofw85//PPzP//xPyZ/+9KfhZz/7WbWnHsNY1Cv+4A/+YObXf/3Xw33ve9+wzz77hIc85CElf/u3f7s6xOFwOBwOh/DDH/4wfPvb3y65adOmcNddd4Wf/OQnrUS4s6v8MY95zMyuu+4a9ttvv/D7v//7VbPD4XA4HI4m3H777eG0004L//RP/xS+//3vV615dBXpuz//+c9//dFHHx1+7dd+rWpyOBwOh8PRBmjnn//5n4dt27aF733ve+G///u/a4W4q0jfbd99961WHQ6Hw+FwDAO80fe5z33CL//yL9cGirGvSyDZin//93/3UG6Hw+FwOEbEhz70ofC2t70t/OAHPyi3u1rNKXjFMYfD4XA4xoCHPvSh4Vd+5VeqrfHUG3GRdjgcDodjDNhhhx3Cr/7qr1Zb40Gtu/vCiy4p/m3fE+j1GlYUr5gJ9/3d+4Q//dNVvR0Oh8PhcCwD7L777uHrX/96tdXDKG7vWpH+7FXXhj/4wwdVW/X44V13VGsFihO67stfDOv286A0h8PhcCwfpEQaDCvUjSK9/YP/CBO5aimWxd9hE2t5+5X3LfPC5Hf/zd/67fDfP/tZuOcv3T2c9oGNLtIOh8OxRPDFL34xfPOb38yOsyJCf/RHfxQe//jHVy3TgbPOOis88UlPCr93v/tVLYP4/h13hC98/vPhb//2b6uW0TDvIn3qP90WVtx9Jqz4pV+Eu/3S/5bLHn8e3r3mOeG//us/wy9+8Yve8TfcEa6/9c6w31P+KFx44YVZkT7vvPPC/e9///CYxzymaunh4x//eHjkIx8ZinMKN9xwQ9hzzz3D7/3e71V7e+Amueqqq8ITnvCE8oa4+OKLw2233Vbt7SH1OuEDH/hAOW7w5Cc/uWqZBX//N3/zN8PTn/70qmUurr322vLcXvziF1ctDofDsfTxwQ9+MDzzmc8M97rXvaqWQVAi8+yzzw4vetGLqpbpACL82SuvDH++665zhLpu37AYt0g3Bo5td69fCr/+fwr+2t3D/ymW/+f/FMti/dd+7ZfCv//Hv4ff+Z3fKflbv/Vb4W6//POw3W+F8KMf/6h6dRoIdCysiC9RcQiv8LWvfa1am8V3vvOdam0WO++8cymaEPGmg4CY5nDTTTdVa7Pg7//nf/5ntZUHHQsXaIfDsdyABY1AM89DihT1GEc087iB+CLCiDGiLExCoCeBRpG+171XhHsXovzv//sf4V//68fhh//94/Cj//lR+Mn//Lj0fn/3u98teeutt4a73ePn4Zfv/bPii+pZ1jkgdD/60aCQI762XnhKyMGPf/zjskOQAyKPUFNTNQfeOxZx/j7tDofD4VhaiIV6sQg0aBTp//j5T8O2H90R/t+K/ypF+O6FtXz3YvlLv/yz8ItCjOk5iXf7pUKk7/k/4Rf/+7/Vq/NAaK1QIr7bb799tdVDLKaf+9znWgkpQl1nFf/hH/7hQAeAcfVY/GnDNS7ytwEWN+56u47LXce1qd3qcDgcjvmFFerFItCgUaT/6xc/DXe/J8L8i0Kg/7dYFizEmHWEGdFkYo77FR/2bnf/efiVe/1X+N9f/Lx6dR68Tta0XN3xOHIspqynxpJTwC2TE0xEnPqq2r9169Zy5i8LzkUudJhykQM+A+LOMYx1p1z0DofDYbFx48ZWdDgaRRqr+e73LIS5sJx/CQv6l34WfrkQaCzpmV/Mjj8g2E9+0MPDLnf/k3DvX7131ZoHLm8JMCXUUhayxqcRcSxqgrraAks6FzwGEGUJKgIcB7EBayHngEDrtb/7u78b/uu//qtcdzgcjhzWrl3bio7xwbq4ret72tEo0r/yqyvCL2NFV65uhLp0eRfWNFHd8H//t2dVQyzqtnNRI8wIMGL9gAc8oGodBMcwXswxWNZtgKDXjVsDdRI4NtVBQKCxxmVJOxwOh2NxIh6Djseopxm1Ik3A+Mzd/ifc7Zf+X2k9/3JhPfdc3YVVjUjP/KJ0Gd9RfEiWVrTbACH96le/mnR1C9bitpHfOSC6pEg97nGPq1ryQJw59uEPf3jVMgjVYLXj4g6Hw7EcQQoRaVY54L0cNs1oksgFiS0WoW60pEmrukdhSd+jFOlieY//Dff4pV8UIl0I8v/+IvzsZz8r+fOf/7xcItBtRRoB5otNWbIWjPXWHYPQyi1NVDeWb52rW0Cc6SikjsVq1/vGkegOh8Ox3ICRRB50auwcbtq0qZUhNd+gUEks0IKEmmOmFbXFTK78/DXhkTs/LPzwRz8sLWS5tH/BstjebrvtSpcwY9M/L4T5F7+AvygE+3/DpZde4hXHHA6Hw7GsMK8Vx2QlDwNOaNyzgTgcDofDMc2YV5F2OBwOh8PRHjmRBsMIdeOYtMPhcDgcjoWBi7TD4XA4HFMKF2mHw+FwOKYULtIOh8PhcEwpXKQdDofD4ZhSuEg7HA6HwzGlcJF2OBwOh2NK4SLtcDgcDseUYsVPf/pTL2bicDgcDseIoFT2Yx/72GwxE9C1oMmK4s1cpB0Oh8PhGAGbN28Or3zlKycj0qi/w+FwOByO4cAsYJMQaR+TdjgcDodjSuEi7XA4HA7HlMJF2uFwOByOKYWLtMPhcDgcUwoXaYfD4XA4phQu0g6Hw+FwTClcpB0Oh6MG27Ztq9YcjvlHC5HeFk7be2VYuTLNo67gmCvCUSv3DqeV97JdnzT4W5zHUcVaDJ13al8K83Xe83l9ZnHFUYPf28p5+6y6R1JYmGsxiNz9HZ/XuM51Gj4z6H034/ntTDP0OVNs+ny963DEZdXmRDEt90UTMue57bSw99Q9axcGMzPjrQ/W2pJetf7KskcZ89jd2LtbOHbbOWHfleWh84xVYdWqM8Il8d2x7bKwmX3V5vJF7yG1Nmwc/O427hg27FonoPOBhbxvBrFmo7k2yeszPec6Piyf386c77fkscW3Oi1YiveXYxwYk7u7rmcUWSp7n1a0jBerV68JZ0RPmm2XbQ47rl5dbQldzqXh2LLnmNrXE8UB8bviqOK4XC9zstfniqPWhjPWFALd603NYrdjw5XrV4UzTtbf4zyK7/A0zpVzqb5P+zkrzn626nu/wh6T+Jw32/32Ponum+w1Zdfe1evj95gQ5lyfwXPNn0/LayLUXN/S+xH1osq/G7WNgvH8dprv+frvb7K/gSaU59b/m9W5HHVasdw1bLguhOs27GquedN1iL/7wc/aeN/0tyf1d+YLbb/Tjr+XZYgJj0nzRe0aNq+etcKvXL057DruH+Hue4Q1Z1xivtht4bLNO4Y9dq82S/TOZcOOsxblxh03ZM6l6byLG2vXDWHHsnd+ZVgfNoQjhvoVTPr6XBEuOWNVWL9/2l5Yue85Yds5+4bZzvt1YcPm7cOV5bnQq7efs8eNa0I4Y639ERWvWbs1HKzzX78lrI1+ZGdsmN2/cU1x/BGpz1dzTYsH/q4bdgwbq/foWbmT/yGv3H11WHXd5nBZfLKN59N8TXqov7677cFGfF9fF9bsMUb7b+y/nQRqr9c8PSNqsHLfg8Oa6zaEUzih0ouwPlx57L5h33OK+3BV5UUsO7ltznXwux+431vfx22u9zj+zqTQ9Ttt+3tZnmgt0mVvst/T6XHvJmG64pSiJ7omHGx8OCv3Pb58AJc/iLFht7DHGuO244e24x6DrizainPZaCzK3Y7dOPvjtGg67ysuCWeENaH3rFxZ/Ji3hXOG8VNN+vpsuzlsCTuGB3c4tVWrdzeijQtOQxo9lMIRYc3GWbdh+cArro41zuz+8vXXbQ23VNt9dLmmhZU7L67KlQ8urt51Yeuck42QOJ+ma9JDw/XdrRBQ+7rqHh6nRnMOY/3ttIG9XvP0jDhj7eCzq2TfOi6+h6J3hEfhilOKTtPBtuNq0PJcW93vIHcft7zeI/+doVGI6q7RtSw6m9dVe4f5Ttv9XpYnRhqTbhKmbTdvKf49o+gV2S+050LacnODwHfEg7Zf1X9P3HVh+weV633csjVct2r7MNj6oFC8bM65NJ13uX/Oe3XHfF6fPua4VwddYTsmFR2XVHX82jOqNmFVdKnT17QJtdd0t/0Li2b2Oo3R2zscGs+n6zXJXV8EFGO69we4r69bEwnoGDDO304SNddrvn4DyTHpgd5RcY5b1paxG7bZYuRzbXsfT/B6jwerwvoro2t55fp+DEP36zSeZ8hSxYTd3QVWra/cp4McyvKsAa7JsPmyULx74DmzevcR33+eznuif6e0BLeEgXt95b7hHP0d88NKQ+KxNmxRJw1/7LyjZ1nz93vuYM5pHsbZSk9E/AAB4zqf5uu72/7Fd1S6oyfg6q4w9t/OHDRcr/n6rdXilrC1EJHB4YUERjrX+bqPF+j3YjEV3+nSwERFeuWDd8y7YMaNlbuH1WFzuOyKy4p/V4c5z5kHbR9WzTmX3g8zth6bzntcn2vy1wdL7LqwYVi/IS7o6seW/3HF7uD0NW1C22ux27H82BkrvK7Qlck+dUrLdVXiXjJIn0/La9Lm+nJfF1bRJadNwtVdYYy/nSbE12tenxE12HbayWVHifHQkzNqNs5zrb2PJ3i95wPdr9N4niFLFZO1pOV2sQEDVxD1OZneIwbBhrUbMAWKrQjVw26t8f2Ukc/FQ3JOXFXTeUdjhYMRtz1XzWzE7LZw2smxi7jCPFyfcizrjLVzoytxe9txpBzsj43XlO7YQevcBpJlr2kT6q5peU1MIEk5ZrdqAhafQRl8U1iuqfHJFufT+po0Xl/u61XhjA3FdzUBV3cPo/52Gu75uus1r8+IDIrrfsSGHcsxVMZDd9xwRPpvj3quLe6bEl2eVSm0/TuTwhDXaSzPkCWKCbu7cbsUvbiwIeyqsYm1W8L6KyeTD1hG4xb/pW/G6ly2FIJVncvaLYUVMxDdLDSd927h2CvXhy2lG2llL5KyP5DFaythLF97RAgH59zK83F9esFJZXSl/gbsRxXX/K3djg0b1xQ/tv5riMAsPlvU812zJvSPyV/TJtRc0znnwbmP9x7quQQNy+9hMKirjxbn0+qatLy+vfu6eM+JmNE9jPbbabjna6/XfPwGEt9vRXSQYLHZDpD1PvU6SLMpWCOea+v7uOl6N2Aefi/16H6dxvMMWZpY8fWvf31mu+22qzYdji5gTHVtCIXY54Jtlh8mcE1KrwcCPs4IXYdjGrB0niGbNm0Kr3zlK8NjHvOY8I1vfKNqnYsVK1ZUa+0w+cAxh8MxEsqI6/X7u0A7HMsQLtIOx7QCC3rlyrDr5tXh+PnzVTocjimCu7sdDofD4RgR7u52OBwOh2ORo+ssWS7SDofD4XBMKVykHQ6Hw+GYUrhIOxwOh8MxpVjxlre8pZuD3OFwOBwOxxy0CRwDXYLHONJF2uFwOByOMWDsIr1t2zYXaYfD4XA4xoBnP/vZYxVpH5N2OBwOh2NK4SLtcDgcDseUwkXa4XA4HI4phYu0w+FwOBxTChdph8PhcDimFC7SDofD4XBMKVykHQ6Hw+GYUrhIOxwOh8MxpXCRdjgcDodjSuEi7XA4HA7HlMJF2uFwOByOKYWLtMPhcDgc84iZmfZTZrhIOxwOh8MxpXCRdjgcY8G2bduqNYfDMS7Ui/S208LeK48KV/Q2wml7rwwrV8bcO5w2pt/mttP2Trz/LI/qnUgn6D2Hee34PnPufXqsP7crwlHlcfoeLPS+qX0p8F7j+77ymK+/45hP5H9LvfvwiMuqTYfBKL/9pYrqmmQ+fHmf7X1acVQTlsdzprMlvWbjtrLH3OfGHcOGXcdzs63c95zZ971yfVhV/Lf+ytm/dexu1YGtcUU4ZcN1YdWqVeGMk9t86WmM6zOvWn/l4PtUbP5cxZVYdUa4JP572y4Lm8ur5HBMGuP5LS1XDP/bX4pYGfY9eE0IZ1xS3FUxevfZmoP3LY5ygNHd3bsdG65cP6U/3CsuCWeENeHg41eHVddtDpeN6wQX4DOvXr2muKcHb+ltl20OO65eXW0JUc+9tkfacGzpSUnt61n3A52UK44qjstZ9F3OyTGVyP6W+G53DcVzNVy3YVdjHdV85+V9VVhAp3HPVPt5XXkPme0Kgx62pWg5ca3s9ag+o/39VZy9vN2uYe9vVO0w+g3O+zXebY/ibkoYHtV9tke/8+LPjrGMSa/cfcwiOCZccckZRQ92/7Dbyt3D6lXXhc1jPMF5/8y7Fzf1QM9zW7hs845hj92rzRLVA3PHjf2e+sYdN4Rdkzd279jNq2d7+Feu3myOLYR41w1hx9KLcGVYHzaEI4b65Tb9HcdiQP63VFhF5xT3x6rKWixNwzb34XVhw9Y9evs3YlWtDSsvqbbxop1xck8oCtHZdcOOYWP1Pj0vVtvhncWE4nps3j5cWX7Oc8K+K+3vr8feZbKfveU1bPoNLsg13i3sURrTg3+F+yys2aPYC7o8z5YuxhM4tvLBYcfihtl6S7U9DSh6miefsSqs3h2nycqw++pVRU//lPHdeEN85tLS6PdWe9y7tfBxU5ueJ67uHXUzV6DtujVho/Gh7XbsxrDmug3hlPiDX3FKYf0UltG+s06llfseX4pxeexAj5YH8bZwjjm2NZr+jmP60fW31PI+XCNzqbSqzHbdb2u3Y4uH9bGD9/0iQJvf/qrVuxsX727h2EKUrDt8N1QtQqtr2PU3OE/XeLf96UhYw+OKcElxn63fv/rLXZ5nSxjjEekpBK7g61atDuVzpcDKfQ9Ou1fmEalxqS7C96DtV4UtN/d+2Hy+sP2DyvU+btlafObtw2Drg0Lxsv7rhG03byn+PSOsHXhw9NyWHFvun/Ne3dH0dxzTj86/pVb34aro9o23K+y2f2Glz94/Ax7cRYQ2v/0dH5x6FvSGlsrfzdrCyhxAu2vY+BtcqGtcemXMfYRhYO6zLs+zpYzxiPS2m8OW3I9sQdALPii6r2HX/k25trhNi1t1XOPIC/CZcbGHzZcV54+rO1SWzQhYtb5yr9U/PEbGfP0dxwQwD7+lWvS8ONwvPY8uf38pjkvHkDivDVsk8FyAYVH7G1yoa9zzysjlXQ6pDHgTHGAsIh33tBcclau2P8YicgeOaRx5QT4zPc9QnP8VRHUn/vaDtg+rrtsaBr2Et4StxTM27qWvfPCOxbWIj51F0/62GNf7OBYIw/yWOtyHXbDbsfxtxr/HG18ylSityp6wjtqZ7fIbnO9rXMb24PIeGFKpMKH7aLFhdJEugw6mK2R+MPjAoHTrjOHmW7DPTM8zhA1rN2BGz/3blftorfFXXXFUYfUUP3YN8/QhF5cNwigjQ6sedBR9WUZ/9t+353KaDfrYFk47OXbFVWj6O46pxlC/pS73YRPKe8UEMZXjlNHDfKnCChTR3KW7e0vo7Olt+g0u5DVeuW84mFibU7aG69YcHAb6I+O8jxYxOot0zxViuHZLmctsAxwWFFWPrB98MIDhAsim6TOXPc/iv/QPqIq03bK2f65rtxS98XNSnYnq2GDcmOXnIrKU/buFY69cH7ZUn72M/ux/YF67MawhmrR87REhHExeewpNf8cxtWj9W9K6UrC63IcN2O3YsLF4iPfHU8uI52Vw78z53FvDwduK39xQAboNv8EFvsYExJ1xxhmzQW99jPE+WsRYsW3btvaVvh0Oh8PhcGTx7Gc/O3zjG9+otvJYsWJFtVaPJRvd7XA4HA7HYoeLtMPhcDgc846HhnUbN4Z1D623qF2kHQ6Hw+EYM1aseGp47bnnhk9+8pPh05/+dMFTw0sGBPlb4X2fuDX87TvfEPascX27SDscDofDMUasWPGQ8PfvPCDc/5NHhr/+678Of/mXfxlefl4Iz3rlfuGhRpBnLjo6HHTWA8Phb3xG1TIXK97ylrd44JjD4XA4HCPiwAMPDLvuumu48cbfC0edfWBY8e6/Cf94aU9iVzx03/C+Ex8Yzlr9hnDRzEw/cGzFimeEN1783PC9g9eGU7ak5ZhWp9PpdDqdQ3LTpk0zP/3pT2ce85jHzGy33XYzjzjggzOXXPKhmYMeee+Ze9/7WTNvvvzymTMOfVS5T7z3vdl375m/Pf6qmbNf/uj+tiVSPlOgWDgcDofD4RgGZ555Zli9enVpSSsFa8VTXxvOPegx4e53v3u49uS/Cm+8ZFBrZU0/dN3G8K4nfjEc9KJTw5ZIj31M2uFwOByOMWP315wdzjkwhHc961nhr/7q5BAO/lTYfMzTq72DuOm7t1Zrc+EivciwdevWas3hcDgc04gVD/n7sPej7wifPPJN4TOFZTwzc0nY8PLzwvcf++wowruHHf7ggSHc+t05VjTIiPTWcOITVpSmOHzCiZMXhq0nPqH/91Lc/8LqwA7Qew7z2vgazPIJodvlKA4u3qd4YZqtz613Pi88v9qcOC4M+3f+rKOi9xmH+75qcOH+xaXev7rUfK4J/I1lhabvadT9BbaeWPxs4vuv9931f4uL9kuc0H2+aNG7Hvpe50NvJo6bvxduC/cLj33SQ6qGAivvH34v3BpuvanaNnjwA+4fbr/15mprEAmR5oLtEA7f+QIGqwteEHY+fIeJX7jtD7uq+nsFbzoh7FL8d8JN1XbBU/asDmyNC8NbD7867LLLLuHUDScWn2o4rLtg9hxKXrBzOHyHIX5gJxTfTPH6Oez8uZYqqvvu6mrTMaVo+p5G3Q+KY154eBg8hNftFU5dp+fSTeGEG/ZahELd5vMvJ1TXY571ZtKYmbksHPuqT4Xw128N5513XvjUpz4VPnXwA8K5h7+xjOy2ILr7CY+/LVx15beqlkHMFemt54dNVxcCeaTUY89wygXrwtWbzi8u5yLCheeFU8O6sP70fcIuV28K54/r5Pc8Jdx0wmjCPwz0w766uIFnH0zc4MayeII9p8oSvhCLRMfImhTqXh+j6Vhr5RR/98RZ6/XC/Yu26GFaejmqtp7Ho/h8xfe1bpeyqQZtPld0Lsx5H2NL3esdKTR9T6PuF7ae+MKwaed1RTfd4MK3Fvf/unBBv7e+fTjs9KIzf+qGefb2DI9u9/kywVLRmwRmtn4oHPCsZ4VnPvOZ4a/+6q/CX/7luvD+bw0KNNjhJc8Jj//iJ7LpV3NF+qYbw9W77BP+YvtqG+ywUyF0N4aElT61uPC8U8MuJxwZ9tz+L8I+u1wdNo1NpYvHw1+MWfhb4LCrCsuh+GHvUljkM+WDKu6BzoQLdj487DAgnleHw/e6Mayv9t90wg1hr74gtXm90HQsorhXuIFzY/9N+4RNh59a7gF7PnNdCKeeZ4Rwazh/09Vh3TP1w9wnXMDrrjoy7FS11KPpc5lzmVkfbjTnIpx6eO71jjyavqdR9xfYemJ44aZ9wulHDh6xdcsNxc2/U9ih2i6x/Y5h5+JeuHHRPJi63ufLAEtEb4bGM94Q3vm3t4bjj7m4apiLOSJd/hiSuCFsmUdRGgnFD33DqbuEfcpvfvvwF/vsUligbx3fQ3iYh0NhARfd6EGOYgKUPVBrWWDkXxDWXX14eKv5oOsuOKXvUd/+sPVFH/7UcB77W76+RNOxeC12OSGcflj1S9v+sHA6PQphz2fO/l1QvZ80evvDDuvs9c9+rsriWq9zqXrmMbKvd2TR9D2Nur+4McKJL9wU9jn9sOJXO4jtd9y56JtFD+6tW4qn0uLBMPf5UseS0JshsWLFjuEl+zwwnHXQMXNc4BaZwLHFja3nbxronU3FQzg1Jt0XkiFQ9kAjy6LY2qnQxhv6d/cuYaeBA8z+Vq+v0HBs+UPbeceBB2v5UO1jz9AzpntfQPn9rHvmCA+s/OdKWlz0zKvVHmqui2PBULq59zk9/bOoOnp7mWGTC98aj1s7HIsHMzNbwvte/OJwasIFbjFHpAcfrhY7hx1H0JT5Qy9grDCdww7leCPcq/h5FyIxrnHksgcfP+gdddjzSMYPcXnHrm6Ho4Dc3NmO657hlJkLwrpT96p+0yvCec/sDQE5Fi8Wv95MHnMt6dR4QNKSmlJUAWPl2I8lLs8xjSPHlvqCIDluc1O4seif7Ny/u2OXvNnf6vUVGo4tf2g3bBnoAM1xY5WxAaeG804cdHUPh/znSrpFuX+r1R5qrotjQVD+pmzHeges5KujTAqEevY3fcoO47iXHAuKxa4384C5Il09TGfdSheG/fc6Neyyz1/MGSeaRhAwVphpc12pex5Z9LrHEEB24f5hh8JSX7d+7rjZvGLO98Sp7VWODfcDJQucutdsQNTA/pavL9F0LNc2HB5e2B9jr7wZA+jFBpx6ePHwHcnV3UP2c5Xf89z7N0b29Y4FwUAKJjRpmL04yThvmvHrw0MgOLRqcSxCLHK9mQ8kxqS370USk4NYuYqJlL1qlPHTeQQBY7Ph/BbDBZCdulfVsxf3umH2wTGv0PkrBSv+nlaEvW44Idx01WDnYd26EPZK7m/3+h6ajmV/L7+xt39D2OmE4g9HveEyKr5YdnV1k8IV5022/1zVuQyguEcu2ClsSL7eMZXY/rBwVVWjoPe97hA27bN4nkuOHOLf6+LSm/nAioJFx7V+4NqxGNFLiwoXLESHogBVvjbsNCh+WEM7kPo0G1ndHQv8uRwOhyOB1AQbTaBj0oQlGd3tmGeUZTcjV+SGuS4rxh3dPelwOBzt4SLtGB1lFTZSwTOuyHI8cUXYoTZ61+FwOBwx3N3tcDgcDseIcHe3w+FwOBzLDC7SDofD4XBMKVykHQ6Hw+GYUrhIOxwOh8MxpXCRdjgcDodjSuEi7XA4HA7HlMJF2uFwOByOBUCb9GcXaYfD4XA4phQu0g6Hw+FwTClcpB0Oh8PhmFK4SDscDofDMaVwkXY4HA6HY0rhIu1wOBwOx5TCRdrhcDgcjimFi7TD4XA4HFMKF2mHw+FwOKYULtIOh8PhcEwpXKQdDofD4ZhSuEg7HA6HwzGlcJF2OBwOh2NK4SLtcDgcDseUwkXa4XA4HI4phYu0w+FwOBxTChdph8PhcDimFC7SDofD4XBMKVykHQ6Hw+GYUrhIOxwOh8MxpXCRdjgcDodjSuEi7XA4HA7HlMJF2uFwOByOBcLMzEy1loaLtMPhcDgcUwoXaYfD4XA4phQu0g6Hw+FwTClcpB0Oh8PhmFK4SDscDofDMUY0BYN1gYu0w+FwOBxTChdph8PhcDimFC7SDofD4XBMKVykHQ6Hw+GYUrhIOxwOh8OxgKgLNHORdjgcDodjSuEi7XA4HA7HlMJF2uFwOByOCWPF014XPnXKi8NDV6yoWtrBRdrhcDgcjkljyAInLtIOh8PhcEwpXKQdDofD4ZgAdn/1meHss88O5557bjjnwD+tWntYseKh4SWnXRguuuiikhdffHF44zPmusJdpB0Oh8PhGBN+txpzfsqrPhFeGt4b/uZv/iY861nPCnu/68tlu7DDfq8Me3/vpPCMZzyj5NOf/vRw9EVzXeIu0g6Hw+FwjBErVjwlPGbVHeH8My+vWjJ47C7hGTWBZCtW7Ogi7XA4HA7HWPHg+4ffD7eHW2+utg1kK3/rffuFQ895QDjswp7L++I3PqPaY/CMF7hIOxwOh8MxaWz/wAdUa7P41vv2LV3de+55aDj7gYfPEepnPPFxLtIOh8PhcIwVN18VvnzHqvCsFzy43Fzx1NeGt/zV/cr1FGZmtoQrr7692uphxY77h+c+7hoXaYfD4XA4xomZmW+HD7/j/BD+8rgyuvucvW8LrzSBY0R27/f+zeHCytUNT97l6nDwMRdXR4Tw0F13Cb9/zRcCI9YzdcW9HQ6Hw+Fw1OPMM88Mq1evDrvuumv4+te/Xghxt8pi9vgVK/YMb7z4OeF7B691S9rhcDgcjmnCzMyFYf0eLwqnbJlxkXY4HA6HY1rhIu1wOBwOx5TCRdrhcDgcjimFi7TD4XA4HFMKF2mHw+FwOBYaz3hDuHjjujnzTbtIOxwOh8MxpXCRdjgcDodjSuEi7XA4HA7HBPCUV20KZ511Vjmf9LnnvjY8LXJlP+MNF85WHTvscVVrD8yAtf+HPuMi7XA4HA7HuKD5pB/8/BPDY659Tvjbv/3bcj7pd335T8NB71kbdqj2P/2YzeGQmRPDnnvu2ZtT+sRrKP9Z7gMPXXdU+JvvHu8i7XA4HA7HuPDg3+ktv/3hQ8ObL58V3cuusbW79wiPf+z3w7kfu6RqyeBxT3CRdjgcDodjXPj13+otVzzkBeEdm3ru7nPOOSecc+Cf9naAHR4YHhhuDd+9qdpOYMspLwoHn/1AF2mHw+FwOMaF//sjLOWHhOcfsjqE848q3d1777132NvMgpXCQx/4wGptFgi1i7TD4XA4HGPCzf/Kv38Qfv++Idz2vZvLthUrnhpeYy3pmz4Xvvj9x4Zn77dDubniGW8I7/ib3y/XY7hIOxwOh8MxJvxgZibMzFwR3nLqP4dHv/QTpbv77LOfFW571yfD96tjZma+FU57y7khPOvEMrr7gn2+Fw458ZpqL6L+0LD/By8Jl1xyic8n7XA4HA7HqIjnkwZd5pTOHbti06ZNrtAOh8PhcIyIiYj0T3/6Uxdph8PhcDjGgKkV6e222y685S1vqbamDwceeGB417veVW05HA6HY7kDXRgn0MHHPOYx4xXp4s1GFunNmzeHV77ylaVIs5w2bNq0qXRDINLTeH4Oh8PhmF9IF8C2bdvK5SiQDo5bpMvo7h/84AcjMQaBaNPEGD/96U87EaTe1+l0Op2LkzFS2taFk0Ip0vjQxRiptqUAek5t6C5yh8PhWN6IdbBOM8eN2jzppSrQgnpAr3/96we4cuXKifeOHA6Hw7F4sFB6mBXp8ZzQhWH/FStKX/uKJ5wYtlat0why3ESHw+FwOGJMUqhTLniQFOn4RNhOsR5bw4lP2CuEC3r+/5v22RR22P/Cap/D4XA4HNOFlM5Bi3h70pgj0uM7gZvCjVevC8/cs7e1/V/sE3Y59bzCtnY4HA6Hw9EGZQrWwx72sGqzG6688spy+aUvfWkgBas027eeGJ7wwhBOv+qwsH15FK7vDWGnm64Kh/Ua5g0q16YULCK2CQrTmDPt1s3N/muvvbZc12d79rOfXW47HA6HY3Hjgx/8YJkyZVOw0INhjNRYB4dNwQLJ46s86aFYnFzJQpzLbS1LXLBuJuxywsxNva0CF8ysC7vMnDDbMG+g9GkhvP3zY53PrfMvBLj/mbQ//mxOp9PpXBrkGS9dsHqQOraJsVYUIj1zr3vdq+R2223Xife+973nsDa6eyTssFPYpVp1OBwOh8PRHZNzd5fu7fPCM2dOCeWwNO7vHW4M67U9jxiHu5s2h8PhcCwNLBZ39xyR5g+2PdF6kSa6e4ewaZ+bwlWHbV9o9BPCDjeuDzOnzLdEj0eke5/J4XA4HEsB0gUwzSKddHfrjwpsp1iP7cNhV10Qdj58h/IP77Bpn3DTAgi0w+FwOBxtkNI5aBFvTxrZMenxnMie4ZTCAsUKnelHeTscDofDsfgw3wINagPHFuKEFgKE4+PiFh0Oh8PhsFgoPSxFmj8uxliqQk3QAGMIkDHpmNrncDgcjuWNWAfrNHPcmFwK1hRju+22Kwf429LhcDgcjoXAiioBe2QgZkR3M4PUNELR3dN6fg6Hw+GYXyi6G20YB9DBsadgFRxbbpGP5zocDodjMQHP6jgxikiD+DUrCmEdi0jzQccp0rwfuWuO4bFp06ZqbXniwAMP7OfCTwN+93d/t1pLg3seb9R8gGvThKX0G1zuv4X5wHz93pp+R10wCd0au0hTzKRaHxoEYWHm82HH8aPW+7lIjwYeTMt1TJ3Pjitr2kQ6d0/rnldBoElC1wY0nc9SEunl+luYD8zn763ud9QFk9KtcYt0GTjGhR2FMVLHdKFjvCjz1BcZ+eEMy2lHm3s+dU3GxRhtzmepIHU9nPVM/cYsFwqp+7YLY6SO6cJJoXV09zjmmeY9YjocOdC77cpxBYA4HI5ZpH5rcFp+b5PQlnG8xzjQSqSX0geeBHD1tOU4x1OWA1I91jouNkzD72Ip/zYd4wNzPMScZiwV3WoU6aXyQScNxiKa6OlfiwzbTgt7rzwqXFFtjhvj+V0wkc2KsP+F1eaQWDq/0W3htL1XhqMm9aU5FhWWgn7VivRS+IDzidR4juVUgClDV+wfRnymO0bEeH4XvZnmDr+62hwRy+m36lg+WOw6lhXpxf7BHEsH3EdNHAlXHFV6OXqU5XxFOGrXDeG6cEZYa9vmHAdoPyqcdtre1b69w2kTDopm6tcVKwqBDuvCul2qxmlB8nqCpuuUu76g5b69Tym6Lg7HIEZ+RhQYx3sMg6RIL4YPdMVR+sFW7Pu3hvmh4yIrHhinzT5c9ubpYR425faywIVh/xUryjSAFXMs7tw+2vcPJ5bCwb4nhBPH+KRsqo87Wv3c4p5YG8LGKhDmyvVbwtryXtotHHvl+rAqrCn2HVtscTusDVvWXxkdJ5wRNmxeHa7kfTbuGDbsGt97sxjPb2OfcAEemquODDtVLePA6OeWu55C/jrVXd+2+7YdXPyF66odDofBYtC1FOaI9GL5ILsd23sIbNt2ZVi/alVYvz+P0egHuzGEtXufVkhwD3X7QmEzbdi6R29f8XAunh5h5SV2+5TsQ3cp4cL99wo3nHBTz0V/QQh7PeHEvmVSty+EU8PhzBle7ts5HL7DeF3qOSEeT4H7LeHm6kZYue85YduxvXtpEFeES85YFVbv3osrWLnvwWHNGZcM3BNrDt43lHt327+4J2ff02JcwTbbH3ZYmNTs7KP/fuuvZ/o61V3fpn1rwsH79vb13rO36nDEWIxCPUekx/HQG8+Dsx22nXZE2Lz6+ND7jcY/2D3Cmus2h8v6D4HcPjAr9GHl7mG1Ef6w8sFhR/PgWbq4MJx36rqw/rBq5u89nxnWXb0pnF8qcd2+Htatr+YM3/PIcMIuN4QtY7SmQXxfjec+w2JeHTbvKg9Lnau66Mj1j1tb2IT2nlgVtn9QtVpI0IN3vC5svaXaNFCRg2nGaNe16XrWXae665vZt+3mYs2C96xWHY4Ii03fQNLdvWg+yLbTwhGbV4fjJbxzfrAPCturV123z9HD1i3hhmq1hx3CThrvrNtXYpew0w7VaiHVO+58dbjxpmpzjNB9Ndb7a+W+4ZzSK4OHZcew4QjrYbHA9V0dV/KcqnMYY1u4eYsVo0HM94+8C8Zybq2vZ3yd6q5vZl/ZgbbgPatVh8NgHPf2Qvx2s4Fj0/+BtoXTjtgcVh9fuc7AnB/sLWGrxqfq9jl62H7HsHO12sNN4UZFDtftm4OtYcsNVrTHi7HeV8QdDAx75LBb2GPNGeFkmYVzXldYeqdUzu8rTgkbwupQeWeTWIgfexPGck6N1zN3nequb5d9xXv679oRYfr1LI+sSINp/mCDbm4h/sFeEs5YlXsI2H2OHvYMz1x3atigqK8Lzwun7rJP+IueD7tmH7g6HP7WahT6wreGw4PdN8XY7diwcccNYdfSjVqQoKdzqo5fOewxG92927Ebw47EKpTHbQnrbQexDDE7ObMvjYX60acwtnOpu54l8tep7vrW77syrN5c7Tu5sLndQ+YwmE8du8c97hF+/vOfV1vjQa1Ig/n8gO1xRTil6C5fpx9tRSKwB3/Mgw+Iun2jgmpiZ555Zi2nB6eGvfpR2hWrahh7nnJB2PnwHXpte4VwwVXVOHPDPtzd6wq7qLfvhnDC6XbfdGM2CBH2Irl7WBn2Pce27RaOjd2tBtvvf052Xw7j/210x7jPIX89e8hfp7rrW7dP31PBc44Nxxbrydg/x7LDfOvXve51r/Cf//mf5TrPwnGgUaTBfH/QZtgf7CzPKX+5dl/8gMjt40duf/jxNq+LHwyzYIo2ZoBpwwXH9oeFq4jAjnmKYoX3DKf020+JIojr9oWw05FXVfuuCoovc0wa24fDrpoJ/a/P4XCUWAjdYqrK//7v/662xoO73XnnndVqPcb1gWMuBaRqSNfR0Q5M/falL32pExcG9Z04h+DXabGC3yLTqMacFkxCW7q+x3/8x3+E+93vfuHf/u3fqpbx4G4f+9jHqlWHY1hgYY/XeqZHmqp/3oYOh2N8aPotOnr46le/Gu66667wP//zP1VLd6Rc5CsOOP4DMzv98k/LN/7FL35RNXcHXxZzi45r6jLeD7e0Y3gwTs74+3IFwwvT5LlgBrS63wf3PNbJfHxnGnppOp+l8htc7r+F+cB8/d6afkddMA7dwoJGoG+66abw3e9+txzyG3Y8OinS73nJzjNvuugn4T73uU/4t7v9ZvjV/9gavvXt28N//7//Vx2ycHCRHg0+LWZvKGJa0EYk5nMSfSykJiyV36D/FuYH8/F7m4bOFlHcBInxG8LFjQX9ox/9qBRoMFaRXr3ddjNXFG98z3veM/zGb+wWnvuaXcJPzjwjfPl3nhZe+Cf/Fjaf++UQHv3MsNf/+Zfw4St+XKzuFR546wXhvK/8MPw27X/8f8PVH75iskXtt981PP/xIXzxI1em/07T/ofsGp7H/o9eGb5dNYGH7Pq88LB/uyh86rof9o552L+Fiz51XSi22Bt27b0oXFm+6LfDqr96Rtjp126b8z4Oh8PhWD742c9+Fv7rv/6rDBJjDNq6uIcVaJAU6Z0Lkf52X/0fHJ775qPDfc5fG94RDg7v3/POsOE1m0J49j+G1933wvCSd95arL4uPOKr/xBeu6nXw165zz+G1z7tPuV6+Nrp4SUnf663PkaseNJB4ZQXhnD6/u8Kn6/OdQBPOjCc8oIQPsz+qmkAxf73Pj+Ej7zU7Kft6XeG49af1SuK8MQDiu27wrFHnxW+Ux5Q4A//NrzxqKeG3qe7K1z64a+Fh7/gPuHil747fKFsm3+op+ZwOBYvRnmQO6Yb4xbpu/1htdLDH4Tfu98Pwl3fY31FuFvxAl7CC3sv7i3tG23b9Nrwkpe8JKxb96Zw6e/9fXj/IU+u9owTvb+dw4qZ3v4Zc14W7Oec7f4nPvLhYcV9nhaOOuWUcErB977g4SHc56nhqPe+Nxz4xOqg75wVjn7pS8NLSx4dzgr3Dfe54foFE2ig6+/M07FwSH0fzrl0LE1M4ru9218978HVagh/fsS+4ZF3/XO4hoL3K+7G/xW4sSoLrjiJVHL1zMwt4UvX/yu7B7BixYPCPse+P7z/2H3Cg4b+AMXfvFvNa4sTvfvdi/OtNueg+Lvlj6PaBF945/5h//1n+bIP/0tY8a+XheNe9rLwroQKr3gi1vyK8OF3X1W1OKYV9mHonF86HI7xYsUxn/zkzKMqF+ovvr85HP2Kj4Wbi+0Vf3542Lj6jvCGV308hOccF4653+aw9qRbi9VjwqP++Q3h1Z+g+ZjwjPuWL+3hzovCG4odtxiX7IoVK8M+bzo6PD1cHN74mk1hWwd37ZMPOS286BHVRh/Xhw/ud3L4XPE+TfufdPD70/tf8s45bvMVTzo4vG/PO8M/vO7M/jkOvP7OSwb2ORwOh8MBxtVBTb3Piu22265UHR/rdDgcDoejOyYp0rMObXdVORwOh8PRCZPWzoHhZf6Yi7XD4XA4HPWYL71sNcGGw+FwOByO+UdSpN2adjgcDocjjfnUyH7gWA4eUDY5+LV1OBwLCTfIumGS1yv33qUljVjkaLHiz48IH3rLmjCbWb10kPrsk6bD4XAsJFLPpWG4XJD67KOwDVbc6173an2FEekPrv5+eP2rPj6QCz0RPOi54c3HPCPYNOwS5GLz9xP7yw9958Xhja8u9pctTw6HfmBtmE113hCO+nhvzyweFJ577PqwR/VG6WOGQ9svweFwOOYLbj1PF/R95L6XjiJ9WFXgZLBgyXzhzw7dGNaGgif9U9UyiD879APhReGD4cXV/j879LTwqH/eN5SbD3pOOPZ1jwxf/YejwiekwWXbHuGOD1XHLBBczB0ORwouqEsf8Xc8Z/uVz33uzMwTnhAeWG7+W/iXT58dvvSDWdHYYfe/D094QLUB/v0b4fxzrq1mivrt8KfP+ovwsP9TbpS49aoPhctvqjZKcMzq8MfhG+WMWr3XDYMdwlNe+Cfh3zafG67915SoVfsvODd8+V+rpgH8TnEevRm8zq0O2P4pLww7/9vstsMxn1jozpkLgGOaMc33Z+7cUu1Nn+PnP/95OaMWM2kxo9b/q6aJ1utW3HzzzeWTggeGHhrxeoxU26jw91w4LPTfb4vFcp6O8WKaH9YWC32ek/j7/p6DUBvLuvW73a2XOJXaF6//8Ic/DIUOh5tuuils2rQp3HbbbeXc1KA87pZbbimefXmB1vqwGPX1KSzn91ws8M++tKAHynLEUvvsk/g8y+U9eb3eI7Ue0+6rWxe+//3vh1NPPTVcccUV4dZbby2fJSu2bdtWLHsPFZa/+MUv+utqj5FrHwX+no4m+HVaWogfUI7RMInr6e85F7RrHxaz1m271uv2ad1C+4455pjw6U9/urSoS5FmJw9APQTtctQH46ivT6Hte3b52wt5nl0wifd0LB10uT/iB4Rj/rCQ134Sf1vu3XFiEuc56nvyer1HvK5l3G7XtYzbgG27/fbbyymUv/Wtb4UV3/nOd4rfde+HzTK1HiPXPgr8Pacfi+U8u2ApfqaFhH3oLBUs5Gda6Os5ib+/2N+Tdu0bZl1LrQvxMR/96EfDCSec0BNpGnhY6YFll6M+xEZ9fQrL+T3bYiH/dhcslvN0LA7ED75pxUKe5yT+9nJ5T72eZdd1LeM2kDrummuuCUcccUSgZaSn5NatW6u10bCchXcpCpWLbzMW0zWyD5TlhoX87At93Sfx9xf7e9KufXaZW9cy1Sak9hH1/ZznPGd0kf72t79draWxnIVysTyE/Twd0wz7MJtmLPR5LuTfn8Tfnsb31OtZ2nUtu+y3SB0L9txzz8mLdFssRZFcip9p3HDhdSwE4ofkfGMh//5S/Ozz+Z60a59dtm2zS1B3zDOe8YzRRZok7DosNaFy4W0HF9/xYhLX0z4oHHks5HVa6O9oEn+f9/zKV75SDpXm7muO2X777cOjH/3oqmU8GPXznH/++eFxj398uO997tN/L7u88667wjVf/GJ45jOf2W9LHWeR289yoiJ94YUXht/7vd8Lj3zkI6uWHs4777zwsIc9LPz0pz8N3/jGN8Luu+8e7nvf+w58WXx51157bXjMYx5TflEkdt9xxx3V3h6e8pSnlK/L4c477wyXX355/z1i6G+A3/iN3ygvRg56r6a/Cc4444xqrYc1a9aUyyuvvLJMVAe/+Zu/OfD34huVgIFbbpmd5ONBD3pQeNzjHldtjR/8/buKm4vPaMHnvU9xM3LunPMjHqGpSuaCY1LfEa8HfCb2//Vf/3W53QXXX399+PGPfxx23XXXqmX+MQmRXIqIH0DLCQv92Rfy73f925/4xCdKV+6v/uqvVi2DoETm5s2bw3Of+9yqZTwY9Rrd9YMfhKu+8IXwxCc9aY5Q31HoBPue9OQnh/sVOmH3aal1IXWMwDo6cbcfVw2gX1c7LmX9g2rZX7mrWs7+4ZgINA9l24Yw/sqv/Ep46EMf2n/tjTfeOHAM/N73vlfuB2r74z/+4/B3f/d3JRFeBIWHt32deNFFF4UvFr2Z3A2A6CLQiIhE9Etf+lLyvWDqHOuo89R7gwc84AHlNvzv//7v8NWvfrXaM3gNP/vZz4af/OQn/WMh17Hu/FLsAq4jHSH7N3faaafw7//+7wPvZ98/RV6j1/Md8Z76jh5f9D7pXcavaUP97YVEfE7ONCeB1N+ZRnZB6vWjsi1Srx2VXcDxdHrvda97hXvc4x5J/tqv/VqnjnF8Pjl2Qer1CDMC/YXPf74UbB0ngWZfTqC7wB5/t98s/pFQ95vt+/UF2gLraPYEU1y1alUpNhaILxaZgJDLurSv/b//9/+G3/qt3xpos8fssMMOpQhs27atbI9BD02CAPQ6EdHjb9/vfvcrt3k/LLX4OEjHgiU3FMs6IP62Y2Dfh7+hdSx3u09kfJ/PXgYLmPZnPetZpWXNelvY1zfxm9/8Zimstu1Rj3rUwDl3pb6j73znO8n9YhekXu9c+pwEUn9nPtkWqdeOyi5IvX5cHOf7t0XqtTmmQDtCjbWMUOPetgL9e5Wm6NjUUmjaLwyUifmtallCZjWv6782/SY5IEZYjPxxiAA9+MEP7m/D3//93x+wKrGAEdA68DqscWYOse8VU8c2tf/6r/966V5J4etf/3rYbbfdqq3e67AOcWuLEnLIOak9Z+nTSeBza1sg5D732bmW/B3c0p/85CdLy/rjH/94SWtlI/Rqh2rHu8D5qB33NO208Td1XIpAyy5gmIHrAfiO+ZuAz6FrxGfhvTkPvAgXX3xx/xz5LPY8YPz5eJ3a7HG8T+r1TifsgtTr54tdkHr9qGyL1GtzbIvUa0dlF+Rez1IWNeJsBTqGfY1Frh3EbaVI02Td3n0tRqh/p7c6F7N/JEeESNY0M3zc8573nDOmixsYa1qvQcB22WWXcp99rxSxbhGt1D6YA+fF38TyBYyNg/j1iMrKlSv776V2rMznPe95JR/72Mf2xQDL3LbzvvobfP6PfexjJXGF2+ug9wUMB2jbEgudcXzWJXy8D2P6xAVwHSCdCrnbsWQlxhCrVvu4zrp2XEeBsWMJqO08Ab1Pirn99jvSMZwj58154CXQsZwTFjjtDG9wnPbptdoPeQ8+E214aPQ98PfAKJ6AmMsdqWuyXNgWqdfOB9Vh1e82RyH1HqOyC1KvT7ELUq8flSmoPd4ft+den0PqeLWVIv0bBecc8tsF1djfyQrKPavevFGOuLwlwFiJ1nqEAIuYdawrRCHlCgbxNkCs6gK57GssEVNEgHFtbt7UMfIA8Blsu3DuueeWgqvgsxgIhDoDvI7PKQHnbyKG9n1FLPpc+73vfe/yvRE+xngBn1/DBvA///M/+50Bzg3vhUDAnoCoMXcpsB4J3hcBbLKu25L31rCCyHfMtbdtkL8pYaUjxFICDwWCErmGNtCN1zJrDGAYhO1xQuewXDkJpP7OYmYXpF4/LNVpbaKO7wL7d8bFLki9PsW2SL12GFoXt3V962+klkKuHaTa+u5uhLoP+b21RLBLsCK2A0KFAGMl3f/+9y9PIibH8IBFZB74wAdWr8yD1yCiCE38XpY6NkXEV6LJ+yAcFjzoOR8JHmJz2WWXlZ+FCPWdd965bzGD1N/IkdfYMXDht3/7t8u/mQLHS8CAXitKwLmW+lzQWqopcjzfTWofSK3nGB/Dd6TYAruPgD3ODaHlWtYh9jjgtueceehgSes9EXU6HazzeSTyzunlJJD6O9PItki9dj7ZFqnX1nGY14yDXZB7PWJsXdwEiiHUn//c57JCLcTboKlt5KlLeLM6IoA33HBD0tUt8EDlwQpkWYP4vUQe/kRc/+mf/mlyvxjjnHPOKd3OMXBLY2XyGqw03n/vvfceEDvczU996lP7kemMY3M8wXD2b4qIOYLLZ8Plbf8ur0G8BL2G98bdzTnY90LIHvKQh/S3iQ7n/VlXB4jX0gli3Vqfov07dhsrF9Hjb9j9KXbBP//zP5ffEZ2hHBBaIPe07SzgaZDrH6gd0iFhqcBBtWM9495PeWOcy4OTQOrvzBe7IPX6+WIXcDyzZv3sZz+b8z4izziWbRG/fhxMARHGakaUNQbNsQj1k//sz5JCLdhtrafaYtA6UgKoTZdKgTD6j3zkI6V72T6wr7vuunK8GqsKXH311aWQ6xhy5LAcER/cmkzdJSCYiGgTEGUsXt4n3maGEQHLVsfwdxEtxNWC1z7xiU8sOxqcq/LDEQas7NWrV5fCpPFtoBxwRPrSSy+tWnuv0edOgc9rLWqunc6H9/pC0YtDwLCugT3/+BwI1GOM/4ILLiiP0XF2m++IgD2b8841xgoHpFLZ80EE99prr2qrh/gY+3rAefF9E4THUAHXDHB+uNi1376HRNy+lnXEH3Adadff4drg7WAsXp9zmrHQude5h4JjOCyW67nQ58nf//KXv1xOw5j7DXAMz34MsXFi1M9OoOvji+epTbMCWkegv1jog332CTomXoLc+tOf/vTJi3RbLPQDqy0W+jyxNhHpNp2UxQTEl05HXeelCYg0lYziDkQdFst9t1hgHzCOPBbLdVrI81zoa1T397XPHpNqE9oeH6/vsccek3d3t0XqtfPJtki9dlR2Qer1i5njBNHgXQPGUufkHJ6TQOrvLHa2Req188m2SL12VHZB6vWjMgW7zx6TahPqjm+DkUW6CZzMQrELUq8flW2Rem2OXY9fKLZF6rVdyZg2wX2MY8XR+M7Fz0kg9XemkV2Qev18sQtSrx+Vk0Dd39G6bbf7hdS+zut33nln398n1591Ac6XO3CxuB2Xont0KX4mh2O+YR+sSwUL+Zmm8XpmhTRxrmpr85r49drG3T0g0mDcAu3iO164oC4M/Lq3Q/ywcaSx1K7TYvk84zhP+x6591N77ti697DbSZEW6h5KC/3AckFdOvBr5GhC/BBzpLHUrtNCf566v5/bZ9u7roN4uxTpu+66q3hOph+U8/kAXSwP6+UsKsv5szuWL+IH53LCYvns83meub9l29usg6Z9T3va03oiXbW1fgi7oC4cXCgdjsWP+IG82LHUPg9o+5lS4irk1kGb7VKkf/CDHxTP/dkH/2IQgcUiVC6oyxNL8XuPHyCO6cNS+44Ww+ex55hbB8Nu90W63Cqw2MR6IeDXZbzw6+kYJ+KHnWM0+PVMw16XnMAKdceCuuPniDSIH5r+EJ0u+PfhcCx+pB7WjulHnaACu910LGg6phTpYulPfYfD4XA4pgzMyzDximMOh8PhcDiGg4u0w+FwOBxTChdph8PhcDimFC7SDofD4XBMKVykHQ6Hw+GYUrhIOxwOh8MxpXCRdjgcDodjSuEi7XA4HA7HlMJF2uFwOByOKYWLtMMxjzj77LOrNYfD4WiGi7TDMY9I1e91OByOHFykHY75xN57VysOh8PRDBdph2Me4bPZOByOLnCRdjgcDodjSuEi7XDMI3xE2uFwdIGLtMMxnzjnnGrF4XA4muEi7XDMI+52N//JORyO9sD75rEsDofD4XBMGR772Me6Je1wOBwOx7TCRdrhcDgcjimFi7TD4XA4HFMKF2mHw+FwOKYULtIOh8PhcEwpXKQdDofD4ZhSuEg7HMsclFc5t6LD4ZguuEg7HMsd55wTnlUs4LnnulQ7HNMEF2mHYxnj7LPPDnub6TOf9axnhfPOO69c/8IXvlAuHQ7HwsFF2uFYxvibv/mbam0Wz3zmM6s1h8Ox0PCyoA6Hw+FwTCG8LKjD4ajF56ulw+FYGLhIOxwTwiWXXNJjsf6Zig6Hw9EF7u52OOYJiPTTequLCrKmn1Tw85/vbT3pSWw5HI5JAne3i7TD4XA4HFMIH5N2OBYAl156abWWxmmnnVatORyO5Q4XaYdjyrDvvvuG91frDodjecPd3Q7HlOF91RK8pFo6HI7lBx+TdjhGxAnV8vBqOQpOPfXUcrlu3bpy6XA4ljdcpB2OEYBAW3E+6aSTwqGHHlptORwOx2jwwDGHY0iccMIJc6xnF2iHwzFuuEg7HB1RCvTh43BwOxwORz3c3e1wOByOqcXXvva1cvnwhz+8XC4nuLvb4XA4HFOB66+/vlwiyX0WAo04L0eBFtySdjgcDodjCuGWtMPhcDgcUwwXaYfDsaA4C551Vjj77LN7DY45OPPMM6s1x3KDu7sdDseCQLLz7GrpqAdC/exn+9VaTnB3t8MxJjRNmlGH91TL5QbkxiWnPRBovA6O5QUXaYdjQjjvvPPK5ScNU3hZweUk1Li2HcPhbwv61Vt+wN3tdDpHYGFJJ9tT/OQnP1kyte8973lPsn3aefbZZyfbYxYCnWx3Op1z+djHPpZleqfT6WzPzyTahuViFepzzjkn2e50OocjIu2BYw7HGFCIdHhab9XhcDjGAg8ccziWOU6sluPEOdXS4XCMDhdph2NETKMV/ZnPcFb1QKAPK8iUm0wacvzxx9PscDimBDMzPUf3gA/c6XS2Z5eAsfnmZYk2y0Kkk+2XX355sr0tC0s62e50OrvxMY95zIxb0g7HhPHud787vOc985tkVQh02L23msSJJ55YWtGTwN7V0uFwjAdJBXc6nYuXdVZ0IdDJdnEUS7ouwvuSguOMgnc6lzrdknY4Joh3VcuFgKzoCy64oFqbxWGH1dvQT3nKU8Ll1foo2LhxY0lQCHTYoyBj982j5Q6HQ3CRdjiWIC67DId3CHvttVdSqMH5559frY0Pe++9d9iyZUu5vnbt2nD/+98/XHLJJaVACwqyaxPc5nA4Eia20+kcnYUlnWyfNAuBTrZbFgKdbBcLSzrZLhZCXDK1T/zKV77SXy/s6ZJ2v9PprCfu7mKZ3ul0Okfju971rmR7jl/4wheS7bCN8DZxs2Fqv9gk0JaFzVxS63bfV6Lt+RDpT1ZM7XM6Fxt9TNrhmCAOPPDA8M53vrPaWnisNoyBe/zyy3sj0U8p/50L3NPws5/9bNUSwo4VcXD/27XXhmsLgi8X5CljsbZaThJ/XdHhWEqYo95O5zh4mGG5fdhhc45ZCty8eXOyHRYinWyv46mnntpbGrI9Dmt6XCyEOtlexw9+8INz2j7+8Y/PaevKT33qU3MmLDn33HMHtp3OxUh3dzsnRgnznPYpEOpPf/rTyfZhWSfSbfgFsy6BTvF973tfY4GS+SLpVCz/ybTlyHm///3vn5hIO51LlS7Szolwmi3mcQv0qLQC3YYLIdLXXHPNnLa2Ii0vQIqLUaB9pi/nfNLHpB3LDn/5l39ZrY0Pm6vlMHhitWwL8p97yVWDYEwY5nDxxRdXa+3A2LLGl+/2uMeFL5Vrc/FnBWdHqNvj4wWf+9zn9jYcDkctkgrudC5WYi2LA+1mfdxsipiOedVVVyXbRUUpp6KVUxXBFFn9rW99a+amm26as3+SzI1Py4r+xCc+UbJcr9oKke4ft5jolrRzPunubueSJ8IspvaPi4j0BdX6hRdeOGd/G5533nllAFQcBKV9YryvibimN2zYUFJtJ5100sAxXXnJJZf017MinRlfXyiB/mjBj1TrH/7wh+fsb6JPHOKcb7pIO7Pcb7/9ku3O6eM3v/nNOW2IKOIMbeGSDdUSkfrIRz7Sb+9KK9I51gXBzTclzqPQRdo533SRdibpAr24aEW6FOdIQK1If7ii3T8JTkKgL7roomR7HemIjNIZsUSkz47anM5J0kXaOVa+5z3vSbY7F44S6FicZVG/w7SNwuuuu65kat9CcVzi7HQuFF2knXP4kkRbWy52kb700kuT7fPJjRs3JtstP/rRjybbc8yNv56caBuV/5xoGycvTLQtBM8+++ySqX1O57iISHsK1jLHfvvt12OxXgi0YwHBtI7MHDUufLpgYU2GF7zgBb2GCiefXMhzgZ9sKOzpMeNRBQuhLnkdvO66kuPCntVyofE3f/M3JR2O+UBSwZ3OYfjeRNti4KWJtoXgP/3TPyXbYxKpnGqH5xfMRbTbMqU22tvpdE4f3d3tHDunXaQ/85nPlIzbxyXSXSqanX766eXSzg7VVqRhLNSMPzdNQel0OhcPEekV1YbDMTYUQt3De/tr4aUvfWm1Nh1gNqfwtKeV6/wInlqujQeFULeubPbBgi/qrc7BN77xjfDHf/zH1dZcFCIdntdbdTgcSxCFSJfLOertdC4nfj7RNgo/lWhry7gWdiHU5fLGinZfnct73Hxboq2Jn62WqjaW4xe/+MVku9O53OmBY44lh6985SvVWj2+8IUvhC8Uy0Kg+zjmmGOqtdHwVwULoR4LZEnvVP47i4997GNTbUUz5/SfV+t1uOaaa8LjH//4asvhcMRwkXYsKTz60Y8OX67WUyjFueATn/jEcnKLJ1W0Yt0WW7duLTlfQKgLa3qs+NSnPlUyB4YF4CNYsl3xEnZmcPnll4c///Nmib6m4OMe97jehsPhyCJpZjudi5mFUCfb6/j5z38+2d6Vo7i7Y15xxRUzJ1Xr73jHO2ZOPvnkOceMg5zzOM875qZouxDogW2n0zmXHt3tXNLsKtTHFGwS6sJuLpnaBwurNNnexM997nPJdsisV5eb7RtvvHFgfxcySxbLa6N2MZ5xS3zb2942p+3iiy+e05ZjLNKwSajPOOOMZLvTuVzoY9KOJY0/LfjlL9c5vwdBlPeTnoTzuwfctilsXy1j4Db+q79iRDqNQnSqtbl48pOfXK3NxVOe8pTwtRNPTM4jPSx4AqTANWiLpz/96dVaPQqBHgpr1qyp1hyO5Ymd9uxlxcxRb6dzqbAQ6WR7iinLMJ67uc6KbuIolmEh0DMnnHBCcl8bWuv7S6Y95rhc3meeeWbJ1D7La665JtluWXRtku0xmTJTjKPknc7FyNOOfiHL9E6nczHxQx/6ULK9LS+44IJkO7wi0QbPTLRNioh0qr0tt5j1L33pSwP7LId11w/LNiIN2wq1JULtYu1czDxk9WPd3e1Y/MDN/Pd///dlreph8MmCe+21V7iot9kIRXQ/u2Ah1K1hnd2XXdbRed31+Ag7Vss6NLnrJ4FJRnf/WbV0OBYrfvIDT8FyLAFIWKjxdX5BxLrkpz9dsg4kH/11b7UWp59+erU2CIQabNq0qWQOCPSwI6wI+u67715tdccnPvGJWRbbtzz2seXy4wXtOPmv/MqvVGtz8c53vrNaWxhw7erG9FN497vfPW9CffbZZ1drDsf4kTSznc7Fyg8WfEPBD3zgA8n9bXnaaaeVS7m7VWs7xRNPPLHP1H7ctVDb733ve2cK8R04Jse2x43KXLS2nZRjIfnxj3882W757orapha6rad+0UUX9dfHSZ+20jkJHn/IapbpnU7nYuXrE21t+P6KrEugCRxTetSHqn3iiYa2Pcejjz66L9TTOBHJxdF2YTuXtG3TTivQUN/dpMfaCzs62e50jsLje8+h9E6nc9x8+ctfnmyfFkqgLRFp1fZOibTdFo855piB7aPNOiTKG44aDDYO4h04vVheVJG2xSjObWgj1+MOyTjoQu0cN72YiXMsPPDAA5PtIuI8nwIdi2Rb1on0m9/85pIS6qZ0KAqjIM6xQFtiTY9TqN+YaMsRt69cvxJn+GGzPm5+7WtfS7bn2GXaTrHONY9IU6yF5SVV2zjpIu0cN12knWNjTqhfnmibJl5yySXl8v3vf/+cfWI8S9abCx5//PHl+nmmvQuZv3oSAs1yw4YNJeNjurC0sGvG4IdlF6HOifRZhqn9TZRA4wKf75Qzp7MLXaSdY+WBBQ8w26+olq985Sv7bdPGz3zmM+WyVqQTpULJy4bDiPSll15aLgkei/cNyy5WdIqbN29Oti8UP5doGxfVMRsnqbGearectmvsnH56WVDHWPGuaim8rVq+5S1vqdaWDn7zN38z3PH3fx+eWW3HYArGFAqBDk996lPL9RUr8kU4zz+fZLJ2eOMb3xiOLpbnnXdeeM973tNr7IjVq1dXa5PH16plV5x1VmE7J0B7bl+MQqDDHnvsUW3NL+q+b4ejDkkFdzq78GUve1nJ1L75ZJ3Vnkpl+ky0nWJu0g2Nf5577rkD7W2raJ1yyinJdrEQ6mS7ZSHQ/fV3v/vdM4VQD+xvy08n2ibJQqhLXn/99TNf/epXB/alrOhpTnGKS8c6neOiu7udS4pt3OoSasaEYbxffPGLX1wuc+VCEei3vOUt5fqwIn3ccccl24fluxJtKW7atKlclmOyLM2+SXKYQLDFQDtDWY4XJtqczia6u9uxpNDkVt+yZUt4wAMeUK7zb8/pnIZck5QLLYS6XLc46KCDqrUQnvWsZ1VrFYYsdXnFFVdUa4PYXC1TUCUwO9RwXrUU4velsphKgFKrbT4KgX72s58Nf/ZnS7dQ5w033FAuceX3+bWvhUKcSzocoyCp4E7nYuErE22vec1r5rTF/GZBTTyheZZzLISyv56zWJXS1DRPco4KPlIhFdH+bctculFqTmjrkm0zO1WKNhoa6xsXeRsr/MpE26T5hS98oYzKF1PHjIN1VjSBhYV4l0ztdzqb6O5u56KnIqVTfF3F1L4m7lstEUKIUCLOTS5l0nsQ6TqhPqciqVy2HZFWlLlNocqJdIopgeYaSUwmNXPXJz/5yWQ7nG+RTs3yVYr15z+fjS+YBEedmc3pdJF2LloihkdGbTkSdATXr1+f3P+yarn//vv32yTSYpNQksqldC4Rof7iF7840IY4axmLdCxmpFXVTaFpaa3cmGedddbERXpaqHiAK6+8cs4+cVxC3ZR2FYs01r3ddjqb6CLtXLQsRfrII5P7RCpAtakCJZGOKaHuYsmmiFDHYh0LtKqdWaFuK9BtiFAj0EtZpK33QiJtJ9cYJ5sEmkle7LYLtHMYukg7Fy2byjp2KdH4vkSbZVyE4uqrr+7Ttg9DRYYjzgsxdrtUmBtemJRIN3GOSEfbTmcbenS3Y9FC5She//rXV2vD4ZRTTqnWBnHccceVy0Kgy0If++67b7iq2Ia33357uH2XXUoWnYGhcPHFF5dLiqIUVl/YtVjfWrZMF97whjckC7MQMQ7HiQ996EPVWjvovPg3jqfvn9lfMsv4woMnrsMxLOaot9PZlfM15zEcd1lHLOkDDjhgTrvNYy7EeWCfOEz9aL1vPG5aV5p0Ifgv//Iv5Rhv0RHqt2lu7WGZqwneNciqKRedMfjzo7b5pJ0xbdIR5s6lS3d3OxclrUjnalZ3qVDVJI6FTZ0X6bPOSra3pZ0yUefxvOc9r9+W4kc/+tFk+yi89tpr50RFI9JfqtaZoxt3/AsM7bFdyfSYUOvx/lFJelibIiOTpEd3O0eli7Rz7IxndiL9py5NalR2EWk7PmmFvo0FGwd65fiud70r2V7HL5r1lFB/rCLrVqD/uaK2x0GEGmGGiLTasaARatbtGP0LXvCC/noXKsc7J9CKgu/KeAy6KcArx1ykfIpxWVPRg8Wco9JF2jkRItRwkuIsdp39iXrYXdzlZ5xxRsmrrroquT8mLuy69J8U5brNnZcE2vK6amlFWtYp/PCHP1xS+5qoTs3HP/7x/mf+F7P/+c9/finSqZmchhHqXCEW8dxEWxNzwjqMUNv3aipnmhJpF2jnOOgi7Vy27DJeiUCfUSzF1DGW7yzYRahTUeKI2POqdSsy1113XUltQ4lEzir9xCc+kWy3POecc8rl5z73uX4bIs3nVbWyUqQLan+OTUMNTQINeY9hJwup47DV1j5r1rvMie10jkIXaeeip50Fqg1t6pYVaglCyoJ785vf3F/PifSxxx47sF0KdUXbHjMn0FpPCXWKEurU+2Edx20p4mKOC33Imlbw2AUFKaWqcqopSvDFYWaJGrdIX3jhheUyFunUcEGq1KkVafFrBa+P2pzOcdJF2rmo+YY3vCHZnuNbCkqkmcHKum4/+MEPlsvUWGgbkYZvetObku0INcLLeHXKXRxTIi2B/tjHPlYu40AohFtkW4FKw+ZvE4HM55drH4FWHrdE+pvf/Ga5rBVpsx5H/dN5sdvzQQrJSKShLehiRRpxTpVVFVNC7SLtnCRdpJ3LhrJ07fzRtqKXLT6ByBxktrvyTRVT+9owtuYl0hChFu0x0EYTX23aP27W66iCG5oUQkFqEugbb7yxf2wd4/N/xzveUS5PLlgn0gipxJSpHcX4uGGIUGsCFIk0Aq1yqm2n6/zsZz+bbHc6J0EXaWdnfiLRNi18b8XUPjEXzGZF+sBqmRJqAqrithStSMvSxb2OIGgyikMPPbR/jCUi93d/93e1k1a0oYSaJdY1bBMAt3Hjxpn3RG0pD0Bu5rABS9qsD0Pc66n2YWij6BHqf/7nfy5T6JrG0C1dpJ3zSRdpZytqTFMCPc1CDZuEOseN1TIeUz344IP7621F2jI3nnzIIYfMaftKwfjvj0IEuq0lLeL6tyKNQKciz+um91SEfyzSGlbowlwN8xsSbXWkI4ZQU0KUVDNEepjzcaF2zhddpJ1DcZwiTQqVTaNqmzbUNFnEe9/73mR7Ew888MBSJLEmU/u7MA4ma8svF+QcqIQGmXxjPquRUS0rtqTtMEGOjD9rDHqcHY2Yyt8mcCve18SLqiUCHe+bFnZJnXMubbpIO4dmm7SeLpRQ5x5QmzZt6rNOnC23bt06p+0fDON9k2CdUB9i1uO0qpSVilAPI9ZN0d2xWz0W6TYCHTN2IccTTnSlos4RaNz2SzkNykXaKbpIO0fi2IX6jW8c6wNKIr1hw4aS8f4m2uCrOh5WUGO2hx12WMn4mBQR6YMLHnTQQSXVTolOlnXu5C5s+p7iIiCqO/2e97xnjkAP4+4fRaDjfPNcedalRBdpp+gi7Zw4bfoS1hCVmOqm7UOo3/3udyf3iR8oeFrUluJNiTb4joJEGkPEO861LgOtzLrdBxUlDL/yla+0SqtKUZa0/fuxpazPMGr1Ngl/jtS6jtsQ6bgNDiPUTUzlUqcKwrQR6W2Jtknx4osvTraPwg8n2pzLky7SzonTirRl6mGrh1NKpD/wgQ/0WG13FWnSgJQKZBlXv0rlGCsy2gZCkRqkyGOE2h7flXUFWdqItE3RyrGNSMcTQnzmM5+pHdunXGZTycwuRKg1y1aqCIxymPvLTPS7RPqWW27pt+Vc/k3lO+tE2AXaOWm6SDsnSgm0nepQrBPptmwS6pwlbWknxIgF2gZCaX8crZxLo8rxrW99ayl+cbR0Sqi3Fmz6DCmBPvnkk+e0xUylHSHUKYs6ZlzQ5XPRdh2JKUi1W3aZDjNVlew73/nOnLac9d+mxvYkxDjHXGlX5/Kki7RzomTmqJRA54hI963palnH0047LdnehadoecopJeP9++6775w2UQJN2lS8L0XGd3NBWAqco8oXY+kaT1eFNGpmk2etUqapSTfEuLSn5bUFmyz/eCapFK1QtxXpNgKdY9eccSvUdVXiYNu5nplWVEztHxfdmnaKLtLOibJuesemohoEz8RpQCl2FWqbFyuBbmJKqK2FrRmpRLnHbRu8NNqG1pK3s06Jtta4XLaMgYvaZymRTuXzkt51VtRmqdc2CTXCJ/HLudvHNQtaLNBUCuOal4yi4lOMRTrOu24r0vNJDx5zQhdp51Akfekf4T/+Y3Y89ZiCTXMwtxHqVPuwjAtXtBVpuK9Zf8lLXjKwry8YBSk/mZqpCrYRaSxq5YAr1cwKdRti2f5T1AYR9TqBhnVWuHjiiSeWy9SxNlUOt779HDFzRUqaGE+K0eQZiOfiXgwiDV2onS7SS5B6EM0X40klDjjggHKJSLNsEuoUhy1E0oZYZWJqP6QsZ8lqcgkRod6voHU1v/zlL++v27KTKaYsS4k0szORA6xZmqiKxVKi2mUObKLWEWob3IYwNQk0bCXSibYUEelUuzisSHchlcVS7Zpy0wp01+IzJyXanM5x0kV6CXK+RVo8INHWF+pMhPd8kckTRLWlxp9FW3saoY6DkyTSrzBtTQINkyJdLVVFy7rJ+0J91lmdRZqlTRVrW5/aihYWs6zmfptZr+Ppp5+ebBcZG4es54QU2usxjiphcuMj0nGHZBiRJp2PdTIH2gTsOZ1d6CK9BPnRRNukmRJo8ZhjjimXCyXUVphVu5n1OmGoo40SPtK0pxin/TA9ZizUEukcEeprrrmmXM8JdZ1bdJjI5JT7F3G2Al03paOoILnPfe5zJeP9sGmWq1FEWp2AFFPnc9xxx81pa2LciVnszH1PzoWhi/QSZF3U70JQIj1fvPnmm/vrsUubCTQQafKtTz311IF9ljmrM5XG0xRglRJqrbeJohYl1CmmrFYC2+IccFFzQkMJqe20INKjFiwhQjkXyS4yltxFpLuyTqRTPC7R1kQXaeck6SK9RIlQT5tYT4JK2UKkJFQS6box53ESS73JqmRCktSkJIg08yvXzbGc4qte9aq+Fc8MWwSy2fxaRZ7nhB2RpnAJ5UIpAaqANgLXmFmqriKcJcMAqY5GnEJkPQAKalNgG2PmuUIjbcuywtQwzzhEmnOzkexLiUT/j7MYjXP8dJFe4mxTiWpaSZR0qn39+vUz66v1XD7pSSedlGyHufftQo31nnDCCf3ZsmwVLHUQbOW0WKStGx4ynrlt27aBtiZSQlSR5qlpIVNEnL8ZtSHqjIkzpWXX6R/j4DrYpSBHLo2MMd5YpOtc9+OIxWgKckwJ9Q033DCnbbGRjlPbXHfn/NJFehkQoV5MYt3WesoJ9M3VMifUo7hPRSvS8b44revGG28sl00iLX6nYmqfJZ+PSHOmsmRbk2LApiC2GxNtmnP6awW/VK2zxA1OSdGmsqJdiahCRBqvDwJI9S+l5XEfpO6Fpohxyy7nrI5Fm7SneCjg61//+sB2E21AH+zymZzLiy7Sy5i58coupMRlqn1Ytp3h6OhEm6WEOkXl8GobK/LyYtmlFCUP2ROKJWPc8b5U7rWEGnGUQOZEGrYV6VOLJYz31Yl0SqBFO/2jhLqJKiZjhacpsntU2rzxj5j1mG1FephSnLFQpwrR1HE+S406Fy9dpJcxJdLf/va35+xry2FFmiIoqXbYVqhzFk/fkjZtKVqhhm1F+qJqiUi3mYIx/jvfMOuidTe2EWhbwjQu0JKjOgp1RKRTVcqaGFd9I2XMbo/C1Pf4kY98pBTnOoFuy65pV22pfPc6qrxo12I1luO81s7p4yHHl7+t9E7n0uY4RHpStJXIEACJwPsNUyIdf5Y2xSY2VWSdIKx4f0xEGoFmPWlJR/nXdSJN0I6dy7nNuKDSoHB1P//5z++3k9tt87tf8IIXlEsKw7QRaNi1xCokOhtqspNxi4b9DuUit/vrGLuhL7zwwoHt2OLvEm3fxDqRpiOkzpANohuWuWvOObTpLDinl6cd/UKW6Z3OpctUNLEe6l341kRbHTck2nKsm53o6KOPTrbXscnqR/SZv5jUrPhYFfWQFV036UZdkZQUiReQUKdmb7KMOx0EbZWstiXSqe+SOuhNk5YgtKkpInOM06eYRnSSIt2W1pWcC4TLueTPP//8ZPuk2abSWx2pJqeKcm0qyzkXB087rXzWpXc6Fwd5iJU86aQ+U8dZqiIV/LZZ7yrUOZE+6KCD5rR1EegcrVX6vve9b04N55gEdiG4dQJN4JXIttyoEOGGsQUmkSay+5WvfOXAviZ+4xvfKKOwcbMeddRR/aA+rg8iXfewtoFqFIfZb7/9+tvPN1Rbipq05D3vec+cfRCRrhNqrkV8PcRRxIFI9VT7sESoJdDqXLXhuERa3pm21KQhqX1dmPoOSEVjYhXWyU0fdf5z5/xx9SHHs0zvdE4/h7EyICINSXOxIt2VdZY00zgeXK1v2LBhzv6ulEBbUeTBVifUufMjbQYSySymjoNMJhK3DSvSCLTWEWpEWtvqxJAixZLx7rox71ikxbblP2Es1Awj2G08C3a7jmeb9WEEN/WaNh3OFBlbV2oUAt1FpKGmAx2FXUXass3MXpa5NDbLrjnjzumgB44tIvJQplqVrVg1rEhbItQEW91yyy3l9gvMPjt5xLBEqP/hH/4hua8NmUHJPvBSoph6qLVxxfPZsaA7i3S03STUdlrLuB3mvAypMW/xLWY9F7FNdLMd885RlrFEmjFsVSVDqJvEmusvC45jNd7aRjzEWKRHEWi7bTsPMXPVtUYV6a4C/dWvfnVOWxuhbqrWZjnuFDrn/NBFehHy7W9/e/mARmBS+0el3KVHmLYc29TjHkWgc/mnryzIg02FRCxJhfl6xXjfa1/72oFtXOZcR02SkGMs1FakOQ/Ox+63RIRzYvXqgtRaV+fLdsDqSICcDZKrS6vKPZypNma3Szd2sYytzrjwSYoSlJSb3LqP31aRde5jtcPYih+VCpg655xz5uyzTAn1OCzpI488smRqn2VKoFO0wwx8T10EGg5bq965sKw6r+mdzunmpERalvTh1fL448sxkbHQjnfKQquz0rBINDuUZUqkOS51rOVrXvOagW1EmuX1119fK9RxR+PFZh3WiXSKZZQyS9OWmpeb8WM+Yxzwdfnll5dLvAVYvXXj7oh0LDqxQENZsm8qiFBTmU3pSW2FetSgsSahrgsmzLFJpEWbBjesSKtjsFDBZ86lR7eknQO0rm5E+nizPSrrgpFyZBw6VSRCopiypCFzNFOakzFgjcUhVjmRhm2EGqtLAq0qUYyJxyJNYQ8bXKU5nZVChAUt6hiJNOPEcOvWrSVp22rItkQaNqVXMSWjrgGlR0n7kthdX7XHlEiz3jaPmOuQE+lPm/U6b8EkRLqOqXHwUdOhoBVpYgzslKbO7lScxnKki7RzgDa6m1zgww8/fGD/qGw7xo1gydpLpdDwoG8qJGItS40Jf/nLX+63xZRAx4FXny1Y5rIW4oZlq+hoJrmArNsANqZT1JSK1i3Jsa9+9avL9bY8L9EGqZDGsi5oDsrNLpFmdqu4lGlOqLvWOM+dCwJtRXoUtp34I0WugQ2eSgk0zBVzITVPTO0XU1Z4Sqi7zA/ehrm4h6VAF+nEDufy5KREmgef3PNdhBqBfkNFu69OpGPXsH14vca0i1iaEOsnVcwCkcYyt20Sapia1AI3tO0k2DFkoukJ1MuVLrUiH09egcj2+fnPly7/XIBRPA4ukcKjADVGGQdaQTwBTfW/U2zqNNQRr0jT9JijirTSkEalTduzZVnrOiO2tjoCTaW4ttXiUpQnp82kKouZy1mgoYv0FDPnyp1PSqRf//rX9xjth0qv+seoXZRlYsfQX14tU1R6VNwuoZZbOBZpxDkWaCxXWa9HVbT7EWet6/woCIJbHCLQ2h8TlzMdADvTVSnO1XoT6+qLi4ynakYthJmlrGjLNpHAlrFbPxZqRDo30Ulq1quY5OHWVe9i3Bva4DcVIKkT6mFFmvnD6ZRQrAVviqqjDbJ7LW06diWL9dhjYGMtZEUj1LDJC9SGTC+61AUa2s7NcqSL9JSS8ox16TeTZmp2JxGhFuN9PHhZUnK0ZLWt4ikHHnhg/9g6oc5RaUc2yMqKZIptH2S2E2HLa2J9pyzwFIcp5iFxyhWyUArVqO5M5kXu8lC3s1DZmcNSIh0La5u0L423l4L9pje1nnBiGKG282oj0PNVzENC/YpXvKLfNkqd7uVIF2kX6aklJRZhat+wjN22OdaJtOUxxxwzsC2RtkSoFcV8wAEH9NtzIp0rxmHzgkUEusllmBOmphxehBovANbsa6N9OZLTLaEmiCr1WexY780331xaeU2VprpMzF9OPlFRuc7iKJaXracek89AJ4DpLjXlZYqaWEUBcBCLG8s+tu5Tczdbcj515zQNVLDkQog0HSvda8MMXUwLXaRdpJcV24r0KMQqYol1RclLm2b0MrOey8NumzJjmRNqgnxwDzMOrMpqWHBti2zIVc855c4Lj0efGzfOmVDDkocm+dvqgCHSTLsJNSOS2GUiiRwRaZU45ToMK9J6D9ZzwWyWOaG2Ueq4nyHijFDz+WOhrhP8xcI4q2GhLGmEWmI9jjnV55PjGB5YrHSRdo6dEmmYmqnqpQWPOOKI/uQQL33pS/v7rJt5XEScbWrPMJ2AuAiKmBqS2LZtW8m4XUSkmQnLlggV4wd4nVAzu5XdrkuVksDGVOATnZmmiUE+XC1TIp0bmlEaGWR+aoK3cvNUI9KM6dbNsz0qiSMQU/snxWHSDyfNlFDPRyd+FI4abLcY6SK9xNhUsSo3C9I4rLa2RKDtdinWLCvafVBpTsOS4KTjiuWxBRFo24mAbd4/J9IU+ShZWKzkK3+sakcw7bzQWDBYiyq2kgpcqrOw8EZccMEF5fvjoUAU204ruaUgnSWbPoQwI9DxsU2MBVpTe+ZEmrHgtpWuiFaHiDVCzRh1qujKuIhnQUztryPu/VR7F7Ydg59PTrtIL0e6SC9B1gl1SqSZsg9ibcla6sJxRKGnal+/CrYUaLnODzvssIF2BJp8WETatot2rLAr+dwIoG3TjFYwFmmWTRXRmqh0MUSRIi+20EsqHkCMz3NctPNvc04psW5Kq4pJNLvqdiNkdWKWm26yC9uIdFOMRtN55jiNQu2cLrpIOztTok7+4ijpJKlAMFXuYsy4TYQwlEArKIl0GFtQApHGjW7d6pa5kp65qRyhOiaIn01fSok0VqFEWlZ8bAW3LWyBQFPPHJc55/DeYtlGqJtEmpxbMd6nYQltK4c7R86rS8dNqWWiUs6aiHs+J9I2Mr2JbS1phNp2QjS7Fulq9rhxsu4enBTflWhzLhxdpJcgU+I3SQ4TfZk7x/3226+0oLVdVxxCKUnkZytfNT6GnFiNcyOEKS/DkdG2ionwgEzNgAXt+6giGq5aOhbqXCDOCHWZYgQjN7uEukvlqXjCEcbnSqFusNCtSOdmfhJxu+dc7yrKUpLtitovYaR8Z5v5w2OBbkOi1rV+ekGdb8niWkIr0mQA9Ml2Rfadd9552fFp29mwXgKK/MSTkKTIe6fa23IhBBqOW6Stt8XZnS7SU8a2VkQTEUHGzXIuyEnS5kJ3oeZotkxZd0QoS6BzIgoZw0WkeVgypScP7zh6WGQs7qvFUhWzbEUxWeiiFegtW7aUIo1Ap/KYv/Od7/TXbeoVlqkC2OqmUmxDnauEOu4MQM6TZZNAW0qouf7UIbfVxBS0dkVBibREkXzzNgJN524YkRYZmoFxh4LrrNS3NilaiPQni6WYOiYmIn1i1JaiFeoulbPs/TffzMWtjMK6okDOerpITxnHIdKI8zgCW4bhgYm2FCmZ+eIXvzi5z/K2227rr6cqLNWJtLhu3br+evxAh4gztJYWD0kqqSH0uN5typa8ABJoWdJNIg2tUIttCqCQcw05D46HyslO5WJboba50imRzgXFWSLQXAvWVUkMoUak48ppcfBRPOmGJh7RMMm3vvWtgf2WTR2Y+Pu0RUsgXhQr1PEwg8a+ZU3HIk0nL1XvXZ+h7ZzXXUtbLqhIF7+DVPsodJEeni7Sy4DzVfv2oGppZ39qQ2aViqd+vA1WAp2bWSmmHQ8Wba1mItjjh3rd+KqqminwSWPdiDRWqyxXpjfM5R/HIh3Tfrb4XBhztWlRqdxuPVBzBWBiairGmFaoY6GzFjSzedlSqrjayfUmnQehY6awtiJNxDkdGyvS+hyIs6h9Mbu6gzmPnEhbqsZ5SpzFtvd4m5xyaDsDowh0qqO40HSBHo0u0lPGtu62FHlQvu1tb0vumy8i1PEDDKuu7XSHEIGO25qEWvXDY6FGpBFnpZhJpE888cSkQNsAKUuEWuPjdjxdote1SIjc7vpceBY4n1OKdWiPHSe7inRTTXCJNOtl4ZjM+G5KbLlmjPnKus91NHJCjUjH4/lNwYaxSHMf2G3EeVxDTlBphbm4jdSEH0tOpDOzijnb0UV6iti2153jJKsI2VrZTUSkDz744HJdk260zb9MCbSYcgsT5cwSkaYes8jDrxToar+Ycndb5kRaLt5UBSweQl1zbeOxcUSa3OU6y74rKSWqcqKIsxgfJ9rSp7mCI6l8eivUIveAqDbEVtN2wrhjUxeBLgGXxQljgbbWaB2Vo54aU0akWQ4r1ATyWc8V9wYCXYp1FSUPX1dspwRanITL2ZKOUZf4hGHpAj06XaSniKNY0aOQiTDstp1oQmTst89/+Ic5wVQx9TDuKtKWKUFgHBYizhBLVNZo20pE8cMdvg2+7W0lUzNwIdLri6VEOo4S72JJ6/qqIyOWIm22RRvNnKOiyke5h9qINEx9L3XUnNpWoPFMxB2bNiItYoEjcqVbuiLtddkAYizSKqJC7XF73ChUeiKdpNiKRqDplOmc169fP7AfDivSdZ3FrxWkk8b0pqn9zumki/QUMfWAlRu3DW1eKIVJYityPmkfyBCRJnXFtt16661zJuiAt99+e7lMjTHDOA1p34K5CHaqgLG0xVJstHgpztW6GFc9Q5y1bi3pXNGYpjm4bSdIQq1zaCPSqVxmS+6jYcUaoYaINC5wputMHdeF1l1dVkwz26TnKEWnKZc7FmrG6JV2p3gBmx+fIgIN5VWIPSNtq6ONSrw9dmgqJdTDMCfSfFZEOrWvK1Olfp2To4v0FDHlYuviZpZIDyvOTCepKSVT3L8i6xQGyRUHIbgIkT7ctJF7aUUagdZ6HW1FsLKIRyTQYp1Ip6qZQSvOcd1qrHQenJAoZBFr63Wve11JezxkPLDJSkl5KQ4umBJpBPzkk0/uizSuQyK1CcQRdWzMUb0y1pK28yLDrveXFVeVTY0pgeb6kS4n2mPUKUJku8wORzGbklH7J6LtcfOfEm26byYxVSYCnRPpcQk0TIk0wzTjHKpxztJFeorYFPRSR1u8YVKUQKeIVaMUHRGRPv7448t1RPq7FdlOzUUdUw/0utKdb37zm8tlTqRz1cSwYmRlQ9W0FlXRy7bJHZpzq1966aUDIk3daajx7BxJLYMINYJNmyxsTYyhsb24I/WZgrliEcOWzLTWZCzQIkLdZxWYl3KDx9ZvVqS3bOlHWnMNqeIF6aToGIK+5KpuS8Q51Q7HJdKaLEUdSL7vlECnUt3i+64r6RjOd7CYFWlSF+0+5/jpIr0I+MZEmzifU87ZfOOYqTQvBJqcYwm03dck0nKLWoud+adTc1Aj1BJrSwRaIt2fCEPbJnc4N9GEgtJEO9lDSqgPi7ZFHtoIgqh2AncQZ9XgTkXmx7XUbzTrCIOotnJO56oz0SX4iU6AOgJ1Ll+GX2x8QuqYHHPDF1DFVmIi1KU4R1HZOaZmFssxlX6FaDbNBiYyhKPvg/uJedPPPPPM0gXPkEQcpJeq0z2MSKe8MU1U6Vo6khouoYMH7XFtqHvSBXp+6CK9CJgT6bYC3TQ1Y9ugp7YiXRYFqcj2d7/73f4+sUmksTqYe9oG8+Tmn4ZYvW8ulkceeWTJnAUdMyfQXDNZRk1Bb3YsNfXgSpUrhfHYMnnXsTtfVbVYxzJGFEQdQ5rUdSwLfqVqo4OTEum4zrSNHZDVq2kV4+kVbXxEqqpZE+tE2vL6aJvqXnEHJs7lhm0F+phqqU5XXbBVjrnALjsmru9XkdRkFsSdjbeb9VFY17GwteVHpe00ukjPD12kFwnblFkchV3zfGOm8kAVQNV2/Bny8EecU/viKS5jSqhT+8Q4EKpuusY6kb7lllvKpQRay1TgVxzMRGSzFWjrGo1d7DGtC5tJOxBorCE6bHH6ESKtIC3+pu3wxNHW0Lqm6+Y/HvahL5Fucv9DxlA1jsrfG5fQvOENb+iLNPe87vvU/T9MvjqFXuJsiZiMjQ8zTSjEWk+1D8uus3C5SM8/XaSnjD/84Q9nfvSjHyX3dYn0jsl75t5XHGVsi4kOUu1ibDXC17/+9f11XNp6MOM6fE3VLjZFTHch0cukwbzvfe9L7hetVatJB6699try/HDPbt26tWx7dbUPItLxdJmk2yDUeAf4u3YfTI1fxuT1ttKXZtVKXddhWVfdK6ZEMy5c04ZtRBpXMWlR2rYTWuizWzIurPWm4L2jjz46e6/HY7x16W9x8BepgSzt9xST97MCnRriyLFJoNt0KsZRfdAKtXPydJGeAv7QMLV/WP7IUG1NdaJTDy8sydiaJHhEASRNAg0Ze43bEOnrr7++pNrsWHEs1G153HHHlUsbGU9QkyaCUD5wk0hbItIItG1TzeqjTJvGVgnie6tpR2RzObyIdC5a2brKUw//+RJp5RKz/oWCiDTL+JrUsYtrVx0XfVcS6VSApBVoey/F1PlzjyPU8f6Y/E15G+LOSCo6WyINUyVcYSz64xRp8uxT7U20v+W25HN4NPf80EV6gYjFXDKxb5rZZoYcpilMtSuKObVPZKwVcVYRlHHSCnUdU2O5FM3gIXnAAQcMtCPUEmlZcIizhAT3tcg2VmRsSVLwIiXS8XFEz8cTdIxLpOmEpERadctTxOvR1pI+vloSuMQUnvH+mIioqqWl5msuxTqKyYjHsqHt5Nj78u1vf3t/3ZJZq6j8h0DXRf9r7N+SoDG7nRNqy7rMhZg5N3qXziZUp5plmw52HV2oJ08X6QnzqKOOSrYPy0MOOSTZ3pZNNbCbyMNNDzgso9g6ygm0fWDxoIZ2PywF2owZjyLUWEv279A52LZtWzm/cyrH2TIV3YxIxwINY4EmZYh0sKsKslT5T40Xq0oW66LEqE3ub2oWrVe96lVz2roSkbbDDylS+lPlPzWPNGPiqpzVhhLpnEhaKto8FmlVnYMS6tx82rmgvfjv0zGz00oi0Nati+WMMItqFxHoXLoaHR1IxkKcgkaQo92uY9NYdxeOKs7O+aOL9IS5UCJdl0YzqlDniDCl2kUr1Kn0F0UsH2LamkiJUrHcrhgfJ/KQRKhT+yzlxkVQY1G1tN/vxRVZb2Nhkk5GxDoiraC4uilGeUhrZjDGuSHrXUS6Lm8YkZY1aKuCiZpaUiSimGAzXMK2NKcNYFOePCKY8lDEJGpbkduItBXo2FIt26plUxATrnmt17ndcfvyNxFpZUW0KTxSJ9KWTeV068j3z2+ojYXuXDp0kV7C7FLicNRUkDqBxtqkEEqdSB966KHlEoEeJUBOzKXjYEUr4CtH6461xTRiEhkr2nYqY9k5jHNM5XzDXE6wLCk7x/YwtG70a0y7mBJoGIu0osFtlDjzN9NhSk10UTfUwXlQyCXXQavrWCKQiDQ12VN12YkFsCIdl4GFdlzWpre1ZRuBFtWhhEea9i6kqh9M7ZskmzrizvHTRXrCJPI3V5ZyWKoqVY5yodVNkiDK0mnDgZSVKAoWxj9gXNf7779/ua4IaAU/WZFGoLFcYmEjOMUG+Fh3ZBNTIs20hJr5JzXPc0pw6/je9763ZNyeq+kN5ZbNCXSOjHPHIt02F1z1qllXB4RrmRJo2MaKlpufGbBikWaJWGq8nBQxCbS+YwVxcY9CDRfkRLopsAkR13ukZjqTSCPQUNa6/r6OswVK2rIuXa2OwxSEiTnfQq3feGrYxTkZukgvQjaJNJRQW3ctLlzRHtuGqTzSHBknzE3MQJSzSEoYY4ZQQTpWqFMP5i5CnSOzHxE9HBdZsRa03NajMFXwoy/SL395udTUhQQrifZ4S0X3Mp3nq6r1NrQCnavp3XRPpEQaItJxOVgYiw9zP0somS9ZZNsGH6WGc9qWN5VI0ymgg6f7h7/bNDsWQr0pamvLriJtO3Zcp7adrRTnU6Tdil4YukiPkW8wTO2fT3YJSLGkPGWqvYtIp/jqV7+6v66JE+rytnmwKnBHxSe6kLQcol7ryi4i1Ai2pnlEOKFSp7oINTmqcZ5qG5FOsRTrojOidB2NPRPcxfgzaWp18243MVWtyzIV0Z0qg4pA873GY6Qay5WlCLHOoZ11SiJtOwijBkZClbpUCp/Nt85R1jRCbcu/wrq87mGsaIk0VrvtzHT1uM27Fd1iCGdYtpkHfLnSRXpMjKdcpLKRaNvnk69ItFkyb7Ko+tEwNfNWKn9axI2caocIlcSKSGfR5m6LWEwlWS9oxxERaoiANZU5tXmzEKEmh9TmkTYVELE5zmL8vjGtSB9r1kXbAbIinfM6INTQ5tIqjxyRrgsCi5kKSEt9p0Q9UxlM0c8Eb6kARu5Bajtg0Io0y9h9rvriiLQqtKWCoXIRyCeccEKyPaYVaRupzbCBuGnTppJx/IYV6jqRHpZ0cCgtGgeSpYQ699tLeTAs45zsUThJgYaTmBVsqXBZi3SbNJCYceWnHNvWEa4rvmAZzybUlgSmNJXTtKSmdmxN6yERz3mbC6pCoCAPdyYDEO0xKZFuy3i+5xRzgiqhJqKaTowYHwdjoeY9c6k+0Io0wUxxNDLXtUtes2bAgljR8HsVrUDL+rSlYxkSYSYtzaYFY6Gu63hBpUDFIt1mAorLL7+8XNblWRNFjUgrEj62DOvShCTUdvpTm9Znz1FpWHGlLMSZpe7XLoGWUNdHbNt5gPIiwKaI79z31JRBsFhEmuGOVFqbs0cX6UR7TI2bItBqaxLqeKKEHOtEmiAcke241vK4aSe9sGJkHxJER6sKFBZxPOcvtFYkD3hbkjSugAYZG+6zaiOnOZdzDXMVozTLlC1EYSmRjh+wKcrNLCLSqVSfVKlFXQNbIESdn9zMQ7h9rVAg0rhEFcz2ve99r5zFy5bIFLFaGdtGqImOxxvSNBe5hDRmqngIAh2LUFyFDl5R0F5bibSGX2xFOQSasWrWubfj+zsW6dz82QxZ2G0JIB4K/XZgUzlLrv2xxx5b0rbH49mpe6vt730YNnWmUhx2TvlhOMxMXjE1QUxq33Knu7snxGF/tLgKU+7cJoGWtTAKeYDyMMX6RqSbAlpUqCPF48x6PPkGs3r1x+8TwwHkMSPWdSKdcrG3CfyRhdUk0i+pltbVLO9ILNSItLXcqDttv8fUvZASakVMQ8ZIEWmlFCHQLDXVZkwEOtUuMqQRe3cekYnsn41w7xVZgW0KlrQZn+UeU4AXtEFUcXGcOGAMkRZ1TeumbYwrqBFIlkvTypGOeSroLBbqLlZ0V3aNB5lPgYbjEGlnnstSpEfNCRbrxoTiuYjrmCpnCOXGtH/HpgjFxSHqIlgVRYxlgYjYMVmKWCDOdspFyIO9TqhT6Uei6mdD0p4k1KmgurjSFQK2du3acj0VfAWHFWlqTnO9xdQxcF3BA6O21BAG1h4PKeX4xnMIp86fsVClJDFe+nmWFWlTFS2bGiTyHcVuTtJhRNtuyXepymYwJdBUE7MCrUItEmi+J3hytW2Zstrp7MV5wKlORpwGyO+zKeUKkbafB8oqhwh0PNZv3b8IdS4wkPHx2HOWIqlaeFegdbunqKwEouuJsq8bBog5rSKt691mYg/n8FxWIq3eruoIj8qUSOPSbCPQPDTLKfiKdZg6hvzh1N+w7jiEmh+9TR+CcSCbZSwkMBboJtYJNEyJdJsgOsZsEYphRFpU50UFUnKBP4hlKdbRJB8INEsr0pw7s1gpEhm3OhYhLIXWRBDHub58Bju/NmPL9jV27Jp7E9qHvt1vRY6x+Xh8nhmi4lmi7P2IsCHQcO485Yie2DvHED47YEVLoO3QCNeG+1nbkHs0VagjFml+k0z6MsCzzhoQ6baFQnR9U/EbTA+ZGqMdR6odbBJpqDS2hRTpcXjcLAmAc5GeLN3dPQbiGi6Z2CdyM8PUvjZU5HO5XjE+JmZsoYqIplyBcvvWifQ4irGk5ptOxQQQ/MOYqEQaxkIdj0FeccUV5dJG5EqoZbkw1WU83SUibbdjHpRoQ6R5T419t/keLPl8qUhmCTHeAIRUXoE4+MxOEJILoGPyCXViEA/IuCZj0LKgH3nSSX3yniwf/ta3DrjcRe6RVJAgQm3FGqGmSA2kk1Yn0ggpzFUS034EOhWZXtcRTom0JUF3NvBuWKGmg6HrWyfSiHOcZz4MbWBcHZlIJm6zwWnjFmrnZOkiPU+0At0mOvawRBusm3QCAcHtiCsV8gDl4WwDT7CO7rzzzoHXaXpFeMcddwzsg7FID9PZwHqPA6wQablEmQ1ItMfAN0XbKZGOc1sh1zB3HXNct25duVTKV5yjLUtaRUEk0nGVMVnxMXMi3ZZWpNsWdskFHiHMiDbviUBD2uMAKybRQKgZTqkbUtEc07AUa7NPTLm7+Y4OrxjvE+0wD6R0KkKdK6HahXUinXr/UpwLxteVji+Mp4ONBRrPjs0X78omLxaU10B56vH+hWAq3iYVfOgc5PoXvIBleqdzfLTjZW0Yi4tcSjmRlnhABLpNURX9YCTSiHdTub+uAq2HHCItTwBjeX3eeGNyrHetWbcijUDHIh1T4twk0LidWa5Zs6YkQwTiQQcdNEcYIDnBVHCzlbvqyoCmmMoMsAIHNTQTE0FFHOoEmjHtODJdtG5WRJqpNh9RdJZKvu1tMw/PfJamAiiihm4IHOS6pL4vG3QVC7M8HrHXA6q8KeLcZkipLVPfs5jrBLz5zW/uizSxBLH1HntARA29INI5oaYTn+vItxFoaF37OZFuGnMfF3n2xfEC0AW6Hd///tLjmN7pbKZcsW0mhRhFqIcd90mlB0HO5c5iKdImgU65yyy7CrWCouKIWCx0TXYQ/2CtSNOZkPVijxF5oF9eLeOHPulKMH4QS6BjPrdiSqRVtEMiTR51HIFsyQMZ2iCk3IOxjUhrmshc6pRITivfob7Hl73sZSXj9+T9dnrNa/rsi3XB9xX7ESG4c3WPl3M4V6/VezP+qekX6Tgg0nasHM9IqlOleyFlPVPoJG6DBIsNmzWRooY76kS6jlwbCu4g0Ar6i5n7/Yl4gGIvkDrPCJl+93gyxj32q3uRjsh8VPyKhdruc+a5/gWPZZne6WxmLrApRQW21JH84FtuuWVOe9+SjgofqC63/aHbghlNDwlLa0U3CXUTFRilh1cs0KINCkKoJdZ23Cx2kWk8kSItsrgQaXuMGOcUqzOVE2lbTjX38FY9dDoYXa4vD8U66yUXQAh5iEqku3Cn171ukK99bUkJtI77k+K6IM48sLGmySffOcoXFiXUikJHpBVxrs9g89hTbm+YspZzRJyZOCM1eUaKqeBIO5+zjUfIfc8Em7WZXlPkftcELmKX+yNFK9TD0s66FVOegvkQaUgO+7sLxkMCzjyXhEi3dQGNg/EUi7BunLgNtxnG+w477LCBbSvSEmiYE2mYqrss8oMRiQq2Uch1UaJdrnkuj1JWNAUwbLsElLFbHqZWpJk9KlcOE6GWWDNODeP8csbs6wLGBkTatFvqwc0QAw83SATuqPXNoRXq0gIvSEUmK9Lx9aqjrr1EWu1YZjaYD4FGqCGWM4GEiHTcQYqJUCPQNjoey3JApBO/mZRAS4w4ZyuojInrntYkIynaYYRYpPVeYiq6Wp+B3xUCXTekQA4/33dc+CTHNoWTcoFh1upsKmebYs7LZ7Mexi3SdFbUYeG7sOc9qfnslypdpIdg6qEzClPiHDM3RkUubc49aGmDV3B7bty4saQ9Jk7dkUgrHcaOu9lrXldQArYJlEN4rPgg1CoTaatGpaZ4/FZBG/wmpsomNkV0Q0UlY7XJurfueFzBUNs8gOG4RRqS9qV1lU5MiXTODWxF2rYj0vpM++67b7H8VJ8K7nr4m9/cp33tLHuVyXJV87hvIL+XpgIiuSEUK9BQIm0j2/melapohZr8a8SUWuRqE3mf1O+mTMcrlhSsyc1Ixnvy97p+301CLZHOZWWICF5XscZiVueWDgi0+9sUqxkXXaS7cdGL9HwLtNgUvDQuMm4LsyL9pS+1jhRVKkgqHSSVXyvSk28aQ2oSaktbxUtUbWB7DimRhlYgISJtt8VYpAmka6rMBW3qkHWvMqsWf5sORO6+G1ao00MhH+yXYIWIdE6g48Ie0E4oEos0ZJxaAo1AaOjGirSO7a1zPRFmsbevLud3fUEEWlHwWkrAWW9y50pkbRoYs5blUtAQal2P1HzpKWtcHa1yvaIK3vC9x8erU5D7vnPWq7xHMSXQVPGLRZrOcWqYhI4WjNvbMPaQDCPSOY+Wc7xc/CKdaJsvjkOoGYNOtaeYmkOYqFsr0jy87P464qosK1Ul9omxQI7KlEBDPofOg3FqO9kC58CDio4KwmNF+qabbuqvN1HR7laoESSizFln3BxSZS2utGYfSPF4djzxiKJ+u1CeDdgrDIKXozdMIaHGfR+nb9ko53g8tE6k9+2vf2rmYW98Y18kVFs7tp5VfWyQs0LN9Ymts9dVS1nREmh7nrnOp0qHapYshDo3oUtX1rnMLVVHvbSuC6bS/GBTIF/MnFCLCDXfs77rpliGcVAinSqelKIL9Pxx0edJL5RIdxHoeDwM8kPtItBiSqjbiLR1m8I3V7RtKXYR6WGLJDSl96hSGW4yOhZ2mkcr0nXDELl0tDhvNxbn1GQT8UM+FmkED/ciRTiwfuWm5m/hvoX2+Hr2rGkVbLEinUpDYvxP7287M1akJdC6VxBp7bMTYORIalUv7ezimRe96EUD+yTUqQIkokTaCrSNJ7CUSKemDq0bL7f3oioMIvLca23TyaylnhJoxTvYwDM7E1kdsdStla8ysWJT+uQ4GP+22wp13BlzTpYu0hOipmdUlLTm1JVrEJEetoZ4PP6I5VXn8sb1Fou0ZZs8X8bhNOEFaSeplJM6kU5VssqRh4TKTKZKiSLUfF5dSztmmRNq+z724WRFKVVZjXzYuC0e145F2hKB/kBBVaWS1Z4iwXtz2/NBfxJpG7yk7yXuCMSWtBVoG4xYljplWVHt8C0Vta3iJzG51w444ID+NvnXdC7kTo8t/rqpGvmu7d+MmRPqlEjXeYwsSRWio8VSleVytIGJKYG2FnGOsUAzVo5Ix0NINtBrXFS6nO2QKBjSHgcZPoIu0vPLJVFxbL6FOpevmyP1jq31ZcfwUmNmbSihphTpDaad947reEONkRG1C2MLMifUNlgsRTujUR3birR68RJpW3ZSVIeEVKA4kl20M3TFQm9FmoAzXJkpgc5xjkibdUum3kOYEWnbzv2TuofsHMN6QNd1rhBp0tAk0kcURKRZ6hjOITUeLT6suDaIGBHkve/yE/2xfCvSVijtd4lQv8hsW760IALNuoRKQv2o4vMx0f8jG35LiHRqvL0tuf6Ic51Aq0JfyUKc5fpHoInw5nux341IZTabYpUSaU2vqWwDxstTxWxSlnSXOI9xkA6PyDa5+3RCSlbi7AI9/1wyZUFxneXGt6aFmpzAVoMaVqShhAWh1lSGYizUuEzj+txYkbF7EzG3QS9dRJqSkamJL+qiOXNu0TqRxgUtC0c5uyki1DaFTZ4AGAcd2QjlTZs2lRWz+BspD0UqQtwKNcE85KbKmo1FOlVhDcZCoCGVP6qKqKSYi+q2zM3Ti0BLpEPYNGe/Zc6aVTlRS4QZ8t0oTa13/OWlKJdDAIVA16UuStSxutt4emIyTqxiLBLo3LWKBRKqYljb0qtiLNSpObBTIi2qgwDlfVsoxgV2nAtDr909D0SIlO7EuNi4AmBEXLyxSItykWExtq3hqxrgzJIkpo6LiUgTpYyFF4+XItQEH7WJIpVnICXQUJYjecx1xS0oohHnmavAimj3xVTATl3gDiICEWl7fRHo2267beBYmHJ94laNBVoWtBXquMNE/jvCw3drOyB4U+St+eP160tLmqX2Q41D9wQ6HRBlOy4wJdSIsjpMTAoiDwEC3cuFJqjq8vJ73/m440qBfkFBLGlo3yuOp1hl0t5EG7AkEVbglsa1YeypqOvM2II6bYsTUXbzdQkPRSqqO/YE1Ik0lFDjAVpIoXaRng66SM8jy+jdYplKgRJVASjHOvdnjjzESXfpItJabwpgUWAPFgfDDogz4+0wFmoJNEutIzyx+Fj3fY4K5GmqQJUbo+Z8Y5HW/NKMZ2pMU5Z0TqQRZx7MccEGWdEItTpoUCKNN6UU54KIn6h9ce1tiTRLiEBT01wibY+1tJXjcB3HYt2FsUVbCnQioApPRG99NuoZFzwCjVBbcZZYq01VzthuEmlIUGZdPAZsChRjyCRl8bZhPCVsqrpXLNJtI6hhU870JBnn7DsXhl4WdAFYJ9JinAsMeSCkeu9YjN+L2kREH1e3clLb0Fq78Xgu4iMBQqC3bt1aErGAEhelmdCGa5N15Vor75p27bP521akbRERrGCtI7K5lBiR4Q+53w+t2jifQw45pFy3Is1Ym0Qa8pm0rr9jA3cIFosDxnIFJqxI1zFXSQyPgcYJVREOKrJdwxgIvl4jpuZQtjnvf2wqgzXRijSdIxUDsdOKQsaBH5UpGoP4ItQlC0G2tIKNQIvxe0iolT8dFyWh86J1BJrOovLQX2FYbr/iFaVI67vjuzq2Wm/DVA51GzYJ9ahlecdBF+npoIv0BJh6WHalzXGNqfxT0Yq0LcGJoDdZ5ikqZQimoqtjUtjjpmIpql1CzVzbsiCbiqJArESVMkWkVQc8Pq6urjKdBUQaN7ss+9K6L0Ra+3nPskCJedBuhZVAq2MjkabaGUKNGzB2BTYVSbmtWqZcnXLXXllQ76POC8yVJ1U5VxVzeelLXzrnGFFTZ3L9GaPFoi7ZINKyMON7us6DgUAj1Latlzb3uZnnP//5ZW3wksV3QPqSyHFY++V7FEJtX2+p4CWJdKqzZt3OsUfHUpaqFWniEaA9btzsYk0vFBFpOsxtPFvOydFFesxsI9B1tbTFOpFORRMj0rdWtELNAw0XHCU+62pxawxPAs2D7RvVOqwbR0ekceOzbkUaK8YWL5FQp3KPYzIeigs5rsFsLXk6IHbKyJgE/+CCV9U22uwDW6lAElx77mIs1DZyGmJ9x0FoOSLUdeOR+htYzYi0amn/0ateVTvnMcTLIpG2Y8kUEtHfPKRaKpAKgZZY6/iYiLTuHVVZk0Bzn9l7DUqgZy1pda4+N/O85z2vjHVAoJWiaKPwEWgsaup+xyLNPgl42whjBR/S8fr2t79d1j4nzkGxDrErmXu4qzgvRLRzl9oF4yLXUkztFzVTnHN8XP+C1SzTO53dmErTSLGNSLehcngp9GCLPdx666194jbXONmriod9+cD9aG8aQ+tSiwPPYusjJ9JWoG8vSMAQ47D6jCq1GOfC2opiOZaFOQwR/NLSLcj+tiKtbT4TxWBUECbO14VYpd/61rcG2ki10Xqqdrh1k+dIBDFi+f3vfz+5HxIVjlBbTwYBXgh1myhjjY9aKx9XrkSasWuRFDyRfQg1AWZK19K6HatFJHU9U6U8JcyxFY1AsywFuhoOsUSolfkAiQeos6Qh4gjlCcm5nflN6p5JVaez48W6j2Gq3neKzG+dao85Du8a4jysQKuDMwxtydQ2dKEeL6t7O73T2Y3jyteWdYKwSdxIV2mabSuuykQNajGupGWJcNx+++39bbmERUplxiLN8XoN4gwlbqmcVERK0bjxvjoizuSYEwAmcYask9qkVDMC3GyQ25lmHSLQ6nikqrY1USUtoa14hhVt84l5GNNx4V6ACI4sENz+Os7W5LZEoP/YBCMh0oy5psQt5suqpR1LZF7sOus9FbkvoRat54Ya67FAI87QBtyJWMYSaTpVqXgMG3cAeY/Yg9K3vCvxRtitFQ5x5cdTIJbfQUGuwTEFc2VkjzvuuM4iLSu6jevainTX3wBUTMJnCiplrOtEFVeZdTucUscu4uycDN3dPSa2taLbMHYhWtqgmBQZa2W6RTvlYlsitD/+8Y8HxES0lo5lm6CoOA+1bZQ5VGAa1dl4uNkcY9ptPrhEWgJNZ6Nksc5YMiliol4T8zVmjmVLrGk6CiJtxALEIm2ZsjbJabeMXYh0SiTSuKOVKiWR5kGr3PD4YY9II0QSaXKVcenGbl3qtSvYSnm9WNfqZFmRfmQiOt4Gc826tQfTnhQMJktVnYHc3M1cK9U6kNC3melJQh3HOkjA+F0qMh9PQ52gWpGGdcNDll3Hl7uKtAQaItIshxF6KKHWkFGKmmAkta8LX22WWNekYKZrwC8sbfriNNJFepExJ9LW+kWoFWXdhT8uqBKKMccp0ohrW6Gmx8852brOjJVDAscU5AUl0jkhkNvaplPJilNFOIYQ6Ajob9SV8YQUc0Gs43Z1tJrSf2RRcx0hOfVU/0KoGYuWSGPBNlnT1pIm2EfVvoiktsch0Ai1bbPcqUrzw4JOiTS0kdd4WuL9okSa74bvJRZCeRxsG3+X4EhEOs7V7jJUhFBbyz5Ol8pRcQhNIq0oc+afTpXRtNH/6sTbYiXDsmnazzpKpOOI+NmKc+MRaFFCPS2kw6NOj4YOWJLe2NUzMV90kR6RSu2YBsZu6joqCAgiznUCDXMzB7UR6ZixSKfShEREOjXxgkTatsWWdEw9fFMFRSCfUZa6jaBHqHPnWFcWlQdynUgTExC7vW209cMKC5iKYPT0JdAsEdiyqtfb3953/0JV+rKMLfWYc4tvDH7OnEhjQVuLOper3XN3z27z3ej74aGYezDS0YCplENLHq4aiiFaX8VltL9LvWvuJ0hHiViHXLyDip9YkdY+VSoTJdQpT1vqs6Ui1WOOItJQ08Ii1HhuVOtATIl07jczTtpn0riZq2xox/iZk8Dumxa6SC8ytq2I1ER+ELi2WVdBEVyGYnx8zpJuYp3loIC2j0TtjIOpXGpuvl5E2m7HqWI8/OOIaAktAXS2XUSkFYwXi7TWLYkXKC3pQsji0p9tacc+U+lQiDTR0LZNwh8Lsj0GIugIOYz3Qe6BlEgTbCZxQaQhgVyzVuyse9AKdVwPXozHqcVUGV9c7nZMHVoxs7EBdSV1lRmAgKbSx7g3RLtP1EO9TqgROarfMd79pYIUcUl5uvAMINIQrxKfJ9f5aCPSo9IGkSHSdh9MjUNbkbb1yidNWw1uFOZEOuY0CrUHji1C1gl1HJXNTYeLywaNQASah3Sb2uHWWutKRDqXQ6xAsLZjfyIBSG1EmuVFBfUgxt1aZ4XIW9BkvSl61UasS6jl3q2b0MFS6U9axq5jRDq2UpliFBe7FV/Sr2IrrhcRfnHp7o6FWlbLoEjToep1ZHQNEGiCqnoCLQu1l1aFe33Vu989MONVirFI6/NYkcatHUfVp8gwDkKtvPfUMZaItMh3b6vpWXJv0FFN7YNxyVJNHYpQk6lAaVTNP41w25nJIJ2+UqAL0mlIRXtTVjVuGzdTHdS4Ylss0nx2hojKgkNjykypI+mnxChIoBWrEB/Xlm0FelrpZUGXGBXFLLEmCMwGgsnVBTUWyMND48aph4cCpSyt1cR4lt0Xs0mkIUKtAA7NwlRnhceTVDQVXWkbpcrYYizSdWOuIh0ZK9JdaHOVCULS5y9nLKsEDbFmSRqa6nlb4Y0FusdZkWYo4xFFh8wyBIKPYjIk0BsWeOSJJ/Y9Czyce52S2aIyGgNHqFcl7hsxZUnzueyELyrI0oWnn356sl3Euo2jxKEVaqLBIQKdi2XIMa4QZ4V6GI5DpEm5zOVu51KjmkQaEkuQK40bk45xqn2h2MXLlSqatNB0kV6iRPAYz7XFP0QJNRGiCKFccSmBzrFJpG0edlM1LtFGWUqoYtKem0XK0uYKd5lpTAFA6rSooxALdV06XJs60ArciS1piGD0ri/X4KL++GzJqtqZ/XxpKq/6ogExUdzBQ8vJL3rj9Bqrh4zhavpICc4fzYnI7T3IiNjetm1bn4PHDJJSrPDggw8eaC87ImY7JsMduSEPWCfUnD/DESKFSmJLME7Z6kKuq8g2leNUPc6SjpfINsMJWN+2VgAC3Vakc9HItpRwqtIgQVy2/C7XAjbVPh+Gowh13PkZlcMORU0LXaSXKO0PmQAXxp5Ee1wbpiLFZeFJoBknLQulVPstcxW5bM6qxoJsgRU7ob7mtGW9q0i3JZ0a61WoIyJt862tS61JpBFoLG4FOGn8FM51ufZEmnWivcuI78KqpvNA0J4s7LmcFWmCt+iAIcyWVpxFRJp65wg1ljRCh0jbDtw2Q/taLGq7DalypkpnlqmOkw3OQ8jsvlKsO6Qdcd7MIKVrjECTKheny+WCDMdFRe3H7Yw9I9KMYw9jQcdCnZsxzvJDiTaoDmNMdVg1XBDvr2PpnYja2nAcAs1vsSTrFVPHLRa6SC8hYqmoRrMY96i7iLStQmaFGoGWUBIZqkCmWKA1bohIN40f5gI2NOl8al8bMlkC1iPjqrad9J5YTCkkIoGOxxRTUwbKmmacLx73amNNW3J+6QIaPZFGnNVG5S5EulmgiX7viXR8DG5zhJqxe9sxoPANSwS6FOqCuLI1BgsR55x726Z2pcTZEqsz17GD3DexB4MMhrZijbBb96U+Wy6vfZLMZUF0zbEWJdJ11dYsc6lQOYEeler8tCkB3ER+W22D1eLfYR3nI2J9HHSRrpiLQB0HbQGMcVOWimZ2srSpS6pGZktONjEuFcpUiirHqDabvsG0gSwRAFuzm4dtnNaByx0izm0iKrumuiFsEuh4X27cuOna1EXe2odDV4EW4/EwLBk95CTStkIYIq086jryHju/6U0lbTsibbe1HzFDpCXeTOKBKIuItE1zitPTJNRWpOUWLud7Nm7hWKCthSgPTJuYgJjci9ZNjos3rrqHFyg9lj+XqlceW/giHSeW5GLn8rEZ143zxIcVaZj63dRVSksNDTSJdFOefy5uxF5XK9Q2Ot+yKYqb65aqVjcqJ/ncHxddpCumvqymgKhhSFRuqvjFJMgDUbWFbX3vtiUBmaxDExuoty6h1jGlJV2t2weExqGtq7tt8JaoeaeJQEaw5H5rS7mJLa24QFxy1MxGkBDpWKjPOOOMge0UbfnWYaipEVNBK7jt5WpUdTCRPGqWmojjT6qUNnWWRB6SvDcCyIOdSH+JtoSZpQSfB6bWNdOWBBrXN+PPinNIucwhY5224xi7MdVpayPSkDS4OKK/jlakSaPKPeCbRJqiNIz11s36RX6+3M1NnclYpGEs1MSH2CpjOeZE2laY08QyUCJdV22sLXNxAk0VxaxIt/EAzAcJiIuj96eJLtKGcY3jSYi0GNcdHjfp2fOwZYn1pUIfzAncJNJK2UKkbTsCzdK60Img1bpEOhco1kWk3xRtIxT6DG1YCm7xOUUVnhBz+eBYBqlguzZE7FPtTeSzliyEMhZ7RBqRzQk1RKAVkR4LNJQlwzFQ6XikA0Er1ogz943EOYT3l9cOgX50lbaFSHNNd8qUUFVwlh16QaRlbVrOEeloe1hal3jdJCx1tOV5c/nU0I4HN4l0G2uwd917nZTzqvUck0KdaFNRl3EINPEJpUckaoeNIt0Qkb9QrCsVvNBctiJNnqhKEtJzZVk3EcG4OUmR5gElC9q6nUU7eb+lZs6SQEO5JZWKI1r3rhXqJqaEOi6CIYHGwmRsmPHaWKRzloa1hm1JSXUsyrKAVVtM3KFcOzu1ZUxeG7+eMU5c6AQrxZZllypwR8Ojj57jLt0xOpfZ3OZN5bIU6WJpI8TF2EN0gFmHmjzjT4rOgcqQ9tzgdGp6HRu5PJ9ZEKFGpBHolEhbEYrjI1IiTZ1wCQiCw+fXPj7Xd4olZPu73/1uSe3PEe+HRJra7voubecRoVFWg9osUxXmSNEiH51SsvGkIG2ozktd518ir7zgJpGGGjrSb7WNSBNjQGcs52Zmv41DsLRBhPzN3HExlR42rUI9rVyWIq1CDilaoR4mErothykQQoUuVemirGbTrFjjYizQYvxjU/H/HJUKU64bkoKjHFUJtMpZaiIKWXbWWo0tdlylCLRcunZfLHSWiLPGK+vG4Kz7tRTrqKPAZ0OkKYqih7hEmikumYv6xQXtazjune98ZynQqupmrcD4vDU+27sPNvVd3CmBhqlhHB7oWOSyyhFGjtME/71J/mc9DzYY7NGFeECsc6LAcX8TNQzrrEQ9yO0MYtCKNN+ZrXeNSLNsSu+KiUhLsGI3JiJord24bjjMlYC1edTkiJdizbKiPTbFnEjLC2KFn05wKo2qjvrMMCXUuefZlRWJpSjXM8Ldhq+Jtsvhgsit7SLdje7uNkSg5QoeNl2pLXPzM3dhTqS7/rgteYDHbbm0CAkoLmKiopuCTGzQDZanHs5irpIaY2z8HR48kIds37Ve0B4rK9qO8xFZmxJpjbdbEdL4esycC98KNZ8P6x2xleAi0vvuu29Jto844oiZw6OALQSaJd4VCTTnq3O25z4YRLWptLQoJ4pIa2z72wXtxCPigQceWC5tWUiNkWI9E+2KMOJ9KTtIpgiOJSLNUkId709RIh276zXjVuy2lUC3obwzCGVcYz6+x2LWddgt6Rwi0nbYRMVcRNKp7LYlFeggv5HU7yQuoCPiEWszlzjMWdJy5bZ9npHJwRAZMSyprIyc9wHGIp2ijTtwNtNFuuIoUZYLxZSojRpFnhJpHlA5oYY8zGUBtRFqBBqrGyrfOifQBHop2AuhRjzkwpdQW5egOlmWEjweorZzVFa9qv6+HqIwrlOOQOfqUkOJrnX74wrmfOUxwcLGgoitCFl6ZcWywnoqhyqiTlZapHsCrXYr0m2I1SvLVxNwYJXLMhdjoUag+WyyqOO64jFtRDyeBJYS6jKQrXpgMybOvYP7nfHf8lxaCrUsWta7dn7jcpNxHXlovTejiDTLOP3LWr+5OcahFepcaVOYCuhCpONJNNqwjGcpGAt1nUjjFYLlesH4t5SqADcM20blLwW6SBdcjAINU8LW1rLJMSXSKdrCCFgYOasrJi41WVU8PCSSdcT9qIcpDwyJipgSabwiPCQkcIgF65SftOU2La046uGihw7RxSmhtlZxSqSx5DR2G88v3RRRai38AaEuiCA0ifTNN9/cXz/ssMMG9olWoB/68pfPPPQVr5gj1syxTYeoFOjXvrZ8cGsGMiLuY9FgXmk7tzRpPhJokfOVFa0lQs3YuKpV5UQai19/U4U2usRFQHX86DxBxFm0xzWl073sZS9LtqcYCzS0Ig3rhNrenymhphBQSqQZhrF5/9atXkdqndOpViwBnWMEum3OMveNFWkEOtcZd+bpIr1I2aXUZY62ulcT9cNk7DJXBKDpgaUxL9smV1zufW2pQ5hyv1mXtxVpguBYp6ay9iPSCJ4VPci2CmuQHiSyz86CZa3vmHRUIJXUEOijqna5XFPjnzF7NbXT+3TOqVm5mizpnEhDPAVcN4hQ00YcghVrBBpXJtvxFKHMtoVFDXGBK5pcJJZAM3xxntDuh4g/Yqso81n2hhMouoL1ZAXasq1Il5XdCoGeO/tXml1FOlc9jCGGlEiLioqOx+xjxl4WfW5F/3NtBq/P4HehewShRjDbpg5qHB+hHnYWLMWbjMJcVsZS5qIU6a75tkuVCHXJYv2Eitonl1Md24q0/VHeVJCJMVTvV9HBihpOBSrFLkV7boh0qnB/bqIAm+8NU2PFPMj0MOM8NfOPJnGQ9YjoYSFyHeJUIIiLH3esHQdWxPJh1baWkPKDCDSWc3xteSAq1UlCZGtwU9lLAh0HvVliQccizWe1wtclMIfrZ1ONrFCLjy72S7BLS9rs0zzXlggOY72KoFZ7aipOpYVhQUtoEPtZsUake0VVjjzyyJKsK9hPAX8wVbjG8vMFCbhsEmhF8CPQxBzk4hEgIh2PM7cpNcqwVDyEpIpoMZsmfbAdlNiSpkPFdbHFhBDqXIeOoYY4J9wG2pHnXOfWT1Fei5xI5+r0W84tl9uLNYnbliLdkp4y4m5u63KGuUjUWKSx5pqCaJrIVIKkwGj2KqzVARpLmLE7RXXG1nB8bhpf4vi2BQ5UptQ+QDV2SAlEufQQ6e8V1DEpWqvaChwPUSJdcxWvJNCIJJ0XyMM6npDCuvjmWoo9fq3g9QURatyEOaGmoAfnK6ozgss4LmVqeWiiLXetcXMizCJtXUQavuQlLymXeBPkUUiJNLRuf96fTk4p1MXnsbSvESXSCJEmBEkRcUakU/ssYyuN8rF2W0QYId83edh4KtSBy1nTNqobN7BEWtHUKZFuEug62iEHhnswbkTaUhHpdfngCGWuYliK3I8QcR4lUDYl0NBFekppe4QLSX68uR/wOMhDuqmwQxd3tYjlaklbyoqMaStvfec73ymXNiiIlKA4BzcmkdN9Fg83xlw17qqHRxkE1HLMDKGOrRw98HgP1euWSMdualzSWPlWpOvIQz5+0NMZUaflj1796gGLKmZOoKEtr4hVHYu0nVSE82XcVvEHDznggFKkbeqWiPCzpAODUKfEWpSV+oi3va20piXSjNli6bKPnGWElM6ahhOaaEWa6Ha7TwItFy3vzbJ0n7/5zeU0mzmBhvIkaTsl1EpbhCnvjGXKlRqXkZXlKq9RXCwldY3pmCLSLONgKsh1iEW6Taciph3jtvEpqZK2XURa3oEuIm2ZE2k7E5gzzakXaQpv8DBmLDI1HjnfTIlzrhY0bOPKybFJpOvYJm9TOcuwzcxSIuk9KjJBpK59CNbRpjfxYNUPX2kzsYUtKjK2LTXurQcTgWoItRVpvAqINMUuYGqmnO9///sl43YCwBSV/O1vf7vfjgVtrejYvSehSw0JWCJqpVBXHpUBgS6ElKIjiHTvb2H5n14KtAKwVE4V61yiZSOUIVZfXGxEIg0RasahEWjEBfI94/4tv/uqo1bHddVyWJHWMYh0Km1HcRlYm7I4Y5HWvYlVyTGNIp2x2nJCDWORxh0cCzWTxHANc1M4liJtrv8wAg3jQDRLWfha4sGKo6RtLvikOQ6BTpVZnRbaWJhR6O7uDqwTY7uPH6KdWrGJOUGtE+lUsQLL1HtqDBRiYX3zm98syRinGL8mR8RZlaAsNf4UM7YwEWkeFnFea0wCaXBrIVR1VmpMhBp3olyK8WQhEJGWEH+/WL/DUMfEDz1FaDNOj3CwtOKspcY1bVAbIo3wEjuQC76DuOuhhJrJLux+LHb7sJcVvf2BB5brdqxbtCKt1LU6SqT1fSIiuOG1Hzd3myIj3MMIDgFKOXe3ZSzSiKYsaa437yevDjOTiWw3EYFuch/nRDpmHLxGPnM5LWJViY8OIs8EngHww0VbkxWKSCuSuk0HPdU5RrT0GTgXWxkQ5lzxlgx3pNpTsQ4MfWj4g7H+tgF5cFxW9LQKdZtr3YYu0i1ZJ9CWuZ5yjohpKjCl7mGCi1iFPeomgOC9myxqHr5tHtoxUyIdC7Sd3jK2cOx4WYqviLa7WPowjiJPibSIJcQPPQ6YilO92hCRpoIXAs32MQUZy7WxBidW+1LkXlBJVshrcCsj2BCB1rF8b7i6GcdWKVGlP82NoO6JNK+5eqB9lnK3EnvQa/tyeU3K6O2KpxbtWtrXwnhMXNbvq6tzRqTXrVs3cExMibRc9ynRlIBpGYu0rSvN+6SGAXLMibS9lxEXK9JxtLv1tMXeihzx5rzBTD3aRqShRFHDRnEVvBRzHisxJdK5YMQu9fRjjjIF7bRzXAIN9957b5bpnc7u7CrSOTb1+LEqcR/jdqsTapEx2tyPs83rLfVgQKRzdcDtQw2mRDo1TgZjgYaItMpPtk0BYaJ/rVuRtjndWOm2UASiJHLOCDWUgBME1pTraR/0jC1DhPqOO+4YOC7mbbfdVoo0OcWHV20IM58ZocZFL7GGiLMiwukM6H00W9hgutOsJZ0SaQk00emz7bOzjikaWGL9vGL976o2yzJQiGtUrFMGk46b3P5NlvSgQPfcrrOic/5AVa46EcN7YjMGbIAcVm1dJwkieNyfxHxozNuOe8d1FXT/0BmJi3WkAjsRvFj0FB9iGbv4lSJo20Q8NqR5WaGfJG3Ghp11qy1HGQZcDOwaAV/HXXfdlWV6p7Mb4/zQOiKacUnLYWjHeSHjvG1SQHLkAS5hSe2HfZGuxiVxZyKczJIl2uOhhE2lTK2rNLZE2pC/11asc8VqVEs5V3ZRYs0Y8mxN63oi0Nba1XXUeLSipKGOEW3xDkW6I8YhIDLvq6Lze4IjdzAizTGItCaSmDulJwI9OCYdU9Hpg/Ml995HnR1dx1Kkn/e86pg8EWcJNJYtIl0n1Ij0I6rIY4k07InqoEjHtB3NNhM+xEKdioxnqCMVnFlX/OhVBdtW1WLIg3sLazQl0vK8EBdQ5+3Sc6TuN5uipuHsEvNBpwsi0mXOecXUsXVcyiI9ToGGLtJjZBeRhnKJjkqsHIo9QLUh1F1vlvhHLhetHhbQjoNZkWbZVjRFLCYsJYk0QUXKaY6ZGy/XrFei2u34KYU55j4UZnODLZWeYgODbKBXG6GGEmpdUzuzFePfLK1YI9CpQBNFvffGmGdT6KxIYwUj1IyXi7PWzWdLa7o393RvyGZVFD2POLOUQONBeFRZzhSXrjh7PJ8FoV6zZs1Au/LTFYQXjxXK6s8J9axI426NRRrWpxAydo0F3UakY48XndNYrOqCsCzLWdNYRu0LQe433XP2d1tHhFreFXUOrfehicOINFyOhUmGoYv0mDhszzA3Bibm0pGUc4lA24CqeMYqFfBoYtsftDjs572l4M3VusYKcQlCgqXssZaxSKtClm2ztCKdZnuRJgdc63FAVh0RauslwHKHEmkRgY5LYMZj6ggUf5sxaIhIhnBp39qHPau7d7wNNusJdM9yYz0n0hBxFmVJH1D8PcZgRaZrpL13DmFm7dq15dKm/CDUiDQdRQ1rIMBt2HuPi/u1o3vbEmiWvXWb0laXpmVppw6VUPObQaTwGNhAK41r51zMdVOaNg1XxQV+RmEqpkXs+rtuyzgmIY5HqSMdcw1jnBXtc87lbrvtxjK909md9Erj4h1NtBZwirFQ45pTzqXGmVORzxLo0pU5MNY4SDv2pWjrXOdATIk071M3XSFuOyzxuEayalArVcdSEaMU8VBbnTjD3P7ZQJW0QIsSaLn1EUAJNULJjF86to6INA9JWdWyplMi/cfFPusCT4k0ed+kVcGeJf2ZOWk0iLMEGkGGSnNCpBHoR5nYBMSY+2NWmN9biipWZG/bnkOPGv9GpF/0ohf127vUjbeBbUodg7MibdkT5VT8A0ItxvtSbBuAiFdB1bsQ6VSkdBfKw1GuVwJdJ65iXRaAGL/P3HunHe3saGIqghymAgebOiYx4/QvZ5ou0gXHMW0kVHnFplzMcVCWtJhLT7IPljqhhk3pUJY5kU55Bm655ZaScTuMyximhBo2PVxTEbyarIDa0WorU+PE4jOIZSBeQVssRyIdQu+hai3qlFDTsSFAjQAwton0tpaMvBxx7jUCzVIinRLo3rLndseSRqgRaR0jaxki0nZbleawNmVFP6q45xHh11fHcG/I6u2Nafcm9rdCzaxPLy3I1JqaXhOhtoFosVD3pse049yzHAxsGyQdOg0fcf6U0USkXxcdJ+ZEWp4R0d5H3Bd2iMp+V3gCuDevu+66ZA59jqmUMMQ5rsmNS76NSMM2Qh2zi1BrbJx1K9RdBHo+mUsRW6p8ylOewjK9czkRoU5VAmpL676y09mNk4iomNofk+IdXXr/CD/XIFfXt4lNrnvGjOM5bXkQxkKdI6UdYdweCya53+Wy4uy+ZhdjumDO7OuwFqylTqUwCqVA633AelbOtCVBdXMLpMxeNwWY8ZBNCQ/jjVakbQEMhDkWaNEKNER8OU5EpBnHJtrdirSO1bolQo1Ak1Mt9saPeYgOEoE9qNhHRwhPhUgWQJwJYDtcElGuG0LdVaQ1rakE0XpklJ6Y6nBCiTNCHe8TCegiaC3OkLBCbSdW0WxgdePmeKPi8XzSvpRX/NoqCj5HdTxZpwKfqvA1kfF8SBBbqp7+ONjkBWtDF+llTkRqFLEWJyXUYtP8sHEJzLjiVExZ5nRWFJFbxzjHMRcAonQnBXXxd1Rv2rIU6+LhjOhBJmnQzEB1JGiN8TDmpmbYAIFWdDupSw894ohSqPVgS30venBYK9rWp+6xJ9SINO9PZ0N/R2VHZ0W6V1NYU1RCrA84V6TPKi1pm3eLUEusLRUQpPxtrJ7YRWnHokUEGjFlqbFbK7wS6Ye87GV9ap/I8X//938/y6KN7wlLmrxwyHGp9Cai56lkhUBrgpSDDjqotKJLsf7SlwZS9FJekTebdb5LhpS4nnYsFKG2nRZNxGIt1pRIW/Kd0vlIpU7FwYmWKkErSqSZaMS2I9IKGFWhHUsE2rqB6TSpRrV+c7qXU9cpx7apocq+EOPqeHVj6eoM0EHIBdGOKtJM/jFsadLFyt13351leudy5TsSbdPGLpO4d3HXtRVp+6Ovi9DkRylR0fj5sB2Y+AGRK50o8eTHLJFmm2AyBZQpGp7z4/xxi5JjSjqMqPeDGvuFRLOm3e94LWY9F6p4BhEMrKdBCwohKES6EDgrUhJoZpGyVpAVaWpaM24aW9JY4NajgSjTKbIuafvg5TUsbeqYRPqhZq5sKGFniVVOgR8V+WEaRhGhpuQszKW3wdjVTUAas0qlsh7o3OQijzkHXLOxNW1nSxOtSKeo8Xabdy4SC4JI1xUMsfuYR5vv0O63Ip1ySduYjlS0P0M46tDG+8SmPP6upAMM1YFOHQPbRNWPQtUV53dNBTeGROJjliJdpBN8R8a9N00cVqRVDQlx4qZHbKHer+34PC48CTURmvHDKCapS13GvGMSJa1IaSqEIdBxzWRo086wMrFybysoF7ho3e4UrEh1NHrpYHQM1DnorSPSvJ7xZ1k5iPMOhx3WD4gjnWjHV7yiXMed2yvUgShb9gS69/pZWita11XjpUw6oU4PIl1OQFFZcXx2Pfit1YxAx8MeWKAaq4YSaGgtaSvUiDNBZ3KbK7qb65RLnWOcnXsqLqSDFYtXBe+DjeHge2DsO56sJc69j+837uuUSNuo+ZRA8/cJ6KPzlXIL20IdXC/dNwwJkZ9sGYs3Ip36PeVEWnn7Ih1KCbXiK9oELaZEumt6qIg4p9p5P72nYjziY1KkpnyqvQ1Tk38g1LmZAJcKXaQTZOwr1T4q+dGm2ueDCDXjZpwDDzQKMsj1xIMH4pJsW2DfjrPxY82N60H+rqKSIQ9lhEZiI3I+OqcccTcrijQ1sYHdtlXGmG7y+uuvL3NhrUAr/Qt372w5zF71qJxrD5EmEM6+PxHACDTCrId9arx1lh8tLXmJNG5fHq54cRBplrgetz/44LKzwZLvrCeaPPjf1c9rRuwk1uVYdiXalkzKYbcRaYSZa8Z1qRNpURY0QVAQkdYwiSiBUGqSjVhHmAnWYkkQHpY0lreyIeKOEkKNYGNdQ0V32/mNRQSS+Z8RauIWbFobaVc29cpSQxS8Nt4ncq6pMdq2sRtWqOMJRvrelsrLEudmW2saoU6JtJ2zu45dhTon0DnyOeLMjZijiHQ8z/Vy4VOf+lSW6Z3O4ZgrdzkJ1gW1xIzHgr9dkJzlm2++uR993cVVRjQ7HZo6z4MCarCi5UIeNvpd4iwLNTW2LVJGkzHh22+/vVz2Aq16VqXGFVWGkgc8laI0sQWpa3Vjb5DrpUlJOC/StLCkxdRrLJV2J5cvIq19KQ+BqlzhvmciDdZ7Vt47yxKWWKp0PlIuVBFB7ZPtiggl+627234OWdMSadZhnUiLEmnmW7btiJ4+O3//Yf186Dwl8ql9UCIN+btx7nmOWLDxzHaWNqq/y+8tRUQ6trjrSnnGzxIr0qTWSaCtUL+poDqfamtLjfGrA9iFyivPifRIAr3MgsUsXaQnRHrA8OMV7b5cvetJsG7cBpFuO3GI5UkVU/ssbYQrAs2DkB9bG5FGSGWBY+nZfYi0hFo5wJYImYK2VM4TQYalSBfWugQaplJhEOpcIRi5znlgl+J86KEl7TFYaKKi0m1ZS2tFx0KdEmmVp+SzsYzHzCFjpqWbu8aStmPYMYlGt59F4+6INA9vO64tV3cc4FaKY8ziGLi+OkZueH3uh1UiZadOTRGRrpuwQu5uTejB2Hsc+GTJ2CbBhdqWUNva7lAizVj4KCJNvXGGaejU2YC3riKNqx8yKYfdpyGA2MIvx28r2nZLeRJIoUOgUznvcTpbTCzpVKUysgXmlqrtxmE6DUuFT3va01imdy5mdgmWmi8yrjYpgVY5QHKVbXGSWKTtDxuRjl3EMdcXD1Jo27oKNNQD0M6/3ESEOlWGUwKtSlui9peW89dmp2skkElRxwg07mMr0k3EFR6PLapqmv27KdqUsdnqWYPEFYtgSbRikbZ1m1MirQeg6k/HIk3HqC/SVZtN55Mww1KoDzmkPIbryEQQ3EMINDEIFFEpKZGOBJm2NM8phVqWLpYz4izquDqhRqAR6tQ+CTSdTkSa1CsNL+Us6rooYQk105nKda86CPHYcYqx21oTgsSZI02TU8QijRATvKUYgPheIZq8yQ2f8/Qh1HYfvxk9V0peNVgiOCYizdJa8Lo367xeznouWZGG03JjEMCSijQdhta1rGAgfkBqi2ldTxLo/jJhhYqyelLsItI8NPkeoAI/ckKdevjxI2fsWh4J3vc11b6YCCbWQl3pTsbluoq0iFAzxoyIlcME0X5Loo1VDAKLVFYpwmFjE+xYKWlYEmvl9w7y7bWWNFQwGAFmarPj0RLpOiLOPU8EsRknlS59xvJxWSNUFCixIq3X4WbV+lzi4iXq/OxSUOUWx5sAFWUuqsNhc4IPLagx5EEO3sfMlS5ipda5vRFqRSynvEoU+kCoWZdIwyahbpsepWIyXajzTXlcoERa05aW61WbiBiXNG1xmibfQerZkhNqRXcj0tZbNi3P4cXqMl+yIk3U7aRylePc1BSxmEuaNn64+vEySXzJ4gZuW3DERrS2fY1EOnaNQcTSCrVyOnMFI8Q2gXWIqR56cuch0nUpOYdXY5+QvFNN6WcDzHhQYll+97vfLal2KHdenXWr4Jk6kWYcG6b2iXyvfbG++eaSKgKRKwTBA+/rBbl/IOup46C1rENAsOGsSNcRsYQINVYvY80KWEpNA2o5W0L2pH4Ameqm87e5tgdW2wi13N36m6ynadLCKoFGqCEPdSvSEmgJCesItPYPCvXs/au0r9l9PaFGCLPWdHF/tRVpaKtt2bS5HK1Xiyhy28luI9AKtozbm2aOS8WWINSxWEMNzcUiHed+W8axCFAiraGZYWNPJkUX6SljG5fUKNQk6+Nik+gi0LJgrSu/zv0E+yKdsZoR6rKusAmUikXaugXbRr7HFZhs+gRjwFvNtmV/zmjTJmq8S+ko8LsVOUd1Yppc0GJOqFXtidQtGO8X4+AyhFrrjIXygJcA2PmPKRsqgVYRkJgSaKxuhKpnxb1tjkjPli6dy9ItbSxqWCcsfCdY0A956Uv7XgCEGqseD0Ip0gUl0v9YCDS07wFtZ9LSdsIk1FACT1EXkXZ1hg8paEW6l+7z6dazVBHTQN5zSqjj4SAr1HhO6BAMdBKrJaQ4izrd5C4zXmyr51mBtkScRbbjsV46GjYOw4o0FfHo6GrYLHf/pEQaporNiDYFjWtPFL2dkz1mSqid4+eSdndPmrgAu8zFatkm31FUuhMi3UWgISKdE2hb9N/SinQ8btclPS0WatGKNFHYLAmkUTANBR9shSkxDkqxD2mE2u6bzW2eJcJji7CkRDouxwhTQo2VYUU6NR8wVMCLRPr2atnEWSt6lnQ+LGnjHFIWuSxoiFDbFDmE2rpCiRaXQMcpYwS7EflOChvblPaUWLPds+h6aXuIcyzQimKHVqRh7NKXOEM6YpoK1XJ2vP1TrUUaInopkc79DjVez/STEmkr0GKqM9mFVqBznRuoIRyJdLzfknHu1Fh3nUDHVAepTqRFsgqGqS8+n1zM6Vsu0mPgMELdJQcRkUagISKisVlEsG4yeLEuFSMp0jWT63ch5xa7mHCl4lK9FVYCzQ+cCFpY5kEXy7h4hWWqdvFckYaDs13FIg3bjE1LpDcUtJaWAqysVRgz/p4R6boxc0Uvp0Qabt26dWAbgaZzw1IlJHHpqwNn859V05ko8ljgNMEI64pH4PNSvpMOAUIdV1njvpRI2xQgvnPRHi+RJue51zZbTAVakdZYqBVqBJrIcP5mU7333D2MUNvJLpo6y7mpKCECfU3UliJePXn2qCgmHl8wPjYn1OooULpW6XgiXoK+dV4TiNZlljJxvkXadurGxa753tPGPfbYg2V65zQznjd5oTisJS3GxTuUCwyxWiEuU4gw81CZrXLVjoi03JdtyAOOsbrUPrHrOcDeWGdPoFnKEtX4vR3LLVNVzLYlIq2cTDF9voj0oFBbkUYsEWkJjBU0S9zTXEMEGoHQeGAbkaYHD+X6zFnS1p0LNX3jhz70oX4b1qstNBLTBqhZpj5XWTO7It8D4o9FjUArCh2RZimrPcfe9cOaFgf3p4SjNyd1s0jDUpwLUhmuZNGGSNta6zHjjhzngIdGE1y0JcMMNmBM5H7DpdxGpCFjvqrJzfnb8p8xbYdHlEgj0HHHIVXCNMVJinSqfVg2TdSz3OgiPQYSaZuLto2J+zPnBhYl1FS2gqzzGvUyEeou7nKYE+ncA6iNNa1xdFzwBMHF+1NEoCmhaNuISLYlKi2xvmxOqWhFGiEjiMxOh9lzjcs9PlesRQm12CvX2Qt86ZH1j5aBZKSo2JQqxLlOoC37Il28T2xhHmbWRUQacZdI446Wi1lCHefz4lK3Y9+WpFZhFfMAZInbGmsaFzcCzVKdJnt+Euhc2c9Z1leqQyRJw1MqHt8pf7+sQ12RdgVX6rMgznQavlOsx9W66kTaZgAgzLajoPnLRyFjwXUCTSQ849l8t3ghaCsDtD7xicaSvimRtpSLvKk6Xxum8pqHYS5YchRSgS5Vrne50UV6RNoAslKsTc4nTFk2sUjXVeJBpDk+NelAF1pxiZkSakvKU0KE3oq9gmZgW5G2pPKSLS/aROV0x1Y0QibXOcxF9WsstyyvWSzl6iYwZ6612RNnbUukWZeFGYs00btaj6mHDe9TTkTx1a/2A29SIk2krCqjSaBVpAOmLOqmMVqEGiLI8JHVmDTkWmBJc13oSOpa2dfHQq0o3jqB1vCAxHmQxErQOYMUHZnN0ZX1zDodHIQNoZ597eB4bkyJtISdTskhledjVGpYQEy5qBFoLF7K7EqoVemNYEA6Cqr5Hb8295vQVJV87nEItFgn1HUR3lDFXSYh0s4eF61It3HDTJr6sdq8V5hy7zFmaAN8PmbW4bUFEetYsBHpnEB3qcJTJ9KWVNOCpN00zRhk2Uakba1rsU6kcfXjooM/+clP+sEsMe+6667+OilRmvZR11T7RK4FOabKM41TXGYjawfH+8uyk8VDi4hqxkZx80GEunwAZ6JdrTVgU7sU0Fcn0nIlMo6vfURfl8tCqCXWBBTFc2Fv27ZtYBuBtuU3FQwm2s4jAq2iMTk2ibQdv1cks7h/wZeabcbKVS1N4mwZxxwQlU36Ih0yUn1U/1tEpGPLG6G226pGJvFrIkF1/ObVGYundRQpuGIruyHUdMoYJqGjg8AitKkhI3kzFD/AuuaSbpPyNQq5hvY6Ngk0RKQXQqDbxOIsFS5KkW4j0HXBOcMwtn6xmOMedRsi1LizKGKBlZ3qhauMHozr/IoULHhTta580/gYSyJpESc9WHLpM6mZgKByV1Ps6nqHNvUlFbxmiUCzxJKm4yBqPyKtB1qKCLW15LCEyQmFpVgXD0+Empxa+zpoA7gYD0WoIRNeIKCMS+PCJF84rmGeqket6GkJNA9l1bXGUpa1irsba5eSnDwI1QGQQKc5aElbkea9WBI4hUhIoLGm4SOKzxbCZdVY+KWlSOc8EgSlacwcqrBJHTUkBHFfQ43tz7JnSadEGiJ0Lzfb3EPpoi/1jC3HNiKt782O/8YizTMiVVtczwniIfiu+Y4Racble2PzvYhtKJGuY53nbRyMOzwpNpVcnSSXk0DDRWtJ13HcAi3yI4zFOq7LXUfEedb6aCYCnRqPHYaphxmiIpZFLAoi0oxRxlHEWGlUTYutNbGLUOeizZseUJuqpcYC6eTcVS3tcTH1UNOYKCKLSPQsRVkzc1PLVA1LJA8aAUGgsRKhgp3KPNxKqGHdhBFxmhO0E1AgzIggnbRHVN8bbczShUinPAq9+uOzIm0FGmEW2cZLgihDtfO99ybuIK+7x1wHkQ6DosdjgY6npGxPBHquSO+///4liTlA4BFqFWTJ1aK295cdnqFSmtYl1FjhTUU3bLXAOEhLQ0HxcyEmQs19q+855apnJjWWbX7zdhx/3FxXMNVBO+qoo+a0LQR1nZYLn/70p7NM71ysjN2XYhywI1qrVD/qXJEAqBKVXQQaNgWEpGhdhpOiXKmqvSsi7CVNmyp2qSSmgrV4eOqYHMnZhrkgthR/XC2x/M4slhJorB8EmvW6SFkJIoLHcq71Zl2OvTKYrCPKs+2F5XzQQX2RlmhjkSodhoc3woxQSwxhXCyDcdiUSCv3WMFhWPCPPPHEvkg/uBAqRDpfRAeBnuW2ok31tBX5jjjD3CQRVsh7vLRn0UeUVU9gl0T64KLjwrJOpJvKQ/ZEYFPSkuZz4yIX1a57SgGWcQcwvtesUIv6DulcsZRVq/25dECGrOQRyXmmYlqhTrFJoMvAukT7uIhAp9rhUYm2LkwZOW2I5Ywwi6ljljKXlEgT7ZoTaFgn0lq3KS+jkDKcqVKck2ScPxlTYst4Z59sV4yPFzUmpm1Z5UzQoTZV1rJEWL9ZLCHbPEy1jwcacyZrO8dYpG0eJSJdJ9AioohIzxVoqEpvJ/bLI/7oRz8qtk8qhdnS5oLSiVPwTi82YDZtpBTqir02HuSzlMvaegA0HaQokYYqmiOhHpwKk+C9y8tAJVsuE5HGUradBLYZJsilzCDoiLCmwkyRYQU6ahRLsZHkEmkYTyIhxrOZQRvPocC4WKTPKsi4vlLDctNVSqih4hLqqEBEBUBKpEUbBZ4an1VciYS67e9dHc1Uh6tOhBgq455p8hyNQok0U572eeWVfcbHp6ghIZ4vqf2q6y/a+9YScV5uru0Ul6QlPQol0rFbqykCGiIC0P5Y7bpqY0+KdeOyYuyuVu5yinWij7tO8xGznRJpkYeRFWvYRqB/Em3HgTNtRFr5pYj03Idbz4re8cgjB6a/xBWKUEOlOeE5QKhZ70VR01mAgzmds8Kcsxw/PUekY4GGiDOBXogzFrzGjRFq9stdbSeTwJshj4YsaR0Hccsi0vrOdDyiDO1kGWyr1vMjjGsWy57odCxoa0lDvlORbcaPLRHp5xdLHZ8jdbwR6niGLERa03ki1HVzS0OEOh43trQivWbNmr5IYzFCgs/KaSWLpWhfn2Ku8lyONiOA90+JNLXDbdBpF9Z5BOtY12lvSw0JsU7eu8i2FeqcSDt7XBYibetGp5gKioqjUduIdI70tNNW3HgZV9OCuDe1jlgylsi0g5obOCfSdQItd6edzcqmY4map1kWA1adosd1TN1DVAFjohVpyobeeeedA/tzlAXCusYXiazFs0JpTBvFHNdb/lFBufYRafKMVWyBcfjYLS6RVqBWinUiLesZkWLsWSJIxgDjzBDB3VIdr2A3rml8HyPUDEdwvMqA8je55oyR9lzBs2lYtoNhyfWDEuhe+0f6n51zhES9U2f7FcX1tFW9GDvmPOkMse/5z39+fx8kPSkeo42tadzoEmiogCvqS4ts4y7mOpTBlMU2Ef56TUyNaXPvlmPGBePiRDazAjc17y9yD2ns1qa/tRVq7j/GwxHqUqCjeBXaJeKpVK1xc926deWyKZVvHOQ5pLgGZz2XjSVdJ9T8qG2N6ligYapub1emhHpcuZsiQo3FTtoH21akIcFAfFY9oFIuyBwRZwm0mJt2UgIt78HcsdnededBGreLsUjHDzHckQh1XSWl2AKxIo2VEQ+BSKRJodF4O0IN7d+xgXISK32/EuiU9YVAk2rEEqsWgWadeumIM8dIoLGkSW9CbCH7ENyeu/u4UqitdyKmRJfXqA2XMkLdizjuCTTDFrgVOR7G84eLWNS8tjf7WCHShYCQMSAi1Ig0x/Y7ZtW2RFrvZYU6KdJRhyP2oqi0aGq8OB7XRaih/f09t6ACEfF4MM4rD4CGF1i31a80lmzHVe3EOF3EjeEeBJqhEgWu6V7Bi0f2h53GtIlUMVOZUVuXXTzarFviOZT3UCI9TubSJmPm5gl3LjN3N2NpCnyKKZFO5TiL4xDqmOMSaQVGWSLUCAFWFulDCiBS7z8XHduVqcL96vkj0jzwUiLdhTpnCTVpeBozrBNphLhPtgsqPxVXb13hfUp4QsbFERJZlPbhaT0DiKYsXJFMAz18H/WOd5RknQc63w1ubARJ1jMshbxYhjD3XkVw31it9/7W3LFS0RZakVCT/tOz4HsPcQqlcJyNL9Dr8AClKsHNRo7znQ5+r4xVy42OUJeFWwrK4i+HFgryfTLLFG2vrvZZlteiEurU+DLiLIHWktiDVFAe0f1xB5nfAsdKqFPBWLFVnaKttieR1hh1zDcV5HPrXhZVW5p7mw4GHSlRx6jTm6Kmn0xlR9B50nos1OOKv+nKXIaLC3Waz3jGM1imdy4lKrI6VzxjoUR6XESkqbplc455GGsqQx5KuO7iHFFFw+ohOgwRYqicb7kIda3lWodx4ZcmptJj7LidIkbrhNrWQ9cUf1BeAQk1S4qNiDoOqrSj/g5j1RqvliUtC1pCjXjLJY8gvOlNPfesxPqRJ53UE+riPe3YISLdy8+eWyRkh0MPLd2zPQ8IAn3cnCp3POgltCwhIqR1SPCS1u1r68h7cM16lb8Q509UEdk9oebzw3KKzOLzInJ4KqwFbZkSrPLcK3FWp8XuV5132wbr7t+4A6u4jOc85zn9NlnSCqhUu2Wq6Ay0hXxUDS8n1CnKK4NFH3sBRCvS8WQWqTmiRYm0OqZ1U8EuNF2k03zSk57EMr1zKTBVLEQu2Jg2iCNmnUCnxrTbUu5BKBd1G6bKotrSmNCKdF1ZUYT6hz/8YX+8EReVqIhOIqtLnnlmGWEdz1Yja5rOEH/LppsNK9JWoHE9y/1MpC0pMrZqG8FVqfmf77jjjpLlesE7C2ocXmPRiLO1qHFF2iCXH//4x6VIM9GGjhH13gi1yN+g44BAy8q246bWlcskIgg160Sww1mRvmjgWASa5axIFx2CLVv6+0WEl4e9FUBZinyOVB68yPCFZsGKSeoW7zN7v8+W8RRx2yPS2lYkcx2JBqdzjPhw3gSO2f0IdTwvtuXsOPks5QEgAl+V5aAEGs+SJrzQ+PYBBTkXWfgHHHBANSzQe01KpAl6ss+NuGRtjnyHEIFmchU7IUhOqEUr0tatze8l7tS2SQtzTjeXtEjnpn2DucIZKbcs1ieuu5LRPjgukYZ1Qq19ubrlWNGaYUo5jW1EGvKgQ6htG0KrIDMrtClKpEkRYqkxxtT1Un55bK1aYo1+C1bvZ4cpbA4rLAW6EtDvmXZorWiieRFQ1uui2mOWIh3VrbZEqCXOev9UKiCWNNNxxu1QAiwi0r0x6Z6os9+KtD1W1yi2jHMizfvVuXI1LBC7R+UiVjqSip1gAdpI9nIu6+LcsaAl0nWBT7h1ER4JaCzSIkJt2VQpDGuW7Aor0pC4gzhAMKaEWsxZ0bCtSPP5LGnT7GfxLGgp2ueMhBqRjr0RMaddqNV5dab55Cc/mWV6p3PQPayAER5wItu2t92ViPQcoY62y7YGK1vTDrIuoYaaDALWPSgZQ/xhoh1iQZP3yDpjcMxpzbotC0idbQkfnRmsLoJuUoE9ykeWSFNWE2o/D514bNeK9C3Vkqhr0mZ4H+baps3WB7dTXTL2SIQ+1i0WdJwrjMtYebh2HE9U9C/rdo5jJqaQu9syl6+fE2lcrBJhlog0rmM+N+Opsqj702MW2zH1XmIctIZAK5BH6WRtqDH9+Lu0QVWQz4BAI87qYNR1BkTuFXLvGUrgnHMiHZMxVYSaeze131KzasXinKudgMATL6L5vWEc3PbOaimRzgm0igLNaY+2IX/P/s2Y6iDpPmoSaDgfIs2QgoYVFKgXH5Oji3Q9XaRb0kZ0Wr7JrLepu1tHHgoKJEOoRR5ctvY06Udap4iEIl8RSrWrhJ8VaTEOQrEPOYRaLLcL61oWNkKtyetj2gkgYK6qVezKIzCL8y/JekEJtM5LwUf2dRLqFOX2V7ENCTTrGiNGpAmaYt0SNzAinerQYE1zfr3o5p5Ax8fk+OCXvCQr0FAiLaG2Is12kyDrGLudEune+uakSPPd8BpIsFbJYp3AK8h9N3vv9TpVcflTDY+UOd5FZ439OoZ7VUVP9P482BEwJhPR30Y4Z8WTJR1UlnMFlTx57hPlPKfIfcB1hEzTSQZEKl3REpFOeU8Qak2RKZGGeB26RHdLiK14v6RatmXd/bTQ7CLSznq6SLdkXCVHtCItdpl+sYly10qksWZs4JQEGncvVqSEWu7nlEg30fZsGbdj7FfuTFnUEMuTGXAQaBsoo+AeglX6LNp5oEIrHoi01iEeA4TQpoYh+E2FK1Lk4UwupiJ4LbGmEWmRNo3TItB1cw7zAMJbwUQE8Rh77EanmAoBZoi0bU9RAg0l0tqOBTiujgWZVcoGWtnrPBspjJt0rkg3jYNCPXjjz6yiI1jRLKlShTAj0pqX3BYlEVXsQp0ALOiSxbEvKLYhqVpQlacQbzv7m+4pRFr3mvZBvn9mv0KcbXtbMt1k3EbAGUJtA53aCLRNI0uJNIyFOp7pzk4u5CK9POgi3YI5gc6RsVwbODUKSVcQEWor0Aeb9RRTqVFdqMCaVBUkGwEbW9GQMVCsVR5e9lgeqJroAhLoFQs1wVAItTwJwwi0pRVqm+eNq5Ba2YiJCorYSSXisW9R4olQ2wcvjAOyDi/e1wp0U96oguNgnUhbKr8V4ZBQ2wItPVKcZjbgiOsQCzUFQ6C1eEVN84j1mxJpljZgDKHmump7lmdVE+Bwb/Wo2bHscbjSNXmJGGcmwNcU1yhnRetav6gg47l1MSqixnpVkOSV1ZIiLDoGPqegrZQVj9+nqHslJfwwZ0nXCfW0kvsk1e7sThfpFqwTaUREkcH8aCc5vqISezAn0HHUdZfJLHJMibRlSqRFhFrjvwgDRKjZxvKXNaXPRkEGRSyPMtYfU3XDrUgT1FROapEoywlTxWescIo8fGWJpqKmYyuaQDS7rVrXVqAZXtHf6jIlIELNtVT6krWsJcK6BlSVU2U52vW9iNxjpRVq2ghUsg9gayEj0rrfEGmWf1RY8JBhEg2VaJY6PDFx+lhMhFpj/imRhrGYi5w/gZMSabWrk4F3R/EVlniHrEgfWa2LxFOwjIXaMjUOTMcz56HZb7/9ku2QOBByqaGN3Zhmxp1X5/B0kR6BCLTWbW8Xy9Faj+OiFenUTDqyfMW46lCKPCT1oKTSWqramkgUNYzbFV3clnpY2weZKiapahKkwzMuoaYAib0+NjVIM0+lXMiWjEEjZrZELOPfuGD7Il0QQWD8E3EWCaA6vHqNFWlVuYqJkKj4TNd5e4l8Jq2I6HgsalnV1OMm1akc+z7kkD4RagSatKT4vXLUuC7CbIlII8qIdCrVUd+9cszbsBTqBO1+e7wlHQGlO7EdewFsxbAmymJXdgIirU65/T1yX8diyv2BSGvbzrSFQKsjbPPlRQ11Mf95lylhU4w7Orl01FHpIj0+LlqR5scBc67l1AwqWMRYKLkgsByJqIx/3Klo63I2qTGJc68qVG/dzg2conKY4/YuD10xFmlVB6oL1MqJdK7+tx7UZRBOwfg8GRMWc3MaW7aJ7lWVMCxq26FiTBCRVnR4jvEUiIi1guNKoa7aKemoMW4Ei7xjqChnOgKItJ2IAsbXl+IcYioPOCauexvpS2lPPBx4JRBnIq6plsYYORNsMOEFAo2gcnxTGqHyvSXODKWkxpkRat6TjkHdrElMGsHytRXj/aKs6FSdAsQ5FwnOGLTSzqBmuot/x4q10D0JGU9tM6Zqi6FArHbVokf8y6yFYl0duNz7ysvDMhZpBBpLWtuqTtaGuVRN28mclEg7x8clY0nnxoBLYa6Y2p8iEawa90lNUQetSDdN9TgM9RCDdSKdEudRmBJpCQjBYLkffh1tJK0sD/tQbGKc6iP2ItjfXpaVbCPUIiJNug91vBFoBAfeddddJePjCUaKRVrkIUqUL39fY+iItMpsKj0HkZYQavpNfa+pDpBShWRN8/5tPmM8E9pDDjigXKqGOQKNYEM7cxnnpqIeMSXQfCb4ioLyqjCRBpyd4/mD5feNSNNhnTs23uMN0XYp1q99bTnGbNtFTQua6hCmLGkJtLxDPZEeFOiYuXFUXqvvLu7gW6FW6h451cqrxp2OUBMTgdtcnQT+VurvIdLca1AWtKx9CTQxFmWxoWq7jlmhLmirEzqnl0vK3d0mMKSJNr0px6ac5TpSLCX3wBetQIuxUMdjz13ID7et2KYERJ0YxhZtznAdrVBDvBzxDFh19YlhXcAMruw6i1MiJYFmnUh5de5S4izGEcMi0dOIXpOli1Aj0nw+iEincmHbCnGOsVVKpDkeBI1Bc64S6T+q0osQ6jcVyyOKzgpU1TO9B2SSFlvbG5GWJY04iwg0+y8sGOea58aTsfjjwiGW1vJFoFWcR9TvQEKtMeK4LGev3O8ZfYsa0ZXw5gQT6p5TKdI6kYaa+ANyPRVhj1jHY9tNZHiL4R+sfUWSx5kKbfLQYeq55iK9OOgiHXGYyEnGilLtKSrlouwtF8s4KKvNWJ0eTHasDcvBuvdi8rkgD8S6hyJM1S9PReoqAEh5w3VMiTTioO2cQOtBqu8l9f0g0OQAU9wiJ5i242M7SYg081JrO2ZOoEVET+t4CQg201ijddvb64dI50TBUnne0F6rmFigqZxeRBqBljWtoQu5uHUf6L1lDSOcCLOIJwORZokwk141N6juQ6UbVSmDEmqGMkoW66l4BvjiF7+4fy645xU4KIG2sRgMIZBTDXGnW5e6LSozO6TBeyCsYm9/jnxXfA4xdUwdrUgj0Fak1W4Zd14UJW4/MwLN50GgY5GOrem650edAUIZVZVS7TontnOyXHKBY6MIdc61PQptgZNUhSGoManUD0x5z5qqsCkHW0JtXZkEX8XihotWtO3/+q//2nfR2odqSqR5Twk16UhiuX3rrSVzAo5INxXUl0DX0br7UyLNGCxjghJpXIY/+MEPynXEuU6g62jLjaaIx8TGJzSlXqVYVsiq1q1I21m4VPM5l9Zj2RPpD/Zd0LazRkASIs31iaeqjKcjZRpPCXVv2AL2ZlSqK7fJ/WQDAyECzTLuOFLQRkVt4upzfM9xxTgRoYZ0ggheUrBWU3wG7l+NezeV0K0jHXYoV3XMpu+J5xdEpMkx5zfCuds4CubKtq8Rmzr4KZHGusczwpLvFdLuQj09XHIiPQonIdK2N665jOsYp25YkVb1qa5kDCtlgUIJJakhEJEuC/W3KDcI7exDTe5alQ3kgazJMWL3ZYrqcPA51IaA2+uhWX2sZWuJUCNAuOetix5L+qxqXWwqo9jmAaYa8Jw7AWYQq0lWIPzRj34053UiY7O6d+gQ2KEBxL+0Iot1W1wmxd54fq+cZa9CWj4WQGOeVqRT84Ura+BPEul91vq319G698lFVj6yRDruLNK5glag+axY5yxjkbavR6TtdxRP8mEDSsl/tkFp3FMpkVYn1U4fmePLEm0aV45FGpezOt65IK64gxGLtDqAdkjH7hcHK7nVs+keVzCcc/L8sz/7M5bpnc7uzPVyYZNI44bF1QyxnGQ9adL/YUSaMatc50OzP9kZoBBp5TYjLBrPzI19KQI5tY9xS2tZ2SkD7QxWw9C6/XLT7tU9lBBqcpqZdhGR7vOsuTN8WerhJZHJ0U7Ukqrp3Cb1B5G235FykFVYQw9lRCuOWracDbz7UCXU6fFh3bvMglX3/UikuU4ItaiZw3D3ayhHwznUWdfrcc3zHi8u1slJhlZkrZcijs8oBbq4L9VpoSPAa5VrLpd3LNKxBY/1CG0bJJsg9TuTSL8maoecI94NxLZkIbaijtH3vW+1LXYdFyarINWue8HS3jtdAz7rRNoFen7pIj0iFX0rxiJte+k5dzdUFKptQ6QJGLMuc5VQtMflKGHNibQtxICY0QP/12rbCiqMrRHIQ4hUsZQQItAsY5Hm4d9UHMUyJXB8LttpYPyTzkTd+LEtkSki0ghzb37kWeuN9TgPXWVKmywM8cMFGVtNCT6BW3FbivF15WGrdYQa1yTTXGKV14l0z5LuuaMRaXHucb37d6fXva52ukq7jXdDpPhKyeq9yQuXVWdFGiLQWv+7ghLq1DCCFWo6ZPE5iKS3ld9hsf61gizx7MRDNbE4W2+XOjRxDAVk/BeRLjsj1WfWPkWrM/yjISANG9lhm1ikuzIOthRTIm3ZWaSr8WnL1G/IOXm6SI/IJpGmvjPUgyau1QtjcRapQBUXu+DhkRLp+of0XBLklLIYJNIpItRWrLEC9BD+ZtWGe17R0zzM5KrDxchYXSpPlGuYs4ab5uflAYzlJou/jowTKsiPNKmcxawHvbYVnJR6cOWo4Ke4wAxUClSflWUsWg9AnEPM9YaMLyPQcvvqHOcG/fVc3WcX7InnrCBZwe6zEGjmhIaz79GjSoVakbQu71Q1Nsh4t7IEVGbTijvbKtiCu5zhEDEOrMqJtDpYcaol90fKirbbiDQ55dwTkDQofmexUGvK1tia5rek+xxXt4ICbc6zhHocIo3LH69KPFSEUNv6CpZdh/KwlmUxI852Rjnn/NJFekTGIg3lpoZyT0moU6koVqR5MKnyFQKdcp9jOcVt4yIiHQu1Hpja5sEHratOIm2JSLOUQPOgqCsSQdUrlaYkIAk2iTTkXJgzmGvMtrwX1kKyJJAuFmkb4Mb3R56rLDI8GXzWnEiTRyz228z+OCL3+9E2RKgt7b5csQ8eyEzEAW2U8yzf3s9H51og1D2RTl8XiDgj1qzHVq0tTkPnAIHWWHNOoKEyD/AK4Rb+/ve/P7Cf+wRx1v0C49gB8fRoO6ZSrySw8fSSKSLQFKHRNh4WKI9PnHsObT63RNpGdou2prfSvxBv5V6LOmYczAl1V3bplDonRxfpEZh7YOjHiCjxg5FQy5pGqK3lm7OkxVioVdghRWtJqLpamwprvE7lDiFCTRS0IqEh434a+yPICHFkUn3tT1EPXolIm0pOItet7fR/WK5c6zYPKESalCJFryt9KRbqVJEa2zHBYxDnzCPOotooZnHHHXeU6xLolFCLiDTBS0rfSh3D55RFmRLqh1SCUXYwCtrguJ7VN9hZJJKYACRZtnxvVjShRPrQaltWvAQ6lboHiSqWBY1I77fffjN3VtswTuey34OumyWpZYz5x50Ie++n3NXQTpShIY145jLRDsvEQh0XXUGgUx4uPCl4eUoW2wRw6vkw7cw9Z8aR6upszyUl0iT9wybhGBebevWich5JkWDcDfefSLvGrtqyTqQhD6vY7ddERbzm3M6WEmoYX2trTYpEISOMZb3iYr1OfCzbirTyee11jF2cdUzlGEOsaTpI6iQxDi6XJ9tl1acWqVUSGsS6LBVZcK5I8+CbJUKt8dHyulW516ImWEGcNYMUlifbEmjRegzkRrdTgeY5G/wmHmLWsaQRaj20rTUKua5QmQVKHSO334q0/WzfrZZkGKhN1++OigikJjIh5sFGlDdRKUYiBVJyv7+m2AnOQ65tOp+65+yQVjykQoogzGUhpNh1KGscVAcsRVUNdM4Pl4xIy80l0Titoj0mx1wwRoplEZKCBAa1FWmovEnGzTSLDlR6UVuhxnJrEumuxCJhjFNWlIQkPk6USPOw5XrbwLZYpBFova9lG5GGdGok1DaFy7rfRY0BYpmdEO2DGk+PI2TrIpllbWmiD9zGsfu6jta6jNPacPuWbnLTNjvJRyHUhaDsUPx9SGeAJXWcmbpTJJoZUYaINEtZ1npPxplZ2kA0ArUQ6ti1LvZE8sPV2DpiDXuWNGVYEWjctFjRuHRJZYtF2hKhzgU3SaQl0NCKNCln/C1iKOLOjcaRoW1vyoRQaiNM1dvn76n4S1si0sxCZtusB8OSjrss7FxOtYhIj/s3X0c6ELlOxKjTxjq7c0mIdFwCUOTH3yTU/VSOggRjKM1lGFq3VupGV06rFWmIUCsAy1KeAdbpENAxiI8ZF62Q2s4HwmcDYMTZtJ5BkY6ZE+k6Em3NA1tuT5tbHAusaKuIwdjyhBJplQBFtHDDYjHhBs0NC2jcNa74JJeqItlzTE3HyGvt2Kx1kdvZuCTUrFurHUta6UbQitRDqhrciDO0UeFKedI26XMaB4c2Ohki0nyHPbf/BaU4l/zHfxwYh049vJmFy24rmO7OO+/szygVd9b43hlG0bY6aLrWsUjLipc1Ldc1pU1zQs1YK0FwCDWeASvS/BY1RmzzqYdlTqRjItQ5sZ4vkdazK7VPdJGefy75Mem2Ij0qucGT7Ym2WKRjEgBlLQnYxWqHuNziSHJZ7eLmikRuxi5Dqjrlxsr14GkbWJKqdJSb3UrpUIy35lJtYqYsHsaL46AhRNrW6MYrIZFmSkO1pzolokQ6HvPsOk7H63P3DGSGqnJZdBDKCPCyCMZJlav9pH5wU8miDYtd104iDRFoCmgQPZ2b8hKhJkAOss13r32MQ/c6PBdUYkZ++OaeSFcBZqKse8Q5FmhIGhACbe//lEdFXguCBrlOutYvLWg7Nrbzk3J5I9RxfAC0962yJ1IBiuMQaUjAXi9or9e5tR1ckU66UpyI9xC1v+1vQUwFu+Uo4yK1T1TGhov0/HNeRbrN/MbjZl3lrFTk9DBsqs4VV+FqEmmoSGWxTqRzU0LqYYcLjiILVqQR59S6pR7WPAwZW0OcsbJwNXeN/IxdinYubpjzhrRh09ihiOs8VQbUinzTsINNqUI8rKDlxuoQ1jcWVGAXFh4ueVvwJEWEmk4B9wvUJBKMjWNFyxqEEmhRQm2vc85TkHJ5c09BVfwi2KwMpiu+R85/58La3Nn8fthmfNfOUhV3XJSrG4t0fN0oJxuLJh09K9ISaE2QUleOFMZCLSLSDN/w91RSd5jALonYKIyLhJTxG1VNe2JM6saJRyXeA3kQBtoLxp8NobY1FpyT5bxb0vMt1HUCWjddonW5pdi0v4l1Y74pplK9xCaRRqARakTalmS0TLUjQKU4F9RDsWmsL0ce0FaoJR70+CFWSyrlhs5AU4cAkW4j1Ah0PBk951FWejNtdYzznq1IQ1mTti0WaSx4ridelre+9a0Dx1rKmsaSVhtCrUIuyluGiLQVSETadj4UXZ1iblwa2rKccae2FOqK9m93ZSzS1NsW2dbsYSXZLoiAqcIXx1iRrvtt2ZgJ3P7clzaHeBiBpvOXaod2LugmEhsSW8CUTeV3y2fvItIXJNrasBTrYkmHDKaOEdsKNfd73Cl3tueSF+kc9cAZRqhte9vgtJhNIm1zfGOBVkGOOlINTCJtyfhxqqCK2FTu0hb56MK44hE/3Di9BqGmopdo97Vhk1Aj0nNnn/pC+QDpkwdKxcHj0uT+YRzUdjBSE4dwzyAkBGtBRfnGx1lakY4t/NQcynY6U0Sazgedqgfvv395/WE8XWIs0HbMH4GuE2mIQGvdjs3HFetStHEDcVyDLOlykoyKdj+dqlKwC/Fi6CS2pDXmDfktiWwj1OTS43ZGqHFFk/I2bHoUlnjqdyOBblsHX1SKm+qai10t6bZCTXZAroZ+U7xFF9rYCGd7LsiYtP3i5a6z++ebNu0orrtLTx3LhSUPEluOMuUeqqP9nG0saT1U2op07La21cGgUr6GJXnetkTjKCRoKyXSdnsY8h659yHnW2OgqcAyMTd2G1OFVxSsRKAbgU+xJV22F6R2O0FYdl8uGFAC3WPvId/We0PUvdLDSpp9CBppSMoXtiKt+4oALwV5pWgFMRZpkc54SqgZO6ejBBkrlyVsqSBALFybKkbEvqL2U54P8pTVGWSYgPnCtY+IdKhtCbS2x8k2ddktFRti20j/g7aN5w3Xr21KVhuRVvpeiuMUaOgiPRwXLHBMP+bUvoVgU34w4mwFGqZEOo4ythymM0LwSBtx5YFjf+ixQEO9T5fxM1LGyqVpo1a21sdJam8PO/FGyg3PbE5QgWBYS4ynt/V+pKt4zZI5giEVq+xsUZqy00aoi4rwt0wJNSI9K0Tv7ws082Yr/5htxMhauCq+gvVsA8gQahgH7Emk7fzFbWiF+o+OOqqk3Q9LoY7aEGcb8JUik3PY/HgJ9Uurz8P75oYn9Pe4LnSKjorOS0ItyzeXmWAj6dtQHggJo531S9TzQuP95RBTdAw1zVXXPNUZT0V561zxKsT7mlgn0jCVyjgKXai7cyIiPQ6LaL7ZpohHE4nQrBXpRFsTEWlq9WId8eDSw0AP+9yYLSLNa0qybvbl0phiSqBjItI5ocZt1mb6SUhErk2pISjo9ttv72/TqbGWseoj5yihZnKI3AQRsEmk5WpvM6wAia7GMqcjI9r9mvNZVnQcJKf5xC1lSc9G3r4vmdYHESRrFerv0MmwHQ0EmiEQvn+ihYkcp8AISx3TldbrgFAzRo/nR94fCvggnLFYSxxwv+v7ZbjCXotcIRuqo9lhszjyGQueecYR6LiTJCKQTDuJSNu0y8MPP7xcDiPSXF+J9CEDnpAe23je7MQj9v5TvXBc8laorXclJdK5eBWxqcPkXHhOzJJejELdhfHYVSrPOab1HDSNzRP9K2quZ1lBcqdKqBl/S7nPU9Z0V9Y9rGyQy4aKdr9lbLGoYD8iLaHGKmWJNS3q+FigsRg1bklHhGWcFhUztiItefBBOiZ1Iq3gpVTZTjwBMA6EqhPpVPrYoBUNKeHZK+MZi7TeC4vswevWlRa03R9XH8NyhggbebkIdFuR1hCQSCcrNzSABwOBjqP6LQmm4/5CsBELMXWspkONJ7dIlSJV3AFBeTmRtozvTQl1ijlrVfdWTqTbDo1ZkVYHSy58BDr2IMi7lzuvplSstiLd9Lxqy7axHs5ZTtTd3TY1ZtxssrjqWBdIZn8s8T5EWikuuc/dxcXP+9UVVsF6gin3qdg0hhnPsJVjSqgVmMNDIBbn/9/emcDbUVXpft8MEAhcpgBhkOFJp21xbIfn+2lj20+71Vab9rXaNoMgICAiCAQCKMgUJp8gqIzpQOCJEkSZZHg8Jp8TLYNRfDSoEJKgAglDwpiEevurW9/JuvuuXbXrzOdmLX5/qmrXuTf31jm3vtprrwH1rUl+HHEpEkRMo+AJkA1IuAaZd/0pxtA/GIQ1tQkDwPJ9EQSG9c9QpBnQI2cmEGgINa8r3cq5OHua/WyFrnMp1HjAAqw7zlm0DHbiurQ2k8asEALN4zXXG1+7BjxYyJ8fXbQg2CyWUoUm0vKY4L2R4lynmA3eJ17zEAh1ikgDCLUMkCxbasLDArZ80GVuNfKscRy+d3xQaxyLfSLLp4LUgLQwWEzGMGgufjyI430Nx1Pp9kzaRLo+HRNp5ICy8bt2vpO0KtJIVwrL+1UhCw906nfGTQTiCHFmfiiJrSmmBhsBPP3TRR6ek8FHQEbPEsycsNWCgUKQbgIXPGbDmH3ipo6ZdMrXlqFdh7L0o9ANS8oefgBcpUA7F4KbvHa94LaVxxBpCDRFeiwXj3Lt8qGR66uycAcEhiLDGT/ADBdjABXc2I96hp890pvA8xLtfYFIc9aK3zEX5+KcdPnjd4dQI02LjTvC5h1Vf7P4HSHSKfn08lojLkAKdOhCp0BLcA3xeefX4TrLKmyE11SO0b3crEiDffbZp7EPkZafMynUrQp0LzCRrk/PAsc6SbMijSdvKc65WCe0ugNSpHsFZt6YZWrnykB1M67TMjJVrmETBh/hhquJDoBQU6yrwL8BgdbOScI17jIXKmH1pjoCLdf2pcggWAt1mRkhnCrOIbhmaAWJ64O1YBb1wHpmWIs8JtYUaQo0QYMReQyvAXjt5z8/QuD2JhBp/NvwKsw47LAG4UMgRZqpZlh/pkCH4NrJntT8rIS51LimCHqr8/cadp8K4b+FmAksf+RBfIsWZYsXL87HpUjLKnMERUMg0od5INKHH354Po7rjQe3soc3uf5bV6S1BxdAkT7ooIPGnCvz+hnjh3Ep0s1QljtcJtScdbaa3kRS1/LLylDmLmFlPEZYgpR5mgw4C8uJgpgLkz9XLF2LgWBYMkAFM23poIwqgYboywb1UqS/JsiP/XsuhSYm0qBOV60QRLTSBQ9YQQz7bDrBbbgOHgp1OHMDnDEjZQnlQwGEL+UBky52zKTDcxBqCEEoBhBqiDTWKbkMQSCi4bWTBWBYLpTXM+X9R3Q3AuOwFIGAtCqhBhBpzNpka0qJFGh+JrEvU8/CQE/8Xvxc82FUPpCWiTTQfldEyXPZAEJMocYDzUHFvnR5EwQApjzgxsC/SfJj/BxBrnm7kF3zjPq8973vxVY/Oai0ckPtJbKfcxUptaIh1ClP26FIAwo1QfQ78oJz/PeEyx1bNIPI8cejKJpEUKi1SHE+4CCoJjWwBmjCEbvJhCItz2nAbYubcbiGWXf5g0gPC9fHQ5dfrDsUgVBDvPGz4cZMIQYQaHnM64h9bBmMR/4QHAMItSbSAD8/wENoPnv2WzygwY2svV4Dkdbch0ijc5pscco8c5TF1JYrmILFtCaItCyTy05lBHESiP1ALv7hxRiWVQ477LCcsiWgMD88FGrkXuNvgDnYZ5xxxiivBuNSEGGupWEBvj4miri+XB6g8IcPb/gdwve2H2Hciwl18wyUSIclGGP0UqSRg9xMHd+YQONm1CAoaiKJRXFWiXSsGpIm0vJYzgY18H0hdIhNwBq9tk6vzdBBLGKY6+KspNZ4aCjAmJZehmAkbVapeS34MIGKVCDfLwK41gRxjRAGFBEEMyFvGkFwjPqHuNW5qcKtirQuulgh1OzBDAHGTQ/lKLFWWqckJ7wHoVBzNk3wvuDnDpdwMI4HKywThCKtBTnyWlKkKcxswAEo0LI0Zwr4fELUG+C4gMKG9wcizSwAkBKjAdc+vAg54mGYM1cIMb43Pj/yngRXOT7zAEF24fp+VRMLIKvQ4frI2Xko1PJcXWKesHYRPuSaSDfPGJEuy/PtNSkiDYFup0gj3za1Rm2VOOPJXvb0TSFsrIFrAMIyiSAUagpXGZpIU6BxE+CNIBZFi+pHdZvS012piXRZta8weE2jjkhraDN+iVwWwbXRhJpR7RBqWZq17swnXP+ESBM5TqHT0vBCcC0YfPWHP/wh36Z4ZQgeujBLfN2sWZVCzWvJf0/r/iSRQl229lsGRDoUCJKakhj+vUNwQ9cyl120dEGAGTgC8jgTD3O5Ccq9suSrViY2F+pgDO1rWxHoXqH1gDeqic6kO9m7uFnKCo7gJpx6I64DxAl/tHmBDBEZK2FqVUoRD+Y4y1ShOiKXNx5QBBpApNkKL0WgNULXIUj1YEjKGgtoa4rMw0wVaS1NRxNoIj8b4Q2VQFT4byDtjOAYnczC9CfeKMM1QynSHIOwQaQZQISAKa0WNtbIwSN+HzNeBDBBTCHMmE2z2QZaPhJUPONnCf+m/Hc1ZIQ0vneVSIezXMwQKdCybKeGFo2tlQsNaVakEY+giXQ7agZIUL9AG+fMHvuotR2rt32cMgbKhJqE5weFsr9PI06puzucxfWafvh5KNS8EYR5z8gZ1tI6JLK2M26umkiHwii7ApXBSmBIzSDha8qQNwLevPGzxMowllEq1MUWN/GGQBdjVcTyaMuQ0ehwS8pzIGWWDmTVLzmbkXnbFGnwe7FfJ9AHIg0XOUAPbDxA5Phjwtei4hmQXy+RbtelS5dmS7EtkK/T0oxAbCklbMGaSpVINyvQAJ9TpPeFqUpaVbdm0R48gIyIZ3YBCNe1YwINYk1X6ixpGOMLE+kEylrRxagSahDrPww0kZbHMSjSbCCBG2zsJqsBgWZxDTl+vNgPiVX60kSarr1wWQKRu6z0RWQuMme0SIeSr5HE1r1QsAGR5NjXZtGyWEvq075slA+BlrNNWbyFIo0tZq2E50OYOoSOVphFQ6Ah1Dwv21ZK+B5ocQIQ6VycPcxPZ0AdhRoCrTV1APiZ8GAEUMELaWgUE7i9w9dXATELc8QlWqW3Mn73u9+NqlaG3xGf13D9WQq1fI/KvDcaMuiNIDI7zCVnlkE4s5cirVWciz38lDU9kcSqjxmDSWXgWFVj+m7TbaEuE+gwV5V/cFVF6yV1+jPXEWqKdRmYXcoZJm7wYcF/EBNorjFCIAgilxmhG3YDku0WIdBh9agyIKQU6HBdn27jmEjD/QiRloFifCDQAmhiQh0GWOGBBkItBfrAAw/MBUAufVCoYzNp3vTxnn3hC19ojMvWk4iSjQl0iBRqCDQCDrGGCtHA7w2RxrXU1ojzpg9FcRT8flhTl6lD/CxApPE9INKkKkgRQKAReKaJNGq3Y4u85vBcGRBpeQyRxpafN77vDF5st0CDXKSDimwxkdb+nujdQW57sx4KY3xSKdKg34QalEU6t5OmRLpGqb1aIh1Zi9ao41rVIrXDdoup4MaoCbV0P6YING6kcItqOaIQaTbvl+u6ZSKNnsE85npiOHMvA+vooUiH1asQ9UuRluNlXFNsD/ZApPnQhFQhmYOM975MpOlCHiXQYp+Cwd8ZQk2RfuqppxqvAzIu4eCDD85OF+cABJrBVeFMGtdEPlzAW5Tj95EuBpHG75YLdfEayePFdqEY09BczuFnOIR1vHmt8KBQJdLhbBzXT35u5GdCirRMr5IiLR9UQyDU7awghnr/2rgxWCSJdL/STEBTXbQG/iQsgEKRjkVCt0pY4Ym5yO2Esygp0mW/T8yVjpsRZgwQ6XA9O6VYP2+kEGlZwES2upst9qvg7CoktUIbZssAFbogWoBr9wQzts8HY82CqHsCcZYz6TAVjOCawQsAcZYCDSjSADNgRNYjGBJr2xBpGSSH9XmCY/yuX/CwuAaAUEOg8XmRxUr44CKFGrDgCoAbn+vtEGp8rlEUBEVSlvhjCLRcc+d14DHhAw7gmnyZUCOlDkKNaHhcK6aBaa8lWAbQ0rZY+AYiXfaeh0WFykQaAg2hZq51q3RCpLWSwUZnGWiR7jRVqVeyqTzpZK3ybog0wI0XIg1SBBpVsLQZgAyekZSJNGZYAOt7XJvEjZ/R0BDp//RgPCbSMXe15t4FWqvPEM78WX6Tv3vYY1zesOEC1co5Atzcwwhhfk8UipHjgA8TslIUC7gAGUOA359lMJFSibVYijTWlTkLhVBzrT4k7AQVVsuCQNPLRBc5lkrwXiEAcIxIi/2wDCheC5BXDpGWEeOy4Qo4WgCRlimAFGq5hDNTeB+Y936shw+BeIiEUOOBX+bbAwbShe8xwecmLMcaElZkK0P+DUGo2yHWWoW6ZjGB7g0m0i3QbZHuFal54kC65DWRhttYq3MOL4QMkJIiLaFIh7WQnw2Ow1x5iFRMpAFuuNpsjcC9jhsyb8oy/5k3cQSlQaQx44yJMwld54AiDc+BJtQAObLhmBQlQIEOYVQ8RBoCpIm0lr70+c9/fkwaFkSaa6eyohh+L/IojgtwDjNoQJHW4gEu8kCocS2xL8+F7R8hzhBqzqgh0nzw4exetpClSCN9DA8SobchZEGxRctLTaj5QCaFmv3UIWigjkh3G61OgdF/mEi3GSnSeEqvkwNdF5bck9QtlqKhFbSpI9RhS0gCAYdAM6gq/Fkxg+Z+GClL5EyaSIFmrEIo0gBCLd2+IWUijdkXCMdlpLYWOX7ccceNGQNVIh2eI5pISxYX2zCWgrm7IWUiHcY1sOQo16Ex45UCLSt7EQg1y3FyDCItBfqJAh4vWbJkzLWsCpqMpaBBpGcW+3xIgUjDpZ6zcGFOmOLUEGgPHsiYZ615RyDSKFaCdX4ctzrj5OegXYR/j7F6/FXw9zO6y7gXabixuhVkRihyMro5NjMqo1GeMFJsgiKNmwLXklNAxyt2vYoRzpzqwptaYytmngQCwTrWmsDh99bS1MJUlGeeeaaxj/e6qs42C05odaLDNUS6RSXHHntsTphKhTXd8PeIirQyBqRAa8VzGMkcWzKIiXSIXEcm2iyaQv06L3D4Gn4dxBnvnxR5ijSXD7D2C/HDOqxc15UPULJ6GoQaLl6INMckMaEOo7sleChEuhk+ZwjSxHo+I8vDoDH8rMhFp0CDlGBNeIGq3N79QrNC264GQkZ9xq1IozpZWYWyTsJo+LAMpCbUuFHA9Yb1PNIYFzcRiJW2RgWhBnx611zJGmiqgbVLPEhoLfJAq1XnKNAS+QSPiGu4A+kSDGsda1CgZZOKZ599trGPymJ10vQghAAPLXWzGEKRlu8XgsjwwICHRARoydfFBBrIoiha0QsKEmajcGvTtQ1xBgzSqxJpjbDoRgiEGuvfsSA8uMWxhUijChr28fMg4l2+jp83VEuT4/A6IS9cirTsJgXBZKtMEhNotn6E54XBhvg7YdCdFtnNMqYAM2jEfGArX6Mhq4ppHhJJzKPBFEbtXLugQDeb4mVC3RvGpUj3SpxDtFrNdWbUMpWnym2ed6LypP4hISAHtXR5w9SEGsFCdYUaIppadEGuEeOGCZGuKq1a9r0h0PyeZUIN8QNSPOlZgBdERnyz+AhAihfrD2vdpMKbPvNz8XlkQBJmwDGRRvBXKNJhTq0UJcxItcIVnRBoEqZchUCoKdAgrBmAzxl+7lCgJRBqiHPY7pGBk6FQh8jPMvbDtW94DLQ8bXS0Inxd+BoIHAvZsPJcrPSnRplIa+OIcsfMPqwy1yyt5GCbu7s3mEh3GAh1zty5o1oshoVEYlS1r6yT6yuBSMtKW0DmdoKqXr+x8oiAqS1lbnP8DBTVUOA0UqLZpfBLVyVnzOGsVkKhlo0iGMwGlyaEmWBMW/eWsPEF/k2INLb4GTTXKMQbSJEmiAeAyxjrrvj9+DvCrS+jd+vEDfChjt2+QpGGp0J6K2SUNVMfsb6P4EBsuZ5PgYZr+cBiHw9PYUR3rOFEq3CNmcd8qIJQa4FqzSAfjCDUMjitiphIg5SZNMvDauditDNArNX1dqM+FjjW58TyPuWNoq5Qw+0XCjQIRZoR1KEbOC/okJC2BKFmOhTd8jleHHjTj4m0TDXCcdnMC8U30LsX3bv4/aSrHaIihRG575ht4mcjPAeQsgRxZgUs5r+DUAg1odbeD4g0C7BAqM/yW4BjbqtgcBTeFywVVBW+QB4/IpMx64PbluDa8/qHVbJy93Ak+JBfQ5F2bkSYKdBwg/MzJIv0cC1broPL2ecRRxyR58MzwCsktgzBgieNrRdn5FvzfPi+pkIxlw8uYTU1PhwhBoHBolo+dVgPXWY8xAIsQV0hTiVWGzwVE+nuM+5EuttBYt2ibNbd7Gwa7rzQpccbqazkJW+SqU0wgFYoAmvh3JdlOgFu8GTUuAfr8WVCTSDUKJzRAMfFOWy14jRh5Ti4VSHUFOkQGcxGkUbQESOEEfCH90S6fUN48w4FOkw748+LhyqItEw9iwXIQSClSLLGOEFwHB48sIVrH8i12zKwHDFSxEePMqf3IDYrxHIPl3wg1BBnVpVD0Fwssl3+XUOIKcYU6HYhZ9sQaTTQgYeDIs3lltgDkibUUnAp0ppA8z3rlECDVkXa6D49E2kZ+dxOxqtIS7QbRMrMNgVE7aJHctlTfkyomTaF4JywlCSRIi2JfU/OZijcfyqOY8jynyEUacwutfOA0dxo7BETaUBRC4UtF2tsPRBqeAhirvxfBceYpedg38Oqb1gy0DwfQLqRZc12iooUQUn4gMRWl+mMiPTXgnE+qFR9Pwi17CgmCd8fNosJ4wx+U8B9eS4EUej4bMuUsRAtLkMCgdb6h4fEip/wZ4RQx/6+5MNVJ4BIm1APFl0XadykYzdqI43YU3w7hBo3MczmqpqESOHBTBQgXYwlM3kuDPSKpX5FRVrM9CHUEOmw1SQFB4F2ZSIN6HKG2xfFaLSCNOwQ9UcxBuAGJnIcQol1SRnoB9dv7v71+9JtLwlFmqDcKEuOImcWcIYaEq718uswI0XhGKaZaWIo08Xk+nMZWnEOCjV+n5xf/apRNUwL8oLQAbjPr7rqqhGxLoKx+Bq8PyhrSYEGiDXRAgLLBFoT5nxMccFr7xGhV0hWJCsDQh2KNX7Os88+u7IKWJ3a76lBmhJGuLcSRGZ0D1uTHkCq1iKrKGvyD3FmP1/sswWg1jQkzM2GSMtjoN1EYgU5NKHGTY37EAOING5ieY3jYlwSFucAJ554YmOfIi0pEygIddUDCwKjsA0DiOgWZ5AgRACBgAwG1EQaAVXh+idAHe2woQcIRRqgzzUzC2QuOGdRUhR5HctmcHBL4wEQPxuFlO8hliHwvjC3OKVedP6gXlI4BkDI8AAFsWbQJcaRYpiaZigFuAy+PyCWXlZXpAHiIhA7wvgRiDR+L4gk4Bo/KquBPIivENBUmhFpiXwwMvqTrog0/iCr/iiNscQ8DnVEum7uL2t13xWMV1Em/CFVVbNYCzocp0jz+AKxLbshS5GGcGpCHbvxczad2jSlaiYPb0BDpEWNagJ3tSbUbHZRFrgDMWM2AcpjskSmVilNA4Irc/Hx0BRLL8IsnJHyVcVjwKJim+JF40wzj0/A1oN2n7Ind/g1hMVXYp8HRpWXRWTDFS8DNsMKdxTqNQF0Y9GK92AdPX/4EGleraDFfKTA8qjGYGAz6T6l6mamrWlpUbkxkeb6sfwaKUSdFOlm+dOf/jRmjELdLLhpVgk0qRLqMoFmQBFEFuIDgc6XCfwYkeUgUVeas2FAkdbIxbkQpy95UB8bEeTIBdbaQWpoQVtYy0YKU1h1DQIt09TgSYAASdd0iCbSmL3LYjaS3//+9zn5voeuaDw05HixJfLryL8rY2H6HYSatb/DZicQaXgutJkq1ttJeI6Elcpk1Dnhcou25FKFFGjGRuBzHMZIaJhIDxYDKdJlQU2DDl1goCy4LrwGmkDHgLBViVuYJ1tFikhL13VdINBhkFIdTiy2uG4gd0MWY9hyn5QFjVFosCxAuM4avhZA0DCzQjEI/BwoTKPOooOazVrLSaIVloBAcx9Czf1rxX4VcGsz0EwLOAMQaRRaoVDT3V8m0gTXThaLCd3sZd8jNquXSC8JhJplWfm1FGrtmkjvA6FIa38PdYLtQpGWD0Rw6ctzgHXSY8V9INJafISJ9PjDRLqPkAJdhcyTjlGnWpicHcibkdaJqi5IZ5Jor4lB927Yu7suEEcKNQldnrimeBjQZuwSKdLYIjcbM1f5mhCI9El+S5HWXqNB1yqqsYWzRgo12kqGrSWBbGpRR6gBBRpV1sJzMuCsDujlzCh1tP5k+0+ma0H0Q5Ek6CwGoWWUfwijyuUMk7NpKe7wLMgiPDEvimz9WYfYzD4klmoWIj0WktAFL+/oA+YAAEPySURBVEl5YG/VA2V0j4F1d6eI1NqE9gQdinSdqFHSrEjDza5100JesDYOsNYOwhreEOpWRZrkYn3iiQ3kOeQO8wEQ67FaIFu4DJELdDCmAUGVDSKQix32B69CzkClQGObr98SHHvwsEGhZjvHkKOPPlodJ5pIA1RA08ZBmHdOINLYaulkTB2ThJ4XrDPHRFoiBQxLBtIbgSWAdou0fKiVn92y6mKADUnKPtt5LnswlhIsliTUTdwPjO4zuCKtjK3NVIl0v/xBsvhH3YA2ilJKFanly5fnaOckMoBNVhWTUKiZ7yy9HYic1ppgaEAYINJVLRdDyoKTYjBilx4BiGLZLBVCrYk1UrjUmfR3vjNGpB8UxEQayNm0RIq0LBZDoQ4f3MrynSVcq5fr6rJuN0Ray1yog7YsVCXQQLb25AOWPB+j1YhuY7AwkU4kbxnpgdjJm0g3QG5og3nzGoSv4xqZXOdrtpMVxEgKEm92zdZFr3Lxypkl+kpz7RhBQ3wNhJoirc28qgjbRnLNHzOZmEiH8JrI1KYUoebsrSyqmGAdEiAjAi7ycD1TS8UiWkoNBBrXHyLN91HjaIF2nkCkH3nkkTzFiOVXIc48j5rvrPjGMYkWBEeXd+xviyItvTApzWq031eKdKxITLPEYgg0tP7bDJCrs95tjG8GVqSBDPhBwElK4EovYF4k9ptZC9IKOGhorSyJJuwpT/thKkvqzyJhOossIhG+RoJOTyiBGTbyb8ymPZpIQ7xCAVsu9mO9nQFdpLK8Zyp1ZtNVngDWv6a7FfmzdURaIns18yGpTKQ1wqYmjBGASGMLtyqCtbDmLtOO8BCDpZI8qK4YA+j9XRapDmRMwH777ZeX5pTneT2aXTcGfFhqVaTxO+J3ZTZEqyKN4EFUPtM6cBlrJwMt0oNKHaGuEkUUYOB+mUiHpAg0kaLajEjLes1l5OIc6Q8sgUhTdDDzCnOKc7EWxxDqnMIFztQmupLLgnAIZtskPy7g+bIHgBTQSQocfvjhORiDCCES93BP+PoQFCjBjFkGGkGktfSmVKGGQOOhYdGiRaPGpVAzmjpsPKI9SECgsdWqcdH7A28VRRoCje1BBx3UEGoEHmrpTM0AL4U23iwQapT8TBHqUKDx+/F3jJUnfUAZM8Y/JtJ9jubW7gWpa4DNwAIc4bhsNEBhIBBp1LdGdS05LsGNUN4MGeAl/y0INLsYpRTlkECY6gh1WYS17I4UgkpVZeuQEGg26sBDWy7Wfp8irXVS4zVA7+Z8W6C5myHSeICQY+hb/ohHpjyFQl3V6jScfQOK9AEHHNAYk92o+F41A8pg4uflzyybr1ShVYGLAZGuEtTwISb0FoTw+7VDqLG0wOWFskpzRn9gIt3H1BHoWEtLjTJB0ECwF0WaPxPd1lWu6xSkaOJmKG+IEGoINBreyxrNEOm66+NaFLYUv6r+0DG06NzYGjeEWop1ytojfveYSIf1l5GzjIpcrJoV+1wc4YFAY02Zs9onPWEKEbIoINLYQqjlEhOFWr6eXbsAe4k/I8YkeCD4bbHPmA/sf86jNVKBQJfV6a5C5qbjd37ggQdGnS9DfiYPFuMEs3t+PwhpVSqWTMGiQIeud/k9Jfj+dX52idadzIS6vzGR7mPqRkBXAXGWN9rUfHOIF27++Zpygfa6ZtAqQ5XBmzRLa1YhC4xIkYYgpAo06oEDBhyxWhvRRBogwErmFMuKZbgx4oaJYC7mp2Mc65t4MKEXAQKNHGxNpNFCUSuKwrKZsYIsEGhs8XCEylh4b8GTTz45RlxYKQxwNo3PDt43fL0m0jJnuyzSm0CoITpSeOR6Oh54INCo2sb3P8xLZ9oZ9tFuUrac1EAAYOhyj3HwwQfn5PvF2BeLbRmpOdOMYK+7Pt6MUGsibfQ3JtIDipzRVIEbP9agU1/fTeq2LIVoYUuRruNtQIDX+eef3xBZCDWETr5Gus/RoQlb1L4+9thj1eYdJCbUgEJNkQ4rixGtqhXECLnYKNIhZ8X8ucNZEESS5TRDIJgUaCA/D7gWuUiLMSBFWhJrpIH2ms0EPYUeBoDZNGfUdItTpGWENqBAV7Gg2MrMhSq0phopIl2GXFdvpRJfHWKfO6O/MZHuAVrziDqURbFDhLTxFKrSg0JBC6HLsk4d71Cky9aYCWaZEBheB+lxiAkE1ovDXHH8rPIYQsx/H278XJzFeVxbCDfFOxX8vBAHCkQdOPuHSDNYDuTrioVAyz7UPC9T1whqRB9xxBH5Pt4jXEO+Z3wNRBrr2xBngk5bmGnLDlG49ugOhutEVzDfd3w9gt1iRWtAzIsjC40QrFHLADhcTynSFOhDCziuob0H4bo4WLBgwRqCc+SLX/yiOp4Kfg8p0FXR6ikFSsowkR5MTKQTabU9JGlVoAFcpNpNDnmprTa6SMnj1QiDhvBztPqzaCBQC+JCd7CGDDQisaCu8GeMPSSgUhlEGi7fBpG2huTxxx/P14zRChJtKY/3YDaPnwXnlixZkr8OhUSkwAL8jnKmK0VauizD6w7YMSoch0jL9DL5/cHixYsbyHEJf2eIdFnEPgRaa6OZQlh0BQVgGPEN5Ht/yCGHjCoCQiGLrfWHgosUN3nMdXzptcBMWj5ksTAKRVorQoJCOVXd3gA9Q6DTIm0MJibSFeRFNYr92bNnjzlfhxuUsWaA+1MbB7KABG7gKRW6uglmZNxnEwFSdX0YSR2KC4AgYKaPWVxVpKwkjGb+kdgnYc1vCUSrTKwhxjnKOawHzyr2GWiGFCP+frKDFXKNmSoW5ogzdQ1o4kzYbQnfB8VSEAymxT0gWhxr4CDPG/fHBOchYBBpvH9l5UFjlC0baLBKmxR9eW0gkmgMwrVwejqkUDN6HXAMQKTZS1qOS5EGdHlLUSWhSKeIs4Tfs0qkURbWhHrtw0S6hFAMOyXSdRu9l4E1QaCdSyFWy7hdxEQa1wag9CbHCIVUpjuVAZHW6m6noIk0QE5tndxyIl3UEGop1hRoCYSTvdeRSiVbSMYivFOQ/YtRHQz/DmqXl7mkASqYySpmEGoIGNd0tUYRWtUzgoAuiPScAo6Xfe5wHfDAWSbS2B5ZgH0IdTibhusaW0S1E3k+RL534D88mgdHirT8nUhV/fuGSIsxgAcPeSxrt5fRjqY4Rv9gIt0lqmaJ7RLq1LzPGJ0WaUk4k44BkQ4Ds8oi0xv1trkt6m6HDwB1otSbEegqINK48UN8AH8nKdLYMpKZIs22mGE96zIg0uxpDSDUiJhmVzKsx/OcBOv4BEFtEOnZHrqJQ5GWAh2KDMSMbmA5m8ZnLqw9/wUPotQB1oxDtz4Dze4XY4RCDRAMx32KdCqaSGuFVFh8hAIdLmm1S6RJWTvKvJCPJ9Zm1Bg8Blaky27SnQA3Jm28DmVCnSrSZdWi2OBAm93UATdNinWza9QxZMGQU8V+Fc2IdIh0Q0KgwxzjFGL9fUkYnFbGrFmz8hu/HMONHi57WTkMaK0w64i0FGjAgh5w5ccEOgQijWp5Wj9iTSxBLE2ILulbb711zDkItDz+gwepXnLdnpHg+He1GuFHHnlkI1IeDwTfF+di4Dqc47fg3HPPzeG58H2SwKsQVgnDkgSR4xqcnaeINDpipfSMNpEeP5hIJ1BHTFoBNz/2XOYMR0MW/wCYYcnKT6BVoSZYq2uXUOM9o0jjd80Rdc0lKJRBqtz3KE/5qN8CzV1OINKy+EosarcKBJcxwAzucSBd9RRq/K5w0cNNGb4/AJHtuPlji7xj6QLWynkCih6akITn6sCfB9HwefvOYpzNPeRrCQLW8LAqg88oBlKkr/Og4Ea4Xo8o7DMFEOozzzwzB6U/y9ZbcS0h1jzmLBoPL7FGHmE6WwyUP6U4c4xr9WXtRPHgg9zmWBlPCSLxca20wiHShc5gPHxOcR05TlIE2hhfDLS7u1tC3U6RjokI1gbDGUpZZ6a6RUCaJQxmCbtq4caGaGoZUY31TvkawvdLRtTy2lKoUV0MjTRkHfIwVUrCRg8EQi2PJVrqFIWa6TbheQlyslNrl2PGCWHhOqIm0kcdddSYMSJFGkLBiGKINAS6jkjLoh154RQvXqROTjNEGg8ncm0cDTS4j8IqFGiOAUTCM00K4sxx7f2Qwhqm56FmO13gZV4QusZTRDpsIELw9yjbW7YDBDbK60Vi0fSaSGvUuQ/imtIbp+V/G/3HYIu0MtYp2uHuBppIy5sVhBoixsCcZoX6dmWsDpjdYIuqWeE5KdRSnHHDJxRqRirLiGz8fliDlcFMAAKNdCU5RuAW1VyjhKJeluKmBfWkwplVnVKkEOqYSJfN0EBsJg1QkITkx0cc0ch/lkCcKdC5OBf7ADPQOgIN6LpFn2lsGbwlXatltaWlQKcihZrubgo0c6q1OAwtNa0MmQ/fSRDUqK1RLw6OCYW6U1HdJtT9j4l0Iq1GdlcBoQYpa2cpaG3w6sB0Ha6TsWMUqVOydJRAFw8fMlKXxARaEsu/ljPvRx99dNQ5cHFwnII2gw+vQxmy25nst1wl0EAT6ZkzZzZqXcdg0wqIsyyJGkY6A+neTUEG+kEEZYS1RCtI0k5YPIX51LFgyTD3vIzwd5HLTUihk+daISbSS4otguv48FQ1k27XvcKEur8xka5BXaEuW1cuA398KX+AoTswhF2gchdy0EUqhdM9LL8ZzkxwI6kj1EQrx9iuXO4yoa4Saa2sZyjSsslCFQjwkQ8iUqQB1vnpHZDr73nQnj+HmRPWhtmuEQKNLUS66uaN7xnGJJSJdLOR6/J9wwPBb3/723wfIh0+zNAzowHRkuviGqwVzmN5bSHSZUItxZqR8xoQaop1J0S6qvwnhJrpXAgaq3qIapdIgzqfbaO7mEh3CLiJmxXpOqT0BtbKHpKUdbuQum5SCUX63ILwPAmjm1MIZ+JVZUwlmkjXdZlKINLcZ6lWRt9zvArkMWO777775lvOolPWKiGUAGurCFaSdbFR2zsUgGaEGi5zrBNjP3woCG/6MZFmoFpVNHLqe4EgMj4skFSRZvtI/N2y7Ohjjz2Wb7ViNHVI/ZvB2r30RJQJdTtFGphQ9ycDLdKgrPpWp+i0Oy8WeBUDKUeILo7lVUKkYyU6tWjTEDRmKAveaoYygSZ1hVp2nAIQ6Spvg0QWS2mlBnoKWKPWgsk0GNGNpQcKNPON5esAZrDwnvABcS8P3+NQqLlPwhamaMwC5JiEaWEUakmsvCphSVTS6ZQh5NprXhyAfzv278dEuqzKHLuQSVJFWl6XFA9TL+5/RncZeJHuFVVC3YwrOASR1bFSgSi0EBZbQNCUdnPE+mRUpJUxjU6LdDM5yxpSqPE7d0Oky2ZnZQ8aLOiBdBuZGiahQO/rwUMYXPp4+GAZSwg1XMEyiBAC/ZnPfCbba6+9GmMQa2zlg5xWQhRCfVcBu3ZpDwMxECgH4Joua+gQijTQhBKf51gwoEwFi4EHCT5MyKwCDbjdY4VHmplJI7c7bOVZBa6LrA0PD0eZlyMU6bKHKmMwMZHuAO0Q6BCsDRMc11ljZoRvKLQQ6FggVkinRJruek2kUYozHCuDAt1sWVSIdGrp0VRiIg0XbB13JbIC9iv2UewkPA8o1HTdM/hPEmYX/E7sS1guFEINkda+VxkQaenyD9FEGjDYLbUQyMPKGMgbmYhjKdCps8+FYl+KdOhxiFGWDtguTKTHPybSLSDdh92kbhAYRRpAbEnqLLoTyGpOiC5Fjq08DyDSdYUaIP8Ya5gxMdOQBVvyYhtnnjkmRUyjbloXf+9UkWawIsUVgWSf+9znkpuIhOIqZ9cgJtIAM/Lw98N1YWlMNvwoA5+xBjfd1IDRzBoQ6hSBBvj5CceQ+wyBpgcAQYPhLLpKqKVAS1IFuhfgZ5N1xI3xgYl0C1CksWWgTqfXq5vlF8pYHZFOmW0Tdi0CseshRRqglSP382AicSzBmizhGKO6pQcD9ZurRDq2RpmCrA6WwsMPPzxmLBdqLxZl7vKyjAIp1HKNOXRPy4eNUKTLumZRpL8qxkKBxjYUaxnMiNk0CtVo5VLLhFpWMAsDwWLeCdkNTM6im2XUTLqI8E6eRStpgJ0GLnJtnGvbsvkO1uiJfK3Rf5hIt0g3Z9NI0dHG6xBGeteJ7k79g5YiDVJ6aEOkUSiEEc0SzCIB1lPpjkY3LS3KmcVG2GTh68VWdt+SUKhlY5FY0BPEr876rCQ2Y0W1qDKRLkOrloX3SD5QsRpV6BVg2hLEXX4mmHvM19OF/htQCLQGqpCxEllKxgGKd8REGgKN9WxWgAtFGuBnxgOArAoW9hGP9RAndZYbZBoWhTpsbylpVqTDv8+UnHpjfGMi3QNywVHGq2iHSIfUTcHSRDQG1jUReR5bo2eADI8h1GVpIFrFKlxLfk1YlEG2LkwBQk2RkkKN1C4QRo9LmL6jIQUadZpZqxndj0BVDjdLp5522ml5pH14HsFJsq41iAlQWOcaIh2Wv+Q1QNBaLs6eE4pzsiQoYVW8sMZ7bMa7aNEidVzGJTAivax4CyKm4U0g4fkqkUYKZ4pQL1y4sFHUB7W1QSe6ogH5gNsugS6rAmf0PybSPSaWNqWBmtbaeLepEuq77767kQKU8jAihboqVzOcEXKttgx0RNLGJWhcICujAa1rGfLftVKpZcRm0QACzVaFMSDSp4lj1Ctv4I9lHjA4/PDDR7WCBBDnWCMKiEHo/QihB0HzpuBzqT1ApqTQxdqVSpHW0sVSUpqOP/54dTwEQo1lB62WOIFQs/kF6KRIl3XcqgsesLCNvfdG/7PLLrtgq580ukO/rWM369KVQKi18bAzUnhOG6+iFaGWNZFRN51CDTdxWWtRKdSpddLh1m6A4wLttSkwkjdFpMtAJaxQpH8YHOPBTH4uGLwYPjiiR3X4tVXEhBrirAm0YaxNmEgPEM2U9qzT35ikiDTdn+0mVajZuCIVbfYbCrQ8B8pEmlCgY52IEMSkjYfIdoWpQKQ5s5WfjcM8hx56aA7HCH5PttfE1yOoC+u/RL4WYtvghz/M3eD4d0BZDnSVUIe5/wiqw3VC60eAYDYGtJmrtj7M8S+LITAGBxPpAaIZkdZ6NbcDuF/pgsVaaWw21CmaKdlZ102dKtKxdU0KNIKB4FnICV6D5Q56AhAolfJvSiDSoUB/yaO5bvkgAoHGljPxqprSJDVXHiKNLde2JXAZ33PPPWPGAT5PEOe8T7PfApk+2G60nw+0Uva21zTzUG70NybS4xjkhtZ1p8rKVWWg+YY23g2kQJcVzCApN13tYSYlKr1OhDApW3NEoJ02HgORxtrDW5lIk4ZIB+MaFOiU/GUWQgGhEM4vtqFQyzV3DS3Cu1W0a62VOB0UZNc1jToPgGWBkEZ3+chHPoKtftIYH3AdNMWNnSrSvQBrr+H6a4pIAwi1Fp2NoClt9pEi0ACNJUKhrsoprwoMShVqFK4I83YZSR8LgmLUOsp+YtvoxlUcx4BI1xVoDYp0CES6nS0hU4gFNUqhxt8MS8v2899GlUCDmEjjM8DIfGQ44LPQiUwSozlMpI1R4EaUcjNKqcbVDvKbZLEfCjRJFWqKtFZtCm5o6YquI9KhIJ4v9kPCdKcYcIGnzNLlzVRLdTvhhBPyLT0FUqSlNyRfaxbHIVz7pqs8RpVIS+4ptlguCc/1krLZNMqdtiLWMnhQO98sKSLN965ORonRe0ykB5xOpYJUFaTAzKrZGtl1qBJoUpbuw7QuiHRVOUiAteO6OaoU6phAs5+zJtKhuxrR2RBptmINHwIoqKGoMu1NApGGW5uubTbPkALdaNFYIrAy9apKqEnYvjIs/gGR1gT6j8FxJ9Eq8YGUDlSYYac0cGlHJH8VKSINYoV6jP7FRLrPKRPhTgl0HVrpuVyHqn8HpUS1ccAOU5iZhv15tZrhMcpyuBFRK5tzcAYLKNBloL0ktuGDT9i2NLZWqAn0vffeO+rnAGijmIP9AvwbFOiU9ftmbvRSoNFpqmoWXSbUiMoPC6c0w89+9rN8q80sU0R6ECmLyjf6ExPpAQBinOcXi7FYnd5Owo5ZKLXJcpugU0ItZ/NaEY1UIK7IG2ZlrGZBr2ZtnCkvsosWGlHwfJVIYzaGKPEqb0EMTaAB0uRkgBb7HMvZPCuVxb5HCL+2TKjD3Ga0oKRIx1pBhlCkuQ6uLT9w/TQcrwO8Jil59q3SqSwLiUV2j09MpAeMsJRmt5HiDNDbOCWFR85Wwj7YWqlL0C6RBrJkaDhblM09YrAmeAytxSWEWoq15IgjjsiBKxsCjYefI4LXNAvLYTKXnbPWXwIvsly7hjATHKeQsqbOhwECkZa9omMpWCEpgWoUaVQmQxlT9t8uQ/ahjhXdGVRMqMcfJtJrGRDUWLMJEOsM9fWvfz1HO5cKhToU6RjtzFelSFPswweLBcUWs+UGOBbI10vYvxloRV5Y4lICFzzXmsO125CY8MhAsbAGO/pAS5GGQMvzgNXVpKgitxvFRR4qjkNidbdTSRXo1EhviHNZfW+A68xrLQVa40Bw4IHqOcPoBSbSfYK80fcSzS3XqjhraEId9j7WKIu6LqvVjICusAFHSMqMWqNMpEOBRgqSTEOCQCNiWL5GQwq1du3KGqXA2xGOhXXKUQecnazQenLmzJmjzpMUkaYLHd8zpRuUFoBVJx0rtj4d/qyxBw9ygDJmGL3GRLoP6LZAhy7rbsLcVHSVCs8BCjWuSVhkoyotShNprhdXCTSpE0gG5HtXFrxGZJMGkiLSmC1+t0A7H+sNrgm0VrITgnqU36JrmCbQzLHXZuQhaPoBtHOSslSmqgCnsLiJJtQQadm1y0TaGERMpHuEDDLqN7Q61u0C/bch1DnXXVeZswmhrkr5ke5MCQU6pb+xpK5Q14F1q9H7mA8hmkizaxX7PsfEmaSs3xLU4dbGgRbBzlkuBXpRsZXM8yA17LJiH2OxQDvQSq6xRijSYY55lUADE2mjHzGR7hGhQJfdOLtNas5lq1QJD4gJNKK1c4Q4H19sJWUCXbY2HjaBaDcQaW28WbSZ9FnKGJClOtHdCo0Y2IwB11NeM4rpuQXYX1xs582bl0dtE4g0PAXovVz1YNWqSONhDw8Usb8b7UGijDAWA1XfGnQh+tswYphI9wgp0q0IdDvFBOLcLYEOQRAUZmBhgBZLGSLQi8FesTaMmkhXoQk1rykiZTkbx5p2WKik2daa9xYgN7mqGIb8+SCeUkBZoAQCze9z7rnn5lsp0JpnBN2lch54INofHEIKkG9NgT7nnHNUAZSpUHzPyoQaTTS08VQg0tyHW7sBjgvk66uASON9B1pZ1hSvj2F0AhPpPqAZkcaMRRaIaJVepG5oDxhjRFpZh64j0mXXlmvzXOsl4es0INBaGc4UEG2NTlH33Xefer6KXKz9Fvnz2GrR4wAPGJgZoy42mq1w/DdiX3KiAMFtLIQiC3vEIu4h0rL1p0TLqf5pAfZnz57dIHxdDCnSdK+HaEsgIXzPDzjggPzYZs1Gv2Ei3SMYcFTWd5fQnYh9RgfjjWO5R/DHP/5xzNel0i2BDqtnaaSIdBmhUJeJ9P9UxsrQcrVjpTQxm4w1ykB5Uq3ZR13YXAMijc8HZsSyIApEii1EIdKxntVYz9UKveBzVlZ5S0ZP430CWM9HLnWYTw2h/ulPf5oz2x9XeRCquPbaa9VxSapIY4vrYzNlox8xke4REOkUgY6lFW255ZbZe97znhykTdWtNd0t4EYEV199tXpeQwYcaSJdVX9bXrOqa1xHqKVIpxSUgVDzxo9e1jl+H7PR1HzhMiDS6ITFYwi1TO8CMn0ulgMPtOjomMeiCgbe5cVTCuR5iDTKm5YJNde9y2hVVNlfHDW1H3zwwTHnDaMfMJEeAMryf3fdddc8p/Q1r3mNej6krP50u8AMBkIqxZTNIlIoiwoG/L4QnbyjkN+fI84DXDOmH10TnCP8d8qKu2iEAg3XtTwmdPNSDEi7irRwJo2yrNKTQm8L9sMc95hQazPplJloClKk6dIOa5Bjls8ANgi0nKXHaOfMt9MNMAyjWUykB4TjlLGddtopW7ZsWfbBD35wzLl+AakwBAFMzaZ3xUqHhjCtSeYHQ6QbXHNNA/kwECvYktdMJzguwDmIc0ygQTONKOpCgT5JOReCADCKtHTF0/V+ixgjKV3DYrA4jCbSgE1FyJIlSxr7uN5YO0f+NiPPuwFT3nj82c9+dtR5w+g2JtI95Q0K2utGCIUaa9FoayjHUikrc9lJWsnBjgk13KYQ57D4SSdA0BZd19p5SSs9gxmlncrJypgkDFJjURkg18ch1BRruMA1N3gqWOKAUN9///3q+VCktTQyiDS2sfX0TgGhNoE2+gET6Z6ys0cTarLmtV8R+wBRqIsXL86Dhog8n0IvhLrVQila6VAI56xZs2qLdCwquIo6Ob50xyMwSUZYk1/84hdjxkCKSIftHMtm0/eJfSnQgCJdljfeDIxDKGvKIYU6LMjCqmV063ebvT0oKKOdM4xuYSLdUyDSRBNpcJRnbJnGbbbZJvv7v//7UYSvqaJXs+m6hOIBodbW6ZuZSUOom2lh2Woxjk6BAiPa+CiRjqzlthpxHVIl0qMEWikDCpHWGmLEelC3Ewi0Nm4Y3QYiPcHvmPXc8H5odoPnJs+h+RFtyZIl7pZbbhlFXftMse2WXXihn0e3wY70DA0NjRxIO/tsd3Sxm2p7enbbbbeRgwSbM2eOm+O3nx05TLYLLrig2Btrdxdbzb5ZbFNtzz33dF6oi6M1plytJDvllFPc7Nmz3QN+H9Syj38837z97W/Pt6H9XbGlfbvYenF2j3p29MyYMQNDo2zWrFnq75hq8+fPL/bWXvvd735X7JkNgplI942927O7F6AvuilTjhsZyg0Cfqtnv/yoGTu/QNoll1xS7HXPjjwSEptuV3j+9V//deQgwU4ttp0wCPQ+++zj9imO69j+++9f7I21d3rKhLquLVy4sNhbY2/x3A/uv9999KMfzcdC++xnxz56/NM//ZP72Mc+5n5/7bWq0P/4xz8u9tbYeZ6zzjorf/3ZBdJuu83PoQN73ete5z70yCPuEQ/EeYeRYfdQsZUGgcbDiLSUB0BK8yc+8Qn3wAPljxxzPX42XdvOPPPMYs/MrL02anptdBO6u3f3nOw5L5s8+TvZ5pvfkm233Y/9cej+1r5HnLBQib+BNva7kY4V4kVaHY+hdcv6qjIG2tl/uhd4oR517GfRo46roHsZTS7CcxItkCtMYZMg19w//OSduOiWRslPgKpn4evRBhPgs3beeec1CF8HwpQw+flEy0x5LuT0YuuFUW2xKmHON65xeJ3L2HvvvUcdn3HGGTlyjODn0Mb7ET+PVseN/sPWpPuCj3m+4vlmNmHCvGzTTX+Ubbvtndm0aTdk6647Nxsawh9/faGOVRKL3TD7kToiffTRRzf2W4ms7iSp6+axSl8LFixoRGDnFKU4KdCI+IdIE4yhKlqsMhqQAs2CLahchocEbCHSSPUCskWkFGlUk2NFubDGeTOxApqwh4F+EGkKdRUU6VhJ1DKkUD/99NP5NhRqP38edVwG4ga02IFuPzSbUA8GJtI95y89CA472wv0Jdnw8LXZ1lvfkU2ffku23nqXeYFGvi8EXIr0nh7te6XRS5FGv2JtPEZMpL9dwDEp0KCsula7ufnmm9VxgHxt5myz6UWsOxVAtLcm0EiFgkCH4wBC3UqqFIjNpMOKbWNEutgnbEgSEvNy4N9lEB4C12LBa2WR+ClNYVDcJRTou+++O4fHZQ8ykoZQeyDOdQRaUvY7dQMT6cHARLrnHOr5mhfjOdnUqVd7cb7Nz6Jvz9Zf/wov2kjDQZODz3v+0SOFWvteg8FRyliMK664YtQxZ9EUaDxwQBhCkW6GZh9eykS6DpiVIh84NSeYbmXt3J3F9o477shuv/32MedDNJGWdc9ZAzwkFOmY90aKNOpua7W3q6LsY6KWUils/vz5+bZqJp0q1O0Cv1MvxNoEenCw6O6e2uc8093Q0LBbd91hN3Uqtuu4555b6l555Vn36qvP+fPLPH/yPOyR9oZiO3iGT15q+JiM4j7++OOdF+ncPl9sDzzwQOdnNs6LSDGyxi4qtqk25L9Xp+2ee+4p9kaCq2B3FfzN3/yNe+Mb35gD+7VA2g9+4KXZ26JzznE7P6SFVjn3Xo8Xave3f/u37n3ve18+VmYIhvOz2JGDwHBt/UNQcVRuZQFytO233z4PRrvO71/vwdYL9Jgo+5/85CfF3oiNDhVbY/sW2xRr11/N08W2VcPvFPu9OmWI7N6p2DcbHBuj3kan2c2DQLHzs8mTr8imTfvf2Xbb/d9sk02u9cdYT0V1rSM8n/a81aPlU2vft3+IdbBi/+KqILJYcQ2sjXL/5JNPjs7yUDwExVNySgKLsGbKddNu9NNGm1G06cTv58U5H5szZ86Y12kBSlx7Bg8//PCoc+1AuptjLmqU7My3nmZKn6IBx+V+G5ZUDfO3ZfMQoq3lpoCZND8nVWVGy0q9SrxQq+P9jBdoddzoX8zd3RPgusY687eyCRMu88J8Y7bttj/ONt/8xmzddS/JhobQ8OEYz16ed3uGPBRpKdTa9+4fytpMUqg1ys5JgQYQaXlcBoRairUmQnVFGqImy1nmEc0FHLu3gMdsfoEgL46BUKjDaGGImBTFb4hzVaBHNCqS5Zx0kvqakLPPPnvUMWuYy7FmYJcsCYuWVDXNaFakCaLUsW2XUBtGpzGR7gH/b8cdswdf+9rsgR12yH617bbZ1lvfmW211a3Zeuv9Ly/QEI7jPPt73u/Z0CMFWgq1/v37BbRq1MZJWMYS68oQ6GOC8SrQ+lAbLyM2SwwjkyVaig1FGkhhBljjluJMsPYMtC5TXBuuCkZ62JMi0iecgJiGkX2UuMzx+w8KFgjk14JmIrMlMsoev+/94hweFvgZ0CqL/cTDPurtIuWzUkeg0eBGGzeMdmEi3SV+sdlm2b1bbpkt8KL8/7w4P/hf/ksu1r/ZbrvsP/z4jzfZxM+qMUvELPILno96tsm/dgRNqEf/G/0IIoC1cQKXLmd4chxCnSrWzYh0s1Cov1ZA9zAEORdrUUsdXad4jl8fEgo1RZrfH/sQMIoYxBnw9ZqIMpUnls8LEJzGaHGKN/ZzsRZR5GWR6FWEaXBSpPnwgBk+kK8jEGlseyHUhtEvmEh3gTunTs1+Mjyc/WLTTbP7pk/Pfv2a12QPYjbthfqB7bfP7vFjd228cXaLf911667rv+ZfPH816nuA0zzMCy27AfeSsDtUikhr46DujLodxFKINJA6BCGFCIez7HvuuWfUcR3Qa5liDRc4kGvFKaDpCLuGaevdGrKZBIQaNCvSiLhG0ZQGOC4IXysfOiQUaY2bC7RzVdDlrdFMHXfD6CQm0h3m5smTs1unTMluX3/9hlDfv9VW+Qz6PzGb9rPqe71I37nRRtmN/nXXrLNONn/iRPV79Tta+8Yql7fW1YqkiHQn8qFThTpsstFsxSm4yes8HIRorvu5Htm7uVnwO9URanb84jHWmAHX4REwx3MgJtAEa+AsmIJ8cBZvIU0LtRJsaAJt9CMm0h3mhkmTshu9UEOsb/MifKcX659vskn2q623zv4Ts2nPfV607/QCfr2fRV/lBfrne+6ZXT6EYDGX7en3w+/Zj5St45UFkEFMGvjZH2aMnDUecwyC5/SvA92oKhbmaUta6YSFtowAOdZhhPStYr8MGXgWCjW8Lq38fCEIIisL2sJsXb4faIcpg8Ao0iFVIh2CyHhtvIwlS5aMGYtlBBhGv2Ei3UGu8YILrvNArH/kudUL8e3rrZcL9a+32SZ7yM+mMbO+Y8MNs2v9LPrWd787e3X16uz6d7wju+5d78pg73znO9Xv3080K9KXKGOkSqQ7Dfssx4AItkMIZeU0kCrSZUCktfG6wNOBlqaXXnrpmGhvjes9Yb/qKlKF+nuea4IxEs6wJZpId6PdpWG0AxPpDvIDP3v+gRfmHxZAsK/3QKwxq/75xhtnv9l22+zBHXbIfuTF+8oJE7J5fgb9k/32y57+zW+yp3/72zEF/vuRVtJVyuoVx0Raq47VbiDQ/L3gBi2rRFV3vViDNbNBTKSZNxxW+eokZQ9RkmuuuUYdbwfMY0deeUykYzAPfYkYM4xBAiJtFcc6ZEOTJ+c4MGmSe9VvV/rtK/7ccytXumXLl7snn3rKTZwwwb3gj1/KMvey5zcXXeSG1lkH5bbc2+eiad74tbAvtJ8t5cDe/OY3uyuvvLI4SrdvfvOb7txzz8338f+RvXr2bx7Wv0IlrN133704Gmto8eiFujhq3d7vufVWtCYdbe9+97vd/y32u2GnF9sUQ0tL2sMPP9xg0aJFxahz3yiA8f2hPfTQQ+7Xvx6preZn7A1g6KQ+/bvfzVuW/uGss5wX6kpDA02wi+fOO+9U22yedNJJxZ6ZWf+bquBG81y3ySbZ9Ztumt2w2WbZDdOmZT/afPPsxi22yLlpyy2zm6dPz27eaqvslq23zh7eddc8StjftnJ+fvzx2aM33pg9dsst2U+//GX1+/cTWsBYM3xXGdPQajVjzTMMSiLnKGPtotXGFjG8SKvj3YKR4anAZU3Cc1gvR053WXAcUsy0muWPPvromLEYWKMPC8RIHlfGUgu7GEavsJl0R+wDbr0NNnBTCri/yfTpbtq227ottt/e7fS2t7kZ73iHm7Tjju7i665zf/Zf9ZRnm3/5F/f6ffZxN/rZGXjjgQe6f/7nf86/67g3P1tKMa1W8yc8n/rUp0YOQjvHy3QHzAu0+8AHPlAcNW9nnHFGsbfG3v/+96uz6dCa8TRUmRdod9RRR7lLL720GKk2zFT/okDaQs+uhxzidvXbD33oQ84LdT5+Xv7/EcPYbbfdNqZWtxdot8MOOxRHo+2aa8bOp3fZZZecmG1dbM3MBs3w9wXFNmubHeXZxv38jRe5iZMmuQkebMH6w8P58cqhIbf4iSfczxYscEuff96/A5lb13/VOp5t3/IW9+T997uJfn/Lt77V7XXffX5v/Nt3C5dmlV188cVu3331tgpXXXWV+xf/oBOan825Q7xY9IvNmTMn3y5dutQdeWRquxHd5nvwkKJZ6Oo/uNimGET6M5/5THHUHlu4ELI90mSDQi3bmsDhjfYij3p0eR4xiLR0sdexJUuW5Nttttkm38Lp/ZV8z8ys/8zPpE2k22tYQdvOvcUd5i57z3tyYZ48ZYqbMHFiLs6rJ0xwK1evdo8/9ZT7w6JF+fbZF1/M34BJBZOLLVwceHOO9ZiNtjKhlnb55Zer68nf+c533L/9G1aeR9tXv/rVkXXy4493xxdjckaLGS7sf3vqzqFHZNmbF+h99kHfqfbY3Llz3YZ77+3GPpqMiLQUZq4FH3xwHbmutryz0k7t6a0EgV4+spsLNteq2R0sNKwtf+Ur9WX2Ms8eHhNps342E+m2GkRjhntT0Yjx+x/8YEOcM7+FOIM/+dnTY3/8o/ujF+jnvEBj7FX/eogyhRrgjcFs+jjPeLQzzzzTzZw5szjqnGltEFPshGILD8csD5phvsPDP5YUkb7ooovcfvvtlwv09BtucP/4j/84csIbnNytzaGdu+SSS9xee+3lrvL7mkhLw+y9nQ8HnbKqWXQrNm/ePLfnnns2BFoKNSwU6+uvvz6/SZqZ9crw+bM16bbYv7p3uovdzv62iwsKt/VuN93kJvpZ9Co/M3tp5Ur39IoVuUAveeIJ9+LLL7tVXpyzLBv1hASxBquK7WqPWWsGgf5fxf53iu3VV19d7MUNM2kAgYaho/J/nHqq+6UnFOiRldaxBoGGdUoa//xnRDOMCPT8+XB8jxhnzHhAATB81qTBm9AvJqPjIdCPPPLIyEGinVhsqwwCDYMwy+0Ol12WC/TJJ5+cY2bWT2Yz6Zbt79xb3G1upd+DOGP2S1f1pR/7WD5TXuFnzCteeME9sWyZW/78827ps8+6FS+95F7BLLoQaryes2d+j9kes/YYJGlKIc4f//jH822VMYgqtNmzZ7tjjjkm34dAH5DvVdv1nnbMyy7x/Dn42SDSn/iEvjrNhxTaUMTdf8EFF7hs//0bn8fcimCvAw5I/S3H2oIFC/Ltm970pnwrDQKNNDZpEOkdd9yxOEozKdTwPp144sjIccel+aIu80K9xx6UbTOz/jBzd7fBuFIGFzXFlYbZ8Lnve59b7gV62XPP5QK9zAv0S6+84l70rHz11YZIw/C1ktM849W+5jliZLfjxnlzmjSnGSOV64hXO0QaAr2XJ3SXl4k07GJP2So+BHp/L9DtNEjzWFkebZhDj5bo0YaHq7GPE92xdj1UmZk1a+bubtF29uApB8FeUqAhunBVg8/dfnsu0i/6mXPu5vbC/PKqVbmAh09HOCbjWaC7aRBoiHMdgZau45hBnFuZXaYYZ4Mx42weVibQKdbPAo3tFVdckWNmtraZiXQLhtkzBBoXkS4JriUDuMBRYeyIX/96jUhzLbpYIxz5/xrD8Zkju6MMlbTM6hvEuXoFerRB8FKEuq5hVnbDyG6yIY+awLK5c5OCzhC0lm8LqmPhu2M3FVtYw6Ve2GOPPVbsjTYI9ac//emcbprNos36xaALRk3e4nmb5+2edxTg+K0eP4PIXu/5C892ni0863vwdV9Zd91s1qRJ2RFDQ9lhnkP9mCT8d4AXaHV8kEGVNW28U6T2Ve4GaDriHwJyqlok+tl0Yx+dwuS5GM208CzrctUMfiad19vWzrHFJLqfhecWLVqUb6uui2GsDXzEGmy0BgSa/LUHwv1Gz+s8r/Vs69nMs47HnTb269cmpHCEvZfR5jCl9eQFylgKV199tTpeBkqNauPtBkKdbz1o6oHtlVdemV122WX5+Ike+fqQlL7bqbRbqCU//elPc8Lx8MFjkYcCvXjx4hx53jDWJkykWwTizNnzmz07e2Z4dvRs5dnIM8Gz5f/ZMlvvyvUyd5b+fcpAPW9tfBChEFOkUYc7RZwBBZrbCy+8MEe+RgP/BkT65JNPVs/HiIk0ekBr4zHOO+88dVxD/pv8d6pEGkCoGxxzTM6xxx6rvjaFeR60qNTOzS44RYxJIMSow75gwYL8+CfinIS/nybSi8WxYazNmEi3iJw9/5VnJw/c21t6NvDgNRtetWG22Y2bZdNvn55tcPUG2dC5Q2O+TxnjSaRBLswF2vkYzc6iKdKnnHKKej7kzjvvzLftEmmgCfUdd9zRIDx30003NfZTRLpTQKzlMcRZHuOahg8/bJQCkY4JNJDXMdWNbxhrGybS7eCtY93b63pmXDIj2/n6nbPNr9w823D+htkmN2ySbX3n1tnwtcPZ0Hlrt1DX5YILLlDHU+DDwBVXXDHmnAZF+qqrrhpzrlnOU8YkdwhuKsYk6NZU1xPQbmbPnq2Oh6R2M+tnfvSjH6njhtFtINIW3d2q3efcg34q/fv3O7f4fzi3bM8ht/qASe7phU+7l//0sttqg63cVP/fqudXueeffd4NbzLsNt5uYzfhovRLj0rLYQ9eszRDVDMjnVPsve99b77VGnXQZIRyiqGJhOz8FNrfel7yINr5gxgIDLWpv/zlLxdHnbfvfY9dvUeKfMjiLVVW3SKlebvnnnvcvffemwOTKWqyd7WZ2XgyE+l2GHoA4B6xzD/6LM/cqhWr3LLHl7llC5e55xc977aYsoXbaOJGLnsxc88+9axbb4P13MbbeqGe6y//l/LvYBaxdhTZYHnOVLuz2JYZhJpifdNNN7kbb7yxOGrONHGuY2gOAvJ9AY3lQUNjURZpeZORwlCFK1Wgaeho1gl729ve5v76r/86B73hPnrcce6ukVNtM7yPH/7wh4sjM7P+MHWabTTBjp73ev7Js5vLJu43Mdvo6I2yHb+1Y/aGH7wh2/7q7bPh7w5nU78/NZt+2/Rs2s3TssmXTc7cCcXXGx3jCmUsBtzO2nhdvvGNb6jjMehqb5ZwHf14sR9LafIiPWbsyuC4GWLpV+2A6/ReqDMv0o1xBJ1xn/zsZz8bM1aGf9TKt1geSV0iMYxOYe7udhv6AvzO85TnOedWr1jtlj+53D356JNuxWMr3NTVU920KdPcpJWT3IplK9yEiRPcxtM3duvOWNe50/ENzHptF154Ye5+btVkD+tvf/vb+bbK4Gq/667Rc0N0rwKzZs3Ku2k1Wl4mGDp5HX88m27qlh1wgPvWt75VHI3YJz1eqAfCdim2tF8UWxr7RqcafQi9KJ5iZqYZC2WZtdM28rzOs5lnQ+cmTJ3g1t1oXTdt22lug603cKvWX+WeeOEJt3ryajdlwylu4qSJbvnS5e6Fx18YaUlt1nZDQcm6t9wfFtvcfrjmaNdddy32XLQ3dbMG1/kdH1zj/G6mPCzWlD/1qU/l+xDpE05g403dsF6OdXNpo0T6yivdJz8J6e6tcQWaLTPuu+8+t3z5crfLLmuketTK9KJF7jWveU1xUG3yM3LzzTe7f/iHfyiOzMx6Y34mnW/HTLGNNvF2zwc9n3TZ0F5D2ToHr5NtffrW2V9e9pfZX133V9mm3900j/ze9EebZlvdvlVTKVpG+7hQGavLOWL/dLGfyo033qiOh4RVxaqi0b+jjNUBBVaAdq4bIMI9HPMind11111jxlO5/PLL1XHD6BfM3d1p+6XnT55n/NVekbmVz610Tzz6hHtm4TNu9VOr3dYbbO3Wy9ZzK1esdC8+/6Ib3mzYDW8/7IbOC6sam3XavEC7z43sumuvvbbYSzc0gQA01NeWTS7nzp2bk+8LQvvQhz5U7KWbF+jSaPR2GGbSvZxNI8JdM8yizzxTq3Yft3keRK3vvvvuIwOFyah2M7N+MlXBjTbyBs9/93zcs4fLJh0wKZv21WnZThftlL35hjdnW83fKhv+3nA2fM1wtu1d2+Y51RMumqB/L6PtMAdYC6KqA2ar3wjGytBqV9flkksuUccJSo0C7Vwd6lRO6zZhmdkqwiIthtGv2Ey6W/YbDxbLnvascHmK1tOPP+2WLlzqlj+23E1bZ5obnjScJ8s+89Qzbr2pIylaE+dOdK5e9kvfWd30nTp2zjnn5Nuz8/83b/gZkQvcjtaTI6Fiaba3x4vsyEGb7fLLL8/Zze8D2j3Ftq4deOCBzgt1cTTawsCzTtnpp4+NroTHYubMmSMHZmbj1FQFNzrADp5dPEjR+reRFK3hWcPZjt/cMdv5+zuPTtH6PyJF68Ti6wcQ1JHWxtvFWcpYs4RlL5shNe2KVdSqZsLtwotzjnauFbxAq+OpZVjrcsYZZ4xseVxsDWM8YjPpbtujHqRoPelBitby1W7FkytGUrQWrXBTV011m0/Z3E16ZZJb8fQKN2HCBLfJ9E3clL+YojeZHgDDDLUZS1lnPOuss9paCwZzfvy0V15ZPwGJxULYJ7zKUKAFhVr22muvYiTN5s2bl5Pvey7N98oNFbre5reA9stfImBijeHnjxU8CQ0JZeSggw7C0BibOHFifi3bbUceOdJJG/9P6asds0svTblyZmb9YaOU2+gCG3je6fmw51Mum7D3hGy9Q9fLtv3attnrvvO6bMY1M7KNr9g422D+Btm0m6blXbTWn79+5s4uvl7jvypjfcSxylgZddcZyzjnnHPU8RiIYsZMMHU2GCsUUkUrNclT8QKtjpdxuTLWDKcqY/2CF2l13DD6CcykLU+6l4apzTTPsHNDU4fc5A0mu8222cwNbzPsJmwywT3x/BPulQmvuMlTJ7t111/XrXhmhVuxZIXLvhC8Ze/0POHBTL1PzYu0O2VktyeG9esvfvGLxVF/2AWeZgueytXhMMe5js2fP9994hOfKI7WmBdqx9hnFjytH3duZmbWiiFP2tzdvTRE8TBFa/lIitaTjz2ZN+dY9eSqvDnHev6/lc+vdC+ueDFvzjG83bAbOl+kaEGg/de71fnRuLN2efkh0GhRktqmZH6x7Tdj8BaEmbRisk63NCnQEGfQWnVyMzOzZsxEutf2K8/jniKXOm/OsXhZLtQvPf6Sm77+dLfB0Abu1RdedcufWe423GhDt/FrNnYTLvZvHQSa99g+bwLU7CwacbsQanDGGWfkNGvoJpZ3FMuPyg1zy04LNWbRmE2nGgQaUdaa4Vws+roZY8MQOXvOhdqPt9pMxMzMLN3M3d0v9hcelBne2DPVuYlTJ7rhzYfdJtts4qZuPdU9s+oZ9+yqZ92rk191w5sOu5dfetkt/erSkbQu2EPFtg+NKU79YhBpiHWVQaTHOoLHj13l6WwJlPaZVrrUzGy8m7m7+8ke9qBBh9ddt3wk8vu5Pz/nnlr4VJ5LPez/23SdTd3EVya6Z5c+OyLQiBJniEGf2qAKNGy8CPSpxbbTdnWxbbeltScxMxufZiLdT7bQA7GG+EKoVxQpWgufdMsXLXfrv7J+o4uW+7N/DcW5j0W6nwQalhUFUFJt0EtFagVAOmUfL7bttgnnn2+zaLO11kyk+80QSIZ1akRrP+vcqytedS8uezGv+f3cY8+5yS9Mds8e40/IeJ+Vxdas7cZuUoNqRx11lDu62A8Nrm64vFu1q6+uP4c+5ZRexvqbmQ2OmUj3o73guduD2TKEevmr7uVnXnZ/fvTP7sFzH8QrRgwz6Fc9mIGbJVm/pWF1w8q8GVyT/v73v1/spRsahkCgP/7xTs2hR6wd5VrNzAbVLHCs3+1Nni086FG9xIOZtpxFY/8PI7tmZppBpDtZQz3FkHeNj6qsI25mZlZuFjg2CLbAA3Fe7EGqFmbOhDNpM7Mu27e/vSacK9Z2E4aWkHlbSL8fCrQ5vM3Mqs1Eut8NudDDHuRBr/K84nnJ86IH6Vd9XGWsGfva175W7I0vS+lRjVrenbBOz6LRzQtoQr3HHnvkSEutEW5mZmYi3d/GYiW/92CdeoUHKVpYqy4Cy8zGj7HpxqAahBo2Z86cYk+33XbbLRdqlIo92XPSSSfl42ZmZrrBaWr0G2jAgaYZUzxDxVgin/70p7NbbrmlcfyBD3wgu++++0a9xug+fi6tjku60XSjHXxbGTMMo71Yq8p+Nsygf+GBaxtvVw274oor3IwZM9zb3/72/Hi//fZzF110Ub7frzY+ndz1LZ9NF/tmZmZmkIKaEmA2CHbssce67bbbLq91fc8997jNN9/crVzZvwnVEOkjRnbHtY1amRbr1B/72MeKvRE739OPiUfotf3JT34y30fo2OfzPTMzs04Yortho6bXxvhgiy22yF599dXs7LPPbmtv5k7hRVodX5s577zz1PFegl7b2rhhGO0H7m6/1U8ag8+cOXOy559/PpsxY4Z6vt8woe5vQoH+1re+Neq4GW6//fZ8e1tBeN4w1mZsTXqc2zPPPOOWLVvmHnqoj1tkCYO7e7ymYI0LK9zctIMOOqjYa868QLv3ve99+f7fFXihNjMzC0xVcGOw2WmnnbIVK1Zk73rXu9Tz/YwX6sb+ueeeO+qc0R2+973vrQHHBdpr281tt92mjhvG2oa5u8cphxxySO7mnjlzpnp+0DCh7j0nnnhijnauE5hQG8aISFt09zg0pF9tvPHG7u670aVjfBj6QMNSe0Gb1Tcvwvn2uOOOc2F5ka8UWzMzs+4ZortNpM3abocWW9jZxbZdhm7Qa18fq94YelEPHXWUO7I4NjMz665BpC1wzKytBoGGMJNDDz3UfelLX/J7ZoNmJtBmZr03m0mbmZmNsp///Ofuxz/+sZs5c2YxYmZm1guzmbRZW+2QQw4p9jpj3/jGN4q95uy0glPzI7899dS817LZGjOBNjPrL7OZtJmZWW4/97xrZNfMzKwPzGbSZmuNnXYa5tBmMfuZxwTazKz/zETabNwb3NqzZs0qjsxS7JJLLin2zMzMemkm0mbj3o4++uhizyxm/63YmpmZ9ZeZSJuZrcWGQLHQ5s6d6/baa6/iyMzMrJdmIm1mthbbu96lrETvvXexY2Zm1mszkTYzW4vt3//93xuYmZn1n1kKlpmZWW5zi63No83M+sMsBcvMzKxhEGcTaDOz/jITaTMzMzMzsz41E2kzMzN32WWXFXtmZmb9ZCbSZmZrsV1ebPfYY49iz8zMrJ/MRNrMbC01CPTuI7tmZmZ9aibSZmZrqZlAm5n1v5lIm5mZmZmZ9amZSJuZmZmZmfWpmUibmZmZmZn1qZlIm5mZmZmZ9amZSJuZmZmZmfWpmUibmQ2onX766cWemZnZeDUTaTOzAbWho44q9uJmlcTMzAbbTKTNzAbQzvAcObIbNQi0VRIzMxtsM5E2MxtAg0BDqGOG+bMJtJnZ4JuJtJnZgFpsJp0L9MiumZnZgJuJtJnZgNoZZ5TNpc3MzMaDmUibmQ2oHXnkkapQYxa9toSLXXDBBcWemdn4NBNpM7NxaGuLu3v//fd3F154YXHk3Jw5c4o9M7PxY5lhGOOPefPmqePjDS/R+fbiiy8ec84wBpmPfOQjmc2kzczMBtqGPBd79t133/zYzGw8GT7fUGwzMzMzMzOzPjI/k7Y1aTMzMzMzs341E2kzs3FuZ511Vr79usDMzGwwzETazGwcGwT6S1/6Ur5/WIGZmdngmIm0mdk4Ngq0NAj1179u82kzs0EwE2kzs7XQDjvsMBNqM7MBMBNpMzMzMzOzPjVLwTIzMzMzM+tDsxQsM7O1zFDTm3W90W/azMysv81E2sxsLbF5HtT0Zl1v9Ju+/PLLiyMzM7N+NBNpM7O1xeZBpkfb7rvvXuyZmZn1o5lIm5mtJZZlFn5iZjYoNmXKFLd69WoLHDMzMzMzM+s323LLLd0b3vAGm0mbmZmZmZn1m2200UZu5cqVJtJmZmZmZmb9ZFOnTnWvfe1r3QsvvGAibWZmZmZm1k+28847u+XLl9uatJmZmZmZWb8YZtCvf/3rc1f30qVL8zETaTMzMzMzsx4ZorghygAubsygV6xYkZ8bGhpyQx/+8IdNpNtoluZiZmY2Xg2iYdY+w/WES/uVV17Jg8RefPFFt2rVqsa5fPumN70pqiomOPXNrpmZmdl4NRPp+lZ1zeT5hjDLsTe/+c1eV7orLCZkg2v23pmZxc1EbHCt2+9d+O+NEuZiH9tcpPMjxQbthmwCYmZmZja+rdti2qql/LyaQMMqRbpTZmI6YnYdzMzMemmDJnidtF5dizKBzre9EOlOmYne4Jq9d2bdNBOn/rK19f2oEmjnnPv/cI5rVrajIm8AAAAASUVORK5CYII=)**after having problems with the pdb files of 7a3m and 3cib we decided to use 2gb1**"
      ],
      "metadata": {
        "id": "527h8ecxUuU_"
      }
    },
    {
      "cell_type": "code",
      "source": [
        "if 'google.colab' in str(get_ipython()):\n",
        "  print('Running on colab')\n",
        "  #!wget https://github.com/marjanaziminezhad/structural_bioinformatics/blob/04c64d038c74725cfbac8211fb2c5ced06211cb9/ex03/7a3m.pdb\n",
        "  #!wget https://github.com/marjanaziminezhad/structural_bioinformatics/blob/59d32fb91b06dadd6988788e0f5a1da4a13d9f68/ex03/3ci2.pdb\n",
        "else:\n",
        "  print('Not running on colab.')\n",
        "  print('You should have villin.pdb in your path!')"
      ],
      "metadata": {
        "id": "AIDOV9M-LkY-"
      },
      "execution_count": null,
      "outputs": []
    },
    {
      "cell_type": "code",
      "source": [
        "\n",
        "from openmm import *\n",
        "from openmm.unit import *\n",
        "from sys import stdout\n",
        "from mdtraj import load\n",
        "import MDAnalysis as mda\n",
        "\n",
        "from pdbfixer import PDBFixer\n",
        "fixer = PDBFixer(filename='pdb2gb1.ent')\n",
        "#fixer.findMissingResidues(True)\n",
        "#fixer.findNonstandardResidues()\n",
        "#fixer.replaceNonstandardResidues()\n",
        "fixer.removeHeterogens(True)  # False removes heteroatoms including water. if set to true it would keep water\n",
        "#fixer.findMissingAtoms()\n",
        "#fixer.addMissingAtoms(True)\n",
        "#fixer.addMissingHydrogens(7.0)\n",
        "#fixer.addSolvent(fixer.topology.getUnitCellDimensions())\n",
        "PDBFile.writeFile(fixer.topology, fixer.positions, open('pdb2gb1_fix.ent', 'w'))\n",
        "# load in the pdb file\n",
        "\n",
        "pdb = PDBFile('pdb2gb1_fix.ent')"
      ],
      "metadata": {
        "id": "uwLZ7lTLNFSY"
      },
      "execution_count": null,
      "outputs": []
    },
    {
      "cell_type": "code",
      "source": [
        "# Specify the forcefield\n",
        "forcefield = ForceField('amber14-all.xml', 'amber14/tip3pfb.xml')\n",
        "\n",
        "\n"
      ],
      "metadata": {
        "id": "CmZIyjGxTRVH"
      },
      "execution_count": null,
      "outputs": []
    },
    {
      "cell_type": "code",
      "source": [
        "# create a Modeller object\n",
        "modeller = Modeller(pdb.topology, pdb.positions)\n",
        "\n",
        "\n",
        "# Solvate the protein in a box of water\n",
        "modeller.addSolvent(forcefield, padding=1.0*nanometer)\n",
        "\n",
        "# Create a system. Here we define some forcefield settings such as the nonbonded method\n",
        "system = forcefield.createSystem(modeller.topology, nonbondedMethod=PME, nonbondedCutoff=1.0*nanometer, constraints=HBonds)\n",
        "\n",
        "# Define the integrator. The Langevin integrator is also a thermostat\n",
        "integrator = LangevinMiddleIntegrator(300*kelvin, 1/picosecond, 0.004*picoseconds)\n",
        "\n",
        "# Create the Simulation\n",
        "simulation = Simulation(modeller.topology, system, integrator)\n",
        "simulation.context.setPositions(modeller.positions)"
      ],
      "metadata": {
        "id": "aBlBWX5LTUqP"
      },
      "execution_count": null,
      "outputs": []
    },
    {
      "cell_type": "markdown",
      "source": [
        "You can also execute pdbfixer and it will pop up a web interface."
      ],
      "metadata": {
        "collapsed": false,
        "id": "o076xRf1ASA9"
      }
    },
    {
      "cell_type": "code",
      "execution_count": null,
      "outputs": [],
      "source": [
        "print(\"Minimizing energy\")\n",
        "simulation.minimizeEnergy()"
      ],
      "metadata": {
        "id": "sibpMcOTASA9"
      }
    },
    {
      "cell_type": "code",
      "source": [
        "# Write trajectory to a file called traj.dcd every 1000 steps\n",
        "simulation.reporters.append(DCDReporter('traj1.dcd', 1000))\n",
        "\n",
        "# Print state information to the screen every 1000 steps\n",
        "simulation.reporters.append(StateDataReporter(stdout, 1000, step=True,\n",
        "        potentialEnergy=True, temperature=True, volume=True))\n",
        "\n",
        "# Print the same info to a log file every 100 steps\n",
        "simulation.reporters.append(StateDataReporter('md_log1.txt', 100, step=True,\n",
        "        potentialEnergy=True, temperature=True, volume=True))\n"
      ],
      "metadata": {
        "id": "vrvnRLhEVRFB"
      },
      "execution_count": null,
      "outputs": []
    },
    {
      "cell_type": "code",
      "source": [
        "#NVT equilibration\n",
        "print('Running NVT')\n",
        "simulation.step(10000)\n"
      ],
      "metadata": {
        "id": "Tn-ClJkyVeIu"
      },
      "execution_count": null,
      "outputs": []
    },
    {
      "cell_type": "code",
      "source": [
        "system.addForce(MonteCarloBarostat(1*bar, 300*kelvin))\n",
        "\n",
        "# It is important to call the reinitialize method on the simulation\n",
        "# otherwise the modifications will not be applied.\n",
        "simulation.context.reinitialize(preserveState=True)"
      ],
      "metadata": {
        "id": "_FUO3ZL9Vy5Z"
      },
      "execution_count": null,
      "outputs": []
    },
    {
      "cell_type": "code",
      "source": [
        "print('Running NPT')\n",
        "simulation.step(10000)"
      ],
      "metadata": {
        "id": "62Mey5uwV5XG"
      },
      "execution_count": null,
      "outputs": []
    },
    {
      "cell_type": "code",
      "source": [
        "import pandas as pd\n",
        "import matplotlib.pyplot as plt\n",
        "md_log_df = pd.read_csv('md_log1.txt', delimiter=',', header=0)\n",
        "md_log_df.rename(columns={'#\"Step\"': 'Step'}, inplace=True)\n",
        "\n",
        "fig, ax = plt.subplots(figsize=(12,8), nrows=3, sharex=True)\n",
        "md_log_df.plot(x='Step', y='potential Energy (kJ/mole)', ax=ax[0])\n",
        "md_log_df.plot(x='Step', y='Temperature (K)', ax=ax[1])\n",
        "md_log_df.plot(x='Step', y='Box Volume (nm^3)', ax=ax[2])\n",
        "plt.show()"
      ],
      "metadata": {
        "id": "vMMQhfANV9s7"
      },
      "execution_count": null,
      "outputs": []
    },
    {
      "cell_type": "code",
      "source": [
        "# Save the toplogy as a PDB file.\n",
        "with open('topology1.pdb', 'w') as output:\n",
        "    PDBFile.writeFile(simulation.topology, simulation.context.getState(getPositions=True).getPositions(),output)\n",
        "\n",
        "# save a serialized version of the system. This stores the forcefield parameters.\n",
        "with open('system1.xml', 'w') as output:\n",
        "    output.write(XmlSerializer.serialize(system))\n",
        "\n",
        "# Setup a checkpoint reporter. This stores the positions, velocities, and box vectors. It will save\n",
        "# a checkpoint every 1000 timesteps.\n",
        "simulation.reporters.append(CheckpointReporter('checkpoint1.chk', 1000))"
      ],
      "metadata": {
        "id": "pkrv03t5W5s-"
      },
      "execution_count": null,
      "outputs": []
    },
    {
      "cell_type": "code",
      "source": [
        "# run for 30 seconds\n",
        "simulation.runForClockTime(30.0*seconds)"
      ],
      "metadata": {
        "id": "q0o3LeVHXEkH"
      },
      "execution_count": null,
      "outputs": []
    },
    {
      "cell_type": "code",
      "source": [
        "pdb = PDBFile('topology1.pdb')\n",
        "\n",
        "with open('system1.xml') as input:\n",
        "    system = XmlSerializer.deserialize(input.read())\n",
        "\n",
        "# Define the integrator.\n",
        "integrator = LangevinMiddleIntegrator(300*kelvin, 1/picosecond, 0.004*picoseconds)\n",
        "\n",
        "# Create the Simulation\n",
        "simulation = Simulation(pdb.topology, system, integrator)\n",
        "\n",
        "# set the positions, velocities, and box vectors from the checkpoint file\n",
        "simulation.loadCheckpoint('checkpoint1.chk')\n",
        "\n",
        "# We still need to define the reporters again\n",
        "\n",
        "# Write trajectory to a file called traj.dcd every 1000 steps\n",
        "simulation.reporters.append(DCDReporter('traj1.dcd', 1000, append=True))\n",
        "\n",
        "# Print state information to the screen every 1000 steps\n",
        "simulation.reporters.append(StateDataReporter(stdout, 1000, step=True,\n",
        "        potentialEnergy=True, temperature=True, volume=True))\n",
        "\n",
        "# Print the same info to a log file every 100 steps\n",
        "simulation.reporters.append(StateDataReporter('md_log1.txt', 100, step=True,\n",
        "        potentialEnergy=True, temperature=True, volume=True, append=True))\n",
        "\n",
        "\n",
        "# Setup a checkpoint reporter. This stores the positions, velocities, and box vectors.\n",
        "simulation.reporters.append(CheckpointReporter('checkpoint1.chk', 1000))\n",
        "\n",
        "\n",
        "# write the code to run for 30 seconds of wall clock time\n",
        "simulation.runForClockTime(30.0*seconds)\n",
        "\n"
      ],
      "metadata": {
        "id": "3MfhNn2iXRYG"
      },
      "execution_count": null,
      "outputs": []
    },
    {
      "cell_type": "code",
      "source": [
        "import pandas as pd\n",
        "import matplotlib.pyplot as plt\n",
        "md_log_df = pd.read_csv('md_log1.txt', delimiter=',', header=0)\n",
        "md_log_df.rename(columns={'#\"Step\"': 'Step'}, inplace=True)\n",
        "\n",
        "fig, ax = plt.subplots(figsize=(12,8), nrows=3, sharex=True)\n",
        "md_log_df.plot(x='Step', y='potential Energy (kJ/mole)', ax=ax[0])\n",
        "md_log_df.plot(x='Step', y='Temperature (K)', ax=ax[1])\n",
        "md_log_df.plot(x='Step', y='Box Volume (nm^3)', ax=ax[2])\n",
        "plt.show()"
      ],
      "metadata": {
        "id": "IRUutajeXd6n"
      },
      "execution_count": null,
      "outputs": []
    },
    {
      "cell_type": "code",
      "source": [
        "import mdtraj\n",
        "import nglview\n",
        "\n",
        "traj = mdtraj.load(\"traj1.dcd\", top=\"topology1.pdb\")\n",
        "view = nglview.show_mdtraj(traj)\n",
        "view.add_representation('licorice',selection=\"water\")\n",
        "view"
      ],
      "metadata": {
        "id": "COUdFFF8XmFD"
      },
      "execution_count": null,
      "outputs": []
    },
    {
      "cell_type": "markdown",
      "source": [
        "**Visualisation with VDM**\n",
        "\n",
        "![image.png](data:image/png;base64,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)"
      ],
      "metadata": {
        "id": "ry-JNGhgZM__"
      }
    },
    {
      "cell_type": "code",
      "source": [
        "import MDAnalysis as mda\n",
        "# loading a trajectory\n",
        "u = mda.Universe(\"topology1.pdb\", \"traj1.dcd\")\n",
        "u\n"
      ],
      "metadata": {
        "id": "6tSdIY4_an2F"
      },
      "execution_count": null,
      "outputs": []
    },
    {
      "cell_type": "code",
      "source": [
        "# Get the number of frames in the trajectory\n",
        "len(u.trajectory)\n"
      ],
      "metadata": {
        "id": "qs0ICywwa7r8"
      },
      "execution_count": null,
      "outputs": []
    },
    {
      "cell_type": "code",
      "source": [
        "#number of residues and atoms in protein\n",
        "u.residues, u.atoms"
      ],
      "metadata": {
        "id": "av1N8H6rbDB1"
      },
      "execution_count": null,
      "outputs": []
    },
    {
      "cell_type": "code",
      "source": [
        "# Select the first 5 residues of the protein\n",
        "print(u.select_atoms(\"resid 1:5\").residues)\n",
        "# Select the residues that are within 5 angstroms of the first residue\n",
        "print(u.select_atoms(\"around 5 resid 1\").residues)\n",
        "# Selec the PHE residues\n",
        "print(u.select_atoms(\"resname PHE\").residues)"
      ],
      "metadata": {
        "id": "VMgCbnbbbQGQ"
      },
      "execution_count": null,
      "outputs": []
    },
    {
      "cell_type": "code",
      "source": [
        "# Select the protein\n",
        "protein = u.select_atoms(\"protein\")\n",
        "phe =u.select_atoms(\"resname PHE\")"
      ],
      "metadata": {
        "id": "_jx3Nj68bas9"
      },
      "execution_count": null,
      "outputs": []
    },
    {
      "cell_type": "code",
      "source": [
        "type(protein)\n",
        "type (phe)"
      ],
      "metadata": {
        "id": "twIIslbAbWVc"
      },
      "execution_count": null,
      "outputs": []
    },
    {
      "cell_type": "code",
      "source": [
        "phe.positions"
      ],
      "metadata": {
        "id": "Ph1Go1mibkmf"
      },
      "execution_count": null,
      "outputs": []
    },
    {
      "cell_type": "code",
      "source": [
        "protein.positions"
      ],
      "metadata": {
        "id": "QgI402Ynbl6-"
      },
      "execution_count": null,
      "outputs": []
    },
    {
      "cell_type": "code",
      "source": [
        "print(\"Center of Mass:\", protein.center_of_mass())\n",
        "print(\"Center of Geometry:\", protein.center_of_geometry())\n",
        "print(\"potential Mass:\", protein.potential_mass())\n",
        "print(\"Radius of Gyration:\", protein.radius_of_gyration())"
      ],
      "metadata": {
        "id": "9BCcq-zFbnx5"
      },
      "execution_count": null,
      "outputs": []
    },
    {
      "cell_type": "code",
      "source": [
        "for ts in u.trajectory:\n",
        "    time = u.trajectory.time\n",
        "    rgyr = protein.radius_of_gyration()\n",
        "    print(f\"Frame: {ts.frame:3d}, Time: {time:4.0f} ps, Rgyr: {rgyr:.4f} A\")"
      ],
      "metadata": {
        "id": "1NgpXrfqbs5H"
      },
      "execution_count": null,
      "outputs": []
    },
    {
      "cell_type": "code",
      "source": [
        "#iterate over the trajectory to get the radius of gyration\n",
        "import pandas as pd\n",
        "\n",
        "rgyr = []\n",
        "time = []\n",
        "\n",
        "protein = u.select_atoms(\"protein\")\n",
        "for ts in u.trajectory:\n",
        "    time.append(u.trajectory.time)\n",
        "    rgyr.append(protein.radius_of_gyration())\n",
        "\n",
        "\n",
        "rgyr_df = pd.DataFrame(rgyr, columns=['Radius of gyration (A)'], index=time)\n",
        "rgyr_df.index.name = 'Time (ps)'\n",
        "rgyr_df\n"
      ],
      "metadata": {
        "id": "WbEaa7TBbzri"
      },
      "execution_count": null,
      "outputs": []
    },
    {
      "cell_type": "code",
      "source": [
        "rgyr_df.plot(title='Radius of gyration')\n",
        "plt.show()\n",
        "plt.tight_layout()\n",
        "plt.show()"
      ],
      "metadata": {
        "id": "-_qSbF4EcJth"
      },
      "execution_count": null,
      "outputs": []
    },
    {
      "cell_type": "markdown",
      "source": [
        "**RMSD**"
      ],
      "metadata": {
        "id": "xRRpv0PRcNc1"
      }
    },
    {
      "cell_type": "code",
      "source": [
        "from MDAnalysis.analysis import rms\n",
        "\n",
        "bb = u.select_atoms('backbone')\n",
        "\n",
        "u.trajectory[0] # first frame\n",
        "first = bb.positions\n",
        "\n",
        "u.trajectory[-1] #last frame\n",
        "last = bb.positions\n",
        "\n",
        "rms.rmsd(first, last)"
      ],
      "metadata": {
        "id": "smsfkNUMcRaI"
      },
      "execution_count": null,
      "outputs": []
    },
    {
      "cell_type": "code",
      "source": [
        "u.trajectory[0] # set to first frame\n",
        "rmsd_analysis = rms.RMSD(u, select='backbone', groupselections=['name CA', 'protein'])\n",
        "rmsd_analysis.run()"
      ],
      "metadata": {
        "id": "Ho-KIeKDcWU4"
      },
      "execution_count": null,
      "outputs": []
    },
    {
      "cell_type": "code",
      "source": [
        "rmsd_analysis.results.rmsd.shape"
      ],
      "metadata": {
        "id": "KqWqHdtUcXzE"
      },
      "execution_count": null,
      "outputs": []
    },
    {
      "cell_type": "code",
      "source": [
        "import pandas as pd\n",
        "\n",
        "rmsd_df = pd.DataFrame(rmsd_analysis.results.rmsd[:, 2:],\n",
        "                       columns=['Backbone', 'C-alphas', 'Protein'],\n",
        "                       index=rmsd_analysis.results.rmsd[:, 1])\n",
        "rmsd_df.index.name = 'Time (ps)'\n",
        "rmsd_df.head()"
      ],
      "metadata": {
        "id": "yWY4Kbjhccvm"
      },
      "execution_count": null,
      "outputs": []
    },
    {
      "cell_type": "code",
      "source": [
        "rmsd_df.plot(title='RMSD')\n",
        "plt.show()"
      ],
      "metadata": {
        "id": "OEpYKpc8cf92"
      },
      "execution_count": null,
      "outputs": []
    },
    {
      "cell_type": "code",
      "source": [
        "# Calculate and plot potential Energy\n",
        "import pandas as pd\n",
        "import matplotlib.pyplot as plt\n",
        "md_log_df = pd.read_csv('md_log1.txt', delimiter=',', header=0)\n",
        "md_log_df.rename(columns={'#\"Step\"': 'Step'}, inplace=True)\n",
        "\n",
        "fig, ax = plt.subplots(figsize=(12,8), nrows=3, sharex=True)\n",
        "md_log_df.plot(x='Step', y='Potential Energy (kJ/mole)', ax=ax[0])\n",
        "md_log_df.plot(x='Step', y='Temperature (K)', ax=ax[1])\n",
        "md_log_df.plot(x='Step', y='Box Volume (nm^3)', ax=ax[2])\n",
        "plt.show()"
      ],
      "metadata": {
        "id": "c6faICgMeTj_"
      },
      "execution_count": null,
      "outputs": []
    }
  ],
  "metadata": {
    "accelerator": "GPU",
    "colab": {
      "gpuType": "T4",
      "provenance": [],
      "include_colab_link": true
    },
    "kernelspec": {
      "display_name": "Python 3",
      "name": "python3"
    },
    "language_info": {
      "codemirror_mode": {
        "name": "ipython",
        "version": 3
      },
      "file_extension": ".py",
      "mimetype": "text/x-python",
      "name": "python",
      "nbconvert_exporter": "python",
      "pygments_lexer": "ipython3",
      "version": "3.10.12"
    }
  },
  "nbformat": 4,
  "nbformat_minor": 0
}