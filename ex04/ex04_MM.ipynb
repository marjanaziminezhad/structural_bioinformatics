{
  "cells": [
    {
      "cell_type": "markdown",
      "metadata": {
        "id": "view-in-github",
        "colab_type": "text"
      },
      "source": [
        "<a href=\"https://colab.research.google.com/github/marjanaziminezhad/structural_bioinformatics/blob/main/ex04/ex04_MM.ipynb\" target=\"_parent\"><img src=\"https://colab.research.google.com/assets/colab-badge.svg\" alt=\"Open In Colab\"/></a>"
      ]
    },
    {
      "cell_type": "markdown",
      "metadata": {
        "id": "ypWeSRNy7GsD"
      },
      "source": [
        "# Exercise 04\n",
        "\n",
        "## Overview\n",
        "\n",
        "1. RDKit\n",
        "2. Docking\n",
        "\n",
        "This tutorial is based on [rdkit-tutorials](https://github.com/rdkit/rdkit-tutorials/tree/master) and [LABODOCK](https://github.com/RyanZR/labodock)."
      ]
    },
    {
      "cell_type": "markdown",
      "metadata": {
        "id": "_WcbK9BJ7GsF"
      },
      "source": [
        "## RDKit\n",
        "\n",
        "[RDKit](https://www.rdkit.org/) is a software suite for cheminformatics, computational chemistry, and predictive modeling\n",
        "\n",
        "A chemical curation pipeline has been developed using the open source toolkit RDKit.\n",
        "\n",
        "The [ChEMBL](https://www.ebi.ac.uk/chembl/) database is one of a number of public databases that contain bioactivity data on small molecule compounds curated from diverse sources. Incoming compounds are typically not standardised according to consistent rules. In order to maintain the quality of the final database and to easily compare and integrate data on the same compound from different sources it is necessary for the chemical structures in the database to be appropriately standardised. The solution: RDKit. RDKit is a open source tookit for the chemical curation pipeline.\n",
        "\n",
        "\n",
        "\n",
        "### Basis steps with RDKit\n",
        "\n",
        "#### Reading and writing molecules"
      ]
    },
    {
      "cell_type": "code",
      "execution_count": null,
      "outputs": [
        {
          "output_type": "stream",
          "name": "stdout",
          "text": [
            "Running on colab\n",
            "Collecting rdkit\n",
            "  Downloading rdkit-2023.9.2-cp310-cp310-manylinux_2_17_x86_64.manylinux2014_x86_64.whl (30.5 MB)\n",
            "\u001b[2K     \u001b[90m━━━━━━━━━━━━━━━━━━━━━━━━━━━━━━━━━━━━━━━━\u001b[0m \u001b[32m30.5/30.5 MB\u001b[0m \u001b[31m55.9 MB/s\u001b[0m eta \u001b[36m0:00:00\u001b[0m\n",
            "\u001b[?25hRequirement already satisfied: numpy in /usr/local/lib/python3.10/dist-packages (from rdkit) (1.23.5)\n",
            "Requirement already satisfied: Pillow in /usr/local/lib/python3.10/dist-packages (from rdkit) (9.4.0)\n",
            "Installing collected packages: rdkit\n",
            "Successfully installed rdkit-2023.9.2\n"
          ]
        }
      ],
      "source": [
        "if 'google.colab' in str(get_ipython()):\n",
        "  print('Running on colab')\n",
        "  !pip install rdkit"
      ],
      "metadata": {
        "id": "LVhtQmrp7GsG",
        "outputId": "7c5ac5e1-f430-49f4-9f2e-76bebb1c7b37",
        "colab": {
          "base_uri": "https://localhost:8080/"
        }
      }
    },
    {
      "cell_type": "code",
      "execution_count": null,
      "metadata": {
        "id": "jFkUG3GD7GsI"
      },
      "outputs": [],
      "source": [
        "from rdkit import Chem\n",
        "from rdkit.Chem.Draw import IPythonConsole\n",
        "from rdkit.Chem import Draw\n",
        "# uncomment this if you try the tutorial and end up with low-quality images\n",
        "# IPythonConsole.ipython_useSVG=True"
      ]
    },
    {
      "cell_type": "markdown",
      "metadata": {
        "id": "OOntzbpZ7GsI"
      },
      "source": [
        "#### Working with SMILES"
      ]
    },
    {
      "cell_type": "markdown",
      "metadata": {
        "id": "uJuFCqhy7GsI"
      },
      "source": [
        "If you have a SMILES string, the easiest thing to use is MolFromSmiles:"
      ]
    },
    {
      "cell_type": "code",
      "execution_count": null,
      "metadata": {
        "scrolled": true,
        "tags": [
          "nbval-ignore-output"
        ],
        "id": "vA_ysAwp7GsI",
        "outputId": "dfdce618-46cf-44e0-a749-2ed3f496ba8b",
        "colab": {
          "base_uri": "https://localhost:8080/",
          "height": 167
        }
      },
      "outputs": [
        {
          "output_type": "execute_result",
          "data": {
            "text/plain": [
              "<rdkit.Chem.rdchem.Mol at 0x7a3a8f755cb0>"
            ],
            "image/png": "[encoded data removed]"
          },
          "metadata": {},
          "execution_count": 53
        }
      ],
      "source": [
        "m = Chem.MolFromSmiles('COc1ccc2c(c1)[nH]c(n2)[S@@](=O)Cc1ncc(c(c1C)OC)C')\n",
        "m"
      ]
    },
    {
      "cell_type": "markdown",
      "metadata": {
        "id": "k7vIpYPj7GsI"
      },
      "source": [
        "Note that the coordinates used for the drawing are not present in the molecule, the RDKit generates them when the molecule is drawn."
      ]
    },
    {
      "cell_type": "markdown",
      "metadata": {
        "id": "RF-Kb6XW7GsI"
      },
      "source": [
        "#### Reading Mol file data"
      ]
    },
    {
      "cell_type": "code",
      "execution_count": null,
      "metadata": {
        "tags": [
          "nbval-ignore-output"
        ],
        "id": "1OS47-w57GsJ",
        "outputId": "1de61d63-b9db-4198-9947-ed44c5472609",
        "colab": {
          "base_uri": "https://localhost:8080/",
          "height": 167
        }
      },
      "outputs": [
        {
          "output_type": "execute_result",
          "data": {
            "text/plain": [
              "<rdkit.Chem.rdchem.Mol at 0x7a3a8f755d90>"
            ],
            "image/png": "[encoded data removed]"
          },
          "metadata": {},
          "execution_count": 54
        }
      ],
      "source": [
        "molblock = \"\"\"phenol\n",
        "  Mrv1682210081607082D\n",
        "\n",
        "  7  7  0  0  0  0            999 V2000\n",
        "   -0.6473    1.0929    0.0000 C   0  0  0  0  0  0  0  0  0  0  0  0\n",
        "   -1.3618    0.6804    0.0000 C   0  0  0  0  0  0  0  0  0  0  0  0\n",
        "   -1.3618   -0.1447    0.0000 C   0  0  0  0  0  0  0  0  0  0  0  0\n",
        "   -0.6473   -0.5572    0.0000 C   0  0  0  0  0  0  0  0  0  0  0  0\n",
        "    0.0671   -0.1447    0.0000 C   0  0  0  0  0  0  0  0  0  0  0  0\n",
        "    0.0671    0.6804    0.0000 C   0  0  0  0  0  0  0  0  0  0  0  0\n",
        "    0.7816    1.0929    0.0000 O   0  0  0  0  0  0  0  0  0  0  0  0\n",
        "  1  2  1  0  0  0  0\n",
        "  2  3  2  0  0  0  0\n",
        "  3  4  1  0  0  0  0\n",
        "  4  5  2  0  0  0  0\n",
        "  5  6  1  0  0  0  0\n",
        "  1  6  2  0  0  0  0\n",
        "  6  7  1  0  0  0  0\n",
        "M  END\n",
        "\"\"\"\n",
        "m = Chem.MolFromMolBlock(molblock)\n",
        "m"
      ]
    },
    {
      "cell_type": "markdown",
      "metadata": {
        "id": "JKmJpedM7GsJ"
      },
      "source": [
        "Here the molecule has coordinates that were read in from the Mol block. We can see this because the molecule has a conformer:"
      ]
    },
    {
      "cell_type": "code",
      "execution_count": null,
      "metadata": {
        "id": "Kt7anotp7GsJ",
        "outputId": "5f297bc2-69a9-4372-a42b-dcfbd6fc56f6",
        "colab": {
          "base_uri": "https://localhost:8080/"
        }
      },
      "outputs": [
        {
          "output_type": "execute_result",
          "data": {
            "text/plain": [
              "1"
            ]
          },
          "metadata": {},
          "execution_count": 55
        }
      ],
      "source": [
        "m.GetNumConformers()"
      ]
    },
    {
      "cell_type": "markdown",
      "metadata": {
        "id": "5HfSkzFL7GsJ"
      },
      "source": [
        "The conformer that is present is 2D (we can see that from the coordinates above):"
      ]
    },
    {
      "cell_type": "code",
      "execution_count": null,
      "metadata": {
        "id": "JEPlNjxB7GsJ",
        "outputId": "c7e2cc7d-4f2f-4532-92ea-f330e746c304",
        "colab": {
          "base_uri": "https://localhost:8080/"
        }
      },
      "outputs": [
        {
          "output_type": "execute_result",
          "data": {
            "text/plain": [
              "False"
            ]
          },
          "metadata": {},
          "execution_count": 56
        }
      ],
      "source": [
        "m.GetConformer().Is3D()"
      ]
    },
    {
      "cell_type": "markdown",
      "metadata": {
        "id": "bd1qiLw57GsJ"
      },
      "source": [
        "Here's another Mol block and the corresponding molecule:"
      ]
    },
    {
      "cell_type": "code",
      "execution_count": null,
      "metadata": {
        "tags": [
          "nbval-ignore-output"
        ],
        "id": "Y8Dg6tl37GsJ",
        "outputId": "950ee029-c21c-447a-d8f4-7bbd04a2a826",
        "colab": {
          "base_uri": "https://localhost:8080/",
          "height": 167
        }
      },
      "outputs": [
        {
          "output_type": "execute_result",
          "data": {
            "text/plain": [
              "<rdkit.Chem.rdchem.Mol at 0x7a3a8f5b0c80>"
            ],
            "image/png": "[encoded data removed]"
          },
          "metadata": {},
          "execution_count": 57
        }
      ],
      "source": [
        "molblock2 ='''cyclopropanol-3D\n",
        "  Mrv1682210081607153D\n",
        "\n",
        " 10 10  0  0  0  0            999 V2000\n",
        "    0.9159    1.2233    0.2286 C   0  0  1  0  0  0  0  0  0  0  0  0\n",
        "   -0.0738    1.2748   -0.9428 C   0  0  2  0  0  0  0  0  0  0  0  0\n",
        "   -0.3167    0.3104    0.2232 C   0  0  2  0  0  0  0  0  0  0  0  0\n",
        "   -1.3658    0.6623    1.1190 O   0  0  0  0  0  0  0  0  0  0  0  0\n",
        "    1.8730    0.7413    0.0155 H   0  0  0  0  0  0  0  0  0  0  0  0\n",
        "    0.8835    2.0739    0.9139 H   0  0  0  0  0  0  0  0  0  0  0  0\n",
        "    0.2747    0.8266   -1.8737 H   0  0  0  0  0  0  0  0  0  0  0  0\n",
        "   -0.7163    2.1557   -0.9817 H   0  0  0  0  0  0  0  0  0  0  0  0\n",
        "   -0.1264   -0.7446    0.0137 H   0  0  0  0  0  0  0  0  0  0  0  0\n",
        "   -1.1210    0.2486    1.9735 H   0  0  0  0  0  0  0  0  0  0  0  0\n",
        "  1  2  1  0  0  0  0\n",
        "  2  3  1  0  0  0  0\n",
        "  1  3  1  0  0  0  0\n",
        "  3  4  1  0  0  0  0\n",
        "  1  5  1  0  0  0  0\n",
        "  1  6  1  0  0  0  0\n",
        "  2  7  1  0  0  0  0\n",
        "  2  8  1  0  0  0  0\n",
        "  3  9  1  0  0  0  0\n",
        "  4 10  1  0  0  0  0\n",
        "M  END\n",
        "'''\n",
        "m2 = Chem.MolFromMolBlock(molblock2)\n",
        "m2"
      ]
    },
    {
      "cell_type": "markdown",
      "metadata": {
        "id": "c_hfW8CY7GsK"
      },
      "source": [
        "The odd coordinates in the drawing is because the molecule has a 3D conformer:"
      ]
    },
    {
      "cell_type": "code",
      "execution_count": null,
      "metadata": {
        "id": "iquigHDb7GsK",
        "outputId": "1137d50f-9797-4e44-f2a3-ff7061885e5e",
        "colab": {
          "base_uri": "https://localhost:8080/"
        }
      },
      "outputs": [
        {
          "output_type": "execute_result",
          "data": {
            "text/plain": [
              "True"
            ]
          },
          "metadata": {},
          "execution_count": 58
        }
      ],
      "source": [
        "m2.GetConformer().Is3D()"
      ]
    },
    {
      "cell_type": "markdown",
      "metadata": {
        "id": "oPVeihbV7GsK"
      },
      "source": [
        "Notice that no Hs were drawn even though there are clearly H atoms in the Mol block. The default behavior for the RDKit Mol block reader is to remove Hs from the input molecule. If we want to keep the Hs and their coordinates, this behavior can be turned off:"
      ]
    },
    {
      "cell_type": "code",
      "execution_count": null,
      "metadata": {
        "tags": [
          "nbval-ignore-output"
        ],
        "id": "YoT86dAN7GsK",
        "outputId": "873dc6db-d11a-4d9e-dbaf-f1fabe57ba8c",
        "colab": {
          "base_uri": "https://localhost:8080/",
          "height": 167
        }
      },
      "outputs": [
        {
          "output_type": "execute_result",
          "data": {
            "text/plain": [
              "<rdkit.Chem.rdchem.Mol at 0x7a3a8f5b0a50>"
            ],
            "image/png": "[encoded data removed]"
          },
          "metadata": {},
          "execution_count": 59
        }
      ],
      "source": [
        "m2_h = Chem.MolFromMolBlock(molblock2,removeHs=False)\n",
        "m2_h"
      ]
    },
    {
      "cell_type": "markdown",
      "metadata": {
        "tags": [],
        "id": "PfofTigG7GsK"
      },
      "source": [
        "#### RDKit: substructure queries using SMARTS"
      ]
    },
    {
      "cell_type": "markdown",
      "metadata": {
        "id": "8FZB6XQ77GsK"
      },
      "source": [
        "This notebook explores using `RDKit` to find matching 2D structures in organic molecules, using SMARTS queries.  It uses RDKit's very nice structure renderer to show matches.  This notebook isn't a replacment for the [rdkit documentation](http://www.rdkit.org/docs/), but is intended to complement it."
      ]
    },
    {
      "cell_type": "code",
      "execution_count": null,
      "metadata": {
        "id": "Xspg3cYy7GsK"
      },
      "outputs": [],
      "source": [
        "from __future__ import print_function\n",
        "# import rdkit components\n",
        "from rdkit import rdBase\n",
        "from rdkit import Chem\n",
        "from rdkit.Chem import AllChem\n",
        "from rdkit.Chem import Draw\n",
        "\n",
        "# use IPythonConsole for pretty drawings\n",
        "from rdkit.Chem.Draw import IPythonConsole\n",
        "\n",
        "## The next line is commented out\n",
        "### because GitHub does not render svg's embedded in notebooks\n",
        "# IPythonConsole.ipython_useSVG=True"
      ]
    },
    {
      "cell_type": "markdown",
      "metadata": {
        "id": "Oq7eouHv7GsK"
      },
      "source": [
        "#### Defining and viewing a small set of example molecules"
      ]
    },
    {
      "cell_type": "code",
      "execution_count": null,
      "metadata": {
        "id": "4B8YpnhD7GsK"
      },
      "outputs": [],
      "source": [
        "# some heterocycles\n",
        "naphthalene = Chem.MolFromSmiles('c12ccccc1cccc2')\n",
        "benzoxazole = Chem.MolFromSmiles('n1c2ccccc2oc1')\n",
        "indane = Chem.MolFromSmiles('c1ccc2c(c1)CCC2')\n",
        "skatole = Chem.MolFromSmiles('CC1=CNC2=CC=CC=C12')\n",
        "benzene = Chem.MolFromSmiles('c1ccccc1')\n",
        "quinoline = Chem.MolFromSmiles('n1cccc2ccccc12')\n",
        "\n",
        "my_molecules = [naphthalene,\n",
        "                benzoxazole,\n",
        "                indane,\n",
        "                skatole,\n",
        "                benzene,\n",
        "                quinoline,\n",
        "               ]"
      ]
    },
    {
      "cell_type": "markdown",
      "metadata": {
        "id": "bKPJfMR77GsL"
      },
      "source": [
        "Our test molecules for this notebook will be the arbitrary set of heterocycles and homocycles (and benzene) above.  \n",
        "\n",
        "It's easy to get a look at the structure of these molecules."
      ]
    },
    {
      "cell_type": "code",
      "execution_count": null,
      "metadata": {
        "id": "Hv5N0ax07GsL",
        "outputId": "180046b9-78a5-47f5-fd0d-e9087a384828",
        "colab": {
          "base_uri": "https://localhost:8080/",
          "height": 417
        }
      },
      "outputs": [
        {
          "output_type": "execute_result",
          "data": {
            "image/png": "[encoded data removed]",
            "text/plain": [
              "<IPython.core.display.Image object>"
            ]
          },
          "metadata": {},
          "execution_count": 62
        }
      ],
      "source": [
        "Draw.MolsToGridImage(my_molecules, useSVG=False)"
      ]
    },
    {
      "cell_type": "markdown",
      "metadata": {
        "id": "ykCJwcsq7GsL"
      },
      "source": [
        "For `RDKit` molecules created via SMILES, ring properties are instantiated automatically on molecule creation.  Thus, the code below that tests whether any atom in each molecule is a member of exactly two SSSR rings works right off the bat.  As expected, all molecules have (at least one atom that is in) two rings, except for the fifth molecule, benzene."
      ]
    },
    {
      "cell_type": "code",
      "execution_count": null,
      "metadata": {
        "id": "anAGBRYu7GsL",
        "outputId": "d01ab209-a4cd-4a52-bdea-d641a23cdb6a",
        "colab": {
          "base_uri": "https://localhost:8080/"
        }
      },
      "outputs": [
        {
          "output_type": "execute_result",
          "data": {
            "text/plain": [
              "[True, True, True, True, False, True]"
            ]
          },
          "metadata": {},
          "execution_count": 63
        }
      ],
      "source": [
        "is_in_two_rings = Chem.MolFromSmarts('[R2]')\n",
        "[mol.HasSubstructMatch(is_in_two_rings) for mol in my_molecules]"
      ]
    },
    {
      "cell_type": "markdown",
      "metadata": {
        "id": "WCBQc7FS7GsL"
      },
      "source": [
        "#### Defining substructure queries\n",
        "\n",
        "[SMARTS](http://www.daylight.com/dayhtml/doc/theory/theory.smarts.html) is a chemical structure query language.  RDKit can import SMARTS queries for use in searching against sets of existing RDKit molecules. [Here's a link](https://rdkit.org/docs/RDKit_Book.html#smarts-support-and-extensions) to the documentation about the RDKit's SMARTS support and the extensions it includes."
      ]
    },
    {
      "cell_type": "markdown",
      "metadata": {
        "id": "RD8Hlehs7GsL"
      },
      "source": []
    },
    {
      "cell_type": "code",
      "execution_count": null,
      "metadata": {
        "id": "NNblJEyU7GsL"
      },
      "outputs": [],
      "source": [
        "# SMARTS query for any five-membered ring fused to a benzene ring\n",
        "benzo_five = Chem.MolFromSmarts('[*r5R1]1[cR2]2[cR1][cR1][cR1][cR1][cR2]2[*r5R1][*r5R1]1')"
      ]
    },
    {
      "cell_type": "markdown",
      "metadata": {
        "id": "SzGNoYJE7GsL"
      },
      "source": []
    },
    {
      "cell_type": "code",
      "execution_count": null,
      "metadata": {
        "id": "6WGZTm1J7GsL"
      },
      "outputs": [],
      "source": [
        "# SMARTS query for any six-membered ring fused to a benzene ring\n",
        "benzo_six = Chem.MolFromSmarts('[*r6R1]1[cR2]2[cR1][cR1][cR1][cR1][cR2]2[*r6R1][*r6R1][*r6R1]1')"
      ]
    },
    {
      "cell_type": "code",
      "execution_count": null,
      "metadata": {
        "id": "ZQTNvwKt7GsL"
      },
      "outputs": [],
      "source": [
        "smarts_queries = [benzo_five, benzo_six]"
      ]
    },
    {
      "cell_type": "markdown",
      "metadata": {
        "id": "QR1_-wFo7GsL"
      },
      "source": [
        "Using SMARTS instead of SMILES to initialize molecules does not result in instantiation of a molecule's RingInfo property.  Thus, until `Chem.GetSSSR()` is invoked on a SMARTS-derived molecule, certain queries will fail."
      ]
    },
    {
      "cell_type": "code",
      "execution_count": null,
      "metadata": {
        "id": "0-Fze3gK7GsM",
        "outputId": "bbeb13a4-4ca1-4572-b9a0-6a3c190648cb",
        "colab": {
          "base_uri": "https://localhost:8080/",
          "height": 245
        }
      },
      "outputs": [
        {
          "output_type": "error",
          "ename": "NameError",
          "evalue": "ignored",
          "traceback": [
            "\u001b[0;31m---------------------------------------------------------------------------\u001b[0m",
            "\u001b[0;31mNameError\u001b[0m                                 Traceback (most recent call last)",
            "\u001b[0;32m<ipython-input-20-c7a9e5374c2d>\u001b[0m in \u001b[0;36m<cell line: 2>\u001b[0;34m()\u001b[0m\n\u001b[1;32m      1\u001b[0m \u001b[0;31m# initialize rings\u001b[0m\u001b[0;34m\u001b[0m\u001b[0;34m\u001b[0m\u001b[0m\n\u001b[0;32m----> 2\u001b[0;31m \u001b[0;34m[\u001b[0m\u001b[0mChem\u001b[0m\u001b[0;34m.\u001b[0m\u001b[0mGetSSSR\u001b[0m\u001b[0;34m(\u001b[0m\u001b[0mmol\u001b[0m\u001b[0;34m)\u001b[0m \u001b[0;32mfor\u001b[0m \u001b[0mmol\u001b[0m \u001b[0;32min\u001b[0m \u001b[0msmarts_queries\u001b[0m\u001b[0;34m]\u001b[0m\u001b[0;34m\u001b[0m\u001b[0;34m\u001b[0m\u001b[0m\n\u001b[0m\u001b[1;32m      3\u001b[0m \u001b[0;34m\u001b[0m\u001b[0m\n\u001b[1;32m      4\u001b[0m \u001b[0;31m# now it works\u001b[0m\u001b[0;34m\u001b[0m\u001b[0;34m\u001b[0m\u001b[0m\n\u001b[1;32m      5\u001b[0m \u001b[0;32mtry\u001b[0m\u001b[0;34m:\u001b[0m\u001b[0;34m\u001b[0m\u001b[0;34m\u001b[0m\u001b[0m\n",
            "\u001b[0;31mNameError\u001b[0m: name 'smarts_queries' is not defined"
          ]
        }
      ],
      "source": [
        "# initialize rings\n",
        "[Chem.GetSSSR(mol) for mol in smarts_queries]\n",
        "\n",
        "# now it works\n",
        "try:\n",
        "    print([mol.HasSubstructMatch(is_in_two_rings) for mol in smarts_queries])\n",
        "    print('Success!  Your query worked.\\n')\n",
        "except RuntimeError as err:\n",
        "    print('ERROR; {0} because RingInfo wasn\\'t initialized'.format(err))"
      ]
    },
    {
      "cell_type": "markdown",
      "metadata": {
        "id": "ml436s3p7GsM"
      },
      "source": [
        "Now that our query molecules' `RingInfo` is instantiated, it will be possible to compute meaningful 2D sets of coordinates for the SMARTS molecule and to both (a) query against the SMARTS molecule and (b) use the SMARTS molecule as a query against other molecules.  Without calling `Chem.GetSSSR()`, only the second option would be viable."
      ]
    },
    {
      "cell_type": "code",
      "execution_count": null,
      "metadata": {
        "id": "WwapH_9a7GsM",
        "outputId": "a46f5001-21bc-4088-b29f-30d6c1ed0d8f",
        "colab": {
          "base_uri": "https://localhost:8080/"
        }
      },
      "outputs": [
        {
          "output_type": "execute_result",
          "data": {
            "text/plain": [
              "[0, 0]"
            ]
          },
          "metadata": {},
          "execution_count": 68
        }
      ],
      "source": [
        "[AllChem.Compute2DCoords(mol) for mol in smarts_queries]"
      ]
    },
    {
      "cell_type": "code",
      "execution_count": null,
      "metadata": {
        "id": "ZqZIcV_37GsX"
      },
      "outputs": [],
      "source": [
        "# matching the first query\n",
        "for mol in my_molecules:\n",
        "    AllChem.GenerateDepictionMatching2DStructure(mol, benzo_five, acceptFailure = True)"
      ]
    },
    {
      "cell_type": "markdown",
      "metadata": {
        "id": "OsA-uTti7GsX"
      },
      "source": [
        "#### Showing the hits: five-membered rings fused to benzene\n",
        "\n",
        "Our matching to our first query is done, and now all we have to do is draw the results."
      ]
    },
    {
      "cell_type": "code",
      "execution_count": null,
      "outputs": [
        {
          "output_type": "execute_result",
          "data": {
            "image/png": "[encoded data removed]",
            "text/plain": [
              "<IPython.core.display.Image object>"
            ]
          },
          "metadata": {},
          "execution_count": 70
        }
      ],
      "source": [
        "highlight_lists = [mol.GetSubstructMatch(benzo_five) for mol in my_molecules]\n",
        "Draw.MolsToGridImage(my_molecules,\n",
        "                     highlightAtomLists = highlight_lists,\n",
        "                     useSVG=False\n",
        "                    )"
      ],
      "metadata": {
        "id": "2J0VzBJy7GsX",
        "outputId": "4a8b1cc7-7ba1-4cc1-bdf2-78f5891a6612",
        "colab": {
          "base_uri": "https://localhost:8080/",
          "height": 417
        }
      }
    },
    {
      "cell_type": "markdown",
      "metadata": {
        "id": "0pBUzDHO7GsX"
      },
      "source": [
        "#### RDKit pandas support\n",
        "This is a quick tutorial will show some of the ways you can use RDKit together with pandas."
      ]
    },
    {
      "cell_type": "code",
      "execution_count": null,
      "metadata": {
        "id": "RDKr56fl7GsX"
      },
      "outputs": [],
      "source": [
        "from __future__ import print_function\n",
        "%matplotlib inline"
      ]
    },
    {
      "cell_type": "code",
      "execution_count": null,
      "metadata": {
        "id": "wguzPSa_7GsX"
      },
      "outputs": [],
      "source": [
        "import pandas as pd\n",
        "from rdkit import Chem\n",
        "from rdkit.Chem import PandasTools\n",
        "from rdkit.Chem.Draw import IPythonConsole\n",
        "\n",
        "# The next line is commented out\n",
        "# because GitHub does not render svg's embedded in notebooks\n",
        "IPythonConsole.ipython_useSVG=False"
      ]
    },
    {
      "cell_type": "markdown",
      "metadata": {
        "id": "1uPkxJER7GsX"
      },
      "source": [
        "Load the table of drugs (downloaded from [ChEMBL](https://www.ebi.ac.uk/chembl/) )\n",
        "\n",
        "This table of drugs contains approximatelly ~15k drugs in different phases of clinical trials.\n",
        "The information includes:\n",
        "- Chembl ID\n",
        "- Name\n",
        "- Synonyms (associated with the drug)\n",
        "- Phase (clinical trial phase)\n",
        "- if Passes the Rule of Five (Ro5)\n",
        "- and the structure in SMILES format\n"
      ]
    },
    {
      "cell_type": "code",
      "execution_count": null,
      "outputs": [
        {
          "output_type": "stream",
          "name": "stdout",
          "text": [
            "Running on colab\n",
            "--2023-12-09 19:57:23--  https://raw.githubusercontent.com/yerkoescalona/structural_bioinformatics/main/ex04/chembl_drugs.txt.gz\n",
            "Resolving raw.githubusercontent.com (raw.githubusercontent.com)... 185.199.109.133, 185.199.110.133, 185.199.111.133, ...\n",
            "Connecting to raw.githubusercontent.com (raw.githubusercontent.com)|185.199.109.133|:443... connected.\n",
            "HTTP request sent, awaiting response... 200 OK\n",
            "Length: 1413458 (1.3M) [application/octet-stream]\n",
            "Saving to: ‘chembl_drugs.txt.gz’\n",
            "\n",
            "chembl_drugs.txt.gz 100%[===================>]   1.35M  --.-KB/s    in 0.04s   \n",
            "\n",
            "2023-12-09 19:57:23 (36.5 MB/s) - ‘chembl_drugs.txt.gz’ saved [1413458/1413458]\n",
            "\n"
          ]
        }
      ],
      "source": [
        "if 'google.colab' in str(get_ipython()):\n",
        "  print('Running on colab')\n",
        "  !wget https://raw.githubusercontent.com/yerkoescalona/structural_bioinformatics/main/ex04/chembl_drugs.txt.gz\n",
        "else:\n",
        "  print('Not running on colab.')\n",
        "  print('You should have chembl_drugs.txt.gz in your path!')"
      ],
      "metadata": {
        "id": "9ZuqvdDJ7GsY",
        "outputId": "86f53318-d8af-4ef6-97a8-ca00795b5f53",
        "colab": {
          "base_uri": "https://localhost:8080/"
        }
      }
    },
    {
      "cell_type": "code",
      "execution_count": null,
      "outputs": [
        {
          "output_type": "execute_result",
          "data": {
            "text/plain": [
              "  Parent Molecule         Name  \\\n",
              "0    CHEMBL492491  FENVALERATE   \n",
              "1   CHEMBL2103777  THIOPHANATE   \n",
              "2   CHEMBL1868702   GESTRINONE   \n",
              "3   CHEMBL2104213   DESMENINOL   \n",
              "4   CHEMBL1904952    QUAZODINE   \n",
              "\n",
              "                                            Synonyms  \\\n",
              "0  BELMARK|FENVALERATE|PHENVALERATE|PYDRIN|S-5602...   \n",
              "1                             NSC-170810|THIOPHANATE   \n",
              "2  A 46 745|A-46-745|A-46745|DIMETRIOSE|GESTRINON...   \n",
              "3               DESMENINOL|METHIONINE HYDROXY ANALOG   \n",
              "4                          MJ 1988|MJ-1988|QUAZODINE   \n",
              "\n",
              "                                      Research Codes  Phase Drug Applicants  \\\n",
              "0                           S-5602|SD-43775|WL-43775   -1.0             NaN   \n",
              "1                                         NSC-170810   -1.0             NaN   \n",
              "2  A 46 745|A-46-745|A-46745|R 2323|R-2323|RU 232...    4.0             NaN   \n",
              "3                                                NaN   -1.0             NaN   \n",
              "4                                    MJ 1988|MJ-1988   -1.0             NaN   \n",
              "\n",
              "           USAN Stem  USAN Year                          USAN Definition  \\\n",
              "0                NaN        NaN                                      NaN   \n",
              "1                NaN        NaN                                      NaN   \n",
              "2  '-estr-; -rinone'     1978.0  estrogens; cardiotonics (amrinone type)   \n",
              "3                NaN        NaN                                      NaN   \n",
              "4                NaN     1968.0                                      NaN   \n",
              "\n",
              "                  USAN Stem - Substem  ...  Passes Rule of Five  \\\n",
              "0                                 NaN  ...                    0   \n",
              "1                                 NaN  ...                    1   \n",
              "2  '-estr-(-estr-); -rinone(-rinone)'  ...                    1   \n",
              "3                                 NaN  ...                    1   \n",
              "4                                 NaN  ...                    1   \n",
              "\n",
              "  First In Class            Chirality Prodrug Oral Parenteral Topical  \\\n",
              "0              0      Racemic Mixture       0    0          0       0   \n",
              "1              0     Achiral Molecule       0    0          0       0   \n",
              "2              0  Single Stereoisomer       0    0          0       0   \n",
              "3              0      Racemic Mixture       0    0          0       0   \n",
              "4              0     Achiral Molecule       0    0          0       0   \n",
              "\n",
              "  Black Box Availability Type  \\\n",
              "0         0           Unknown   \n",
              "1         0           Unknown   \n",
              "2         0           Unknown   \n",
              "3         0           Unknown   \n",
              "4         0           Unknown   \n",
              "\n",
              "                                              Smiles  \n",
              "0  CC(C)C(C(=O)OC(C#N)c1cccc(Oc2ccccc2)c1)c1ccc(C...  \n",
              "1             CCOC(=O)NC(=S)Nc1ccccc1NC(=S)NC(=O)OCC  \n",
              "2  C#C[C@]1(O)CC[C@H]2[C@@H]3CCC4=CC(=O)CCC4=C3C=...  \n",
              "3                                     CSCCC(O)C(=O)O  \n",
              "4                           CCc1ncnc2cc(OC)c(OC)cc12  \n",
              "\n",
              "[5 rows x 29 columns]"
            ],
            "text/html": [
              "\n",
              "  <div id=\"df-2ca7040a-c29b-4f43-bbdf-71dea9f9e0fd\" class=\"colab-df-container\">\n",
              "    <div>\n",
              "<style scoped>\n",
              "    .dataframe tbody tr th:only-of-type {\n",
              "        vertical-align: middle;\n",
              "    }\n",
              "\n",
              "    .dataframe tbody tr th {\n",
              "        vertical-align: top;\n",
              "    }\n",
              "\n",
              "    .dataframe thead th {\n",
              "        text-align: right;\n",
              "    }\n",
              "</style>\n",
              "<table border=\"1\" class=\"dataframe\">\n",
              "  <thead>\n",
              "    <tr style=\"text-align: right;\">\n",
              "      <th></th>\n",
              "      <th>Parent Molecule</th>\n",
              "      <th>Name</th>\n",
              "      <th>Synonyms</th>\n",
              "      <th>Research Codes</th>\n",
              "      <th>Phase</th>\n",
              "      <th>Drug Applicants</th>\n",
              "      <th>USAN Stem</th>\n",
              "      <th>USAN Year</th>\n",
              "      <th>USAN Definition</th>\n",
              "      <th>USAN Stem - Substem</th>\n",
              "      <th>...</th>\n",
              "      <th>Passes Rule of Five</th>\n",
              "      <th>First In Class</th>\n",
              "      <th>Chirality</th>\n",
              "      <th>Prodrug</th>\n",
              "      <th>Oral</th>\n",
              "      <th>Parenteral</th>\n",
              "      <th>Topical</th>\n",
              "      <th>Black Box</th>\n",
              "      <th>Availability Type</th>\n",
              "      <th>Smiles</th>\n",
              "    </tr>\n",
              "  </thead>\n",
              "  <tbody>\n",
              "    <tr>\n",
              "      <th>0</th>\n",
              "      <td>CHEMBL492491</td>\n",
              "      <td>FENVALERATE</td>\n",
              "      <td>BELMARK|FENVALERATE|PHENVALERATE|PYDRIN|S-5602...</td>\n",
              "      <td>S-5602|SD-43775|WL-43775</td>\n",
              "      <td>-1.0</td>\n",
              "      <td>NaN</td>\n",
              "      <td>NaN</td>\n",
              "      <td>NaN</td>\n",
              "      <td>NaN</td>\n",
              "      <td>NaN</td>\n",
              "      <td>...</td>\n",
              "      <td>0</td>\n",
              "      <td>0</td>\n",
              "      <td>Racemic Mixture</td>\n",
              "      <td>0</td>\n",
              "      <td>0</td>\n",
              "      <td>0</td>\n",
              "      <td>0</td>\n",
              "      <td>0</td>\n",
              "      <td>Unknown</td>\n",
              "      <td>CC(C)C(C(=O)OC(C#N)c1cccc(Oc2ccccc2)c1)c1ccc(C...</td>\n",
              "    </tr>\n",
              "    <tr>\n",
              "      <th>1</th>\n",
              "      <td>CHEMBL2103777</td>\n",
              "      <td>THIOPHANATE</td>\n",
              "      <td>NSC-170810|THIOPHANATE</td>\n",
              "      <td>NSC-170810</td>\n",
              "      <td>-1.0</td>\n",
              "      <td>NaN</td>\n",
              "      <td>NaN</td>\n",
              "      <td>NaN</td>\n",
              "      <td>NaN</td>\n",
              "      <td>NaN</td>\n",
              "      <td>...</td>\n",
              "      <td>1</td>\n",
              "      <td>0</td>\n",
              "      <td>Achiral Molecule</td>\n",
              "      <td>0</td>\n",
              "      <td>0</td>\n",
              "      <td>0</td>\n",
              "      <td>0</td>\n",
              "      <td>0</td>\n",
              "      <td>Unknown</td>\n",
              "      <td>CCOC(=O)NC(=S)Nc1ccccc1NC(=S)NC(=O)OCC</td>\n",
              "    </tr>\n",
              "    <tr>\n",
              "      <th>2</th>\n",
              "      <td>CHEMBL1868702</td>\n",
              "      <td>GESTRINONE</td>\n",
              "      <td>A 46 745|A-46-745|A-46745|DIMETRIOSE|GESTRINON...</td>\n",
              "      <td>A 46 745|A-46-745|A-46745|R 2323|R-2323|RU 232...</td>\n",
              "      <td>4.0</td>\n",
              "      <td>NaN</td>\n",
              "      <td>'-estr-; -rinone'</td>\n",
              "      <td>1978.0</td>\n",
              "      <td>estrogens; cardiotonics (amrinone type)</td>\n",
              "      <td>'-estr-(-estr-); -rinone(-rinone)'</td>\n",
              "      <td>...</td>\n",
              "      <td>1</td>\n",
              "      <td>0</td>\n",
              "      <td>Single Stereoisomer</td>\n",
              "      <td>0</td>\n",
              "      <td>0</td>\n",
              "      <td>0</td>\n",
              "      <td>0</td>\n",
              "      <td>0</td>\n",
              "      <td>Unknown</td>\n",
              "      <td>C#C[C@]1(O)CC[C@H]2[C@@H]3CCC4=CC(=O)CCC4=C3C=...</td>\n",
              "    </tr>\n",
              "    <tr>\n",
              "      <th>3</th>\n",
              "      <td>CHEMBL2104213</td>\n",
              "      <td>DESMENINOL</td>\n",
              "      <td>DESMENINOL|METHIONINE HYDROXY ANALOG</td>\n",
              "      <td>NaN</td>\n",
              "      <td>-1.0</td>\n",
              "      <td>NaN</td>\n",
              "      <td>NaN</td>\n",
              "      <td>NaN</td>\n",
              "      <td>NaN</td>\n",
              "      <td>NaN</td>\n",
              "      <td>...</td>\n",
              "      <td>1</td>\n",
              "      <td>0</td>\n",
              "      <td>Racemic Mixture</td>\n",
              "      <td>0</td>\n",
              "      <td>0</td>\n",
              "      <td>0</td>\n",
              "      <td>0</td>\n",
              "      <td>0</td>\n",
              "      <td>Unknown</td>\n",
              "      <td>CSCCC(O)C(=O)O</td>\n",
              "    </tr>\n",
              "    <tr>\n",
              "      <th>4</th>\n",
              "      <td>CHEMBL1904952</td>\n",
              "      <td>QUAZODINE</td>\n",
              "      <td>MJ 1988|MJ-1988|QUAZODINE</td>\n",
              "      <td>MJ 1988|MJ-1988</td>\n",
              "      <td>-1.0</td>\n",
              "      <td>NaN</td>\n",
              "      <td>NaN</td>\n",
              "      <td>1968.0</td>\n",
              "      <td>NaN</td>\n",
              "      <td>NaN</td>\n",
              "      <td>...</td>\n",
              "      <td>1</td>\n",
              "      <td>0</td>\n",
              "      <td>Achiral Molecule</td>\n",
              "      <td>0</td>\n",
              "      <td>0</td>\n",
              "      <td>0</td>\n",
              "      <td>0</td>\n",
              "      <td>0</td>\n",
              "      <td>Unknown</td>\n",
              "      <td>CCc1ncnc2cc(OC)c(OC)cc12</td>\n",
              "    </tr>\n",
              "  </tbody>\n",
              "</table>\n",
              "<p>5 rows × 29 columns</p>\n",
              "</div>\n",
              "    <div class=\"colab-df-buttons\">\n",
              "\n",
              "  <div class=\"colab-df-container\">\n",
              "    <button class=\"colab-df-convert\" onclick=\"convertToInteractive('df-2ca7040a-c29b-4f43-bbdf-71dea9f9e0fd')\"\n",
              "            title=\"Convert this dataframe to an interactive table.\"\n",
              "            style=\"display:none;\">\n",
              "\n",
              "  <svg xmlns=\"http://www.w3.org/2000/svg\" height=\"24px\" viewBox=\"0 -960 960 960\">\n",
              "    <path d=\"M120-120v-720h720v720H120Zm60-500h600v-160H180v160Zm220 220h160v-160H400v160Zm0 220h160v-160H400v160ZM180-400h160v-160H180v160Zm440 0h160v-160H620v160ZM180-180h160v-160H180v160Zm440 0h160v-160H620v160Z\"/>\n",
              "  </svg>\n",
              "    </button>\n",
              "\n",
              "  <style>\n",
              "    .colab-df-container {\n",
              "      display:flex;\n",
              "      gap: 12px;\n",
              "    }\n",
              "\n",
              "    .colab-df-convert {\n",
              "      background-color: #E8F0FE;\n",
              "      border: none;\n",
              "      border-radius: 50%;\n",
              "      cursor: pointer;\n",
              "      display: none;\n",
              "      fill: #1967D2;\n",
              "      height: 32px;\n",
              "      padding: 0 0 0 0;\n",
              "      width: 32px;\n",
              "    }\n",
              "\n",
              "    .colab-df-convert:hover {\n",
              "      background-color: #E2EBFA;\n",
              "      box-shadow: 0px 1px 2px rgba(60, 64, 67, 0.3), 0px 1px 3px 1px rgba(60, 64, 67, 0.15);\n",
              "      fill: #174EA6;\n",
              "    }\n",
              "\n",
              "    .colab-df-buttons div {\n",
              "      margin-bottom: 4px;\n",
              "    }\n",
              "\n",
              "    [theme=dark] .colab-df-convert {\n",
              "      background-color: #3B4455;\n",
              "      fill: #D2E3FC;\n",
              "    }\n",
              "\n",
              "    [theme=dark] .colab-df-convert:hover {\n",
              "      background-color: #434B5C;\n",
              "      box-shadow: 0px 1px 3px 1px rgba(0, 0, 0, 0.15);\n",
              "      filter: drop-shadow(0px 1px 2px rgba(0, 0, 0, 0.3));\n",
              "      fill: #FFFFFF;\n",
              "    }\n",
              "  </style>\n",
              "\n",
              "    <script>\n",
              "      const buttonEl =\n",
              "        document.querySelector('#df-2ca7040a-c29b-4f43-bbdf-71dea9f9e0fd button.colab-df-convert');\n",
              "      buttonEl.style.display =\n",
              "        google.colab.kernel.accessAllowed ? 'block' : 'none';\n",
              "\n",
              "      async function convertToInteractive(key) {\n",
              "        const element = document.querySelector('#df-2ca7040a-c29b-4f43-bbdf-71dea9f9e0fd');\n",
              "        const dataTable =\n",
              "          await google.colab.kernel.invokeFunction('convertToInteractive',\n",
              "                                                    [key], {});\n",
              "        if (!dataTable) return;\n",
              "\n",
              "        const docLinkHtml = 'Like what you see? Visit the ' +\n",
              "          '<a target=\"_blank\" href=https://colab.research.google.com/notebooks/data_table.ipynb>data table notebook</a>'\n",
              "          + ' to learn more about interactive tables.';\n",
              "        element.innerHTML = '';\n",
              "        dataTable['output_type'] = 'display_data';\n",
              "        await google.colab.output.renderOutput(dataTable, element);\n",
              "        const docLink = document.createElement('div');\n",
              "        docLink.innerHTML = docLinkHtml;\n",
              "        element.appendChild(docLink);\n",
              "      }\n",
              "    </script>\n",
              "  </div>\n",
              "\n",
              "\n",
              "<div id=\"df-4217814f-96fb-44a5-9e63-0e1a586f2092\">\n",
              "  <button class=\"colab-df-quickchart\" onclick=\"quickchart('df-4217814f-96fb-44a5-9e63-0e1a586f2092')\"\n",
              "            title=\"Suggest charts\"\n",
              "            style=\"display:none;\">\n",
              "\n",
              "<svg xmlns=\"http://www.w3.org/2000/svg\" height=\"24px\"viewBox=\"0 0 24 24\"\n",
              "     width=\"24px\">\n",
              "    <g>\n",
              "        <path d=\"M19 3H5c-1.1 0-2 .9-2 2v14c0 1.1.9 2 2 2h14c1.1 0 2-.9 2-2V5c0-1.1-.9-2-2-2zM9 17H7v-7h2v7zm4 0h-2V7h2v10zm4 0h-2v-4h2v4z\"/>\n",
              "    </g>\n",
              "</svg>\n",
              "  </button>\n",
              "\n",
              "<style>\n",
              "  .colab-df-quickchart {\n",
              "      --bg-color: #E8F0FE;\n",
              "      --fill-color: #1967D2;\n",
              "      --hover-bg-color: #E2EBFA;\n",
              "      --hover-fill-color: #174EA6;\n",
              "      --disabled-fill-color: #AAA;\n",
              "      --disabled-bg-color: #DDD;\n",
              "  }\n",
              "\n",
              "  [theme=dark] .colab-df-quickchart {\n",
              "      --bg-color: #3B4455;\n",
              "      --fill-color: #D2E3FC;\n",
              "      --hover-bg-color: #434B5C;\n",
              "      --hover-fill-color: #FFFFFF;\n",
              "      --disabled-bg-color: #3B4455;\n",
              "      --disabled-fill-color: #666;\n",
              "  }\n",
              "\n",
              "  .colab-df-quickchart {\n",
              "    background-color: var(--bg-color);\n",
              "    border: none;\n",
              "    border-radius: 50%;\n",
              "    cursor: pointer;\n",
              "    display: none;\n",
              "    fill: var(--fill-color);\n",
              "    height: 32px;\n",
              "    padding: 0;\n",
              "    width: 32px;\n",
              "  }\n",
              "\n",
              "  .colab-df-quickchart:hover {\n",
              "    background-color: var(--hover-bg-color);\n",
              "    box-shadow: 0 1px 2px rgba(60, 64, 67, 0.3), 0 1px 3px 1px rgba(60, 64, 67, 0.15);\n",
              "    fill: var(--button-hover-fill-color);\n",
              "  }\n",
              "\n",
              "  .colab-df-quickchart-complete:disabled,\n",
              "  .colab-df-quickchart-complete:disabled:hover {\n",
              "    background-color: var(--disabled-bg-color);\n",
              "    fill: var(--disabled-fill-color);\n",
              "    box-shadow: none;\n",
              "  }\n",
              "\n",
              "  .colab-df-spinner {\n",
              "    border: 2px solid var(--fill-color);\n",
              "    border-color: transparent;\n",
              "    border-bottom-color: var(--fill-color);\n",
              "    animation:\n",
              "      spin 1s steps(1) infinite;\n",
              "  }\n",
              "\n",
              "  @keyframes spin {\n",
              "    0% {\n",
              "      border-color: transparent;\n",
              "      border-bottom-color: var(--fill-color);\n",
              "      border-left-color: var(--fill-color);\n",
              "    }\n",
              "    20% {\n",
              "      border-color: transparent;\n",
              "      border-left-color: var(--fill-color);\n",
              "      border-top-color: var(--fill-color);\n",
              "    }\n",
              "    30% {\n",
              "      border-color: transparent;\n",
              "      border-left-color: var(--fill-color);\n",
              "      border-top-color: var(--fill-color);\n",
              "      border-right-color: var(--fill-color);\n",
              "    }\n",
              "    40% {\n",
              "      border-color: transparent;\n",
              "      border-right-color: var(--fill-color);\n",
              "      border-top-color: var(--fill-color);\n",
              "    }\n",
              "    60% {\n",
              "      border-color: transparent;\n",
              "      border-right-color: var(--fill-color);\n",
              "    }\n",
              "    80% {\n",
              "      border-color: transparent;\n",
              "      border-right-color: var(--fill-color);\n",
              "      border-bottom-color: var(--fill-color);\n",
              "    }\n",
              "    90% {\n",
              "      border-color: transparent;\n",
              "      border-bottom-color: var(--fill-color);\n",
              "    }\n",
              "  }\n",
              "</style>\n",
              "\n",
              "  <script>\n",
              "    async function quickchart(key) {\n",
              "      const quickchartButtonEl =\n",
              "        document.querySelector('#' + key + ' button');\n",
              "      quickchartButtonEl.disabled = true;  // To prevent multiple clicks.\n",
              "      quickchartButtonEl.classList.add('colab-df-spinner');\n",
              "      try {\n",
              "        const charts = await google.colab.kernel.invokeFunction(\n",
              "            'suggestCharts', [key], {});\n",
              "      } catch (error) {\n",
              "        console.error('Error during call to suggestCharts:', error);\n",
              "      }\n",
              "      quickchartButtonEl.classList.remove('colab-df-spinner');\n",
              "      quickchartButtonEl.classList.add('colab-df-quickchart-complete');\n",
              "    }\n",
              "    (() => {\n",
              "      let quickchartButtonEl =\n",
              "        document.querySelector('#df-4217814f-96fb-44a5-9e63-0e1a586f2092 button');\n",
              "      quickchartButtonEl.style.display =\n",
              "        google.colab.kernel.accessAllowed ? 'block' : 'none';\n",
              "    })();\n",
              "  </script>\n",
              "</div>\n",
              "    </div>\n",
              "  </div>\n"
            ]
          },
          "metadata": {},
          "execution_count": 14
        }
      ],
      "source": [
        "df = pd.read_csv('chembl_drugs.txt.gz', sep=';')\n",
        "df.head()"
      ],
      "metadata": {
        "id": "lDZp5YiM7GsY",
        "outputId": "476dca8d-f5ce-4744-fe27-c932a0595234",
        "colab": {
          "base_uri": "https://localhost:8080/",
          "height": 533
        }
      }
    },
    {
      "cell_type": "code",
      "execution_count": null,
      "outputs": [
        {
          "output_type": "execute_result",
          "data": {
            "text/plain": [
              "Index(['Parent Molecule', 'Name', 'Synonyms', 'Research Codes', 'Phase',\n",
              "       'Drug Applicants', 'USAN Stem', 'USAN Year', 'USAN Definition',\n",
              "       'USAN Stem - Substem', 'First Approval', 'ATC Codes',\n",
              "       'Level 4 ATC Codes', 'Level 3 ATC Codes', 'Level 2 ATC Codes',\n",
              "       'Level 1 ATC Codes', 'Indication Class', 'Patent', 'Drug Type',\n",
              "       'Passes Rule of Five', 'First In Class', 'Chirality', 'Prodrug', 'Oral',\n",
              "       'Parenteral', 'Topical', 'Black Box', 'Availability Type', 'Smiles'],\n",
              "      dtype='object')"
            ]
          },
          "metadata": {},
          "execution_count": 75
        }
      ],
      "source": [
        "df.columns"
      ],
      "metadata": {
        "id": "WLOVvD3W7GsY",
        "outputId": "1dbaa4fb-656d-4562-a075-2edc3cc1ecf6",
        "colab": {
          "base_uri": "https://localhost:8080/"
        }
      }
    },
    {
      "cell_type": "code",
      "execution_count": null,
      "outputs": [
        {
          "output_type": "execute_result",
          "data": {
            "text/plain": [
              "14805"
            ]
          },
          "metadata": {},
          "execution_count": 76
        }
      ],
      "source": [
        "len(df)"
      ],
      "metadata": {
        "id": "17XcVSJP7GsY",
        "outputId": "b5e2ddfa-f6cc-42a4-8a88-e349ce1d12c0",
        "colab": {
          "base_uri": "https://localhost:8080/"
        }
      }
    },
    {
      "cell_type": "code",
      "execution_count": null,
      "outputs": [
        {
          "output_type": "execute_result",
          "data": {
            "text/plain": [
              "    Parent Molecule               Name  \\\n",
              "2     CHEMBL1868702         GESTRINONE   \n",
              "156   CHEMBL3707281  MAGNESIUM LACTATE   \n",
              "170   CHEMBL3833409       HYDROTALCITE   \n",
              "182    CHEMBL307145         PYROGALLOL   \n",
              "373   CHEMBL2107004       QUINESTRADOL   \n",
              "\n",
              "                                              Synonyms  \\\n",
              "2    A 46 745|A-46-745|A-46745|DIMETRIOSE|GESTRINON...   \n",
              "156  ANHYDROUS MAGNESIUM LACTATE, DL-|DL-LACTIC ACI...   \n",
              "170                                       HYDROTALCITE   \n",
              "182                NSC-5035|PYROGALLIC ACID|PYROGALLOL   \n",
              "373       COLPOVIS|PENTOVIS|QUINESTRADIOL|QUINESTRADOL   \n",
              "\n",
              "                                        Research Codes  Phase Drug Applicants  \\\n",
              "2    A 46 745|A-46-745|A-46745|R 2323|R-2323|RU 232...    4.0             NaN   \n",
              "156                                                NaN    4.0             NaN   \n",
              "170                                                NaN    4.0             NaN   \n",
              "182                                           NSC-5035    4.0             NaN   \n",
              "373                                                NaN    4.0             NaN   \n",
              "\n",
              "             USAN Stem  USAN Year  \\\n",
              "2    '-estr-; -rinone'     1978.0   \n",
              "156                NaN        NaN   \n",
              "170                NaN        NaN   \n",
              "182                NaN        NaN   \n",
              "373    '-adol; -estr-'        NaN   \n",
              "\n",
              "                                       USAN Definition  \\\n",
              "2              estrogens; cardiotonics (amrinone type)   \n",
              "156                                                NaN   \n",
              "170                                                NaN   \n",
              "182                                                NaN   \n",
              "373  analgesics (mixed opiate receptor agonists/ant...   \n",
              "\n",
              "                    USAN Stem - Substem  ...  Passes Rule of Five  \\\n",
              "2    '-estr-(-estr-); -rinone(-rinone)'  ...                    1   \n",
              "156                                 NaN  ...                    0   \n",
              "170                                 NaN  ...                    0   \n",
              "182                                 NaN  ...                    1   \n",
              "373      '-adol(-adol); -estr-(-estr-)'  ...                    1   \n",
              "\n",
              "    First In Class            Chirality Prodrug Oral Parenteral Topical  \\\n",
              "2                0  Single Stereoisomer       0    0          0       0   \n",
              "156              0              Unknown       0    0          0       0   \n",
              "170              0     Achiral Molecule       0    0          0       0   \n",
              "182              0     Achiral Molecule       0    0          0       0   \n",
              "373              0  Single Stereoisomer       0    0          0       0   \n",
              "\n",
              "    Black Box Availability Type  \\\n",
              "2           0           Unknown   \n",
              "156         0           Unknown   \n",
              "170         0           Unknown   \n",
              "182         0           Unknown   \n",
              "373         0           Unknown   \n",
              "\n",
              "                                                Smiles  \n",
              "2    C#C[C@]1(O)CC[C@H]2[C@@H]3CCC4=CC(=O)CCC4=C3C=...  \n",
              "156               CC(O)C(=O)[O-].CC(O)C(=O)[O-].[Mg+2]  \n",
              "170  O=C([O-])[O-].[Al+3].[Al+3].[Mg+2].[Mg+2].[Mg+...  \n",
              "182                                      Oc1cccc(O)c1O  \n",
              "373  C[C@]12CC[C@@H]3c4ccc(OC5CCCC5)cc4CC[C@H]3[C@@...  \n",
              "\n",
              "[5 rows x 29 columns]"
            ],
            "text/html": [
              "\n",
              "  <div id=\"df-2caf18df-b611-44a2-8f88-38005382aaec\" class=\"colab-df-container\">\n",
              "    <div>\n",
              "<style scoped>\n",
              "    .dataframe tbody tr th:only-of-type {\n",
              "        vertical-align: middle;\n",
              "    }\n",
              "\n",
              "    .dataframe tbody tr th {\n",
              "        vertical-align: top;\n",
              "    }\n",
              "\n",
              "    .dataframe thead th {\n",
              "        text-align: right;\n",
              "    }\n",
              "</style>\n",
              "<table border=\"1\" class=\"dataframe\">\n",
              "  <thead>\n",
              "    <tr style=\"text-align: right;\">\n",
              "      <th></th>\n",
              "      <th>Parent Molecule</th>\n",
              "      <th>Name</th>\n",
              "      <th>Synonyms</th>\n",
              "      <th>Research Codes</th>\n",
              "      <th>Phase</th>\n",
              "      <th>Drug Applicants</th>\n",
              "      <th>USAN Stem</th>\n",
              "      <th>USAN Year</th>\n",
              "      <th>USAN Definition</th>\n",
              "      <th>USAN Stem - Substem</th>\n",
              "      <th>...</th>\n",
              "      <th>Passes Rule of Five</th>\n",
              "      <th>First In Class</th>\n",
              "      <th>Chirality</th>\n",
              "      <th>Prodrug</th>\n",
              "      <th>Oral</th>\n",
              "      <th>Parenteral</th>\n",
              "      <th>Topical</th>\n",
              "      <th>Black Box</th>\n",
              "      <th>Availability Type</th>\n",
              "      <th>Smiles</th>\n",
              "    </tr>\n",
              "  </thead>\n",
              "  <tbody>\n",
              "    <tr>\n",
              "      <th>2</th>\n",
              "      <td>CHEMBL1868702</td>\n",
              "      <td>GESTRINONE</td>\n",
              "      <td>A 46 745|A-46-745|A-46745|DIMETRIOSE|GESTRINON...</td>\n",
              "      <td>A 46 745|A-46-745|A-46745|R 2323|R-2323|RU 232...</td>\n",
              "      <td>4.0</td>\n",
              "      <td>NaN</td>\n",
              "      <td>'-estr-; -rinone'</td>\n",
              "      <td>1978.0</td>\n",
              "      <td>estrogens; cardiotonics (amrinone type)</td>\n",
              "      <td>'-estr-(-estr-); -rinone(-rinone)'</td>\n",
              "      <td>...</td>\n",
              "      <td>1</td>\n",
              "      <td>0</td>\n",
              "      <td>Single Stereoisomer</td>\n",
              "      <td>0</td>\n",
              "      <td>0</td>\n",
              "      <td>0</td>\n",
              "      <td>0</td>\n",
              "      <td>0</td>\n",
              "      <td>Unknown</td>\n",
              "      <td>C#C[C@]1(O)CC[C@H]2[C@@H]3CCC4=CC(=O)CCC4=C3C=...</td>\n",
              "    </tr>\n",
              "    <tr>\n",
              "      <th>156</th>\n",
              "      <td>CHEMBL3707281</td>\n",
              "      <td>MAGNESIUM LACTATE</td>\n",
              "      <td>ANHYDROUS MAGNESIUM LACTATE, DL-|DL-LACTIC ACI...</td>\n",
              "      <td>NaN</td>\n",
              "      <td>4.0</td>\n",
              "      <td>NaN</td>\n",
              "      <td>NaN</td>\n",
              "      <td>NaN</td>\n",
              "      <td>NaN</td>\n",
              "      <td>NaN</td>\n",
              "      <td>...</td>\n",
              "      <td>0</td>\n",
              "      <td>0</td>\n",
              "      <td>Unknown</td>\n",
              "      <td>0</td>\n",
              "      <td>0</td>\n",
              "      <td>0</td>\n",
              "      <td>0</td>\n",
              "      <td>0</td>\n",
              "      <td>Unknown</td>\n",
              "      <td>CC(O)C(=O)[O-].CC(O)C(=O)[O-].[Mg+2]</td>\n",
              "    </tr>\n",
              "    <tr>\n",
              "      <th>170</th>\n",
              "      <td>CHEMBL3833409</td>\n",
              "      <td>HYDROTALCITE</td>\n",
              "      <td>HYDROTALCITE</td>\n",
              "      <td>NaN</td>\n",
              "      <td>4.0</td>\n",
              "      <td>NaN</td>\n",
              "      <td>NaN</td>\n",
              "      <td>NaN</td>\n",
              "      <td>NaN</td>\n",
              "      <td>NaN</td>\n",
              "      <td>...</td>\n",
              "      <td>0</td>\n",
              "      <td>0</td>\n",
              "      <td>Achiral Molecule</td>\n",
              "      <td>0</td>\n",
              "      <td>0</td>\n",
              "      <td>0</td>\n",
              "      <td>0</td>\n",
              "      <td>0</td>\n",
              "      <td>Unknown</td>\n",
              "      <td>O=C([O-])[O-].[Al+3].[Al+3].[Mg+2].[Mg+2].[Mg+...</td>\n",
              "    </tr>\n",
              "    <tr>\n",
              "      <th>182</th>\n",
              "      <td>CHEMBL307145</td>\n",
              "      <td>PYROGALLOL</td>\n",
              "      <td>NSC-5035|PYROGALLIC ACID|PYROGALLOL</td>\n",
              "      <td>NSC-5035</td>\n",
              "      <td>4.0</td>\n",
              "      <td>NaN</td>\n",
              "      <td>NaN</td>\n",
              "      <td>NaN</td>\n",
              "      <td>NaN</td>\n",
              "      <td>NaN</td>\n",
              "      <td>...</td>\n",
              "      <td>1</td>\n",
              "      <td>0</td>\n",
              "      <td>Achiral Molecule</td>\n",
              "      <td>0</td>\n",
              "      <td>0</td>\n",
              "      <td>0</td>\n",
              "      <td>0</td>\n",
              "      <td>0</td>\n",
              "      <td>Unknown</td>\n",
              "      <td>Oc1cccc(O)c1O</td>\n",
              "    </tr>\n",
              "    <tr>\n",
              "      <th>373</th>\n",
              "      <td>CHEMBL2107004</td>\n",
              "      <td>QUINESTRADOL</td>\n",
              "      <td>COLPOVIS|PENTOVIS|QUINESTRADIOL|QUINESTRADOL</td>\n",
              "      <td>NaN</td>\n",
              "      <td>4.0</td>\n",
              "      <td>NaN</td>\n",
              "      <td>'-adol; -estr-'</td>\n",
              "      <td>NaN</td>\n",
              "      <td>analgesics (mixed opiate receptor agonists/ant...</td>\n",
              "      <td>'-adol(-adol); -estr-(-estr-)'</td>\n",
              "      <td>...</td>\n",
              "      <td>1</td>\n",
              "      <td>0</td>\n",
              "      <td>Single Stereoisomer</td>\n",
              "      <td>0</td>\n",
              "      <td>0</td>\n",
              "      <td>0</td>\n",
              "      <td>0</td>\n",
              "      <td>0</td>\n",
              "      <td>Unknown</td>\n",
              "      <td>C[C@]12CC[C@@H]3c4ccc(OC5CCCC5)cc4CC[C@H]3[C@@...</td>\n",
              "    </tr>\n",
              "  </tbody>\n",
              "</table>\n",
              "<p>5 rows × 29 columns</p>\n",
              "</div>\n",
              "    <div class=\"colab-df-buttons\">\n",
              "\n",
              "  <div class=\"colab-df-container\">\n",
              "    <button class=\"colab-df-convert\" onclick=\"convertToInteractive('df-2caf18df-b611-44a2-8f88-38005382aaec')\"\n",
              "            title=\"Convert this dataframe to an interactive table.\"\n",
              "            style=\"display:none;\">\n",
              "\n",
              "  <svg xmlns=\"http://www.w3.org/2000/svg\" height=\"24px\" viewBox=\"0 -960 960 960\">\n",
              "    <path d=\"M120-120v-720h720v720H120Zm60-500h600v-160H180v160Zm220 220h160v-160H400v160Zm0 220h160v-160H400v160ZM180-400h160v-160H180v160Zm440 0h160v-160H620v160ZM180-180h160v-160H180v160Zm440 0h160v-160H620v160Z\"/>\n",
              "  </svg>\n",
              "    </button>\n",
              "\n",
              "  <style>\n",
              "    .colab-df-container {\n",
              "      display:flex;\n",
              "      gap: 12px;\n",
              "    }\n",
              "\n",
              "    .colab-df-convert {\n",
              "      background-color: #E8F0FE;\n",
              "      border: none;\n",
              "      border-radius: 50%;\n",
              "      cursor: pointer;\n",
              "      display: none;\n",
              "      fill: #1967D2;\n",
              "      height: 32px;\n",
              "      padding: 0 0 0 0;\n",
              "      width: 32px;\n",
              "    }\n",
              "\n",
              "    .colab-df-convert:hover {\n",
              "      background-color: #E2EBFA;\n",
              "      box-shadow: 0px 1px 2px rgba(60, 64, 67, 0.3), 0px 1px 3px 1px rgba(60, 64, 67, 0.15);\n",
              "      fill: #174EA6;\n",
              "    }\n",
              "\n",
              "    .colab-df-buttons div {\n",
              "      margin-bottom: 4px;\n",
              "    }\n",
              "\n",
              "    [theme=dark] .colab-df-convert {\n",
              "      background-color: #3B4455;\n",
              "      fill: #D2E3FC;\n",
              "    }\n",
              "\n",
              "    [theme=dark] .colab-df-convert:hover {\n",
              "      background-color: #434B5C;\n",
              "      box-shadow: 0px 1px 3px 1px rgba(0, 0, 0, 0.15);\n",
              "      filter: drop-shadow(0px 1px 2px rgba(0, 0, 0, 0.3));\n",
              "      fill: #FFFFFF;\n",
              "    }\n",
              "  </style>\n",
              "\n",
              "    <script>\n",
              "      const buttonEl =\n",
              "        document.querySelector('#df-2caf18df-b611-44a2-8f88-38005382aaec button.colab-df-convert');\n",
              "      buttonEl.style.display =\n",
              "        google.colab.kernel.accessAllowed ? 'block' : 'none';\n",
              "\n",
              "      async function convertToInteractive(key) {\n",
              "        const element = document.querySelector('#df-2caf18df-b611-44a2-8f88-38005382aaec');\n",
              "        const dataTable =\n",
              "          await google.colab.kernel.invokeFunction('convertToInteractive',\n",
              "                                                    [key], {});\n",
              "        if (!dataTable) return;\n",
              "\n",
              "        const docLinkHtml = 'Like what you see? Visit the ' +\n",
              "          '<a target=\"_blank\" href=https://colab.research.google.com/notebooks/data_table.ipynb>data table notebook</a>'\n",
              "          + ' to learn more about interactive tables.';\n",
              "        element.innerHTML = '';\n",
              "        dataTable['output_type'] = 'display_data';\n",
              "        await google.colab.output.renderOutput(dataTable, element);\n",
              "        const docLink = document.createElement('div');\n",
              "        docLink.innerHTML = docLinkHtml;\n",
              "        element.appendChild(docLink);\n",
              "      }\n",
              "    </script>\n",
              "  </div>\n",
              "\n",
              "\n",
              "<div id=\"df-0751c9b9-c1de-483d-9f75-0db3b7c9391b\">\n",
              "  <button class=\"colab-df-quickchart\" onclick=\"quickchart('df-0751c9b9-c1de-483d-9f75-0db3b7c9391b')\"\n",
              "            title=\"Suggest charts\"\n",
              "            style=\"display:none;\">\n",
              "\n",
              "<svg xmlns=\"http://www.w3.org/2000/svg\" height=\"24px\"viewBox=\"0 0 24 24\"\n",
              "     width=\"24px\">\n",
              "    <g>\n",
              "        <path d=\"M19 3H5c-1.1 0-2 .9-2 2v14c0 1.1.9 2 2 2h14c1.1 0 2-.9 2-2V5c0-1.1-.9-2-2-2zM9 17H7v-7h2v7zm4 0h-2V7h2v10zm4 0h-2v-4h2v4z\"/>\n",
              "    </g>\n",
              "</svg>\n",
              "  </button>\n",
              "\n",
              "<style>\n",
              "  .colab-df-quickchart {\n",
              "      --bg-color: #E8F0FE;\n",
              "      --fill-color: #1967D2;\n",
              "      --hover-bg-color: #E2EBFA;\n",
              "      --hover-fill-color: #174EA6;\n",
              "      --disabled-fill-color: #AAA;\n",
              "      --disabled-bg-color: #DDD;\n",
              "  }\n",
              "\n",
              "  [theme=dark] .colab-df-quickchart {\n",
              "      --bg-color: #3B4455;\n",
              "      --fill-color: #D2E3FC;\n",
              "      --hover-bg-color: #434B5C;\n",
              "      --hover-fill-color: #FFFFFF;\n",
              "      --disabled-bg-color: #3B4455;\n",
              "      --disabled-fill-color: #666;\n",
              "  }\n",
              "\n",
              "  .colab-df-quickchart {\n",
              "    background-color: var(--bg-color);\n",
              "    border: none;\n",
              "    border-radius: 50%;\n",
              "    cursor: pointer;\n",
              "    display: none;\n",
              "    fill: var(--fill-color);\n",
              "    height: 32px;\n",
              "    padding: 0;\n",
              "    width: 32px;\n",
              "  }\n",
              "\n",
              "  .colab-df-quickchart:hover {\n",
              "    background-color: var(--hover-bg-color);\n",
              "    box-shadow: 0 1px 2px rgba(60, 64, 67, 0.3), 0 1px 3px 1px rgba(60, 64, 67, 0.15);\n",
              "    fill: var(--button-hover-fill-color);\n",
              "  }\n",
              "\n",
              "  .colab-df-quickchart-complete:disabled,\n",
              "  .colab-df-quickchart-complete:disabled:hover {\n",
              "    background-color: var(--disabled-bg-color);\n",
              "    fill: var(--disabled-fill-color);\n",
              "    box-shadow: none;\n",
              "  }\n",
              "\n",
              "  .colab-df-spinner {\n",
              "    border: 2px solid var(--fill-color);\n",
              "    border-color: transparent;\n",
              "    border-bottom-color: var(--fill-color);\n",
              "    animation:\n",
              "      spin 1s steps(1) infinite;\n",
              "  }\n",
              "\n",
              "  @keyframes spin {\n",
              "    0% {\n",
              "      border-color: transparent;\n",
              "      border-bottom-color: var(--fill-color);\n",
              "      border-left-color: var(--fill-color);\n",
              "    }\n",
              "    20% {\n",
              "      border-color: transparent;\n",
              "      border-left-color: var(--fill-color);\n",
              "      border-top-color: var(--fill-color);\n",
              "    }\n",
              "    30% {\n",
              "      border-color: transparent;\n",
              "      border-left-color: var(--fill-color);\n",
              "      border-top-color: var(--fill-color);\n",
              "      border-right-color: var(--fill-color);\n",
              "    }\n",
              "    40% {\n",
              "      border-color: transparent;\n",
              "      border-right-color: var(--fill-color);\n",
              "      border-top-color: var(--fill-color);\n",
              "    }\n",
              "    60% {\n",
              "      border-color: transparent;\n",
              "      border-right-color: var(--fill-color);\n",
              "    }\n",
              "    80% {\n",
              "      border-color: transparent;\n",
              "      border-right-color: var(--fill-color);\n",
              "      border-bottom-color: var(--fill-color);\n",
              "    }\n",
              "    90% {\n",
              "      border-color: transparent;\n",
              "      border-bottom-color: var(--fill-color);\n",
              "    }\n",
              "  }\n",
              "</style>\n",
              "\n",
              "  <script>\n",
              "    async function quickchart(key) {\n",
              "      const quickchartButtonEl =\n",
              "        document.querySelector('#' + key + ' button');\n",
              "      quickchartButtonEl.disabled = true;  // To prevent multiple clicks.\n",
              "      quickchartButtonEl.classList.add('colab-df-spinner');\n",
              "      try {\n",
              "        const charts = await google.colab.kernel.invokeFunction(\n",
              "            'suggestCharts', [key], {});\n",
              "      } catch (error) {\n",
              "        console.error('Error during call to suggestCharts:', error);\n",
              "      }\n",
              "      quickchartButtonEl.classList.remove('colab-df-spinner');\n",
              "      quickchartButtonEl.classList.add('colab-df-quickchart-complete');\n",
              "    }\n",
              "    (() => {\n",
              "      let quickchartButtonEl =\n",
              "        document.querySelector('#df-0751c9b9-c1de-483d-9f75-0db3b7c9391b button');\n",
              "      quickchartButtonEl.style.display =\n",
              "        google.colab.kernel.accessAllowed ? 'block' : 'none';\n",
              "    })();\n",
              "  </script>\n",
              "</div>\n",
              "    </div>\n",
              "  </div>\n"
            ]
          },
          "metadata": {},
          "execution_count": 77
        }
      ],
      "source": [
        "df = df[df['Smiles'].notnull() & # Keep cpds with SMILES\n",
        "        (df['Phase'] == 4)] # are on the market\n",
        "df.head()"
      ],
      "metadata": {
        "id": "1CDXlJTU7GsY",
        "outputId": "4775e2c0-ed1a-47fe-ec48-e4bed71aa318",
        "colab": {
          "base_uri": "https://localhost:8080/",
          "height": 516
        }
      }
    },
    {
      "cell_type": "markdown",
      "source": [
        "Table contains CANONICAL_SMILES with SMILES which we can convert to RDKit molecules (default name ROMol)"
      ],
      "metadata": {
        "collapsed": false,
        "id": "Ua5EMstL7GsY"
      }
    },
    {
      "cell_type": "code",
      "execution_count": null,
      "outputs": [
        {
          "output_type": "stream",
          "name": "stderr",
          "text": [
            "[08:21:58] WARNING: not removing hydrogen atom without neighbors\n",
            "[08:21:58] WARNING: not removing hydrogen atom without neighbors\n",
            "[08:21:58] WARNING: not removing hydrogen atom without neighbors\n",
            "[08:21:58] WARNING: not removing hydrogen atom without neighbors\n"
          ]
        }
      ],
      "source": [
        "PandasTools.AddMoleculeColumnToFrame(df, smilesCol='Smiles')"
      ],
      "metadata": {
        "id": "Sg5z5ZDA7GsY",
        "outputId": "81433a14-ea0b-47db-fc7e-f21135255bf2",
        "colab": {
          "base_uri": "https://localhost:8080/"
        }
      }
    },
    {
      "cell_type": "markdown",
      "source": [
        "Remove rows where RDKit failed to generate a molecule from SMILES"
      ],
      "metadata": {
        "collapsed": false,
        "id": "usKSfEii7GsY"
      }
    },
    {
      "cell_type": "code",
      "execution_count": null,
      "outputs": [],
      "source": [
        "df = df[~df['ROMol'].isnull()]"
      ],
      "metadata": {
        "id": "lZZXZLG27GsZ"
      }
    },
    {
      "cell_type": "markdown",
      "source": [
        "Extract a name from SYNONYMS column by applying a row-wise operation"
      ],
      "metadata": {
        "collapsed": false,
        "id": "cwoV6GUP7GsZ"
      }
    },
    {
      "cell_type": "code",
      "execution_count": null,
      "outputs": [],
      "source": [
        "df['name'] = df.apply(lambda x: x['Synonyms'].split('|')[0] if type(x['Synonyms']) is str else None, axis=1)"
      ],
      "metadata": {
        "id": "OBqcIl5b7GsZ"
      }
    },
    {
      "cell_type": "markdown",
      "source": [
        "Depict first 12 mols"
      ],
      "metadata": {
        "collapsed": false,
        "id": "VWUZRaMx7GsZ"
      }
    },
    {
      "cell_type": "code",
      "execution_count": null,
      "outputs": [
        {
          "output_type": "execute_result",
          "data": {
            "image/png": "[encoded data removed]",
            "text/plain": [
              "<IPython.core.display.Image object>"
            ]
          },
          "metadata": {},
          "execution_count": 81
        }
      ],
      "source": [
        "PandasTools.FrameToGridImage(df.head(12), legendsCol='name', molsPerRow=4)"
      ],
      "metadata": {
        "id": "JHmw3rzE7GsZ",
        "outputId": "1131cd4c-e0ca-4189-ca5f-ff5d60a04b1a",
        "colab": {
          "base_uri": "https://localhost:8080/",
          "height": 565
        }
      }
    },
    {
      "cell_type": "markdown",
      "source": [
        "Calculate some descriptors and visualize distributions"
      ],
      "metadata": {
        "collapsed": false,
        "id": "OWZkiVDR7GsZ"
      }
    },
    {
      "cell_type": "code",
      "execution_count": null,
      "outputs": [],
      "source": [
        "from rdkit.Chem import Descriptors"
      ],
      "metadata": {
        "id": "mEcqhajy7GsZ"
      }
    },
    {
      "cell_type": "code",
      "execution_count": null,
      "outputs": [
        {
          "output_type": "error",
          "ename": "KeyError",
          "evalue": "ignored",
          "traceback": [
            "\u001b[0;31m---------------------------------------------------------------------------\u001b[0m",
            "\u001b[0;31mKeyError\u001b[0m                                  Traceback (most recent call last)",
            "\u001b[0;32m/usr/local/lib/python3.10/dist-packages/pandas/core/indexes/base.py\u001b[0m in \u001b[0;36mget_loc\u001b[0;34m(self, key, method, tolerance)\u001b[0m\n\u001b[1;32m   3801\u001b[0m             \u001b[0;32mtry\u001b[0m\u001b[0;34m:\u001b[0m\u001b[0;34m\u001b[0m\u001b[0;34m\u001b[0m\u001b[0m\n\u001b[0;32m-> 3802\u001b[0;31m                 \u001b[0;32mreturn\u001b[0m \u001b[0mself\u001b[0m\u001b[0;34m.\u001b[0m\u001b[0m_engine\u001b[0m\u001b[0;34m.\u001b[0m\u001b[0mget_loc\u001b[0m\u001b[0;34m(\u001b[0m\u001b[0mcasted_key\u001b[0m\u001b[0;34m)\u001b[0m\u001b[0;34m\u001b[0m\u001b[0;34m\u001b[0m\u001b[0m\n\u001b[0m\u001b[1;32m   3803\u001b[0m             \u001b[0;32mexcept\u001b[0m \u001b[0mKeyError\u001b[0m \u001b[0;32mas\u001b[0m \u001b[0merr\u001b[0m\u001b[0;34m:\u001b[0m\u001b[0;34m\u001b[0m\u001b[0;34m\u001b[0m\u001b[0m\n",
            "\u001b[0;32m/usr/local/lib/python3.10/dist-packages/pandas/_libs/index.pyx\u001b[0m in \u001b[0;36mpandas._libs.index.IndexEngine.get_loc\u001b[0;34m()\u001b[0m\n",
            "\u001b[0;32m/usr/local/lib/python3.10/dist-packages/pandas/_libs/index.pyx\u001b[0m in \u001b[0;36mpandas._libs.index.IndexEngine.get_loc\u001b[0;34m()\u001b[0m\n",
            "\u001b[0;32mpandas/_libs/hashtable_class_helper.pxi\u001b[0m in \u001b[0;36mpandas._libs.hashtable.PyObjectHashTable.get_item\u001b[0;34m()\u001b[0m\n",
            "\u001b[0;32mpandas/_libs/hashtable_class_helper.pxi\u001b[0m in \u001b[0;36mpandas._libs.hashtable.PyObjectHashTable.get_item\u001b[0;34m()\u001b[0m\n",
            "\u001b[0;31mKeyError\u001b[0m: 'ROMol'",
            "\nThe above exception was the direct cause of the following exception:\n",
            "\u001b[0;31mKeyError\u001b[0m                                  Traceback (most recent call last)",
            "\u001b[0;32m<ipython-input-19-8c78f81fa68f>\u001b[0m in \u001b[0;36m<cell line: 1>\u001b[0;34m()\u001b[0m\n\u001b[0;32m----> 1\u001b[0;31m \u001b[0mdf\u001b[0m\u001b[0;34m[\u001b[0m\u001b[0;34m'MW'\u001b[0m\u001b[0;34m]\u001b[0m \u001b[0;34m=\u001b[0m \u001b[0mdf\u001b[0m\u001b[0;34m[\u001b[0m\u001b[0;34m'ROMol'\u001b[0m\u001b[0;34m]\u001b[0m\u001b[0;34m.\u001b[0m\u001b[0mmap\u001b[0m\u001b[0;34m(\u001b[0m\u001b[0mDescriptors\u001b[0m\u001b[0;34m.\u001b[0m\u001b[0mMolWt\u001b[0m\u001b[0;34m)\u001b[0m\u001b[0;34m\u001b[0m\u001b[0;34m\u001b[0m\u001b[0m\n\u001b[0m\u001b[1;32m      2\u001b[0m \u001b[0mdf\u001b[0m\u001b[0;34m[\u001b[0m\u001b[0;34m'logP'\u001b[0m\u001b[0;34m]\u001b[0m \u001b[0;34m=\u001b[0m \u001b[0mdf\u001b[0m\u001b[0;34m[\u001b[0m\u001b[0;34m'ROMol'\u001b[0m\u001b[0;34m]\u001b[0m\u001b[0;34m.\u001b[0m\u001b[0mmap\u001b[0m\u001b[0;34m(\u001b[0m\u001b[0mDescriptors\u001b[0m\u001b[0;34m.\u001b[0m\u001b[0mMolLogP\u001b[0m\u001b[0;34m)\u001b[0m\u001b[0;34m\u001b[0m\u001b[0;34m\u001b[0m\u001b[0m\n",
            "\u001b[0;32m/usr/local/lib/python3.10/dist-packages/pandas/core/frame.py\u001b[0m in \u001b[0;36m__getitem__\u001b[0;34m(self, key)\u001b[0m\n\u001b[1;32m   3805\u001b[0m             \u001b[0;32mif\u001b[0m \u001b[0mself\u001b[0m\u001b[0;34m.\u001b[0m\u001b[0mcolumns\u001b[0m\u001b[0;34m.\u001b[0m\u001b[0mnlevels\u001b[0m \u001b[0;34m>\u001b[0m \u001b[0;36m1\u001b[0m\u001b[0;34m:\u001b[0m\u001b[0;34m\u001b[0m\u001b[0;34m\u001b[0m\u001b[0m\n\u001b[1;32m   3806\u001b[0m                 \u001b[0;32mreturn\u001b[0m \u001b[0mself\u001b[0m\u001b[0;34m.\u001b[0m\u001b[0m_getitem_multilevel\u001b[0m\u001b[0;34m(\u001b[0m\u001b[0mkey\u001b[0m\u001b[0;34m)\u001b[0m\u001b[0;34m\u001b[0m\u001b[0;34m\u001b[0m\u001b[0m\n\u001b[0;32m-> 3807\u001b[0;31m             \u001b[0mindexer\u001b[0m \u001b[0;34m=\u001b[0m \u001b[0mself\u001b[0m\u001b[0;34m.\u001b[0m\u001b[0mcolumns\u001b[0m\u001b[0;34m.\u001b[0m\u001b[0mget_loc\u001b[0m\u001b[0;34m(\u001b[0m\u001b[0mkey\u001b[0m\u001b[0;34m)\u001b[0m\u001b[0;34m\u001b[0m\u001b[0;34m\u001b[0m\u001b[0m\n\u001b[0m\u001b[1;32m   3808\u001b[0m             \u001b[0;32mif\u001b[0m \u001b[0mis_integer\u001b[0m\u001b[0;34m(\u001b[0m\u001b[0mindexer\u001b[0m\u001b[0;34m)\u001b[0m\u001b[0;34m:\u001b[0m\u001b[0;34m\u001b[0m\u001b[0;34m\u001b[0m\u001b[0m\n\u001b[1;32m   3809\u001b[0m                 \u001b[0mindexer\u001b[0m \u001b[0;34m=\u001b[0m \u001b[0;34m[\u001b[0m\u001b[0mindexer\u001b[0m\u001b[0;34m]\u001b[0m\u001b[0;34m\u001b[0m\u001b[0;34m\u001b[0m\u001b[0m\n",
            "\u001b[0;32m/usr/local/lib/python3.10/dist-packages/pandas/core/indexes/base.py\u001b[0m in \u001b[0;36mget_loc\u001b[0;34m(self, key, method, tolerance)\u001b[0m\n\u001b[1;32m   3802\u001b[0m                 \u001b[0;32mreturn\u001b[0m \u001b[0mself\u001b[0m\u001b[0;34m.\u001b[0m\u001b[0m_engine\u001b[0m\u001b[0;34m.\u001b[0m\u001b[0mget_loc\u001b[0m\u001b[0;34m(\u001b[0m\u001b[0mcasted_key\u001b[0m\u001b[0;34m)\u001b[0m\u001b[0;34m\u001b[0m\u001b[0;34m\u001b[0m\u001b[0m\n\u001b[1;32m   3803\u001b[0m             \u001b[0;32mexcept\u001b[0m \u001b[0mKeyError\u001b[0m \u001b[0;32mas\u001b[0m \u001b[0merr\u001b[0m\u001b[0;34m:\u001b[0m\u001b[0;34m\u001b[0m\u001b[0;34m\u001b[0m\u001b[0m\n\u001b[0;32m-> 3804\u001b[0;31m                 \u001b[0;32mraise\u001b[0m \u001b[0mKeyError\u001b[0m\u001b[0;34m(\u001b[0m\u001b[0mkey\u001b[0m\u001b[0;34m)\u001b[0m \u001b[0;32mfrom\u001b[0m \u001b[0merr\u001b[0m\u001b[0;34m\u001b[0m\u001b[0;34m\u001b[0m\u001b[0m\n\u001b[0m\u001b[1;32m   3805\u001b[0m             \u001b[0;32mexcept\u001b[0m \u001b[0mTypeError\u001b[0m\u001b[0;34m:\u001b[0m\u001b[0;34m\u001b[0m\u001b[0;34m\u001b[0m\u001b[0m\n\u001b[1;32m   3806\u001b[0m                 \u001b[0;31m# If we have a listlike key, _check_indexing_error will raise\u001b[0m\u001b[0;34m\u001b[0m\u001b[0;34m\u001b[0m\u001b[0m\n",
            "\u001b[0;31mKeyError\u001b[0m: 'ROMol'"
          ]
        }
      ],
      "source": [
        "df['MW'] = df['ROMol'].map(Descriptors.MolWt)\n",
        "df['logP'] = df['ROMol'].map(Descriptors.MolLogP)"
      ],
      "metadata": {
        "id": "1xOsziX77GsZ",
        "colab": {
          "base_uri": "https://localhost:8080/",
          "height": 512
        },
        "outputId": "44aed952-6d8e-4d80-8d4b-1d14d52ec9ad"
      }
    },
    {
      "cell_type": "code",
      "execution_count": null,
      "outputs": [
        {
          "output_type": "display_data",
          "data": {
            "text/plain": [
              "<Figure size 640x480 with 1 Axes>"
            ],
            "image/png": "[encoded data removed]"
          },
          "metadata": {}
        }
      ],
      "source": [
        "df['MW'].hist(bins=100);"
      ],
      "metadata": {
        "id": "-ao6r-nl7GsZ",
        "outputId": "a8fe666d-b684-4a8a-a9de-b511de7af6da",
        "colab": {
          "base_uri": "https://localhost:8080/",
          "height": 430
        }
      }
    },
    {
      "cell_type": "code",
      "execution_count": null,
      "outputs": [
        {
          "output_type": "display_data",
          "data": {
            "text/plain": [
              "<Figure size 640x480 with 1 Axes>"
            ],
            "image/png": "[encoded data removed]"
          },
          "metadata": {}
        }
      ],
      "source": [
        "df['logP'].hist(bins=100);"
      ],
      "metadata": {
        "id": "3HvPs8PJ7Gsa",
        "outputId": "c8d9c56a-07eb-4a78-da19-f18a3217d643",
        "colab": {
          "base_uri": "https://localhost:8080/",
          "height": 430
        }
      }
    },
    {
      "cell_type": "code",
      "execution_count": null,
      "outputs": [
        {
          "output_type": "execute_result",
          "data": {
            "text/plain": [
              "                MW         logP\n",
              "count  2353.000000  2353.000000\n",
              "mean    410.152942     2.114375\n",
              "std     385.841092     3.613511\n",
              "min       4.003000   -35.810900\n",
              "25%     254.246000     0.821600\n",
              "50%     340.507000     2.562000\n",
              "75%     450.707000     4.002000\n",
              "max    7177.248000    55.892400"
            ],
            "text/html": [
              "\n",
              "  <div id=\"df-5da39fa2-0f5f-4fb5-b58f-17c0386fc589\" class=\"colab-df-container\">\n",
              "    <div>\n",
              "<style scoped>\n",
              "    .dataframe tbody tr th:only-of-type {\n",
              "        vertical-align: middle;\n",
              "    }\n",
              "\n",
              "    .dataframe tbody tr th {\n",
              "        vertical-align: top;\n",
              "    }\n",
              "\n",
              "    .dataframe thead th {\n",
              "        text-align: right;\n",
              "    }\n",
              "</style>\n",
              "<table border=\"1\" class=\"dataframe\">\n",
              "  <thead>\n",
              "    <tr style=\"text-align: right;\">\n",
              "      <th></th>\n",
              "      <th>MW</th>\n",
              "      <th>logP</th>\n",
              "    </tr>\n",
              "  </thead>\n",
              "  <tbody>\n",
              "    <tr>\n",
              "      <th>count</th>\n",
              "      <td>2353.000000</td>\n",
              "      <td>2353.000000</td>\n",
              "    </tr>\n",
              "    <tr>\n",
              "      <th>mean</th>\n",
              "      <td>410.152942</td>\n",
              "      <td>2.114375</td>\n",
              "    </tr>\n",
              "    <tr>\n",
              "      <th>std</th>\n",
              "      <td>385.841092</td>\n",
              "      <td>3.613511</td>\n",
              "    </tr>\n",
              "    <tr>\n",
              "      <th>min</th>\n",
              "      <td>4.003000</td>\n",
              "      <td>-35.810900</td>\n",
              "    </tr>\n",
              "    <tr>\n",
              "      <th>25%</th>\n",
              "      <td>254.246000</td>\n",
              "      <td>0.821600</td>\n",
              "    </tr>\n",
              "    <tr>\n",
              "      <th>50%</th>\n",
              "      <td>340.507000</td>\n",
              "      <td>2.562000</td>\n",
              "    </tr>\n",
              "    <tr>\n",
              "      <th>75%</th>\n",
              "      <td>450.707000</td>\n",
              "      <td>4.002000</td>\n",
              "    </tr>\n",
              "    <tr>\n",
              "      <th>max</th>\n",
              "      <td>7177.248000</td>\n",
              "      <td>55.892400</td>\n",
              "    </tr>\n",
              "  </tbody>\n",
              "</table>\n",
              "</div>\n",
              "    <div class=\"colab-df-buttons\">\n",
              "\n",
              "  <div class=\"colab-df-container\">\n",
              "    <button class=\"colab-df-convert\" onclick=\"convertToInteractive('df-5da39fa2-0f5f-4fb5-b58f-17c0386fc589')\"\n",
              "            title=\"Convert this dataframe to an interactive table.\"\n",
              "            style=\"display:none;\">\n",
              "\n",
              "  <svg xmlns=\"http://www.w3.org/2000/svg\" height=\"24px\" viewBox=\"0 -960 960 960\">\n",
              "    <path d=\"M120-120v-720h720v720H120Zm60-500h600v-160H180v160Zm220 220h160v-160H400v160Zm0 220h160v-160H400v160ZM180-400h160v-160H180v160Zm440 0h160v-160H620v160ZM180-180h160v-160H180v160Zm440 0h160v-160H620v160Z\"/>\n",
              "  </svg>\n",
              "    </button>\n",
              "\n",
              "  <style>\n",
              "    .colab-df-container {\n",
              "      display:flex;\n",
              "      gap: 12px;\n",
              "    }\n",
              "\n",
              "    .colab-df-convert {\n",
              "      background-color: #E8F0FE;\n",
              "      border: none;\n",
              "      border-radius: 50%;\n",
              "      cursor: pointer;\n",
              "      display: none;\n",
              "      fill: #1967D2;\n",
              "      height: 32px;\n",
              "      padding: 0 0 0 0;\n",
              "      width: 32px;\n",
              "    }\n",
              "\n",
              "    .colab-df-convert:hover {\n",
              "      background-color: #E2EBFA;\n",
              "      box-shadow: 0px 1px 2px rgba(60, 64, 67, 0.3), 0px 1px 3px 1px rgba(60, 64, 67, 0.15);\n",
              "      fill: #174EA6;\n",
              "    }\n",
              "\n",
              "    .colab-df-buttons div {\n",
              "      margin-bottom: 4px;\n",
              "    }\n",
              "\n",
              "    [theme=dark] .colab-df-convert {\n",
              "      background-color: #3B4455;\n",
              "      fill: #D2E3FC;\n",
              "    }\n",
              "\n",
              "    [theme=dark] .colab-df-convert:hover {\n",
              "      background-color: #434B5C;\n",
              "      box-shadow: 0px 1px 3px 1px rgba(0, 0, 0, 0.15);\n",
              "      filter: drop-shadow(0px 1px 2px rgba(0, 0, 0, 0.3));\n",
              "      fill: #FFFFFF;\n",
              "    }\n",
              "  </style>\n",
              "\n",
              "    <script>\n",
              "      const buttonEl =\n",
              "        document.querySelector('#df-5da39fa2-0f5f-4fb5-b58f-17c0386fc589 button.colab-df-convert');\n",
              "      buttonEl.style.display =\n",
              "        google.colab.kernel.accessAllowed ? 'block' : 'none';\n",
              "\n",
              "      async function convertToInteractive(key) {\n",
              "        const element = document.querySelector('#df-5da39fa2-0f5f-4fb5-b58f-17c0386fc589');\n",
              "        const dataTable =\n",
              "          await google.colab.kernel.invokeFunction('convertToInteractive',\n",
              "                                                    [key], {});\n",
              "        if (!dataTable) return;\n",
              "\n",
              "        const docLinkHtml = 'Like what you see? Visit the ' +\n",
              "          '<a target=\"_blank\" href=https://colab.research.google.com/notebooks/data_table.ipynb>data table notebook</a>'\n",
              "          + ' to learn more about interactive tables.';\n",
              "        element.innerHTML = '';\n",
              "        dataTable['output_type'] = 'display_data';\n",
              "        await google.colab.output.renderOutput(dataTable, element);\n",
              "        const docLink = document.createElement('div');\n",
              "        docLink.innerHTML = docLinkHtml;\n",
              "        element.appendChild(docLink);\n",
              "      }\n",
              "    </script>\n",
              "  </div>\n",
              "\n",
              "\n",
              "<div id=\"df-5d88cdac-9b39-4f50-8382-a336a8503b92\">\n",
              "  <button class=\"colab-df-quickchart\" onclick=\"quickchart('df-5d88cdac-9b39-4f50-8382-a336a8503b92')\"\n",
              "            title=\"Suggest charts\"\n",
              "            style=\"display:none;\">\n",
              "\n",
              "<svg xmlns=\"http://www.w3.org/2000/svg\" height=\"24px\"viewBox=\"0 0 24 24\"\n",
              "     width=\"24px\">\n",
              "    <g>\n",
              "        <path d=\"M19 3H5c-1.1 0-2 .9-2 2v14c0 1.1.9 2 2 2h14c1.1 0 2-.9 2-2V5c0-1.1-.9-2-2-2zM9 17H7v-7h2v7zm4 0h-2V7h2v10zm4 0h-2v-4h2v4z\"/>\n",
              "    </g>\n",
              "</svg>\n",
              "  </button>\n",
              "\n",
              "<style>\n",
              "  .colab-df-quickchart {\n",
              "      --bg-color: #E8F0FE;\n",
              "      --fill-color: #1967D2;\n",
              "      --hover-bg-color: #E2EBFA;\n",
              "      --hover-fill-color: #174EA6;\n",
              "      --disabled-fill-color: #AAA;\n",
              "      --disabled-bg-color: #DDD;\n",
              "  }\n",
              "\n",
              "  [theme=dark] .colab-df-quickchart {\n",
              "      --bg-color: #3B4455;\n",
              "      --fill-color: #D2E3FC;\n",
              "      --hover-bg-color: #434B5C;\n",
              "      --hover-fill-color: #FFFFFF;\n",
              "      --disabled-bg-color: #3B4455;\n",
              "      --disabled-fill-color: #666;\n",
              "  }\n",
              "\n",
              "  .colab-df-quickchart {\n",
              "    background-color: var(--bg-color);\n",
              "    border: none;\n",
              "    border-radius: 50%;\n",
              "    cursor: pointer;\n",
              "    display: none;\n",
              "    fill: var(--fill-color);\n",
              "    height: 32px;\n",
              "    padding: 0;\n",
              "    width: 32px;\n",
              "  }\n",
              "\n",
              "  .colab-df-quickchart:hover {\n",
              "    background-color: var(--hover-bg-color);\n",
              "    box-shadow: 0 1px 2px rgba(60, 64, 67, 0.3), 0 1px 3px 1px rgba(60, 64, 67, 0.15);\n",
              "    fill: var(--button-hover-fill-color);\n",
              "  }\n",
              "\n",
              "  .colab-df-quickchart-complete:disabled,\n",
              "  .colab-df-quickchart-complete:disabled:hover {\n",
              "    background-color: var(--disabled-bg-color);\n",
              "    fill: var(--disabled-fill-color);\n",
              "    box-shadow: none;\n",
              "  }\n",
              "\n",
              "  .colab-df-spinner {\n",
              "    border: 2px solid var(--fill-color);\n",
              "    border-color: transparent;\n",
              "    border-bottom-color: var(--fill-color);\n",
              "    animation:\n",
              "      spin 1s steps(1) infinite;\n",
              "  }\n",
              "\n",
              "  @keyframes spin {\n",
              "    0% {\n",
              "      border-color: transparent;\n",
              "      border-bottom-color: var(--fill-color);\n",
              "      border-left-color: var(--fill-color);\n",
              "    }\n",
              "    20% {\n",
              "      border-color: transparent;\n",
              "      border-left-color: var(--fill-color);\n",
              "      border-top-color: var(--fill-color);\n",
              "    }\n",
              "    30% {\n",
              "      border-color: transparent;\n",
              "      border-left-color: var(--fill-color);\n",
              "      border-top-color: var(--fill-color);\n",
              "      border-right-color: var(--fill-color);\n",
              "    }\n",
              "    40% {\n",
              "      border-color: transparent;\n",
              "      border-right-color: var(--fill-color);\n",
              "      border-top-color: var(--fill-color);\n",
              "    }\n",
              "    60% {\n",
              "      border-color: transparent;\n",
              "      border-right-color: var(--fill-color);\n",
              "    }\n",
              "    80% {\n",
              "      border-color: transparent;\n",
              "      border-right-color: var(--fill-color);\n",
              "      border-bottom-color: var(--fill-color);\n",
              "    }\n",
              "    90% {\n",
              "      border-color: transparent;\n",
              "      border-bottom-color: var(--fill-color);\n",
              "    }\n",
              "  }\n",
              "</style>\n",
              "\n",
              "  <script>\n",
              "    async function quickchart(key) {\n",
              "      const quickchartButtonEl =\n",
              "        document.querySelector('#' + key + ' button');\n",
              "      quickchartButtonEl.disabled = true;  // To prevent multiple clicks.\n",
              "      quickchartButtonEl.classList.add('colab-df-spinner');\n",
              "      try {\n",
              "        const charts = await google.colab.kernel.invokeFunction(\n",
              "            'suggestCharts', [key], {});\n",
              "      } catch (error) {\n",
              "        console.error('Error during call to suggestCharts:', error);\n",
              "      }\n",
              "      quickchartButtonEl.classList.remove('colab-df-spinner');\n",
              "      quickchartButtonEl.classList.add('colab-df-quickchart-complete');\n",
              "    }\n",
              "    (() => {\n",
              "      let quickchartButtonEl =\n",
              "        document.querySelector('#df-5d88cdac-9b39-4f50-8382-a336a8503b92 button');\n",
              "      quickchartButtonEl.style.display =\n",
              "        google.colab.kernel.accessAllowed ? 'block' : 'none';\n",
              "    })();\n",
              "  </script>\n",
              "</div>\n",
              "    </div>\n",
              "  </div>\n"
            ]
          },
          "metadata": {},
          "execution_count": 86
        }
      ],
      "source": [
        "df[['MW', 'logP']].describe()"
      ],
      "metadata": {
        "id": "HH1a2kZr7Gsa",
        "outputId": "4a3dc06a-4db8-40b3-e332-2dfecf2e3c6a",
        "colab": {
          "base_uri": "https://localhost:8080/",
          "height": 300
        }
      }
    },
    {
      "cell_type": "markdown",
      "source": [
        "Do a substructure search on a dataframe"
      ],
      "metadata": {
        "collapsed": false,
        "id": "u3gFHyTp7Gsa"
      }
    },
    {
      "cell_type": "code",
      "execution_count": null,
      "outputs": [
        {
          "output_type": "execute_result",
          "data": {
            "text/plain": [
              "<rdkit.Chem.rdchem.Mol at 0x7a3a8d62d310>"
            ],
            "image/png": "[encoded data removed]"
          },
          "metadata": {},
          "execution_count": 87
        }
      ],
      "source": [
        "query = Chem.MolFromSmarts('Nc1ccc(S(=O)(=O)-[*])cc1')\n",
        "query"
      ],
      "metadata": {
        "id": "5DUwMNjy7Gsa",
        "outputId": "9c03a26b-bfb2-45e5-cf2f-4169c08d34c6",
        "colab": {
          "base_uri": "https://localhost:8080/",
          "height": 167
        }
      }
    },
    {
      "cell_type": "markdown",
      "source": [
        "Notice that unspecified bonds in the SMARTS are \"single or aromatic\" queries. We could make this query a bit more specific:"
      ],
      "metadata": {
        "collapsed": false,
        "id": "fRXXou6r7Gsa"
      }
    },
    {
      "cell_type": "code",
      "execution_count": null,
      "outputs": [
        {
          "output_type": "execute_result",
          "data": {
            "text/plain": [
              "<rdkit.Chem.rdchem.Mol at 0x7a3a8d62d930>"
            ],
            "image/png": "[encoded data removed]"
          },
          "metadata": {},
          "execution_count": 88
        }
      ],
      "source": [
        "query = Chem.MolFromSmarts('N-c1ccc(-S(=O)(=O)-[*])cc1')\n",
        "query"
      ],
      "metadata": {
        "id": "upwQ7fhF7Gsa",
        "outputId": "01ba61a6-e47f-42af-c65c-f57ecab88dd6",
        "colab": {
          "base_uri": "https://localhost:8080/",
          "height": 167
        }
      }
    },
    {
      "cell_type": "markdown",
      "source": [
        "We do a substruture search by using the operator `>=` on a molecule column.\n",
        "\n",
        "Here's an example where we do the search and count the number of matching rows:"
      ],
      "metadata": {
        "collapsed": false,
        "id": "0s5dbc507Gsa"
      }
    },
    {
      "cell_type": "code",
      "execution_count": null,
      "metadata": {
        "scrolled": true,
        "id": "HYZd1Cpy7Gsa",
        "outputId": "2f68d2b3-db23-40aa-ae74-04d929547e87",
        "colab": {
          "base_uri": "https://localhost:8080/"
        }
      },
      "outputs": [
        {
          "output_type": "execute_result",
          "data": {
            "text/plain": [
              "47"
            ]
          },
          "metadata": {},
          "execution_count": 89
        }
      ],
      "source": [
        "len(df[df['ROMol'] >= query])"
      ]
    },
    {
      "cell_type": "markdown",
      "metadata": {
        "id": "PgEsfgGn7Gsa"
      },
      "source": [
        "RDKit by defaults highlights the matched substructures"
      ]
    },
    {
      "cell_type": "code",
      "execution_count": null,
      "metadata": {
        "id": "VzbBkfry7Gsb",
        "outputId": "4833f777-9f72-4361-bf1f-76b7d7fcccf5",
        "colab": {
          "base_uri": "https://localhost:8080/",
          "height": 293
        }
      },
      "outputs": [
        {
          "output_type": "execute_result",
          "data": {
            "text/plain": [
              "                                               Synonyms  \\\n",
              "3504                                                NaN   \n",
              "5591  NSC-66454|NSC-683525|PHTHALYLSULFATHIAZOLE|PHT...   \n",
              "5622  EUVERNIL|N-SULFANILYLCARBAMIDE|NSC-78438|SULFA...   \n",
              "5796  GPPE SUSP FTE|GUANIMYCIN|NSC-14041|SULFAGUANID...   \n",
              "6384  ANILINE-P-SULFONIC AMIDE|NSC-7618|P-AMINOBENZE...   \n",
              "\n",
              "                                                 ROMol  \n",
              "3504  <rdkit.Chem.rdchem.Mol object at 0x7a3a94104cf0>  \n",
              "5591  <rdkit.Chem.rdchem.Mol object at 0x7a3a94105fc0>  \n",
              "5622  <rdkit.Chem.rdchem.Mol object at 0x7a3a941063b0>  \n",
              "5796  <rdkit.Chem.rdchem.Mol object at 0x7a3a94106f10>  \n",
              "6384  <rdkit.Chem.rdchem.Mol object at 0x7a3a94107840>  "
            ],
            "text/html": [
              "\n",
              "  <div id=\"df-2145bb35-3a5a-4cce-ad8d-73f0c88a02e9\" class=\"colab-df-container\">\n",
              "    <div>\n",
              "<style scoped>\n",
              "    .dataframe tbody tr th:only-of-type {\n",
              "        vertical-align: middle;\n",
              "    }\n",
              "\n",
              "    .dataframe tbody tr th {\n",
              "        vertical-align: top;\n",
              "    }\n",
              "\n",
              "    .dataframe thead th {\n",
              "        text-align: right;\n",
              "    }\n",
              "</style>\n",
              "<table border=\"1\" class=\"dataframe\">\n",
              "  <thead>\n",
              "    <tr style=\"text-align: right;\">\n",
              "      <th></th>\n",
              "      <th>Synonyms</th>\n",
              "      <th>ROMol</th>\n",
              "    </tr>\n",
              "  </thead>\n",
              "  <tbody>\n",
              "    <tr>\n",
              "      <th>3504</th>\n",
              "      <td>NaN</td>\n",
              "      <td>&lt;rdkit.Chem.rdchem.Mol object at 0x7a3a94104cf0&gt;</td>\n",
              "    </tr>\n",
              "    <tr>\n",
              "      <th>5591</th>\n",
              "      <td>NSC-66454|NSC-683525|PHTHALYLSULFATHIAZOLE|PHT...</td>\n",
              "      <td>&lt;rdkit.Chem.rdchem.Mol object at 0x7a3a94105fc0&gt;</td>\n",
              "    </tr>\n",
              "    <tr>\n",
              "      <th>5622</th>\n",
              "      <td>EUVERNIL|N-SULFANILYLCARBAMIDE|NSC-78438|SULFA...</td>\n",
              "      <td>&lt;rdkit.Chem.rdchem.Mol object at 0x7a3a941063b0&gt;</td>\n",
              "    </tr>\n",
              "    <tr>\n",
              "      <th>5796</th>\n",
              "      <td>GPPE SUSP FTE|GUANIMYCIN|NSC-14041|SULFAGUANID...</td>\n",
              "      <td>&lt;rdkit.Chem.rdchem.Mol object at 0x7a3a94106f10&gt;</td>\n",
              "    </tr>\n",
              "    <tr>\n",
              "      <th>6384</th>\n",
              "      <td>ANILINE-P-SULFONIC AMIDE|NSC-7618|P-AMINOBENZE...</td>\n",
              "      <td>&lt;rdkit.Chem.rdchem.Mol object at 0x7a3a94107840&gt;</td>\n",
              "    </tr>\n",
              "  </tbody>\n",
              "</table>\n",
              "</div>\n",
              "    <div class=\"colab-df-buttons\">\n",
              "\n",
              "  <div class=\"colab-df-container\">\n",
              "    <button class=\"colab-df-convert\" onclick=\"convertToInteractive('df-2145bb35-3a5a-4cce-ad8d-73f0c88a02e9')\"\n",
              "            title=\"Convert this dataframe to an interactive table.\"\n",
              "            style=\"display:none;\">\n",
              "\n",
              "  <svg xmlns=\"http://www.w3.org/2000/svg\" height=\"24px\" viewBox=\"0 -960 960 960\">\n",
              "    <path d=\"M120-120v-720h720v720H120Zm60-500h600v-160H180v160Zm220 220h160v-160H400v160Zm0 220h160v-160H400v160ZM180-400h160v-160H180v160Zm440 0h160v-160H620v160ZM180-180h160v-160H180v160Zm440 0h160v-160H620v160Z\"/>\n",
              "  </svg>\n",
              "    </button>\n",
              "\n",
              "  <style>\n",
              "    .colab-df-container {\n",
              "      display:flex;\n",
              "      gap: 12px;\n",
              "    }\n",
              "\n",
              "    .colab-df-convert {\n",
              "      background-color: #E8F0FE;\n",
              "      border: none;\n",
              "      border-radius: 50%;\n",
              "      cursor: pointer;\n",
              "      display: none;\n",
              "      fill: #1967D2;\n",
              "      height: 32px;\n",
              "      padding: 0 0 0 0;\n",
              "      width: 32px;\n",
              "    }\n",
              "\n",
              "    .colab-df-convert:hover {\n",
              "      background-color: #E2EBFA;\n",
              "      box-shadow: 0px 1px 2px rgba(60, 64, 67, 0.3), 0px 1px 3px 1px rgba(60, 64, 67, 0.15);\n",
              "      fill: #174EA6;\n",
              "    }\n",
              "\n",
              "    .colab-df-buttons div {\n",
              "      margin-bottom: 4px;\n",
              "    }\n",
              "\n",
              "    [theme=dark] .colab-df-convert {\n",
              "      background-color: #3B4455;\n",
              "      fill: #D2E3FC;\n",
              "    }\n",
              "\n",
              "    [theme=dark] .colab-df-convert:hover {\n",
              "      background-color: #434B5C;\n",
              "      box-shadow: 0px 1px 3px 1px rgba(0, 0, 0, 0.15);\n",
              "      filter: drop-shadow(0px 1px 2px rgba(0, 0, 0, 0.3));\n",
              "      fill: #FFFFFF;\n",
              "    }\n",
              "  </style>\n",
              "\n",
              "    <script>\n",
              "      const buttonEl =\n",
              "        document.querySelector('#df-2145bb35-3a5a-4cce-ad8d-73f0c88a02e9 button.colab-df-convert');\n",
              "      buttonEl.style.display =\n",
              "        google.colab.kernel.accessAllowed ? 'block' : 'none';\n",
              "\n",
              "      async function convertToInteractive(key) {\n",
              "        const element = document.querySelector('#df-2145bb35-3a5a-4cce-ad8d-73f0c88a02e9');\n",
              "        const dataTable =\n",
              "          await google.colab.kernel.invokeFunction('convertToInteractive',\n",
              "                                                    [key], {});\n",
              "        if (!dataTable) return;\n",
              "\n",
              "        const docLinkHtml = 'Like what you see? Visit the ' +\n",
              "          '<a target=\"_blank\" href=https://colab.research.google.com/notebooks/data_table.ipynb>data table notebook</a>'\n",
              "          + ' to learn more about interactive tables.';\n",
              "        element.innerHTML = '';\n",
              "        dataTable['output_type'] = 'display_data';\n",
              "        await google.colab.output.renderOutput(dataTable, element);\n",
              "        const docLink = document.createElement('div');\n",
              "        docLink.innerHTML = docLinkHtml;\n",
              "        element.appendChild(docLink);\n",
              "      }\n",
              "    </script>\n",
              "  </div>\n",
              "\n",
              "\n",
              "<div id=\"df-549fb9b0-0bf7-464f-9104-c812b10a2b92\">\n",
              "  <button class=\"colab-df-quickchart\" onclick=\"quickchart('df-549fb9b0-0bf7-464f-9104-c812b10a2b92')\"\n",
              "            title=\"Suggest charts\"\n",
              "            style=\"display:none;\">\n",
              "\n",
              "<svg xmlns=\"http://www.w3.org/2000/svg\" height=\"24px\"viewBox=\"0 0 24 24\"\n",
              "     width=\"24px\">\n",
              "    <g>\n",
              "        <path d=\"M19 3H5c-1.1 0-2 .9-2 2v14c0 1.1.9 2 2 2h14c1.1 0 2-.9 2-2V5c0-1.1-.9-2-2-2zM9 17H7v-7h2v7zm4 0h-2V7h2v10zm4 0h-2v-4h2v4z\"/>\n",
              "    </g>\n",
              "</svg>\n",
              "  </button>\n",
              "\n",
              "<style>\n",
              "  .colab-df-quickchart {\n",
              "      --bg-color: #E8F0FE;\n",
              "      --fill-color: #1967D2;\n",
              "      --hover-bg-color: #E2EBFA;\n",
              "      --hover-fill-color: #174EA6;\n",
              "      --disabled-fill-color: #AAA;\n",
              "      --disabled-bg-color: #DDD;\n",
              "  }\n",
              "\n",
              "  [theme=dark] .colab-df-quickchart {\n",
              "      --bg-color: #3B4455;\n",
              "      --fill-color: #D2E3FC;\n",
              "      --hover-bg-color: #434B5C;\n",
              "      --hover-fill-color: #FFFFFF;\n",
              "      --disabled-bg-color: #3B4455;\n",
              "      --disabled-fill-color: #666;\n",
              "  }\n",
              "\n",
              "  .colab-df-quickchart {\n",
              "    background-color: var(--bg-color);\n",
              "    border: none;\n",
              "    border-radius: 50%;\n",
              "    cursor: pointer;\n",
              "    display: none;\n",
              "    fill: var(--fill-color);\n",
              "    height: 32px;\n",
              "    padding: 0;\n",
              "    width: 32px;\n",
              "  }\n",
              "\n",
              "  .colab-df-quickchart:hover {\n",
              "    background-color: var(--hover-bg-color);\n",
              "    box-shadow: 0 1px 2px rgba(60, 64, 67, 0.3), 0 1px 3px 1px rgba(60, 64, 67, 0.15);\n",
              "    fill: var(--button-hover-fill-color);\n",
              "  }\n",
              "\n",
              "  .colab-df-quickchart-complete:disabled,\n",
              "  .colab-df-quickchart-complete:disabled:hover {\n",
              "    background-color: var(--disabled-bg-color);\n",
              "    fill: var(--disabled-fill-color);\n",
              "    box-shadow: none;\n",
              "  }\n",
              "\n",
              "  .colab-df-spinner {\n",
              "    border: 2px solid var(--fill-color);\n",
              "    border-color: transparent;\n",
              "    border-bottom-color: var(--fill-color);\n",
              "    animation:\n",
              "      spin 1s steps(1) infinite;\n",
              "  }\n",
              "\n",
              "  @keyframes spin {\n",
              "    0% {\n",
              "      border-color: transparent;\n",
              "      border-bottom-color: var(--fill-color);\n",
              "      border-left-color: var(--fill-color);\n",
              "    }\n",
              "    20% {\n",
              "      border-color: transparent;\n",
              "      border-left-color: var(--fill-color);\n",
              "      border-top-color: var(--fill-color);\n",
              "    }\n",
              "    30% {\n",
              "      border-color: transparent;\n",
              "      border-left-color: var(--fill-color);\n",
              "      border-top-color: var(--fill-color);\n",
              "      border-right-color: var(--fill-color);\n",
              "    }\n",
              "    40% {\n",
              "      border-color: transparent;\n",
              "      border-right-color: var(--fill-color);\n",
              "      border-top-color: var(--fill-color);\n",
              "    }\n",
              "    60% {\n",
              "      border-color: transparent;\n",
              "      border-right-color: var(--fill-color);\n",
              "    }\n",
              "    80% {\n",
              "      border-color: transparent;\n",
              "      border-right-color: var(--fill-color);\n",
              "      border-bottom-color: var(--fill-color);\n",
              "    }\n",
              "    90% {\n",
              "      border-color: transparent;\n",
              "      border-bottom-color: var(--fill-color);\n",
              "    }\n",
              "  }\n",
              "</style>\n",
              "\n",
              "  <script>\n",
              "    async function quickchart(key) {\n",
              "      const quickchartButtonEl =\n",
              "        document.querySelector('#' + key + ' button');\n",
              "      quickchartButtonEl.disabled = true;  // To prevent multiple clicks.\n",
              "      quickchartButtonEl.classList.add('colab-df-spinner');\n",
              "      try {\n",
              "        const charts = await google.colab.kernel.invokeFunction(\n",
              "            'suggestCharts', [key], {});\n",
              "      } catch (error) {\n",
              "        console.error('Error during call to suggestCharts:', error);\n",
              "      }\n",
              "      quickchartButtonEl.classList.remove('colab-df-spinner');\n",
              "      quickchartButtonEl.classList.add('colab-df-quickchart-complete');\n",
              "    }\n",
              "    (() => {\n",
              "      let quickchartButtonEl =\n",
              "        document.querySelector('#df-549fb9b0-0bf7-464f-9104-c812b10a2b92 button');\n",
              "      quickchartButtonEl.style.display =\n",
              "        google.colab.kernel.accessAllowed ? 'block' : 'none';\n",
              "    })();\n",
              "  </script>\n",
              "</div>\n",
              "    </div>\n",
              "  </div>\n"
            ]
          },
          "metadata": {},
          "execution_count": 90
        }
      ],
      "source": [
        "df[df['ROMol'] >= query][['Synonyms', 'ROMol']].head()"
      ]
    },
    {
      "cell_type": "markdown",
      "metadata": {
        "id": "wHTois6B7Gsb"
      },
      "source": [
        "Just display the matching molecules:"
      ]
    },
    {
      "cell_type": "code",
      "execution_count": null,
      "metadata": {
        "id": "-6CcJYlu7Gsb",
        "outputId": "2cb0ea31-ad89-4c9f-9732-360db5df9243",
        "colab": {
          "base_uri": "https://localhost:8080/",
          "height": 565
        }
      },
      "outputs": [
        {
          "output_type": "execute_result",
          "data": {
            "image/png": "[encoded data removed]",
            "text/plain": [
              "<IPython.core.display.Image object>"
            ]
          },
          "metadata": {},
          "execution_count": 91
        }
      ],
      "source": [
        "PandasTools.FrameToGridImage(df[df['ROMol'] >= query].head(12), legendsCol='name', molsPerRow=4)"
      ]
    },
    {
      "cell_type": "markdown",
      "metadata": {
        "id": "CPqXz1GH7Gsb"
      },
      "source": [
        "Save the table as SD file"
      ]
    },
    {
      "cell_type": "code",
      "execution_count": null,
      "metadata": {
        "id": "CsWzwKS37Gsb"
      },
      "outputs": [],
      "source": [
        "PandasTools.WriteSDF(df, 'approved_drugs.sdf', idName='Parent Molecule', properties=df.columns)"
      ]
    },
    {
      "cell_type": "markdown",
      "metadata": {
        "id": "PfT2eEtN7Gsb"
      },
      "source": [
        "RDKit Exercise:\n",
        "\n",
        "1. Create new subset of the dataframe with the following properties:\n",
        "- Use the file `new_chembl_drugs.txt.gz` as input\n",
        "\n",
        "```python\n",
        "new_df = pd.read_csv('new_chembl_drugs.txt.gz', sep=';')\n",
        "```\n",
        "\n",
        "- Make a selection of molecules that pass the Rule of Five (Rule of Five == 1)\n",
        "- Make a selection of molecules that are in at least Phase 3 (Phase >= 3)\n",
        "- Make a selection of all molecules that contain a benzene ring\n",
        "- Save the subset as a SDF file with the name `new_approved_drugs.sdf`\n",
        "\n",
        "2. With your new subset of molecules:\n",
        "- Describe the distribution of the molecular weight and logP.\n",
        "- Explain the difference between the distributions with the previous results.\n"
      ]
    },
    {
      "cell_type": "code",
      "source": [
        "import pandas as pd\n",
        "from rdkit import Chem\n",
        "from rdkit.Chem import PandasTools\n",
        "\n",
        "# Load the original DataFrame\n",
        "df = pd.read_csv('chembl_drugs.txt.gz', sep=';')\n",
        "\n",
        "# Create the new subset DataFrame (new_df) based on your criteria\n",
        "new_df = df[\n",
        "    (df['Passes Rule of Five'] == 1) &\n",
        "    (df['Phase'] >= 3) &\n",
        "    (~df['Smiles'].isna()) &  # Check for non-NaN values in 'Smiles'\n",
        "    (df['Smiles'].apply(lambda x: Chem.MolFromSmiles(x).HasSubstructMatch(Chem.MolFromSmiles('c1ccccc1')) if pd.notna(x) else False))\n",
        "]\n",
        "\n",
        "# Save the new subset as an SDF file\n",
        "PandasTools.AddMoleculeColumnToFrame(new_df, smilesCol='Smiles')\n",
        "new_df = new_df[~new_df['ROMol'].isnull()]\n",
        "PandasTools.WriteSDF(new_df, 'new_approved_drugs.sdf', idName='Parent Molecule', properties=new_df.columns)\n"
      ],
      "metadata": {
        "id": "hQTXVLrbD6Cg",
        "outputId": "2c0290a6-077d-42bc-eaa8-92cffefd7c06",
        "colab": {
          "base_uri": "https://localhost:8080/"
        }
      },
      "execution_count": null,
      "outputs": [
        {
          "output_type": "stream",
          "name": "stderr",
          "text": [
            "[19:58:24] WARNING: not removing hydrogen atom without neighbors\n",
            "[19:58:24] WARNING: not removing hydrogen atom without neighbors\n",
            "[19:58:24] WARNING: not removing hydrogen atom without neighbors\n",
            "[19:58:25] WARNING: not removing hydrogen atom without neighbors\n",
            "[19:58:25] WARNING: not removing hydrogen atom without neighbors\n",
            "[19:58:25] WARNING: not removing hydrogen atom without neighbors\n",
            "[19:58:25] WARNING: not removing hydrogen atom without neighbors\n",
            "/usr/local/lib/python3.10/dist-packages/rdkit/Chem/PandasTools.py:371: SettingWithCopyWarning: \n",
            "A value is trying to be set on a copy of a slice from a DataFrame.\n",
            "Try using .loc[row_indexer,col_indexer] = value instead\n",
            "\n",
            "See the caveats in the documentation: https://pandas.pydata.org/pandas-docs/stable/user_guide/indexing.html#returning-a-view-versus-a-copy\n",
            "  frame[molCol] = frame[smilesCol].map(Chem.MolFromSmiles)\n"
          ]
        }
      ]
    },
    {
      "cell_type": "code",
      "source": [
        "from rdkit import Chem\n",
        "from rdkit.Chem import Draw\n",
        "\n",
        "# Load the SDF file\n",
        "suppl = Chem.SDMolSupplier('new_approved_drugs.sdf')\n",
        "\n",
        "# Iterate through the molecules and display them\n",
        "for i, mol in enumerate(suppl):\n",
        "    if mol:\n",
        "        # Display the molecule\n",
        "        img = Draw.MolToImage(mol)\n",
        "        display(img)\n",
        "    # Stop after displaying the first 10 molecules\n",
        "    if i == 9:\n",
        "        break"
      ],
      "metadata": {
        "id": "SxbFWtfNGpET",
        "outputId": "3553ca66-6bb9-4145-ff3e-45d158c3c95b",
        "colab": {
          "base_uri": "https://localhost:8080/",
          "height": 1000
        }
      },
      "execution_count": null,
      "outputs": [
        {
          "output_type": "display_data",
          "data": {
            "text/plain": [
              "<PIL.PngImagePlugin.PngImageFile image mode=RGB size=300x300>"
            ],
            "image/png": "[encoded data removed]"
          },
          "metadata": {}
        },
        {
          "output_type": "display_data",
          "data": {
            "text/plain": [
              "<PIL.PngImagePlugin.PngImageFile image mode=RGB size=300x300>"
            ],
            "image/png": "[encoded data removed]"
          },
          "metadata": {}
        },
        {
          "output_type": "display_data",
          "data": {
            "text/plain": [
              "<PIL.PngImagePlugin.PngImageFile image mode=RGB size=300x300>"
            ],
            "image/png": "[encoded data removed]"
          },
          "metadata": {}
        },
        {
          "output_type": "display_data",
          "data": {
            "text/plain": [
              "<PIL.PngImagePlugin.PngImageFile image mode=RGB size=300x300>"
            ],
            "image/png": "[encoded data removed]"
          },
          "metadata": {}
        },
        {
          "output_type": "display_data",
          "data": {
            "text/plain": [
              "<PIL.PngImagePlugin.PngImageFile image mode=RGB size=300x300>"
            ],
            "image/png": "[encoded data removed]"
          },
          "metadata": {}
        },
        {
          "output_type": "display_data",
          "data": {
            "text/plain": [
              "<PIL.PngImagePlugin.PngImageFile image mode=RGB size=300x300>"
            ],
            "image/png": "[encoded data removed]"
          },
          "metadata": {}
        },
        {
          "output_type": "display_data",
          "data": {
            "text/plain": [
              "<PIL.PngImagePlugin.PngImageFile image mode=RGB size=300x300>"
            ],
            "image/png": "[encoded data removed]"
          },
          "metadata": {}
        },
        {
          "output_type": "display_data",
          "data": {
            "text/plain": [
              "<PIL.PngImagePlugin.PngImageFile image mode=RGB size=300x300>"
            ],
            "image/png": "[encoded data removed]"
          },
          "metadata": {}
        },
        {
          "output_type": "display_data",
          "data": {
            "text/plain": [
              "<PIL.PngImagePlugin.PngImageFile image mode=RGB size=300x300>"
            ],
            "image/png": "[encoded data removed]"
          },
          "metadata": {}
        },
        {
          "output_type": "display_data",
          "data": {
            "text/plain": [
              "<PIL.PngImagePlugin.PngImageFile image mode=RGB size=300x300>"
            ],
            "image/png": "[encoded data removed]"
          },
          "metadata": {}
        }
      ]
    },
    {
      "cell_type": "code",
      "source": [
        "from rdkit.Chem import Descriptors"
      ],
      "metadata": {
        "id": "CFmIwdfZJaUX"
      },
      "execution_count": null,
      "outputs": []
    },
    {
      "cell_type": "code",
      "source": [
        "df_new = PandasTools.LoadSDF(\"new_approved_drugs.sdf\")\n",
        "df_new.head()"
      ],
      "metadata": {
        "colab": {
          "base_uri": "https://localhost:8080/",
          "height": 620
        },
        "id": "P-zavGIaLOKs",
        "outputId": "c4201585-e9ef-4652-e5a3-b8a63b5342e7"
      },
      "execution_count": null,
      "outputs": [
        {
          "output_type": "stream",
          "name": "stderr",
          "text": [
            "[20:09:06] Warning: ambiguous stereochemistry - linear bond arrangement - at atom 3 ignored\n",
            "[20:09:06] Warning: ambiguous stereochemistry - linear bond arrangement - at atom 3 ignored\n",
            "[20:09:06] Warning: ambiguous stereochemistry - linear bond arrangement - at atom 3 ignored\n",
            "[20:09:06] Warning: ambiguous stereochemistry - overlapping neighbors  - at atom 21 ignored\n",
            "[20:09:06] Warning: ambiguous stereochemistry - zero final chiral volume - at atom 24 ignored\n",
            "[20:09:06] Warning: ambiguous stereochemistry - linear bond arrangement - at atom 9 ignored\n",
            "[20:09:06] Warning: ambiguous stereochemistry - linear bond arrangement - at atom 14 ignored\n",
            "[20:09:07] Warning: ambiguous stereochemistry - linear bond arrangement - at atom 7 ignored\n"
          ]
        },
        {
          "output_type": "execute_result",
          "data": {
            "text/plain": [
              "                Name                                           Synonyms  \\\n",
              "0  AMITRIPTYLINOXIDE  AMBIVALON|AMITRIPTYLINE OXIDE|AMITRIPTYLINE-N-...   \n",
              "1         PYROGALLOL                NSC-5035|PYROGALLIC ACID|PYROGALLOL   \n",
              "2       QUINESTRADOL       COLPOVIS|PENTOVIS|QUINESTRADIOL|QUINESTRADOL   \n",
              "3          LACHESINE                     LACHESINE CATION|LACHESINE ION   \n",
              "4       FLORQUINITAU                               FLORQUINITAU|MK-6240   \n",
              "\n",
              "  Research Codes Phase Drug Applicants        USAN Stem USAN Year  \\\n",
              "0        J9.621K   3.0             nan              nan       nan   \n",
              "1       NSC-5035   4.0             nan              nan       nan   \n",
              "2            nan   4.0             nan  '-adol; -estr-'       nan   \n",
              "3            nan   4.0             nan              nan       nan   \n",
              "4        MK-6240   3.0             nan              nan    2021.0   \n",
              "\n",
              "                                     USAN Definition  \\\n",
              "0                                                nan   \n",
              "1                                                nan   \n",
              "2  analgesics (mixed opiate receptor agonists/ant...   \n",
              "3                                                nan   \n",
              "4                                                nan   \n",
              "\n",
              "              USAN Stem - Substem First Approval  ...            Chirality  \\\n",
              "0                             nan            nan  ...     Achiral Molecule   \n",
              "1                             nan            nan  ...     Achiral Molecule   \n",
              "2  '-adol(-adol); -estr-(-estr-)'            nan  ...  Single Stereoisomer   \n",
              "3                             nan            nan  ...     Achiral Molecule   \n",
              "4                             nan            nan  ...     Achiral Molecule   \n",
              "\n",
              "  Prodrug Oral Parenteral Topical Black Box Availability Type  \\\n",
              "0       0    0          0       0         0           Unknown   \n",
              "1       0    0          0       0         0           Unknown   \n",
              "2       0    0          0       0         0           Unknown   \n",
              "3       0    0          0       0         0           Unknown   \n",
              "4       0    0          0       0         0           Unknown   \n",
              "\n",
              "                                              Smiles             ID  \\\n",
              "0            C[N+](C)([O-])CCC=C1c2ccccc2CCc2ccccc21      CHEMBL627   \n",
              "1                                      Oc1cccc(O)c1O   CHEMBL307145   \n",
              "2  C[C@]12CC[C@@H]3c4ccc(OC5CCCC5)cc4CC[C@H]3[C@@...  CHEMBL2107004   \n",
              "3         CC[N+](C)(C)CCOC(=O)C(O)(c1ccccc1)c1ccccc1  CHEMBL2110848   \n",
              "4                 Nc1c(F)ccc2cnc(-n3ccc4ccncc43)cc12  CHEMBL4804173   \n",
              "\n",
              "                                              ROMol  \n",
              "0  <rdkit.Chem.rdchem.Mol object at 0x7881cf17d930>  \n",
              "1  <rdkit.Chem.rdchem.Mol object at 0x7881cf01cba0>  \n",
              "2  <rdkit.Chem.rdchem.Mol object at 0x7881cf01d2a0>  \n",
              "3  <rdkit.Chem.rdchem.Mol object at 0x7881cf01cc80>  \n",
              "4  <rdkit.Chem.rdchem.Mol object at 0x7881cf01d310>  \n",
              "\n",
              "[5 rows x 30 columns]"
            ],
            "text/html": [
              "\n",
              "  <div id=\"df-8ce2cf48-7d8a-4944-afdb-7197171354a1\" class=\"colab-df-container\">\n",
              "    <div>\n",
              "<style scoped>\n",
              "    .dataframe tbody tr th:only-of-type {\n",
              "        vertical-align: middle;\n",
              "    }\n",
              "\n",
              "    .dataframe tbody tr th {\n",
              "        vertical-align: top;\n",
              "    }\n",
              "\n",
              "    .dataframe thead th {\n",
              "        text-align: right;\n",
              "    }\n",
              "</style>\n",
              "<table border=\"1\" class=\"dataframe\">\n",
              "  <thead>\n",
              "    <tr style=\"text-align: right;\">\n",
              "      <th></th>\n",
              "      <th>Name</th>\n",
              "      <th>Synonyms</th>\n",
              "      <th>Research Codes</th>\n",
              "      <th>Phase</th>\n",
              "      <th>Drug Applicants</th>\n",
              "      <th>USAN Stem</th>\n",
              "      <th>USAN Year</th>\n",
              "      <th>USAN Definition</th>\n",
              "      <th>USAN Stem - Substem</th>\n",
              "      <th>First Approval</th>\n",
              "      <th>...</th>\n",
              "      <th>Chirality</th>\n",
              "      <th>Prodrug</th>\n",
              "      <th>Oral</th>\n",
              "      <th>Parenteral</th>\n",
              "      <th>Topical</th>\n",
              "      <th>Black Box</th>\n",
              "      <th>Availability Type</th>\n",
              "      <th>Smiles</th>\n",
              "      <th>ID</th>\n",
              "      <th>ROMol</th>\n",
              "    </tr>\n",
              "  </thead>\n",
              "  <tbody>\n",
              "    <tr>\n",
              "      <th>0</th>\n",
              "      <td>AMITRIPTYLINOXIDE</td>\n",
              "      <td>AMBIVALON|AMITRIPTYLINE OXIDE|AMITRIPTYLINE-N-...</td>\n",
              "      <td>J9.621K</td>\n",
              "      <td>3.0</td>\n",
              "      <td>nan</td>\n",
              "      <td>nan</td>\n",
              "      <td>nan</td>\n",
              "      <td>nan</td>\n",
              "      <td>nan</td>\n",
              "      <td>nan</td>\n",
              "      <td>...</td>\n",
              "      <td>Achiral Molecule</td>\n",
              "      <td>0</td>\n",
              "      <td>0</td>\n",
              "      <td>0</td>\n",
              "      <td>0</td>\n",
              "      <td>0</td>\n",
              "      <td>Unknown</td>\n",
              "      <td>C[N+](C)([O-])CCC=C1c2ccccc2CCc2ccccc21</td>\n",
              "      <td>CHEMBL627</td>\n",
              "      <td>&lt;rdkit.Chem.rdchem.Mol object at 0x7881cf17d930&gt;</td>\n",
              "    </tr>\n",
              "    <tr>\n",
              "      <th>1</th>\n",
              "      <td>PYROGALLOL</td>\n",
              "      <td>NSC-5035|PYROGALLIC ACID|PYROGALLOL</td>\n",
              "      <td>NSC-5035</td>\n",
              "      <td>4.0</td>\n",
              "      <td>nan</td>\n",
              "      <td>nan</td>\n",
              "      <td>nan</td>\n",
              "      <td>nan</td>\n",
              "      <td>nan</td>\n",
              "      <td>nan</td>\n",
              "      <td>...</td>\n",
              "      <td>Achiral Molecule</td>\n",
              "      <td>0</td>\n",
              "      <td>0</td>\n",
              "      <td>0</td>\n",
              "      <td>0</td>\n",
              "      <td>0</td>\n",
              "      <td>Unknown</td>\n",
              "      <td>Oc1cccc(O)c1O</td>\n",
              "      <td>CHEMBL307145</td>\n",
              "      <td>&lt;rdkit.Chem.rdchem.Mol object at 0x7881cf01cba0&gt;</td>\n",
              "    </tr>\n",
              "    <tr>\n",
              "      <th>2</th>\n",
              "      <td>QUINESTRADOL</td>\n",
              "      <td>COLPOVIS|PENTOVIS|QUINESTRADIOL|QUINESTRADOL</td>\n",
              "      <td>nan</td>\n",
              "      <td>4.0</td>\n",
              "      <td>nan</td>\n",
              "      <td>'-adol; -estr-'</td>\n",
              "      <td>nan</td>\n",
              "      <td>analgesics (mixed opiate receptor agonists/ant...</td>\n",
              "      <td>'-adol(-adol); -estr-(-estr-)'</td>\n",
              "      <td>nan</td>\n",
              "      <td>...</td>\n",
              "      <td>Single Stereoisomer</td>\n",
              "      <td>0</td>\n",
              "      <td>0</td>\n",
              "      <td>0</td>\n",
              "      <td>0</td>\n",
              "      <td>0</td>\n",
              "      <td>Unknown</td>\n",
              "      <td>C[C@]12CC[C@@H]3c4ccc(OC5CCCC5)cc4CC[C@H]3[C@@...</td>\n",
              "      <td>CHEMBL2107004</td>\n",
              "      <td>&lt;rdkit.Chem.rdchem.Mol object at 0x7881cf01d2a0&gt;</td>\n",
              "    </tr>\n",
              "    <tr>\n",
              "      <th>3</th>\n",
              "      <td>LACHESINE</td>\n",
              "      <td>LACHESINE CATION|LACHESINE ION</td>\n",
              "      <td>nan</td>\n",
              "      <td>4.0</td>\n",
              "      <td>nan</td>\n",
              "      <td>nan</td>\n",
              "      <td>nan</td>\n",
              "      <td>nan</td>\n",
              "      <td>nan</td>\n",
              "      <td>nan</td>\n",
              "      <td>...</td>\n",
              "      <td>Achiral Molecule</td>\n",
              "      <td>0</td>\n",
              "      <td>0</td>\n",
              "      <td>0</td>\n",
              "      <td>0</td>\n",
              "      <td>0</td>\n",
              "      <td>Unknown</td>\n",
              "      <td>CC[N+](C)(C)CCOC(=O)C(O)(c1ccccc1)c1ccccc1</td>\n",
              "      <td>CHEMBL2110848</td>\n",
              "      <td>&lt;rdkit.Chem.rdchem.Mol object at 0x7881cf01cc80&gt;</td>\n",
              "    </tr>\n",
              "    <tr>\n",
              "      <th>4</th>\n",
              "      <td>FLORQUINITAU</td>\n",
              "      <td>FLORQUINITAU|MK-6240</td>\n",
              "      <td>MK-6240</td>\n",
              "      <td>3.0</td>\n",
              "      <td>nan</td>\n",
              "      <td>nan</td>\n",
              "      <td>2021.0</td>\n",
              "      <td>nan</td>\n",
              "      <td>nan</td>\n",
              "      <td>nan</td>\n",
              "      <td>...</td>\n",
              "      <td>Achiral Molecule</td>\n",
              "      <td>0</td>\n",
              "      <td>0</td>\n",
              "      <td>0</td>\n",
              "      <td>0</td>\n",
              "      <td>0</td>\n",
              "      <td>Unknown</td>\n",
              "      <td>Nc1c(F)ccc2cnc(-n3ccc4ccncc43)cc12</td>\n",
              "      <td>CHEMBL4804173</td>\n",
              "      <td>&lt;rdkit.Chem.rdchem.Mol object at 0x7881cf01d310&gt;</td>\n",
              "    </tr>\n",
              "  </tbody>\n",
              "</table>\n",
              "<p>5 rows × 30 columns</p>\n",
              "</div>\n",
              "    <div class=\"colab-df-buttons\">\n",
              "\n",
              "  <div class=\"colab-df-container\">\n",
              "    <button class=\"colab-df-convert\" onclick=\"convertToInteractive('df-8ce2cf48-7d8a-4944-afdb-7197171354a1')\"\n",
              "            title=\"Convert this dataframe to an interactive table.\"\n",
              "            style=\"display:none;\">\n",
              "\n",
              "  <svg xmlns=\"http://www.w3.org/2000/svg\" height=\"24px\" viewBox=\"0 -960 960 960\">\n",
              "    <path d=\"M120-120v-720h720v720H120Zm60-500h600v-160H180v160Zm220 220h160v-160H400v160Zm0 220h160v-160H400v160ZM180-400h160v-160H180v160Zm440 0h160v-160H620v160ZM180-180h160v-160H180v160Zm440 0h160v-160H620v160Z\"/>\n",
              "  </svg>\n",
              "    </button>\n",
              "\n",
              "  <style>\n",
              "    .colab-df-container {\n",
              "      display:flex;\n",
              "      gap: 12px;\n",
              "    }\n",
              "\n",
              "    .colab-df-convert {\n",
              "      background-color: #E8F0FE;\n",
              "      border: none;\n",
              "      border-radius: 50%;\n",
              "      cursor: pointer;\n",
              "      display: none;\n",
              "      fill: #1967D2;\n",
              "      height: 32px;\n",
              "      padding: 0 0 0 0;\n",
              "      width: 32px;\n",
              "    }\n",
              "\n",
              "    .colab-df-convert:hover {\n",
              "      background-color: #E2EBFA;\n",
              "      box-shadow: 0px 1px 2px rgba(60, 64, 67, 0.3), 0px 1px 3px 1px rgba(60, 64, 67, 0.15);\n",
              "      fill: #174EA6;\n",
              "    }\n",
              "\n",
              "    .colab-df-buttons div {\n",
              "      margin-bottom: 4px;\n",
              "    }\n",
              "\n",
              "    [theme=dark] .colab-df-convert {\n",
              "      background-color: #3B4455;\n",
              "      fill: #D2E3FC;\n",
              "    }\n",
              "\n",
              "    [theme=dark] .colab-df-convert:hover {\n",
              "      background-color: #434B5C;\n",
              "      box-shadow: 0px 1px 3px 1px rgba(0, 0, 0, 0.15);\n",
              "      filter: drop-shadow(0px 1px 2px rgba(0, 0, 0, 0.3));\n",
              "      fill: #FFFFFF;\n",
              "    }\n",
              "  </style>\n",
              "\n",
              "    <script>\n",
              "      const buttonEl =\n",
              "        document.querySelector('#df-8ce2cf48-7d8a-4944-afdb-7197171354a1 button.colab-df-convert');\n",
              "      buttonEl.style.display =\n",
              "        google.colab.kernel.accessAllowed ? 'block' : 'none';\n",
              "\n",
              "      async function convertToInteractive(key) {\n",
              "        const element = document.querySelector('#df-8ce2cf48-7d8a-4944-afdb-7197171354a1');\n",
              "        const dataTable =\n",
              "          await google.colab.kernel.invokeFunction('convertToInteractive',\n",
              "                                                    [key], {});\n",
              "        if (!dataTable) return;\n",
              "\n",
              "        const docLinkHtml = 'Like what you see? Visit the ' +\n",
              "          '<a target=\"_blank\" href=https://colab.research.google.com/notebooks/data_table.ipynb>data table notebook</a>'\n",
              "          + ' to learn more about interactive tables.';\n",
              "        element.innerHTML = '';\n",
              "        dataTable['output_type'] = 'display_data';\n",
              "        await google.colab.output.renderOutput(dataTable, element);\n",
              "        const docLink = document.createElement('div');\n",
              "        docLink.innerHTML = docLinkHtml;\n",
              "        element.appendChild(docLink);\n",
              "      }\n",
              "    </script>\n",
              "  </div>\n",
              "\n",
              "\n",
              "<div id=\"df-7466d6cc-e366-46c2-8806-06abecd11579\">\n",
              "  <button class=\"colab-df-quickchart\" onclick=\"quickchart('df-7466d6cc-e366-46c2-8806-06abecd11579')\"\n",
              "            title=\"Suggest charts\"\n",
              "            style=\"display:none;\">\n",
              "\n",
              "<svg xmlns=\"http://www.w3.org/2000/svg\" height=\"24px\"viewBox=\"0 0 24 24\"\n",
              "     width=\"24px\">\n",
              "    <g>\n",
              "        <path d=\"M19 3H5c-1.1 0-2 .9-2 2v14c0 1.1.9 2 2 2h14c1.1 0 2-.9 2-2V5c0-1.1-.9-2-2-2zM9 17H7v-7h2v7zm4 0h-2V7h2v10zm4 0h-2v-4h2v4z\"/>\n",
              "    </g>\n",
              "</svg>\n",
              "  </button>\n",
              "\n",
              "<style>\n",
              "  .colab-df-quickchart {\n",
              "      --bg-color: #E8F0FE;\n",
              "      --fill-color: #1967D2;\n",
              "      --hover-bg-color: #E2EBFA;\n",
              "      --hover-fill-color: #174EA6;\n",
              "      --disabled-fill-color: #AAA;\n",
              "      --disabled-bg-color: #DDD;\n",
              "  }\n",
              "\n",
              "  [theme=dark] .colab-df-quickchart {\n",
              "      --bg-color: #3B4455;\n",
              "      --fill-color: #D2E3FC;\n",
              "      --hover-bg-color: #434B5C;\n",
              "      --hover-fill-color: #FFFFFF;\n",
              "      --disabled-bg-color: #3B4455;\n",
              "      --disabled-fill-color: #666;\n",
              "  }\n",
              "\n",
              "  .colab-df-quickchart {\n",
              "    background-color: var(--bg-color);\n",
              "    border: none;\n",
              "    border-radius: 50%;\n",
              "    cursor: pointer;\n",
              "    display: none;\n",
              "    fill: var(--fill-color);\n",
              "    height: 32px;\n",
              "    padding: 0;\n",
              "    width: 32px;\n",
              "  }\n",
              "\n",
              "  .colab-df-quickchart:hover {\n",
              "    background-color: var(--hover-bg-color);\n",
              "    box-shadow: 0 1px 2px rgba(60, 64, 67, 0.3), 0 1px 3px 1px rgba(60, 64, 67, 0.15);\n",
              "    fill: var(--button-hover-fill-color);\n",
              "  }\n",
              "\n",
              "  .colab-df-quickchart-complete:disabled,\n",
              "  .colab-df-quickchart-complete:disabled:hover {\n",
              "    background-color: var(--disabled-bg-color);\n",
              "    fill: var(--disabled-fill-color);\n",
              "    box-shadow: none;\n",
              "  }\n",
              "\n",
              "  .colab-df-spinner {\n",
              "    border: 2px solid var(--fill-color);\n",
              "    border-color: transparent;\n",
              "    border-bottom-color: var(--fill-color);\n",
              "    animation:\n",
              "      spin 1s steps(1) infinite;\n",
              "  }\n",
              "\n",
              "  @keyframes spin {\n",
              "    0% {\n",
              "      border-color: transparent;\n",
              "      border-bottom-color: var(--fill-color);\n",
              "      border-left-color: var(--fill-color);\n",
              "    }\n",
              "    20% {\n",
              "      border-color: transparent;\n",
              "      border-left-color: var(--fill-color);\n",
              "      border-top-color: var(--fill-color);\n",
              "    }\n",
              "    30% {\n",
              "      border-color: transparent;\n",
              "      border-left-color: var(--fill-color);\n",
              "      border-top-color: var(--fill-color);\n",
              "      border-right-color: var(--fill-color);\n",
              "    }\n",
              "    40% {\n",
              "      border-color: transparent;\n",
              "      border-right-color: var(--fill-color);\n",
              "      border-top-color: var(--fill-color);\n",
              "    }\n",
              "    60% {\n",
              "      border-color: transparent;\n",
              "      border-right-color: var(--fill-color);\n",
              "    }\n",
              "    80% {\n",
              "      border-color: transparent;\n",
              "      border-right-color: var(--fill-color);\n",
              "      border-bottom-color: var(--fill-color);\n",
              "    }\n",
              "    90% {\n",
              "      border-color: transparent;\n",
              "      border-bottom-color: var(--fill-color);\n",
              "    }\n",
              "  }\n",
              "</style>\n",
              "\n",
              "  <script>\n",
              "    async function quickchart(key) {\n",
              "      const quickchartButtonEl =\n",
              "        document.querySelector('#' + key + ' button');\n",
              "      quickchartButtonEl.disabled = true;  // To prevent multiple clicks.\n",
              "      quickchartButtonEl.classList.add('colab-df-spinner');\n",
              "      try {\n",
              "        const charts = await google.colab.kernel.invokeFunction(\n",
              "            'suggestCharts', [key], {});\n",
              "      } catch (error) {\n",
              "        console.error('Error during call to suggestCharts:', error);\n",
              "      }\n",
              "      quickchartButtonEl.classList.remove('colab-df-spinner');\n",
              "      quickchartButtonEl.classList.add('colab-df-quickchart-complete');\n",
              "    }\n",
              "    (() => {\n",
              "      let quickchartButtonEl =\n",
              "        document.querySelector('#df-7466d6cc-e366-46c2-8806-06abecd11579 button');\n",
              "      quickchartButtonEl.style.display =\n",
              "        google.colab.kernel.accessAllowed ? 'block' : 'none';\n",
              "    })();\n",
              "  </script>\n",
              "</div>\n",
              "    </div>\n",
              "  </div>\n"
            ]
          },
          "metadata": {},
          "execution_count": 26
        }
      ]
    },
    {
      "cell_type": "code",
      "source": [
        "df_new['MW'] = df_new['ROMol'].map(Descriptors.MolWt)\n",
        "df_new['logP'] = df_new['ROMol'].map(Descriptors.MolLogP)"
      ],
      "metadata": {
        "id": "9SrWU14oJkLg"
      },
      "execution_count": null,
      "outputs": []
    },
    {
      "cell_type": "code",
      "source": [
        "df_new['MW'].hist(bins=100);"
      ],
      "metadata": {
        "colab": {
          "base_uri": "https://localhost:8080/",
          "height": 430
        },
        "id": "s65WmG8TJ0k8",
        "outputId": "46e3a304-94cc-4cec-cff2-1eee8362996e"
      },
      "execution_count": null,
      "outputs": [
        {
          "output_type": "display_data",
          "data": {
            "text/plain": [
              "<Figure size 640x480 with 1 Axes>"
            ],
            "image/png": "[encoded data removed]"
          },
          "metadata": {}
        }
      ]
    },
    {
      "cell_type": "code",
      "source": [
        "df_new['logP'].hist(bins=100);"
      ],
      "metadata": {
        "colab": {
          "base_uri": "https://localhost:8080/",
          "height": 430
        },
        "id": "sowNRlF6NCAK",
        "outputId": "07c46bb1-f83b-4e21-ba6b-2d3e09f01a14"
      },
      "execution_count": null,
      "outputs": [
        {
          "output_type": "display_data",
          "data": {
            "text/plain": [
              "<Figure size 640x480 with 1 Axes>"
            ],
            "image/png": "[encoded data removed]"
          },
          "metadata": {}
        }
      ]
    },
    {
      "cell_type": "code",
      "source": [
        "df_new[['MW', 'logP']].describe()"
      ],
      "metadata": {
        "colab": {
          "base_uri": "https://localhost:8080/",
          "height": 300
        },
        "id": "SheP1twPNJpv",
        "outputId": "38ba33ea-1a88-4f95-fc0c-04294d3b5f57"
      },
      "execution_count": null,
      "outputs": [
        {
          "output_type": "execute_result",
          "data": {
            "text/plain": [
              "                MW         logP\n",
              "count  1465.000000  1465.000000\n",
              "mean    330.702161     2.750957\n",
              "std      85.466828     1.231271\n",
              "min      94.113000    -1.723560\n",
              "25%     270.354000     1.890700\n",
              "50%     327.815000     2.849900\n",
              "75%     398.400000     3.722700\n",
              "max     499.648000     4.989100"
            ],
            "text/html": [
              "\n",
              "  <div id=\"df-a13fa2f6-352c-418d-b827-7ec8c1cbd0cc\" class=\"colab-df-container\">\n",
              "    <div>\n",
              "<style scoped>\n",
              "    .dataframe tbody tr th:only-of-type {\n",
              "        vertical-align: middle;\n",
              "    }\n",
              "\n",
              "    .dataframe tbody tr th {\n",
              "        vertical-align: top;\n",
              "    }\n",
              "\n",
              "    .dataframe thead th {\n",
              "        text-align: right;\n",
              "    }\n",
              "</style>\n",
              "<table border=\"1\" class=\"dataframe\">\n",
              "  <thead>\n",
              "    <tr style=\"text-align: right;\">\n",
              "      <th></th>\n",
              "      <th>MW</th>\n",
              "      <th>logP</th>\n",
              "    </tr>\n",
              "  </thead>\n",
              "  <tbody>\n",
              "    <tr>\n",
              "      <th>count</th>\n",
              "      <td>1465.000000</td>\n",
              "      <td>1465.000000</td>\n",
              "    </tr>\n",
              "    <tr>\n",
              "      <th>mean</th>\n",
              "      <td>330.702161</td>\n",
              "      <td>2.750957</td>\n",
              "    </tr>\n",
              "    <tr>\n",
              "      <th>std</th>\n",
              "      <td>85.466828</td>\n",
              "      <td>1.231271</td>\n",
              "    </tr>\n",
              "    <tr>\n",
              "      <th>min</th>\n",
              "      <td>94.113000</td>\n",
              "      <td>-1.723560</td>\n",
              "    </tr>\n",
              "    <tr>\n",
              "      <th>25%</th>\n",
              "      <td>270.354000</td>\n",
              "      <td>1.890700</td>\n",
              "    </tr>\n",
              "    <tr>\n",
              "      <th>50%</th>\n",
              "      <td>327.815000</td>\n",
              "      <td>2.849900</td>\n",
              "    </tr>\n",
              "    <tr>\n",
              "      <th>75%</th>\n",
              "      <td>398.400000</td>\n",
              "      <td>3.722700</td>\n",
              "    </tr>\n",
              "    <tr>\n",
              "      <th>max</th>\n",
              "      <td>499.648000</td>\n",
              "      <td>4.989100</td>\n",
              "    </tr>\n",
              "  </tbody>\n",
              "</table>\n",
              "</div>\n",
              "    <div class=\"colab-df-buttons\">\n",
              "\n",
              "  <div class=\"colab-df-container\">\n",
              "    <button class=\"colab-df-convert\" onclick=\"convertToInteractive('df-a13fa2f6-352c-418d-b827-7ec8c1cbd0cc')\"\n",
              "            title=\"Convert this dataframe to an interactive table.\"\n",
              "            style=\"display:none;\">\n",
              "\n",
              "  <svg xmlns=\"http://www.w3.org/2000/svg\" height=\"24px\" viewBox=\"0 -960 960 960\">\n",
              "    <path d=\"M120-120v-720h720v720H120Zm60-500h600v-160H180v160Zm220 220h160v-160H400v160Zm0 220h160v-160H400v160ZM180-400h160v-160H180v160Zm440 0h160v-160H620v160ZM180-180h160v-160H180v160Zm440 0h160v-160H620v160Z\"/>\n",
              "  </svg>\n",
              "    </button>\n",
              "\n",
              "  <style>\n",
              "    .colab-df-container {\n",
              "      display:flex;\n",
              "      gap: 12px;\n",
              "    }\n",
              "\n",
              "    .colab-df-convert {\n",
              "      background-color: #E8F0FE;\n",
              "      border: none;\n",
              "      border-radius: 50%;\n",
              "      cursor: pointer;\n",
              "      display: none;\n",
              "      fill: #1967D2;\n",
              "      height: 32px;\n",
              "      padding: 0 0 0 0;\n",
              "      width: 32px;\n",
              "    }\n",
              "\n",
              "    .colab-df-convert:hover {\n",
              "      background-color: #E2EBFA;\n",
              "      box-shadow: 0px 1px 2px rgba(60, 64, 67, 0.3), 0px 1px 3px 1px rgba(60, 64, 67, 0.15);\n",
              "      fill: #174EA6;\n",
              "    }\n",
              "\n",
              "    .colab-df-buttons div {\n",
              "      margin-bottom: 4px;\n",
              "    }\n",
              "\n",
              "    [theme=dark] .colab-df-convert {\n",
              "      background-color: #3B4455;\n",
              "      fill: #D2E3FC;\n",
              "    }\n",
              "\n",
              "    [theme=dark] .colab-df-convert:hover {\n",
              "      background-color: #434B5C;\n",
              "      box-shadow: 0px 1px 3px 1px rgba(0, 0, 0, 0.15);\n",
              "      filter: drop-shadow(0px 1px 2px rgba(0, 0, 0, 0.3));\n",
              "      fill: #FFFFFF;\n",
              "    }\n",
              "  </style>\n",
              "\n",
              "    <script>\n",
              "      const buttonEl =\n",
              "        document.querySelector('#df-a13fa2f6-352c-418d-b827-7ec8c1cbd0cc button.colab-df-convert');\n",
              "      buttonEl.style.display =\n",
              "        google.colab.kernel.accessAllowed ? 'block' : 'none';\n",
              "\n",
              "      async function convertToInteractive(key) {\n",
              "        const element = document.querySelector('#df-a13fa2f6-352c-418d-b827-7ec8c1cbd0cc');\n",
              "        const dataTable =\n",
              "          await google.colab.kernel.invokeFunction('convertToInteractive',\n",
              "                                                    [key], {});\n",
              "        if (!dataTable) return;\n",
              "\n",
              "        const docLinkHtml = 'Like what you see? Visit the ' +\n",
              "          '<a target=\"_blank\" href=https://colab.research.google.com/notebooks/data_table.ipynb>data table notebook</a>'\n",
              "          + ' to learn more about interactive tables.';\n",
              "        element.innerHTML = '';\n",
              "        dataTable['output_type'] = 'display_data';\n",
              "        await google.colab.output.renderOutput(dataTable, element);\n",
              "        const docLink = document.createElement('div');\n",
              "        docLink.innerHTML = docLinkHtml;\n",
              "        element.appendChild(docLink);\n",
              "      }\n",
              "    </script>\n",
              "  </div>\n",
              "\n",
              "\n",
              "<div id=\"df-6859d5ce-7f4d-4906-92cc-a84c4409a7a7\">\n",
              "  <button class=\"colab-df-quickchart\" onclick=\"quickchart('df-6859d5ce-7f4d-4906-92cc-a84c4409a7a7')\"\n",
              "            title=\"Suggest charts\"\n",
              "            style=\"display:none;\">\n",
              "\n",
              "<svg xmlns=\"http://www.w3.org/2000/svg\" height=\"24px\"viewBox=\"0 0 24 24\"\n",
              "     width=\"24px\">\n",
              "    <g>\n",
              "        <path d=\"M19 3H5c-1.1 0-2 .9-2 2v14c0 1.1.9 2 2 2h14c1.1 0 2-.9 2-2V5c0-1.1-.9-2-2-2zM9 17H7v-7h2v7zm4 0h-2V7h2v10zm4 0h-2v-4h2v4z\"/>\n",
              "    </g>\n",
              "</svg>\n",
              "  </button>\n",
              "\n",
              "<style>\n",
              "  .colab-df-quickchart {\n",
              "      --bg-color: #E8F0FE;\n",
              "      --fill-color: #1967D2;\n",
              "      --hover-bg-color: #E2EBFA;\n",
              "      --hover-fill-color: #174EA6;\n",
              "      --disabled-fill-color: #AAA;\n",
              "      --disabled-bg-color: #DDD;\n",
              "  }\n",
              "\n",
              "  [theme=dark] .colab-df-quickchart {\n",
              "      --bg-color: #3B4455;\n",
              "      --fill-color: #D2E3FC;\n",
              "      --hover-bg-color: #434B5C;\n",
              "      --hover-fill-color: #FFFFFF;\n",
              "      --disabled-bg-color: #3B4455;\n",
              "      --disabled-fill-color: #666;\n",
              "  }\n",
              "\n",
              "  .colab-df-quickchart {\n",
              "    background-color: var(--bg-color);\n",
              "    border: none;\n",
              "    border-radius: 50%;\n",
              "    cursor: pointer;\n",
              "    display: none;\n",
              "    fill: var(--fill-color);\n",
              "    height: 32px;\n",
              "    padding: 0;\n",
              "    width: 32px;\n",
              "  }\n",
              "\n",
              "  .colab-df-quickchart:hover {\n",
              "    background-color: var(--hover-bg-color);\n",
              "    box-shadow: 0 1px 2px rgba(60, 64, 67, 0.3), 0 1px 3px 1px rgba(60, 64, 67, 0.15);\n",
              "    fill: var(--button-hover-fill-color);\n",
              "  }\n",
              "\n",
              "  .colab-df-quickchart-complete:disabled,\n",
              "  .colab-df-quickchart-complete:disabled:hover {\n",
              "    background-color: var(--disabled-bg-color);\n",
              "    fill: var(--disabled-fill-color);\n",
              "    box-shadow: none;\n",
              "  }\n",
              "\n",
              "  .colab-df-spinner {\n",
              "    border: 2px solid var(--fill-color);\n",
              "    border-color: transparent;\n",
              "    border-bottom-color: var(--fill-color);\n",
              "    animation:\n",
              "      spin 1s steps(1) infinite;\n",
              "  }\n",
              "\n",
              "  @keyframes spin {\n",
              "    0% {\n",
              "      border-color: transparent;\n",
              "      border-bottom-color: var(--fill-color);\n",
              "      border-left-color: var(--fill-color);\n",
              "    }\n",
              "    20% {\n",
              "      border-color: transparent;\n",
              "      border-left-color: var(--fill-color);\n",
              "      border-top-color: var(--fill-color);\n",
              "    }\n",
              "    30% {\n",
              "      border-color: transparent;\n",
              "      border-left-color: var(--fill-color);\n",
              "      border-top-color: var(--fill-color);\n",
              "      border-right-color: var(--fill-color);\n",
              "    }\n",
              "    40% {\n",
              "      border-color: transparent;\n",
              "      border-right-color: var(--fill-color);\n",
              "      border-top-color: var(--fill-color);\n",
              "    }\n",
              "    60% {\n",
              "      border-color: transparent;\n",
              "      border-right-color: var(--fill-color);\n",
              "    }\n",
              "    80% {\n",
              "      border-color: transparent;\n",
              "      border-right-color: var(--fill-color);\n",
              "      border-bottom-color: var(--fill-color);\n",
              "    }\n",
              "    90% {\n",
              "      border-color: transparent;\n",
              "      border-bottom-color: var(--fill-color);\n",
              "    }\n",
              "  }\n",
              "</style>\n",
              "\n",
              "  <script>\n",
              "    async function quickchart(key) {\n",
              "      const quickchartButtonEl =\n",
              "        document.querySelector('#' + key + ' button');\n",
              "      quickchartButtonEl.disabled = true;  // To prevent multiple clicks.\n",
              "      quickchartButtonEl.classList.add('colab-df-spinner');\n",
              "      try {\n",
              "        const charts = await google.colab.kernel.invokeFunction(\n",
              "            'suggestCharts', [key], {});\n",
              "      } catch (error) {\n",
              "        console.error('Error during call to suggestCharts:', error);\n",
              "      }\n",
              "      quickchartButtonEl.classList.remove('colab-df-spinner');\n",
              "      quickchartButtonEl.classList.add('colab-df-quickchart-complete');\n",
              "    }\n",
              "    (() => {\n",
              "      let quickchartButtonEl =\n",
              "        document.querySelector('#df-6859d5ce-7f4d-4906-92cc-a84c4409a7a7 button');\n",
              "      quickchartButtonEl.style.display =\n",
              "        google.colab.kernel.accessAllowed ? 'block' : 'none';\n",
              "    })();\n",
              "  </script>\n",
              "</div>\n",
              "    </div>\n",
              "  </div>\n"
            ]
          },
          "metadata": {},
          "execution_count": 31
        }
      ]
    },
    {
      "cell_type": "markdown",
      "source": [
        " **Describe the distribution of the molecular weight and logP.\n",
        "Molecular weight**\n",
        "\n",
        "The distribution of molecular weights in the original shows a wide spread with an average of 410.153 and a standard deviation of about 385.841. The minimum is about 4.003, the 25th percentile is 254.246, the median (50th percentile) is 340.507, the 75th percentile is 450.707 and the maximum is about 7177.248.\n",
        "In comparison, the distribution of molecular weights in the subset is narrower and more centred around an average of about 330.702, with a lower standard deviation of about 85.467. The minimum is about 94.113, the 25th percentile is 270.354, the median is 327.815, the 75th percentile is 398.400and the maximum is about 499.648.\n",
        "This indicates that the molecules in the subset tend to be smaller than in the original and lie in a narrower range of molecular weights.\n",
        "LogP values:\n",
        "The distribution of LogP values in the original has an average of about 2.114 with a standard deviation of about 3.614. The minimum is about -35.811, the 25th percentile is 0.822, the median is 2.562, the 75th percentile is 4.002, and the maximum is about 55.892. This distribution shows a wider spread with some extreme values that are far from the average distribution.\n",
        "In contrast, the distribution of LogP values in the subset is narrower, with an average of about 2.751 and a lower standard deviation of about 1.231. The minimum is about -1.724, the 25th percentile is 1.891, the median is 2.85, the 75th percentile is 3.723 and the maximum is about 4.989.\n",
        "These results show that the LogP values in the subset are generally closer together and show fewer extreme outliers than in the original.\n",
        "Explain the difference between the distributions with the previous results\n",
        "The differences between the two distributions (original and subset) are based on the selection criteria of the subset, which is based on three specific criteria: Molecules that fulfil the rule of five, molecules that are at least in phase 3, and molecules that contain a benzene ring.\n",
        "As these criteria restrict certain properties of the molecules, this leads to a different distribution in terms of molecular weight and LogP compared to the original dataset. The subset contains molecules that are more selective with respect to the Rule of Five, developmental phases and structural features, resulting in a different distribution of the analysed properties. This selection contributes to the subset having less variability and narrower distributions in terms of molecular weight and LogP compared to the general original distribution."
      ],
      "metadata": {
        "id": "62rz0VoEYbqX"
      }
    },
    {
      "cell_type": "markdown",
      "metadata": {
        "id": "8lJoiP4t7Gsb"
      },
      "source": [
        "## Autodock Vina\n",
        "\n",
        "[AutoDock Vina](https://vina.scripps.edu/) is a popular docking program within the AutoDock Suite due to its ease of use, speed, and open-source nature. It is widely used and has been modified by research groups worldwide.\n"
      ]
    },
    {
      "cell_type": "markdown",
      "source": [
        "### LABODOCK\n",
        "\n",
        "In order to use Autodock Vina, we will use [LABODOCK](https://github.com/RyanZR/labodock).\n",
        "LABODOCK is a collection of Colab Notebooks that provides a simple web interface for Docking.\n",
        "\n",
        "**Open** the [Basic Molecular Docking](https://colab.research.google.com/github/RyanZR/labodock/blob/main/notebooks/basic_molecular_docking.ipynb) Notebook and follow the instructions. We will execute the default example."
      ],
      "metadata": {
        "collapsed": false,
        "id": "fTaBZ4wH7Gsb"
      }
    },
    {
      "cell_type": "markdown",
      "source": [
        "### Default Example: ERα Ligand Binding Domain in complex with Raloxifene\n",
        "\n",
        "The default tutorial uses the protein with PDB ID [7KBS](https://www.rcsb.org/structure/7KBS).\n",
        "This is a Estrogen Receptor Alpha (ERα) Ligand Binding Domain in complex with Raloxifene (See in [more details](https://www.rcsb.org/3d-view/7KBS?preset=ligandInteraction&label_asym_id=C)).\n",
        "\n",
        "Context: When estrogen binds to the Estrogen Receptor Alpha (ERα), the receptor undergoes a conformational change, which allows it to bind to specific DNA sequences called estrogen response elements (EREs). The genes activated or repressed by this complex can lead to various cellular responses. For instance, in breast tissue, estrogen-ERα interaction can stimulate cell division and growth, which is a normal process but can also contribute to the development and progression of breast cancer in estrogen-receptor-positive tumors.\n",
        "\n",
        "Solution: Raloxifene is used as therapy.  When Raloxifene binds to the LBD of ERα, it induces a specific conformational change in the receptor. This change differs from the conformation induced by estrogen binding, which is critical for the drug's mechanism of action. Raloxifene acts as an antagonist in breast tissue, meaning it blocks the activity of estrogen.\n",
        "\n",
        "![villin](https://github.com/yerkoescalona/structural_bioinformatics/blob/main/ex04/protein-ligand.png?raw=1)\n",
        "**Figure**. ERα Ligand Binding Domain in complex with Raloxifene\n"
      ],
      "metadata": {
        "collapsed": false,
        "id": "uGEPKwtg7Gsb"
      }
    },
    {
      "cell_type": "markdown",
      "source": [
        "### Docking Exercises:\n",
        "\n",
        "1. Describe all the interactions between the ligand and the protein.\n",
        "2. Use estrogen as a ligand instead of Raloxifene. What are the differences in the interactions between the ligand and the protein?\n",
        "3. Using those difference, could you be able to predict the conformational change of the protein when binding to Raloxifene or estrogen?"
      ],
      "metadata": {
        "collapsed": false,
        "id": "mo8ij7zL7Gsc"
      }
    },
    {
      "cell_type": "markdown",
      "source": [
        "1. Describe all the interactions between the ligand and the protein\n",
        "\n",
        "Confirmed interactions in the 3D model:\n",
        "HIS524 forms one hydrogen bond (HBonds) with the ligand RLXF_1 (DIS: 2.79).\n",
        "ARG394 shows two hydrogen bonds (HBonds) with the ligand (DIS: 3.96 and 2.84).\n",
        "GLU353 forms one hydrogen bond (HBond) with the ligand (DIS: 3.46).\n",
        "PHE404 shows two pi-stacking interactions with the ligand (DIS: 5.24 and 5.27).\n",
        "\n",
        "Interactions not visible in the 3D model but listed in the table:\n",
        "Hydrophobic interactions with several amino acids (TRP383, LEU384, LEU387, LEU391, ILE424, LEU525, VAL533, ALA350) were described that were not directly visualised in the 3D model.\n",
        "The interpretation of these interactions indicates that the ligand RLXF_1 forms multiple types of interactions with the protein. Hydrogen bonds (HBonds) with HIS524, ARG394 and GLU353 as well as pi-stacking interactions with PHE404 could be important stabilising factors for ligand binding. The hydrophobic interactions with the amino acids could  contribute to the stabilisation of the ligand-protein interaction, although these are not directly visible in the 3D model.\n",
        "\n",
        "2. Use estrogen as a ligand instead of Raloxifene. What are the differences in the interactions between the ligand and the protein?\n",
        "\n",
        "Confirmed interactions in the 3D model:\n",
        "HIS524 forms a hydrogen bond (HBond) with the ligand Eströgen (DIS: 2.83).\n",
        "ARG394 shows a hydrogen bond (HBond) with the ligand (DIS: 3.39).\n",
        "GLU353 forms a hydrogen bond (HBond) with the ligand (DIS: 3.39).\n",
        "PHE404 shows a pi-stacking interaction with the ligand (DIS: 5.30).\n",
        "There is also a hydrophobic interaction (hydrophobic) between PHE404 and the ligand (DIS: 5.63).\n",
        "Interactions not visible in the 3D model but listed in the table:\n",
        "Hydrophobic interactions with various amino acids (LEU384, LEU387, LEU391, ILE424, LEU525) were described, which were not directly visualised in the 3D model.\n",
        "\n",
        "Comparison:\n",
        "Interactions with RLXF_1:\n",
        "RLXF_1 shows hydrogen bonds (HBonds) with HIS524, ARG394 and GLU353 in the 3D model.\n",
        "Pi stacking interactions with PHE404 were also identified.\n",
        "Interactions with Eströgen:\n",
        "Similar to RLXF_1, Eströgen forms hydrogen bonds (HBonds) with HIS524, ARG394 and GLU353 in the 3D model.\n",
        "It also shows a pi-stacking interaction with PHE404.\n",
        "\n",
        "However, there is a difference in the hydrophobic interactions:\n",
        "While no directly visible hydrophobic interactions with certain amino acids are apparent in the 3D model for RLXF_1, Eströgen shows hydrophobic interactions with amino acids such as LEU384, LEU387, LEU391, ILE424, LEU525, which however could not be visualised in the 3D model.\n",
        "The major differences between the interactions of RLXF_1 and Eströgen lie in the identified hydrophobic interactions with different amino acids. Eströgen appears to show a greater number and variety of hydrophobic interactions with the protein, which were not observed to the same extent in RLXF_1.\n",
        "\n",
        "These differences may be due to the specific structural properties of the ligands, which may lead to different binding modes and types with the protein. These differences could also have an impact on the stability, affinity and biological effect of the binding of the ligand to the protein.\n",
        "\n",
        "Hydrophobic interactions with different amino acids (LEU384, LEU387, LEU391, ILE424, LEU525) were described, which were not directly visualised in the 3D model.\n",
        "The interpretation of these interactions indicates that the ligand Eströgen enters into a variety of interactions with the protein. The hydrogen bonds (HBonds) with HIS524, ARG394 and GLU353 as well as the pi-stacking interaction with PHE404 could be important stabilising factors for ligand binding.\n",
        "\n",
        "3. Using those difference, could you be able to predict the conformational change of the protein when binding to Raloxifene or estrogen?\n",
        "\n",
        "First of all: redicting the conformational changes of a protein upon binding to Raloxifene or estrogen based on the differences in their interactions can be quite challenging, but we give it a try:\n",
        "-Estrogen shows more hydrophobic interactions with specific amino acids compared to Raloxifene, which lacks similar visible hydrophobic interactions in the 3D model.\n",
        "This difference in hydrophobic contacts might induce specific conformational changes in the protein structure when binding to estrogen but not when binding to Raloxifene.\n",
        "-Proteins often undergo conformational changes upon ligand binding to optimize interactions: If estrogen forms more hydrophobic contacts with certain amino acids that Raloxifene doesn't engage with, the protein might adjust its conformation to accommodate these additional interactions.\n",
        "-Changes in the protein's conformation could also be driven by the need to achieve a more stable interaction with the ligand: If certain conformational changes lead to a more favorable binding energy or stability, the protein might adopt such alterations upon binding to estrogen compared to Raloxifene.\n",
        "\n",
        "To accurately predict the conformational changes of the protein when binding to Raloxifene or estrogen, it often requires advanced computational simulations or experimental techniques like X-ray crystallography or nuclear magnetic resonance (NMR) spectroscopy to observe and validate these changes in protein structure upon ligand binding."
      ],
      "metadata": {
        "id": "EbTD_EOcYtGQ"
      }
    },
    {
      "cell_type": "markdown",
      "metadata": {
        "id": "xQnuv5yW7Gsc"
      },
      "source": [
        "# For the Project\n",
        "\n",
        "If your proteins can potentially interact with a ligand you can use the following workflow:\n",
        "1. Find the Smiles format of the ligand in the ChEMBL database.\n",
        "2. Use your PDB id and ligand Smiles format for the docking.\n",
        "3. Describe the interactions between the ligand and the protein.\n",
        "\n",
        "If your protein doesn't have a ligand, you can use the following workflow:\n",
        "1. Use one of the following molecules as a ligand to your protein:\n",
        "\n",
        "- Formaldehyde or Acetaldehyde: These small aldehyde molecules can be used to show how different functional groups (like the aldehyde group) interact with proteins. They can illustrate polar interactions and the role of hydrogen bonding in docking.\n",
        "\n",
        "- Glycerol: This molecule, with its three hydroxyl groups, can demonstrate polyol interactions with proteins. It's particularly relevant for showing hydrogen bonding and the effect of multiple binding sites.\n",
        "\n",
        "- Acetic Acid or Propionic Acid: These small carboxylic acids can be used to discuss the importance of charge in protein-ligand interactions, showing how deprotonation and protonation states affect docking.\n",
        "\n",
        "- Benzene or Toluene: These aromatic compounds can illustrate hydrophobic interactions and pi-stacking, which are important in the docking of many drugs and natural ligands.\n",
        "\n",
        "- Nitrate or Phosphate Ions: As small inorganic ions, they can be used to teach about ionic interactions and the role of electrostatics in protein-ligand docking.\n",
        "\n",
        "- Urea or Thiourea: These molecules can be used to show how amide and thiol groups interact with proteins, and they're particularly interesting for discussing solvation effects and hydrogen bonding.\n",
        "\n",
        "2. Use your PDB id and ligand Smiles format for the docking.\n",
        "3. Describe the interactions between the ligand and the protein.\n"
      ]
    },
    {
      "cell_type": "code",
      "execution_count": null,
      "metadata": {
        "id": "nbNucKFB7Gsc"
      },
      "outputs": [],
      "source": []
    }
  ],
  "metadata": {
    "kernelspec": {
      "display_name": "Python 3",
      "name": "python3"
    },
    "language_info": {
      "codemirror_mode": {
        "name": "ipython",
        "version": 3
      },
      "file_extension": ".py",
      "mimetype": "text/x-python",
      "name": "python",
      "nbconvert_exporter": "python",
      "pygments_lexer": "ipython3",
      "version": "3.11.5"
    },
    "colab": {
      "provenance": [],
      "gpuType": "T4",
      "include_colab_link": true
    },
    "accelerator": "GPU"
  },
  "nbformat": 4,
  "nbformat_minor": 0
}