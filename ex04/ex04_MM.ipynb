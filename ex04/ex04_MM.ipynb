{
  "cells": [
    {
      "cell_type": "markdown",
      "metadata": {
        "id": "ypWeSRNy7GsD"
      },
      "source": [
        "# Exercise 04\n",
        "\n",
        "## Overview\n",
        "\n",
        "1. RDKit\n",
        "2. Docking\n",
        "\n",
        "This tutorial is based on [rdkit-tutorials](https://github.com/rdkit/rdkit-tutorials/tree/master) and [LABODOCK](https://github.com/RyanZR/labodock)."
      ]
    },
    {
      "cell_type": "markdown",
      "metadata": {
        "id": "_WcbK9BJ7GsF"
      },
      "source": [
        "## RDKit\n",
        "\n",
        "[RDKit](https://www.rdkit.org/) is a software suite for cheminformatics, computational chemistry, and predictive modeling\n",
        "\n",
        "A chemical curation pipeline has been developed using the open source toolkit RDKit.\n",
        "\n",
        "The [ChEMBL](https://www.ebi.ac.uk/chembl/) database is one of a number of public databases that contain bioactivity data on small molecule compounds curated from diverse sources. Incoming compounds are typically not standardised according to consistent rules. In order to maintain the quality of the final database and to easily compare and integrate data on the same compound from different sources it is necessary for the chemical structures in the database to be appropriately standardised. The solution: RDKit. RDKit is a open source tookit for the chemical curation pipeline.\n",
        "\n",
        "\n",
        "\n",
        "### Basis steps with RDKit\n",
        "\n",
        "#### Reading and writing molecules"
      ]
    },
    {
      "cell_type": "code",
      "execution_count": null,
      "outputs": [],
      "source": [
        "if 'google.colab' in str(get_ipython()):\n",
        "  print('Running on colab')\n",
        "  !pip install rdkit"
      ],
      "metadata": {
        "id": "LVhtQmrp7GsG"
      }
    },
    {
      "cell_type": "code",
      "execution_count": null,
      "metadata": {
        "id": "jFkUG3GD7GsI"
      },
      "outputs": [],
      "source": [
        "from rdkit import Chem\n",
        "from rdkit.Chem.Draw import IPythonConsole\n",
        "from rdkit.Chem import Draw\n",
        "# uncomment this if you try the tutorial and end up with low-quality images\n",
        "# IPythonConsole.ipython_useSVG=True"
      ]
    },
    {
      "cell_type": "markdown",
      "metadata": {
        "id": "OOntzbpZ7GsI"
      },
      "source": [
        "#### Working with SMILES"
      ]
    },
    {
      "cell_type": "markdown",
      "metadata": {
        "id": "uJuFCqhy7GsI"
      },
      "source": [
        "If you have a SMILES string, the easiest thing to use is MolFromSmiles:"
      ]
    },
    {
      "cell_type": "code",
      "execution_count": null,
      "metadata": {
        "scrolled": true,
        "tags": [
          "nbval-ignore-output"
        ],
        "id": "vA_ysAwp7GsI"
      },
      "outputs": [],
      "source": [
        "m = Chem.MolFromSmiles('COc1ccc2c(c1)[nH]c(n2)[S@@](=O)Cc1ncc(c(c1C)OC)C')\n",
        "m"
      ]
    },
    {
      "cell_type": "markdown",
      "metadata": {
        "id": "k7vIpYPj7GsI"
      },
      "source": [
        "Note that the coordinates used for the drawing are not present in the molecule, the RDKit generates them when the molecule is drawn."
      ]
    },
    {
      "cell_type": "markdown",
      "metadata": {
        "id": "RF-Kb6XW7GsI"
      },
      "source": [
        "#### Reading Mol file data"
      ]
    },
    {
      "cell_type": "code",
      "execution_count": null,
      "metadata": {
        "tags": [
          "nbval-ignore-output"
        ],
        "id": "1OS47-w57GsJ"
      },
      "outputs": [],
      "source": [
        "molblock = \"\"\"phenol\n",
        "  Mrv1682210081607082D\n",
        "\n",
        "  7  7  0  0  0  0            999 V2000\n",
        "   -0.6473    1.0929    0.0000 C   0  0  0  0  0  0  0  0  0  0  0  0\n",
        "   -1.3618    0.6804    0.0000 C   0  0  0  0  0  0  0  0  0  0  0  0\n",
        "   -1.3618   -0.1447    0.0000 C   0  0  0  0  0  0  0  0  0  0  0  0\n",
        "   -0.6473   -0.5572    0.0000 C   0  0  0  0  0  0  0  0  0  0  0  0\n",
        "    0.0671   -0.1447    0.0000 C   0  0  0  0  0  0  0  0  0  0  0  0\n",
        "    0.0671    0.6804    0.0000 C   0  0  0  0  0  0  0  0  0  0  0  0\n",
        "    0.7816    1.0929    0.0000 O   0  0  0  0  0  0  0  0  0  0  0  0\n",
        "  1  2  1  0  0  0  0\n",
        "  2  3  2  0  0  0  0\n",
        "  3  4  1  0  0  0  0\n",
        "  4  5  2  0  0  0  0\n",
        "  5  6  1  0  0  0  0\n",
        "  1  6  2  0  0  0  0\n",
        "  6  7  1  0  0  0  0\n",
        "M  END\n",
        "\"\"\"\n",
        "m = Chem.MolFromMolBlock(molblock)\n",
        "m"
      ]
    },
    {
      "cell_type": "markdown",
      "metadata": {
        "id": "JKmJpedM7GsJ"
      },
      "source": [
        "Here the molecule has coordinates that were read in from the Mol block. We can see this because the molecule has a conformer:"
      ]
    },
    {
      "cell_type": "code",
      "execution_count": null,
      "metadata": {
        "id": "Kt7anotp7GsJ"
      },
      "outputs": [],
      "source": [
        "m.GetNumConformers()"
      ]
    },
    {
      "cell_type": "markdown",
      "metadata": {
        "id": "5HfSkzFL7GsJ"
      },
      "source": [
        "The conformer that is present is 2D (we can see that from the coordinates above):"
      ]
    },
    {
      "cell_type": "code",
      "execution_count": null,
      "metadata": {
        "id": "JEPlNjxB7GsJ"
      },
      "outputs": [],
      "source": [
        "m.GetConformer().Is3D()"
      ]
    },
    {
      "cell_type": "markdown",
      "metadata": {
        "id": "bd1qiLw57GsJ"
      },
      "source": [
        "Here's another Mol block and the corresponding molecule:"
      ]
    },
    {
      "cell_type": "code",
      "execution_count": null,
      "metadata": {
        "tags": [
          "nbval-ignore-output"
        ],
        "id": "Y8Dg6tl37GsJ"
      },
      "outputs": [],
      "source": [
        "molblock2 ='''cyclopropanol-3D\n",
        "  Mrv1682210081607153D\n",
        "\n",
        " 10 10  0  0  0  0            999 V2000\n",
        "    0.9159    1.2233    0.2286 C   0  0  1  0  0  0  0  0  0  0  0  0\n",
        "   -0.0738    1.2748   -0.9428 C   0  0  2  0  0  0  0  0  0  0  0  0\n",
        "   -0.3167    0.3104    0.2232 C   0  0  2  0  0  0  0  0  0  0  0  0\n",
        "   -1.3658    0.6623    1.1190 O   0  0  0  0  0  0  0  0  0  0  0  0\n",
        "    1.8730    0.7413    0.0155 H   0  0  0  0  0  0  0  0  0  0  0  0\n",
        "    0.8835    2.0739    0.9139 H   0  0  0  0  0  0  0  0  0  0  0  0\n",
        "    0.2747    0.8266   -1.8737 H   0  0  0  0  0  0  0  0  0  0  0  0\n",
        "   -0.7163    2.1557   -0.9817 H   0  0  0  0  0  0  0  0  0  0  0  0\n",
        "   -0.1264   -0.7446    0.0137 H   0  0  0  0  0  0  0  0  0  0  0  0\n",
        "   -1.1210    0.2486    1.9735 H   0  0  0  0  0  0  0  0  0  0  0  0\n",
        "  1  2  1  0  0  0  0\n",
        "  2  3  1  0  0  0  0\n",
        "  1  3  1  0  0  0  0\n",
        "  3  4  1  0  0  0  0\n",
        "  1  5  1  0  0  0  0\n",
        "  1  6  1  0  0  0  0\n",
        "  2  7  1  0  0  0  0\n",
        "  2  8  1  0  0  0  0\n",
        "  3  9  1  0  0  0  0\n",
        "  4 10  1  0  0  0  0\n",
        "M  END\n",
        "'''\n",
        "m2 = Chem.MolFromMolBlock(molblock2)\n",
        "m2"
      ]
    },
    {
      "cell_type": "markdown",
      "metadata": {
        "id": "c_hfW8CY7GsK"
      },
      "source": [
        "The odd coordinates in the drawing is because the molecule has a 3D conformer:"
      ]
    },
    {
      "cell_type": "code",
      "execution_count": null,
      "metadata": {
        "id": "iquigHDb7GsK"
      },
      "outputs": [],
      "source": [
        "m2.GetConformer().Is3D()"
      ]
    },
    {
      "cell_type": "markdown",
      "metadata": {
        "id": "oPVeihbV7GsK"
      },
      "source": [
        "Notice that no Hs were drawn even though there are clearly H atoms in the Mol block. The default behavior for the RDKit Mol block reader is to remove Hs from the input molecule. If we want to keep the Hs and their coordinates, this behavior can be turned off:"
      ]
    },
    {
      "cell_type": "code",
      "execution_count": null,
      "metadata": {
        "tags": [
          "nbval-ignore-output"
        ],
        "id": "YoT86dAN7GsK"
      },
      "outputs": [],
      "source": [
        "m2_h = Chem.MolFromMolBlock(molblock2,removeHs=False)\n",
        "m2_h"
      ]
    },
    {
      "cell_type": "markdown",
      "metadata": {
        "tags": [],
        "id": "PfofTigG7GsK"
      },
      "source": [
        "#### RDKit: substructure queries using SMARTS"
      ]
    },
    {
      "cell_type": "markdown",
      "metadata": {
        "id": "8FZB6XQ77GsK"
      },
      "source": [
        "This notebook explores using `RDKit` to find matching 2D structures in organic molecules, using SMARTS queries.  It uses RDKit's very nice structure renderer to show matches.  This notebook isn't a replacment for the [rdkit documentation](http://www.rdkit.org/docs/), but is intended to complement it."
      ]
    },
    {
      "cell_type": "code",
      "execution_count": null,
      "metadata": {
        "id": "Xspg3cYy7GsK"
      },
      "outputs": [],
      "source": [
        "from __future__ import print_function\n",
        "# import rdkit components\n",
        "from rdkit import rdBase\n",
        "from rdkit import Chem\n",
        "from rdkit.Chem import AllChem\n",
        "from rdkit.Chem import Draw\n",
        "\n",
        "# use IPythonConsole for pretty drawings\n",
        "from rdkit.Chem.Draw import IPythonConsole\n",
        "\n",
        "## The next line is commented out\n",
        "### because GitHub does not render svg's embedded in notebooks\n",
        "# IPythonConsole.ipython_useSVG=True"
      ]
    },
    {
      "cell_type": "markdown",
      "metadata": {
        "id": "Oq7eouHv7GsK"
      },
      "source": [
        "#### Defining and viewing a small set of example molecules"
      ]
    },
    {
      "cell_type": "code",
      "execution_count": null,
      "metadata": {
        "id": "4B8YpnhD7GsK"
      },
      "outputs": [],
      "source": [
        "# some heterocycles\n",
        "naphthalene = Chem.MolFromSmiles('c12ccccc1cccc2')\n",
        "benzoxazole = Chem.MolFromSmiles('n1c2ccccc2oc1')\n",
        "indane = Chem.MolFromSmiles('c1ccc2c(c1)CCC2')\n",
        "skatole = Chem.MolFromSmiles('CC1=CNC2=CC=CC=C12')\n",
        "benzene = Chem.MolFromSmiles('c1ccccc1')\n",
        "quinoline = Chem.MolFromSmiles('n1cccc2ccccc12')\n",
        "\n",
        "my_molecules = [naphthalene,\n",
        "                benzoxazole,\n",
        "                indane,\n",
        "                skatole,\n",
        "                benzene,\n",
        "                quinoline,\n",
        "               ]"
      ]
    },
    {
      "cell_type": "markdown",
      "metadata": {
        "id": "bKPJfMR77GsL"
      },
      "source": [
        "Our test molecules for this notebook will be the arbitrary set of heterocycles and homocycles (and benzene) above.  \n",
        "\n",
        "It's easy to get a look at the structure of these molecules."
      ]
    },
    {
      "cell_type": "code",
      "execution_count": null,
      "metadata": {
        "id": "Hv5N0ax07GsL"
      },
      "outputs": [],
      "source": [
        "Draw.MolsToGridImage(my_molecules, useSVG=False)"
      ]
    },
    {
      "cell_type": "markdown",
      "metadata": {
        "id": "ykCJwcsq7GsL"
      },
      "source": [
        "For `RDKit` molecules created via SMILES, ring properties are instantiated automatically on molecule creation.  Thus, the code below that tests whether any atom in each molecule is a member of exactly two SSSR rings works right off the bat.  As expected, all molecules have (at least one atom that is in) two rings, except for the fifth molecule, benzene."
      ]
    },
    {
      "cell_type": "code",
      "execution_count": null,
      "metadata": {
        "id": "anAGBRYu7GsL"
      },
      "outputs": [],
      "source": [
        "is_in_two_rings = Chem.MolFromSmarts('[R2]')\n",
        "[mol.HasSubstructMatch(is_in_two_rings) for mol in my_molecules]"
      ]
    },
    {
      "cell_type": "markdown",
      "metadata": {
        "id": "WCBQc7FS7GsL"
      },
      "source": [
        "#### Defining substructure queries\n",
        "\n",
        "[SMARTS](http://www.daylight.com/dayhtml/doc/theory/theory.smarts.html) is a chemical structure query language.  RDKit can import SMARTS queries for use in searching against sets of existing RDKit molecules. [Here's a link](https://rdkit.org/docs/RDKit_Book.html#smarts-support-and-extensions) to the documentation about the RDKit's SMARTS support and the extensions it includes."
      ]
    },
    {
      "cell_type": "markdown",
      "metadata": {
        "id": "RD8Hlehs7GsL"
      },
      "source": []
    },
    {
      "cell_type": "code",
      "execution_count": null,
      "metadata": {
        "id": "NNblJEyU7GsL"
      },
      "outputs": [],
      "source": [
        "# SMARTS query for any five-membered ring fused to a benzene ring\n",
        "benzo_five = Chem.MolFromSmarts('[*r5R1]1[cR2]2[cR1][cR1][cR1][cR1][cR2]2[*r5R1][*r5R1]1')"
      ]
    },
    {
      "cell_type": "markdown",
      "metadata": {
        "id": "SzGNoYJE7GsL"
      },
      "source": []
    },
    {
      "cell_type": "code",
      "execution_count": null,
      "metadata": {
        "id": "6WGZTm1J7GsL"
      },
      "outputs": [],
      "source": [
        "# SMARTS query for any six-membered ring fused to a benzene ring\n",
        "benzo_six = Chem.MolFromSmarts('[*r6R1]1[cR2]2[cR1][cR1][cR1][cR1][cR2]2[*r6R1][*r6R1][*r6R1]1')"
      ]
    },
    {
      "cell_type": "code",
      "execution_count": null,
      "metadata": {
        "id": "ZQTNvwKt7GsL"
      },
      "outputs": [],
      "source": [
        "smarts_queries = [benzo_five, benzo_six]"
      ]
    },
    {
      "cell_type": "markdown",
      "metadata": {
        "id": "QR1_-wFo7GsL"
      },
      "source": [
        "Using SMARTS instead of SMILES to initialize molecules does not result in instantiation of a molecule's RingInfo property.  Thus, until `Chem.GetSSSR()` is invoked on a SMARTS-derived molecule, certain queries will fail."
      ]
    },
    {
      "cell_type": "code",
      "execution_count": null,
      "metadata": {
        "id": "0-Fze3gK7GsM"
      },
      "outputs": [],
      "source": [
        "# initialize rings\n",
        "[Chem.GetSSSR(mol) for mol in smarts_queries]\n",
        "\n",
        "# now it works\n",
        "try:\n",
        "    print([mol.HasSubstructMatch(is_in_two_rings) for mol in smarts_queries])\n",
        "    print('Success!  Your query worked.\\n')\n",
        "except RuntimeError as err:\n",
        "    print('ERROR; {0} because RingInfo wasn\\'t initialized'.format(err))"
      ]
    },
    {
      "cell_type": "markdown",
      "metadata": {
        "id": "ml436s3p7GsM"
      },
      "source": [
        "Now that our query molecules' `RingInfo` is instantiated, it will be possible to compute meaningful 2D sets of coordinates for the SMARTS molecule and to both (a) query against the SMARTS molecule and (b) use the SMARTS molecule as a query against other molecules.  Without calling `Chem.GetSSSR()`, only the second option would be viable."
      ]
    },
    {
      "cell_type": "code",
      "execution_count": null,
      "metadata": {
        "id": "WwapH_9a7GsM"
      },
      "outputs": [],
      "source": [
        "[AllChem.Compute2DCoords(mol) for mol in smarts_queries]"
      ]
    },
    {
      "cell_type": "code",
      "execution_count": null,
      "metadata": {
        "id": "ZqZIcV_37GsX"
      },
      "outputs": [],
      "source": [
        "# matching the first query\n",
        "for mol in my_molecules:\n",
        "    AllChem.GenerateDepictionMatching2DStructure(mol, benzo_five, acceptFailure = True)"
      ]
    },
    {
      "cell_type": "markdown",
      "metadata": {
        "id": "OsA-uTti7GsX"
      },
      "source": [
        "#### Showing the hits: five-membered rings fused to benzene\n",
        "\n",
        "Our matching to our first query is done, and now all we have to do is draw the results."
      ]
    },
    {
      "cell_type": "code",
      "execution_count": null,
      "outputs": [],
      "source": [
        "highlight_lists = [mol.GetSubstructMatch(benzo_five) for mol in my_molecules]\n",
        "Draw.MolsToGridImage(my_molecules,\n",
        "                     highlightAtomLists = highlight_lists,\n",
        "                     useSVG=False\n",
        "                    )"
      ],
      "metadata": {
        "id": "2J0VzBJy7GsX"
      }
    },
    {
      "cell_type": "markdown",
      "metadata": {
        "id": "0pBUzDHO7GsX"
      },
      "source": [
        "#### RDKit pandas support\n",
        "This is a quick tutorial will show some of the ways you can use RDKit together with pandas."
      ]
    },
    {
      "cell_type": "code",
      "execution_count": null,
      "metadata": {
        "id": "RDKr56fl7GsX"
      },
      "outputs": [],
      "source": [
        "from __future__ import print_function\n",
        "%matplotlib inline"
      ]
    },
    {
      "cell_type": "code",
      "execution_count": null,
      "metadata": {
        "id": "wguzPSa_7GsX"
      },
      "outputs": [],
      "source": [
        "import pandas as pd\n",
        "from rdkit import Chem\n",
        "from rdkit.Chem import PandasTools\n",
        "from rdkit.Chem.Draw import IPythonConsole\n",
        "\n",
        "# The next line is commented out\n",
        "# because GitHub does not render svg's embedded in notebooks\n",
        "IPythonConsole.ipython_useSVG=False"
      ]
    },
    {
      "cell_type": "markdown",
      "metadata": {
        "id": "1uPkxJER7GsX"
      },
      "source": [
        "Load the table of drugs (downloaded from [ChEMBL](https://www.ebi.ac.uk/chembl/) )\n",
        "\n",
        "This table of drugs contains approximatelly ~15k drugs in different phases of clinical trials.\n",
        "The information includes:\n",
        "- Chembl ID\n",
        "- Name\n",
        "- Synonyms (associated with the drug)\n",
        "- Phase (clinical trial phase)\n",
        "- if Passes the Rule of Five (Ro5)\n",
        "- and the structure in SMILES format\n"
      ]
    },
    {
      "cell_type": "code",
      "execution_count": null,
      "outputs": [],
      "source": [
        "if 'google.colab' in str(get_ipython()):\n",
        "  print('Running on colab')\n",
        "  !wget https://raw.githubusercontent.com/yerkoescalona/structural_bioinformatics/main/ex04/chembl_drugs.txt.gz\n",
        "else:\n",
        "  print('Not running on colab.')\n",
        "  print('You should have chembl_drugs.txt.gz in your path!')"
      ],
      "metadata": {
        "id": "9ZuqvdDJ7GsY"
      }
    },
    {
      "cell_type": "code",
      "execution_count": null,
      "outputs": [],
      "source": [
        "df = pd.read_csv('chembl_drugs.txt.gz', sep=';')\n",
        "df.head()"
      ],
      "metadata": {
        "id": "lDZp5YiM7GsY"
      }
    },
    {
      "cell_type": "code",
      "execution_count": null,
      "outputs": [],
      "source": [
        "df.columns"
      ],
      "metadata": {
        "id": "WLOVvD3W7GsY"
      }
    },
    {
      "cell_type": "code",
      "execution_count": null,
      "outputs": [],
      "source": [
        "len(df)"
      ],
      "metadata": {
        "id": "17XcVSJP7GsY"
      }
    },
    {
      "cell_type": "code",
      "execution_count": null,
      "outputs": [],
      "source": [
        "df = df[df['Smiles'].notnull() & # Keep cpds with SMILES\n",
        "        (df['Phase'] == 4)] # are on the market\n",
        "df.head()"
      ],
      "metadata": {
        "id": "1CDXlJTU7GsY"
      }
    },
    {
      "cell_type": "markdown",
      "source": [
        "Table contains CANONICAL_SMILES with SMILES which we can convert to RDKit molecules (default name ROMol)"
      ],
      "metadata": {
        "collapsed": false,
        "id": "Ua5EMstL7GsY"
      }
    },
    {
      "cell_type": "code",
      "execution_count": null,
      "outputs": [],
      "source": [
        "PandasTools.AddMoleculeColumnToFrame(df, smilesCol='Smiles')"
      ],
      "metadata": {
        "id": "Sg5z5ZDA7GsY"
      }
    },
    {
      "cell_type": "markdown",
      "source": [
        "Remove rows where RDKit failed to generate a molecule from SMILES"
      ],
      "metadata": {
        "collapsed": false,
        "id": "usKSfEii7GsY"
      }
    },
    {
      "cell_type": "code",
      "execution_count": null,
      "outputs": [],
      "source": [
        "df = df[~df['ROMol'].isnull()]"
      ],
      "metadata": {
        "id": "lZZXZLG27GsZ"
      }
    },
    {
      "cell_type": "markdown",
      "source": [
        "Extract a name from SYNONYMS column by applying a row-wise operation"
      ],
      "metadata": {
        "collapsed": false,
        "id": "cwoV6GUP7GsZ"
      }
    },
    {
      "cell_type": "code",
      "execution_count": null,
      "outputs": [],
      "source": [
        "df['name'] = df.apply(lambda x: x['Synonyms'].split('|')[0] if type(x['Synonyms']) is str else None, axis=1)"
      ],
      "metadata": {
        "id": "OBqcIl5b7GsZ"
      }
    },
    {
      "cell_type": "markdown",
      "source": [
        "Depict first 12 mols"
      ],
      "metadata": {
        "collapsed": false,
        "id": "VWUZRaMx7GsZ"
      }
    },
    {
      "cell_type": "code",
      "execution_count": null,
      "outputs": [],
      "source": [
        "PandasTools.FrameToGridImage(df.head(12), legendsCol='name', molsPerRow=4)"
      ],
      "metadata": {
        "id": "JHmw3rzE7GsZ"
      }
    },
    {
      "cell_type": "markdown",
      "source": [
        "Calculate some descriptors and visualize distributions"
      ],
      "metadata": {
        "collapsed": false,
        "id": "OWZkiVDR7GsZ"
      }
    },
    {
      "cell_type": "code",
      "execution_count": null,
      "outputs": [],
      "source": [
        "from rdkit.Chem import Descriptors"
      ],
      "metadata": {
        "id": "mEcqhajy7GsZ"
      }
    },
    {
      "cell_type": "code",
      "execution_count": null,
      "outputs": [],
      "source": [
        "df['MW'] = df['ROMol'].map(Descriptors.MolWt)\n",
        "df['logP'] = df['ROMol'].map(Descriptors.MolLogP)"
      ],
      "metadata": {
        "id": "1xOsziX77GsZ"
      }
    },
    {
      "cell_type": "code",
      "execution_count": null,
      "outputs": [],
      "source": [
        "df['MW'].hist(bins=100);"
      ],
      "metadata": {
        "id": "-ao6r-nl7GsZ"
      }
    },
    {
      "cell_type": "code",
      "execution_count": null,
      "outputs": [],
      "source": [
        "df['logP'].hist(bins=100);"
      ],
      "metadata": {
        "id": "3HvPs8PJ7Gsa"
      }
    },
    {
      "cell_type": "code",
      "execution_count": null,
      "outputs": [],
      "source": [
        "df[['MW', 'logP']].describe()"
      ],
      "metadata": {
        "id": "HH1a2kZr7Gsa"
      }
    },
    {
      "cell_type": "markdown",
      "source": [
        "Do a substructure search on a dataframe"
      ],
      "metadata": {
        "collapsed": false,
        "id": "u3gFHyTp7Gsa"
      }
    },
    {
      "cell_type": "code",
      "execution_count": null,
      "outputs": [],
      "source": [
        "query = Chem.MolFromSmarts('Nc1ccc(S(=O)(=O)-[*])cc1')\n",
        "query"
      ],
      "metadata": {
        "id": "5DUwMNjy7Gsa"
      }
    },
    {
      "cell_type": "markdown",
      "source": [
        "Notice that unspecified bonds in the SMARTS are \"single or aromatic\" queries. We could make this query a bit more specific:"
      ],
      "metadata": {
        "collapsed": false,
        "id": "fRXXou6r7Gsa"
      }
    },
    {
      "cell_type": "code",
      "execution_count": null,
      "outputs": [],
      "source": [
        "query = Chem.MolFromSmarts('N-c1ccc(-S(=O)(=O)-[*])cc1')\n",
        "query"
      ],
      "metadata": {
        "id": "upwQ7fhF7Gsa"
      }
    },
    {
      "cell_type": "markdown",
      "source": [
        "We do a substruture search by using the operator `>=` on a molecule column.\n",
        "\n",
        "Here's an example where we do the search and count the number of matching rows:"
      ],
      "metadata": {
        "collapsed": false,
        "id": "0s5dbc507Gsa"
      }
    },
    {
      "cell_type": "code",
      "execution_count": null,
      "metadata": {
        "scrolled": true,
        "id": "HYZd1Cpy7Gsa"
      },
      "outputs": [],
      "source": [
        "len(df[df['ROMol'] >= query])"
      ]
    },
    {
      "cell_type": "markdown",
      "metadata": {
        "id": "PgEsfgGn7Gsa"
      },
      "source": [
        "RDKit by defaults highlights the matched substructures"
      ]
    },
    {
      "cell_type": "code",
      "execution_count": null,
      "metadata": {
        "id": "VzbBkfry7Gsb"
      },
      "outputs": [],
      "source": [
        "df[df['ROMol'] >= query][['Synonyms', 'ROMol']].head()"
      ]
    },
    {
      "cell_type": "markdown",
      "metadata": {
        "id": "wHTois6B7Gsb"
      },
      "source": [
        "Just display the matching molecules:"
      ]
    },
    {
      "cell_type": "code",
      "execution_count": null,
      "metadata": {
        "id": "-6CcJYlu7Gsb"
      },
      "outputs": [],
      "source": [
        "PandasTools.FrameToGridImage(df[df['ROMol'] >= query].head(12), legendsCol='name', molsPerRow=4)"
      ]
    },
    {
      "cell_type": "markdown",
      "metadata": {
        "id": "CPqXz1GH7Gsb"
      },
      "source": [
        "Save the table as SD file"
      ]
    },
    {
      "cell_type": "code",
      "execution_count": null,
      "metadata": {
        "id": "CsWzwKS37Gsb"
      },
      "outputs": [],
      "source": [
        "PandasTools.WriteSDF(df, 'approved_drugs.sdf', idName='Parent Molecule', properties=df.columns)"
      ]
    },
    {
      "cell_type": "markdown",
      "metadata": {
        "id": "PfT2eEtN7Gsb"
      },
      "source": [
        "RDKit Exercise:\n",
        "\n",
        "1. Create new subset of the dataframe with the following properties:\n",
        "- Use the file `new_chembl_drugs.txt.gz` as input\n",
        "\n",
        "```python\n",
        "new_df = pd.read_csv('new_chembl_drugs.txt.gz', sep=';')\n",
        "```\n",
        "\n",
        "- Make a selection of molecules that pass the Rule of Five (Rule of Five == 1)\n",
        "- Make a selection of molecules that are in at least Phase 3 (Phase >= 3)\n",
        "- Make a selection of all molecules that contain a benzene ring\n",
        "- Save the subset as a SDF file with the name `new_approved_drugs.sdf`\n",
        "\n",
        "2. With your new subset of molecules:\n",
        "- Describe the distribution of the molecular weight and logP.\n",
        "- Explain the difference between the distributions with the previous results.\n"
      ]
    },
    {
      "cell_type": "markdown",
      "metadata": {
        "id": "8lJoiP4t7Gsb"
      },
      "source": [
        "## Autodock Vina\n",
        "\n",
        "[AutoDock Vina](https://vina.scripps.edu/) is a popular docking program within the AutoDock Suite due to its ease of use, speed, and open-source nature. It is widely used and has been modified by research groups worldwide.\n"
      ]
    },
    {
      "cell_type": "markdown",
      "source": [
        "### LABODOCK\n",
        "\n",
        "In order to use Autodock Vina, we will use [LABODOCK](https://github.com/RyanZR/labodock).\n",
        "LABODOCK is a collection of Colab Notebooks that provides a simple web interface for Docking.\n",
        "\n",
        "**Open** the [Basic Molecular Docking](https://colab.research.google.com/github/RyanZR/labodock/blob/main/notebooks/basic_molecular_docking.ipynb) Notebook and follow the instructions. We will execute the default example."
      ],
      "metadata": {
        "collapsed": false,
        "id": "fTaBZ4wH7Gsb"
      }
    },
    {
      "cell_type": "markdown",
      "source": [
        "### Default Example: ERα Ligand Binding Domain in complex with Raloxifene\n",
        "\n",
        "The default tutorial uses the protein with PDB ID [7KBS](https://www.rcsb.org/structure/7KBS).\n",
        "This is a Estrogen Receptor Alpha (ERα) Ligand Binding Domain in complex with Raloxifene (See in [more details](https://www.rcsb.org/3d-view/7KBS?preset=ligandInteraction&label_asym_id=C)).\n",
        "\n",
        "Context: When estrogen binds to the Estrogen Receptor Alpha (ERα), the receptor undergoes a conformational change, which allows it to bind to specific DNA sequences called estrogen response elements (EREs). The genes activated or repressed by this complex can lead to various cellular responses. For instance, in breast tissue, estrogen-ERα interaction can stimulate cell division and growth, which is a normal process but can also contribute to the development and progression of breast cancer in estrogen-receptor-positive tumors.\n",
        "\n",
        "Solution: Raloxifene is used as therapy.  When Raloxifene binds to the LBD of ERα, it induces a specific conformational change in the receptor. This change differs from the conformation induced by estrogen binding, which is critical for the drug's mechanism of action. Raloxifene acts as an antagonist in breast tissue, meaning it blocks the activity of estrogen.\n",
        "\n",
        "![villin](https://github.com/yerkoescalona/structural_bioinformatics/blob/main/ex04/protein-ligand.png?raw=1)\n",
        "**Figure**. ERα Ligand Binding Domain in complex with Raloxifene\n"
      ],
      "metadata": {
        "collapsed": false,
        "id": "uGEPKwtg7Gsb"
      }
    },
    {
      "cell_type": "markdown",
      "source": [
        "### Docking Exercises:\n",
        "\n",
        "1. Describe all the interactions between the ligand and the protein.\n",
        "2. Use estrogen as a ligand instead of Raloxifene. What are the differences in the interactions between the ligand and the protein?\n",
        "3. Using those difference, could you be able to predict the conformational change of the protein when binding to Raloxifene or estrogen?"
      ],
      "metadata": {
        "collapsed": false,
        "id": "mo8ij7zL7Gsc"
      }
    },
    {
      "cell_type": "markdown",
      "metadata": {
        "id": "xQnuv5yW7Gsc"
      },
      "source": [
        "# For the Project\n",
        "\n",
        "If your proteins can potentially interact with a ligand you can use the following workflow:\n",
        "1. Find the Smiles format of the ligand in the ChEMBL database.\n",
        "2. Use your PDB id and ligand Smiles format for the docking.\n",
        "3. Describe the interactions between the ligand and the protein.\n",
        "\n",
        "If your protein doesn't have a ligand, you can use the following workflow:\n",
        "1. Use one of the following molecules as a ligand to your protein:\n",
        "\n",
        "- Formaldehyde or Acetaldehyde: These small aldehyde molecules can be used to show how different functional groups (like the aldehyde group) interact with proteins. They can illustrate polar interactions and the role of hydrogen bonding in docking.\n",
        "\n",
        "- Glycerol: This molecule, with its three hydroxyl groups, can demonstrate polyol interactions with proteins. It's particularly relevant for showing hydrogen bonding and the effect of multiple binding sites.\n",
        "\n",
        "- Acetic Acid or Propionic Acid: These small carboxylic acids can be used to discuss the importance of charge in protein-ligand interactions, showing how deprotonation and protonation states affect docking.\n",
        "\n",
        "- Benzene or Toluene: These aromatic compounds can illustrate hydrophobic interactions and pi-stacking, which are important in the docking of many drugs and natural ligands.\n",
        "\n",
        "- Nitrate or Phosphate Ions: As small inorganic ions, they can be used to teach about ionic interactions and the role of electrostatics in protein-ligand docking.\n",
        "\n",
        "- Urea or Thiourea: These molecules can be used to show how amide and thiol groups interact with proteins, and they're particularly interesting for discussing solvation effects and hydrogen bonding.\n",
        "\n",
        "2. Use your PDB id and ligand Smiles format for the docking.\n",
        "3. Describe the interactions between the ligand and the protein.\n"
      ]
    },
    {
      "cell_type": "code",
      "execution_count": null,
      "metadata": {
        "id": "nbNucKFB7Gsc"
      },
      "outputs": [],
      "source": []
    }
  ],
  "metadata": {
    "kernelspec": {
      "display_name": "Python 3 (ipykernel)",
      "language": "python",
      "name": "python3"
    },
    "language_info": {
      "codemirror_mode": {
        "name": "ipython",
        "version": 3
      },
      "file_extension": ".py",
      "mimetype": "text/x-python",
      "name": "python",
      "nbconvert_exporter": "python",
      "pygments_lexer": "ipython3",
      "version": "3.11.5"
    },
    "colab": {
      "provenance": []
    }
  },
  "nbformat": 4,
  "nbformat_minor": 0
}